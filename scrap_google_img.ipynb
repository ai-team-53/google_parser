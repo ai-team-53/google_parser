{
 "cells": [
  {
   "cell_type": "markdown",
   "id": "8dec83fc-7b79-418c-9ff2-11e1b7260765",
   "metadata": {},
   "source": [
    "# Вводные"
   ]
  },
  {
   "cell_type": "code",
   "execution_count": 1,
   "id": "ac2a50d8-45a7-4c76-b438-c955743b9257",
   "metadata": {},
   "outputs": [],
   "source": [
    "import requests\n",
    "from bs4 import BeautifulSoup\n",
    "import time\n",
    "from tqdm.notebook import tqdm\n",
    "# для человечности\n",
    "from fake_useragent import UserAgent\n",
    "UserAgent().chrome\n",
    "from typing import List\n",
    "import pandas as pd\n",
    "import numpy as np\n",
    "import os\n",
    "\n",
    "from selenium.webdriver.support.ui import WebDriverWait\n",
    "from selenium import webdriver\n",
    "from selenium.webdriver.chrome.service import Service\n",
    "from selenium.webdriver.chrome.options import Options\n",
    "from webdriver_manager.chrome import ChromeDriverManager\n",
    "from selenium.webdriver.common.by import By\n",
    "from selenium.webdriver.common.keys import Keys\n",
    "from selenium.webdriver.support import expected_conditions as EC"
   ]
  },
  {
   "cell_type": "code",
   "execution_count": 2,
   "id": "a386e772-3fc5-4c6b-90c6-1e3d6b43a39e",
   "metadata": {},
   "outputs": [],
   "source": [
    "df = pd.read_csv('kkal_bju.csv')"
   ]
  },
  {
   "cell_type": "code",
   "execution_count": 3,
   "id": "68dbf164-b607-4fa5-92d0-9470b9e6ad0c",
   "metadata": {},
   "outputs": [],
   "source": [
    "# дропнуть спортивное питание"
   ]
  },
  {
   "cell_type": "code",
   "execution_count": 11,
   "id": "4335c8f8-3693-453c-a37d-cc663e1b98fb",
   "metadata": {},
   "outputs": [
    {
     "data": {
      "text/plain": [
       "array(['Лисички свежие', 'Шампиньоны Hortex резаные',\n",
       "       'Шампиньоны Бондюэль резаные', ..., 'Сарада Тори но маринадо',\n",
       "       'Тори папурика', 'Кани гуриру'], dtype=object)"
      ]
     },
     "execution_count": 11,
     "metadata": {},
     "output_type": "execute_result"
    }
   ],
   "source": [
    "df['name'].unique()"
   ]
  },
  {
   "cell_type": "code",
   "execution_count": 5,
   "id": "1c49537d-278f-468c-8be6-f1954b23be95",
   "metadata": {},
   "outputs": [],
   "source": [
    "df = df[df['categories'] != 'Спортивное питание'].reset_index(drop=True)"
   ]
  },
  {
   "cell_type": "code",
   "execution_count": 14,
   "id": "2ce5e19a-89c0-4a55-8b76-c828bf445671",
   "metadata": {},
   "outputs": [],
   "source": [
    "# Создаем объект UserAgent и генерируем случайный Chrome user agent\n",
    "user_agent = UserAgent().chrome"
   ]
  },
  {
   "cell_type": "code",
   "execution_count": 15,
   "id": "cea4eaec-7b59-4254-ba93-c09fff1abae3",
   "metadata": {},
   "outputs": [],
   "source": [
    "# Настройка опций Chrome для драйвера\n",
    "chrome_options = Options()\n",
    "#chrome_options.add_argument('--headless')  # если хотите запустить в фоновом режиме\n",
    "chrome_options.add_argument('--no-sandbox')\n",
    "chrome_options.add_argument('--disable-dev-shm-usage')  # рекомендуется для Linux, но может помочь и на Mac\n",
    "chrome_options.add_argument(f\"user-agent={user_agent}\")\n",
    "\n",
    "# Запуск Chrome с новыми настройками\n",
    "driver = webdriver.Chrome(service=Service(ChromeDriverManager().install()), options=chrome_options)"
   ]
  },
  {
   "cell_type": "code",
   "execution_count": 16,
   "id": "1527fb79-b47c-4d7f-ad84-1908e93df520",
   "metadata": {},
   "outputs": [],
   "source": [
    "class GooImage():\n",
    "    def __init__(self, word):\n",
    "\n",
    "        self.word = word\n",
    "        self.url = f'https://www.google.com/search?tbm=isch&q={self.word}'\n",
    "        self.random_seconds = np.arange(1.2,2.6,step=0.15)\n",
    "        \n",
    "        # Создаем папку, если её нет\n",
    "        if not os.path.exists(f\"image/{self.word}\"):\n",
    "            os.makedirs(f\"image/{self.word}\")\n",
    "        \n",
    "\n",
    "    def go_to_page(self):\n",
    "        driver.get(self.url)\n",
    "        last_height = driver.execute_script(\"return document.body.scrollHeight\")\n",
    "        \n",
    "        # для полной подругизки страницы\n",
    "        \n",
    "        # Скроллим вниз до конца текущей видимой части страницы\n",
    "        driver.execute_script(\"window.scrollTo(0, document.body.scrollHeight);\")\n",
    "        \n",
    "        # Ждём загрузку контента\n",
    "        time.sleep(5)\n",
    "\n",
    "    def change_word(self, word):\n",
    "        self.word = word\n",
    "        self.url = f'https://www.google.com/search?tbm=isch&q={self.word}'\n",
    "\n",
    "        # Создаем папку, если её нет\n",
    "        if not os.path.exists(f\"image/{self.word}\"):\n",
    "            os.makedirs(f\"image/{self.word}\")\n",
    "\n",
    "    def save_image(self, image_url, iter):\n",
    "\n",
    "        # Скачиваем изображение и сохраняем его\n",
    "        image_data = requests.get(image_url).content\n",
    "        with open(f\"image/{self.word}/{self.word}_image{iter}.jpg\", \"wb\") as file:  # Укажите имя файла\n",
    "            file.write(image_data)\n",
    "\n",
    "        return f\"image/{self.word}/{self.word}_image{iter}.jpg\"\n",
    "        \n",
    "    def scrapping_page(self, df, count_image = 20):\n",
    "        #переход на стринчку\n",
    "        self.go_to_page()\n",
    "        \n",
    "        # получение элементов (картинок)\n",
    "        try:\n",
    "            elems = driver.find_elements(By.CSS_SELECTOR, '.eA0Zlc.WghbWd.FnEtTd.mkpRId.m3LIae.RLdvSe.qyKxnc.ivg-i.PZPZlf.GMCzAd')\n",
    "        except Exception as e:\n",
    "            print(f'у ебучего {self.word} другой класс и {e}')\n",
    "            return\n",
    "\n",
    "        for iter in tqdm(range(count_image)):\n",
    "            \n",
    "            sec = np.random.choice(self.random_seconds)\n",
    "            time.sleep(sec)\n",
    "            \n",
    "            try:\n",
    "                # нажимаем на критинку \n",
    "                elems[iter].click()\n",
    "            \n",
    "                # Ждем загрузки миниатюр\n",
    "                WebDriverWait(driver, 10).until(EC.presence_of_all_elements_located((By.CSS_SELECTOR, '.sFlh5c.FyHeAf.iPVvYb')))\n",
    "    \n",
    "                # забираем урл кратинки\n",
    "                image_url = driver.find_element(By.CSS_SELECTOR, '.sFlh5c.FyHeAf.iPVvYb').get_attribute('src')\n",
    "    \n",
    "                # сохраняем\n",
    "                desctop_url = self.save_image(image_url, iter)\n",
    "    \n",
    "                # записываем в список\n",
    "                df.append([self.word,iter , desctop_url])\n",
    "                \n",
    "            except Exception as e:\n",
    "                \n",
    "                print(f\"Произошла ебучая ошибка: {e}\")\n"
   ]
  },
  {
   "cell_type": "code",
   "execution_count": 17,
   "id": "5e6e18c6-9908-482a-92a0-b6c5908b1398",
   "metadata": {
    "scrolled": true
   },
   "outputs": [
    {
     "data": {
      "application/vnd.jupyter.widget-view+json": {
       "model_id": "05e1c0ac440748b8b6ec291da03ff15e",
       "version_major": 2,
       "version_minor": 0
      },
      "text/plain": [
       "  0%|          | 0/30 [00:00<?, ?it/s]"
      ]
     },
     "metadata": {},
     "output_type": "display_data"
    },
    {
     "name": "stdout",
     "output_type": "stream",
     "text": [
      "Произошла ебучая ошибка: Message: \n",
      "\n",
      "Произошла ебучая ошибка: Message: \n",
      "\n"
     ]
    },
    {
     "data": {
      "application/vnd.jupyter.widget-view+json": {
       "model_id": "e5206a3b27454e22810c9b2346ad3366",
       "version_major": 2,
       "version_minor": 0
      },
      "text/plain": [
       "  0%|          | 0/3902 [00:00<?, ?it/s]"
      ]
     },
     "metadata": {},
     "output_type": "display_data"
    },
    {
     "data": {
      "application/vnd.jupyter.widget-view+json": {
       "model_id": "c541042cb3d041cca857cc427989b4e6",
       "version_major": 2,
       "version_minor": 0
      },
      "text/plain": [
       "  0%|          | 0/30 [00:00<?, ?it/s]"
      ]
     },
     "metadata": {},
     "output_type": "display_data"
    },
    {
     "name": "stdout",
     "output_type": "stream",
     "text": [
      "Произошла ебучая ошибка: Message: \n",
      "\n"
     ]
    },
    {
     "data": {
      "application/vnd.jupyter.widget-view+json": {
       "model_id": "fed6b03cd4d24514b137830e4f439484",
       "version_major": 2,
       "version_minor": 0
      },
      "text/plain": [
       "  0%|          | 0/30 [00:00<?, ?it/s]"
      ]
     },
     "metadata": {},
     "output_type": "display_data"
    },
    {
     "name": "stdout",
     "output_type": "stream",
     "text": [
      "Произошла ебучая ошибка: Message: \n",
      "\n"
     ]
    },
    {
     "data": {
      "application/vnd.jupyter.widget-view+json": {
       "model_id": "36137c7d3820423fa56a522a2ef59218",
       "version_major": 2,
       "version_minor": 0
      },
      "text/plain": [
       "  0%|          | 0/30 [00:00<?, ?it/s]"
      ]
     },
     "metadata": {},
     "output_type": "display_data"
    },
    {
     "name": "stdout",
     "output_type": "stream",
     "text": [
      "Произошла ебучая ошибка: ('Connection aborted.', RemoteDisconnected('Remote end closed connection without response'))\n",
      "Произошла ебучая ошибка: Message: \n",
      "\n",
      "Произошла ебучая ошибка: Message: \n",
      "\n"
     ]
    },
    {
     "data": {
      "application/vnd.jupyter.widget-view+json": {
       "model_id": "005e40f3866e40159ad02bb338e70981",
       "version_major": 2,
       "version_minor": 0
      },
      "text/plain": [
       "  0%|          | 0/30 [00:00<?, ?it/s]"
      ]
     },
     "metadata": {},
     "output_type": "display_data"
    },
    {
     "name": "stdout",
     "output_type": "stream",
     "text": [
      "Произошла ебучая ошибка: Message: \n",
      "\n"
     ]
    },
    {
     "data": {
      "application/vnd.jupyter.widget-view+json": {
       "model_id": "4a11662978bc45f089eb7cd7f82080f0",
       "version_major": 2,
       "version_minor": 0
      },
      "text/plain": [
       "  0%|          | 0/30 [00:00<?, ?it/s]"
      ]
     },
     "metadata": {},
     "output_type": "display_data"
    },
    {
     "name": "stdout",
     "output_type": "stream",
     "text": [
      "Произошла ебучая ошибка: Message: \n",
      "\n",
      "Произошла ебучая ошибка: Message: \n",
      "\n",
      "Произошла ебучая ошибка: Message: \n",
      "\n",
      "Произошла ебучая ошибка: Message: \n",
      "\n",
      "Произошла ебучая ошибка: Message: \n",
      "\n"
     ]
    },
    {
     "data": {
      "application/vnd.jupyter.widget-view+json": {
       "model_id": "e2b1536e89a644f2806b3aaf06cb5807",
       "version_major": 2,
       "version_minor": 0
      },
      "text/plain": [
       "  0%|          | 0/30 [00:00<?, ?it/s]"
      ]
     },
     "metadata": {},
     "output_type": "display_data"
    },
    {
     "name": "stdout",
     "output_type": "stream",
     "text": [
      "Произошла ебучая ошибка: HTTPSConnectionPool(host='kamchatka.pro', port=443): Max retries exceeded with url: /images/detailed/12/389644.jpg (Caused by SSLError(SSLCertVerificationError(1, '[SSL: CERTIFICATE_VERIFY_FAILED] certificate verify failed: unable to get local issuer certificate (_ssl.c:1006)')))\n",
      "Произошла ебучая ошибка: Message: \n",
      "\n"
     ]
    },
    {
     "data": {
      "application/vnd.jupyter.widget-view+json": {
       "model_id": "0d9eb4870fae4cd885f1f91fe6db2730",
       "version_major": 2,
       "version_minor": 0
      },
      "text/plain": [
       "  0%|          | 0/30 [00:00<?, ?it/s]"
      ]
     },
     "metadata": {},
     "output_type": "display_data"
    },
    {
     "name": "stdout",
     "output_type": "stream",
     "text": [
      "Произошла ебучая ошибка: ('Connection aborted.', RemoteDisconnected('Remote end closed connection without response'))\n",
      "Произошла ебучая ошибка: Message: \n",
      "\n"
     ]
    },
    {
     "data": {
      "application/vnd.jupyter.widget-view+json": {
       "model_id": "947c626072e8435f9f8f1d7eb11ea46a",
       "version_major": 2,
       "version_minor": 0
      },
      "text/plain": [
       "  0%|          | 0/30 [00:00<?, ?it/s]"
      ]
     },
     "metadata": {},
     "output_type": "display_data"
    },
    {
     "name": "stdout",
     "output_type": "stream",
     "text": [
      "Произошла ебучая ошибка: Message: \n",
      "\n",
      "Произошла ебучая ошибка: Message: \n",
      "\n"
     ]
    },
    {
     "data": {
      "application/vnd.jupyter.widget-view+json": {
       "model_id": "e5c60639f6e84f3fae94c936f91ccf69",
       "version_major": 2,
       "version_minor": 0
      },
      "text/plain": [
       "  0%|          | 0/30 [00:00<?, ?it/s]"
      ]
     },
     "metadata": {},
     "output_type": "display_data"
    },
    {
     "name": "stdout",
     "output_type": "stream",
     "text": [
      "Произошла ебучая ошибка: Message: \n",
      "\n",
      "Произошла ебучая ошибка: Message: \n",
      "\n",
      "Произошла ебучая ошибка: Message: \n",
      "\n",
      "Произошла ебучая ошибка: Message: \n",
      "\n",
      "Произошла ебучая ошибка: Message: \n",
      "\n"
     ]
    },
    {
     "data": {
      "application/vnd.jupyter.widget-view+json": {
       "model_id": "4d09a18abe8c4653b0f1778bc2e8f70e",
       "version_major": 2,
       "version_minor": 0
      },
      "text/plain": [
       "  0%|          | 0/30 [00:00<?, ?it/s]"
      ]
     },
     "metadata": {},
     "output_type": "display_data"
    },
    {
     "data": {
      "application/vnd.jupyter.widget-view+json": {
       "model_id": "a3cb9e33db8341f1a03e9eb82cad6b57",
       "version_major": 2,
       "version_minor": 0
      },
      "text/plain": [
       "  0%|          | 0/30 [00:00<?, ?it/s]"
      ]
     },
     "metadata": {},
     "output_type": "display_data"
    },
    {
     "name": "stdout",
     "output_type": "stream",
     "text": [
      "Произошла ебучая ошибка: Message: \n",
      "\n",
      "Произошла ебучая ошибка: Message: \n",
      "\n",
      "Произошла ебучая ошибка: Message: \n",
      "\n",
      "Произошла ебучая ошибка: Message: \n",
      "\n",
      "Произошла ебучая ошибка: Message: \n",
      "\n"
     ]
    },
    {
     "data": {
      "application/vnd.jupyter.widget-view+json": {
       "model_id": "26695dc91785405c9a0b1976290ac255",
       "version_major": 2,
       "version_minor": 0
      },
      "text/plain": [
       "  0%|          | 0/30 [00:00<?, ?it/s]"
      ]
     },
     "metadata": {},
     "output_type": "display_data"
    },
    {
     "name": "stdout",
     "output_type": "stream",
     "text": [
      "Произошла ебучая ошибка: Message: \n",
      "\n",
      "Произошла ебучая ошибка: Message: \n",
      "\n"
     ]
    },
    {
     "data": {
      "application/vnd.jupyter.widget-view+json": {
       "model_id": "413c7c4ccbf84ddf8c9a3d8c8587ff8b",
       "version_major": 2,
       "version_minor": 0
      },
      "text/plain": [
       "  0%|          | 0/30 [00:00<?, ?it/s]"
      ]
     },
     "metadata": {},
     "output_type": "display_data"
    },
    {
     "name": "stdout",
     "output_type": "stream",
     "text": [
      "Произошла ебучая ошибка: Message: \n",
      "\n",
      "Произошла ебучая ошибка: Message: \n",
      "\n"
     ]
    },
    {
     "data": {
      "application/vnd.jupyter.widget-view+json": {
       "model_id": "8b0cabb41e724da481b83aad2ee994e5",
       "version_major": 2,
       "version_minor": 0
      },
      "text/plain": [
       "  0%|          | 0/30 [00:00<?, ?it/s]"
      ]
     },
     "metadata": {},
     "output_type": "display_data"
    },
    {
     "data": {
      "application/vnd.jupyter.widget-view+json": {
       "model_id": "63ced17a7d3c405d94c02d8dd87d24c9",
       "version_major": 2,
       "version_minor": 0
      },
      "text/plain": [
       "  0%|          | 0/30 [00:00<?, ?it/s]"
      ]
     },
     "metadata": {},
     "output_type": "display_data"
    },
    {
     "name": "stdout",
     "output_type": "stream",
     "text": [
      "Произошла ебучая ошибка: Message: \n",
      "\n",
      "Произошла ебучая ошибка: Message: \n",
      "\n"
     ]
    },
    {
     "data": {
      "application/vnd.jupyter.widget-view+json": {
       "model_id": "e466c9cbc7a94297a3c6250ead0f480f",
       "version_major": 2,
       "version_minor": 0
      },
      "text/plain": [
       "  0%|          | 0/30 [00:00<?, ?it/s]"
      ]
     },
     "metadata": {},
     "output_type": "display_data"
    },
    {
     "name": "stdout",
     "output_type": "stream",
     "text": [
      "Произошла ебучая ошибка: Message: \n",
      "\n"
     ]
    },
    {
     "data": {
      "application/vnd.jupyter.widget-view+json": {
       "model_id": "29bc13c9d36e4b9992986671db310751",
       "version_major": 2,
       "version_minor": 0
      },
      "text/plain": [
       "  0%|          | 0/30 [00:00<?, ?it/s]"
      ]
     },
     "metadata": {},
     "output_type": "display_data"
    },
    {
     "name": "stdout",
     "output_type": "stream",
     "text": [
      "Произошла ебучая ошибка: Message: \n",
      "\n",
      "Произошла ебучая ошибка: Message: \n",
      "\n"
     ]
    },
    {
     "data": {
      "application/vnd.jupyter.widget-view+json": {
       "model_id": "a270a432071641678e59d41ddfd5a75f",
       "version_major": 2,
       "version_minor": 0
      },
      "text/plain": [
       "  0%|          | 0/30 [00:00<?, ?it/s]"
      ]
     },
     "metadata": {},
     "output_type": "display_data"
    },
    {
     "name": "stdout",
     "output_type": "stream",
     "text": [
      "Произошла ебучая ошибка: Message: \n",
      "\n",
      "Произошла ебучая ошибка: Message: \n",
      "\n"
     ]
    },
    {
     "data": {
      "application/vnd.jupyter.widget-view+json": {
       "model_id": "9462b5d6fcde430ea82655877cf87673",
       "version_major": 2,
       "version_minor": 0
      },
      "text/plain": [
       "  0%|          | 0/30 [00:00<?, ?it/s]"
      ]
     },
     "metadata": {},
     "output_type": "display_data"
    },
    {
     "name": "stdout",
     "output_type": "stream",
     "text": [
      "Произошла ебучая ошибка: Message: \n",
      "\n",
      "Произошла ебучая ошибка: Message: \n",
      "\n",
      "Произошла ебучая ошибка: Message: \n",
      "\n"
     ]
    },
    {
     "data": {
      "application/vnd.jupyter.widget-view+json": {
       "model_id": "6dc36596574147d691afc398deed1d4e",
       "version_major": 2,
       "version_minor": 0
      },
      "text/plain": [
       "  0%|          | 0/30 [00:00<?, ?it/s]"
      ]
     },
     "metadata": {},
     "output_type": "display_data"
    },
    {
     "name": "stdout",
     "output_type": "stream",
     "text": [
      "Произошла ебучая ошибка: Message: \n",
      "\n"
     ]
    },
    {
     "data": {
      "application/vnd.jupyter.widget-view+json": {
       "model_id": "47c60f31a0c547698fd52411f7977ad7",
       "version_major": 2,
       "version_minor": 0
      },
      "text/plain": [
       "  0%|          | 0/30 [00:00<?, ?it/s]"
      ]
     },
     "metadata": {},
     "output_type": "display_data"
    },
    {
     "name": "stdout",
     "output_type": "stream",
     "text": [
      "Произошла ебучая ошибка: Message: \n",
      "\n",
      "Произошла ебучая ошибка: Message: \n",
      "\n",
      "Произошла ебучая ошибка: Message: \n",
      "\n"
     ]
    },
    {
     "data": {
      "application/vnd.jupyter.widget-view+json": {
       "model_id": "70af016cfe5c4582812b02b6cdd48642",
       "version_major": 2,
       "version_minor": 0
      },
      "text/plain": [
       "  0%|          | 0/30 [00:00<?, ?it/s]"
      ]
     },
     "metadata": {},
     "output_type": "display_data"
    },
    {
     "name": "stdout",
     "output_type": "stream",
     "text": [
      "Произошла ебучая ошибка: Message: \n",
      "\n",
      "Произошла ебучая ошибка: Message: \n",
      "\n"
     ]
    },
    {
     "data": {
      "application/vnd.jupyter.widget-view+json": {
       "model_id": "1897e53d1d8f4429bca4914e56e5380e",
       "version_major": 2,
       "version_minor": 0
      },
      "text/plain": [
       "  0%|          | 0/30 [00:00<?, ?it/s]"
      ]
     },
     "metadata": {},
     "output_type": "display_data"
    },
    {
     "name": "stdout",
     "output_type": "stream",
     "text": [
      "Произошла ебучая ошибка: Message: \n",
      "\n",
      "Произошла ебучая ошибка: Message: \n",
      "\n"
     ]
    },
    {
     "data": {
      "application/vnd.jupyter.widget-view+json": {
       "model_id": "ccf34a8f9b064111bb4e33619748023e",
       "version_major": 2,
       "version_minor": 0
      },
      "text/plain": [
       "  0%|          | 0/30 [00:00<?, ?it/s]"
      ]
     },
     "metadata": {},
     "output_type": "display_data"
    },
    {
     "data": {
      "application/vnd.jupyter.widget-view+json": {
       "model_id": "b33f598da5784161a63a3add95fb5f1d",
       "version_major": 2,
       "version_minor": 0
      },
      "text/plain": [
       "  0%|          | 0/30 [00:00<?, ?it/s]"
      ]
     },
     "metadata": {},
     "output_type": "display_data"
    },
    {
     "name": "stdout",
     "output_type": "stream",
     "text": [
      "Произошла ебучая ошибка: Message: \n",
      "\n",
      "Произошла ебучая ошибка: Message: \n",
      "\n",
      "Произошла ебучая ошибка: Message: \n",
      "\n",
      "Произошла ебучая ошибка: Message: \n",
      "\n"
     ]
    },
    {
     "data": {
      "application/vnd.jupyter.widget-view+json": {
       "model_id": "5386169ffa9c4f009cc7fce003cbb29f",
       "version_major": 2,
       "version_minor": 0
      },
      "text/plain": [
       "  0%|          | 0/30 [00:00<?, ?it/s]"
      ]
     },
     "metadata": {},
     "output_type": "display_data"
    },
    {
     "data": {
      "application/vnd.jupyter.widget-view+json": {
       "model_id": "7d02078dc67d4d30ade5c570a5d49027",
       "version_major": 2,
       "version_minor": 0
      },
      "text/plain": [
       "  0%|          | 0/30 [00:00<?, ?it/s]"
      ]
     },
     "metadata": {},
     "output_type": "display_data"
    },
    {
     "data": {
      "application/vnd.jupyter.widget-view+json": {
       "model_id": "cacf002449de4f94a4a880aa37d2b082",
       "version_major": 2,
       "version_minor": 0
      },
      "text/plain": [
       "  0%|          | 0/30 [00:00<?, ?it/s]"
      ]
     },
     "metadata": {},
     "output_type": "display_data"
    },
    {
     "name": "stdout",
     "output_type": "stream",
     "text": [
      "Произошла ебучая ошибка: Message: \n",
      "\n"
     ]
    },
    {
     "data": {
      "application/vnd.jupyter.widget-view+json": {
       "model_id": "dca37422b7fe40f2a17041a66b9c8a48",
       "version_major": 2,
       "version_minor": 0
      },
      "text/plain": [
       "  0%|          | 0/30 [00:00<?, ?it/s]"
      ]
     },
     "metadata": {},
     "output_type": "display_data"
    },
    {
     "name": "stdout",
     "output_type": "stream",
     "text": [
      "Произошла ебучая ошибка: HTTPSConnectionPool(host='xn--e1abqbkan4h.xn--p1ai', port=443): Max retries exceeded with url: /wp-content/uploads/2016/09/render_opienki-600x600.png (Caused by SSLError(SSLCertVerificationError(1, '[SSL: CERTIFICATE_VERIFY_FAILED] certificate verify failed: unable to get local issuer certificate (_ssl.c:1006)')))\n",
      "Произошла ебучая ошибка: Message: \n",
      "\n",
      "Произошла ебучая ошибка: Message: \n",
      "\n",
      "Произошла ебучая ошибка: Message: \n",
      "\n"
     ]
    },
    {
     "data": {
      "application/vnd.jupyter.widget-view+json": {
       "model_id": "1c0b6ac7e02346c6accff6f35b09cadc",
       "version_major": 2,
       "version_minor": 0
      },
      "text/plain": [
       "  0%|          | 0/30 [00:00<?, ?it/s]"
      ]
     },
     "metadata": {},
     "output_type": "display_data"
    },
    {
     "data": {
      "application/vnd.jupyter.widget-view+json": {
       "model_id": "12b8ed82e61b45fc98f1d2cfc815ba0a",
       "version_major": 2,
       "version_minor": 0
      },
      "text/plain": [
       "  0%|          | 0/30 [00:00<?, ?it/s]"
      ]
     },
     "metadata": {},
     "output_type": "display_data"
    },
    {
     "data": {
      "application/vnd.jupyter.widget-view+json": {
       "model_id": "69dea38c481f44e4a60dda2e1e4b18bc",
       "version_major": 2,
       "version_minor": 0
      },
      "text/plain": [
       "  0%|          | 0/30 [00:00<?, ?it/s]"
      ]
     },
     "metadata": {},
     "output_type": "display_data"
    },
    {
     "name": "stdout",
     "output_type": "stream",
     "text": [
      "Произошла ебучая ошибка: Message: \n",
      "\n",
      "Произошла ебучая ошибка: Message: \n",
      "\n"
     ]
    },
    {
     "data": {
      "application/vnd.jupyter.widget-view+json": {
       "model_id": "16cc6e21b4da44be89e8c92640a08f8f",
       "version_major": 2,
       "version_minor": 0
      },
      "text/plain": [
       "  0%|          | 0/30 [00:00<?, ?it/s]"
      ]
     },
     "metadata": {},
     "output_type": "display_data"
    },
    {
     "name": "stdout",
     "output_type": "stream",
     "text": [
      "Произошла ебучая ошибка: Message: \n",
      "\n"
     ]
    },
    {
     "data": {
      "application/vnd.jupyter.widget-view+json": {
       "model_id": "1b9c2efffe574321b52c814c1636b14f",
       "version_major": 2,
       "version_minor": 0
      },
      "text/plain": [
       "  0%|          | 0/30 [00:00<?, ?it/s]"
      ]
     },
     "metadata": {},
     "output_type": "display_data"
    },
    {
     "data": {
      "application/vnd.jupyter.widget-view+json": {
       "model_id": "76802f84f239477fa09d05f5793dc0d4",
       "version_major": 2,
       "version_minor": 0
      },
      "text/plain": [
       "  0%|          | 0/30 [00:00<?, ?it/s]"
      ]
     },
     "metadata": {},
     "output_type": "display_data"
    },
    {
     "name": "stdout",
     "output_type": "stream",
     "text": [
      "Произошла ебучая ошибка: Message: \n",
      "\n",
      "Произошла ебучая ошибка: Message: \n",
      "\n",
      "Произошла ебучая ошибка: Message: \n",
      "\n"
     ]
    },
    {
     "data": {
      "application/vnd.jupyter.widget-view+json": {
       "model_id": "253daf8719314d4c87128f31e3e97251",
       "version_major": 2,
       "version_minor": 0
      },
      "text/plain": [
       "  0%|          | 0/30 [00:00<?, ?it/s]"
      ]
     },
     "metadata": {},
     "output_type": "display_data"
    },
    {
     "data": {
      "application/vnd.jupyter.widget-view+json": {
       "model_id": "b1b8a962aca343c68076c46de931b326",
       "version_major": 2,
       "version_minor": 0
      },
      "text/plain": [
       "  0%|          | 0/30 [00:00<?, ?it/s]"
      ]
     },
     "metadata": {},
     "output_type": "display_data"
    },
    {
     "name": "stdout",
     "output_type": "stream",
     "text": [
      "Произошла ебучая ошибка: Message: \n",
      "\n",
      "Произошла ебучая ошибка: Message: \n",
      "\n",
      "Произошла ебучая ошибка: Message: \n",
      "\n",
      "Произошла ебучая ошибка: Message: \n",
      "\n",
      "Произошла ебучая ошибка: Message: \n",
      "\n"
     ]
    },
    {
     "data": {
      "application/vnd.jupyter.widget-view+json": {
       "model_id": "c5cc68401a7f4aa78570fc4d6a8c015d",
       "version_major": 2,
       "version_minor": 0
      },
      "text/plain": [
       "  0%|          | 0/30 [00:00<?, ?it/s]"
      ]
     },
     "metadata": {},
     "output_type": "display_data"
    },
    {
     "data": {
      "application/vnd.jupyter.widget-view+json": {
       "model_id": "f16b47729b954194b28c3c9e130bb35e",
       "version_major": 2,
       "version_minor": 0
      },
      "text/plain": [
       "  0%|          | 0/30 [00:00<?, ?it/s]"
      ]
     },
     "metadata": {},
     "output_type": "display_data"
    },
    {
     "name": "stdout",
     "output_type": "stream",
     "text": [
      "Произошла ебучая ошибка: Message: \n",
      "\n"
     ]
    },
    {
     "data": {
      "application/vnd.jupyter.widget-view+json": {
       "model_id": "8740ba68e0ec4132ad19bb35e31eb5ae",
       "version_major": 2,
       "version_minor": 0
      },
      "text/plain": [
       "  0%|          | 0/30 [00:00<?, ?it/s]"
      ]
     },
     "metadata": {},
     "output_type": "display_data"
    },
    {
     "name": "stdout",
     "output_type": "stream",
     "text": [
      "Произошла ебучая ошибка: Message: \n",
      "\n",
      "Произошла ебучая ошибка: Message: \n",
      "\n",
      "Произошла ебучая ошибка: Message: \n",
      "\n",
      "Произошла ебучая ошибка: Message: \n",
      "\n",
      "Произошла ебучая ошибка: Message: \n",
      "\n"
     ]
    },
    {
     "data": {
      "application/vnd.jupyter.widget-view+json": {
       "model_id": "36771f89cc6641cabcebade78adc1733",
       "version_major": 2,
       "version_minor": 0
      },
      "text/plain": [
       "  0%|          | 0/30 [00:00<?, ?it/s]"
      ]
     },
     "metadata": {},
     "output_type": "display_data"
    },
    {
     "name": "stdout",
     "output_type": "stream",
     "text": [
      "Произошла ебучая ошибка: Message: \n",
      "\n"
     ]
    },
    {
     "data": {
      "application/vnd.jupyter.widget-view+json": {
       "model_id": "00a94917b39d4989937a8115899946fd",
       "version_major": 2,
       "version_minor": 0
      },
      "text/plain": [
       "  0%|          | 0/30 [00:00<?, ?it/s]"
      ]
     },
     "metadata": {},
     "output_type": "display_data"
    },
    {
     "name": "stdout",
     "output_type": "stream",
     "text": [
      "Произошла ебучая ошибка: Message: \n",
      "\n"
     ]
    },
    {
     "data": {
      "application/vnd.jupyter.widget-view+json": {
       "model_id": "6cad3011e3f04327b7fd0a39afdb041a",
       "version_major": 2,
       "version_minor": 0
      },
      "text/plain": [
       "  0%|          | 0/30 [00:00<?, ?it/s]"
      ]
     },
     "metadata": {},
     "output_type": "display_data"
    },
    {
     "name": "stdout",
     "output_type": "stream",
     "text": [
      "Произошла ебучая ошибка: Message: \n",
      "\n"
     ]
    },
    {
     "data": {
      "application/vnd.jupyter.widget-view+json": {
       "model_id": "f701c14f576c4efe9d1421a923c26022",
       "version_major": 2,
       "version_minor": 0
      },
      "text/plain": [
       "  0%|          | 0/30 [00:00<?, ?it/s]"
      ]
     },
     "metadata": {},
     "output_type": "display_data"
    },
    {
     "name": "stdout",
     "output_type": "stream",
     "text": [
      "Произошла ебучая ошибка: Message: \n",
      "\n",
      "Произошла ебучая ошибка: Message: \n",
      "\n",
      "Произошла ебучая ошибка: Message: \n",
      "\n",
      "Произошла ебучая ошибка: Message: \n",
      "\n",
      "Произошла ебучая ошибка: Message: \n",
      "\n"
     ]
    },
    {
     "data": {
      "application/vnd.jupyter.widget-view+json": {
       "model_id": "2a869b144ede4ab9843fe625f3dc12d8",
       "version_major": 2,
       "version_minor": 0
      },
      "text/plain": [
       "  0%|          | 0/30 [00:00<?, ?it/s]"
      ]
     },
     "metadata": {},
     "output_type": "display_data"
    },
    {
     "data": {
      "application/vnd.jupyter.widget-view+json": {
       "model_id": "52690bfabbd44af7bc6e8a861e216e9c",
       "version_major": 2,
       "version_minor": 0
      },
      "text/plain": [
       "  0%|          | 0/30 [00:00<?, ?it/s]"
      ]
     },
     "metadata": {},
     "output_type": "display_data"
    },
    {
     "data": {
      "application/vnd.jupyter.widget-view+json": {
       "model_id": "1b6a60fa8a1d47edbf002ecdaa7ef70d",
       "version_major": 2,
       "version_minor": 0
      },
      "text/plain": [
       "  0%|          | 0/30 [00:00<?, ?it/s]"
      ]
     },
     "metadata": {},
     "output_type": "display_data"
    },
    {
     "name": "stdout",
     "output_type": "stream",
     "text": [
      "Произошла ебучая ошибка: Message: \n",
      "\n",
      "Произошла ебучая ошибка: Message: \n",
      "\n",
      "Произошла ебучая ошибка: Message: \n",
      "\n",
      "Произошла ебучая ошибка: Message: \n",
      "\n"
     ]
    },
    {
     "data": {
      "application/vnd.jupyter.widget-view+json": {
       "model_id": "2133a44d4994474d9b1d58d0b8debc7f",
       "version_major": 2,
       "version_minor": 0
      },
      "text/plain": [
       "  0%|          | 0/30 [00:00<?, ?it/s]"
      ]
     },
     "metadata": {},
     "output_type": "display_data"
    },
    {
     "name": "stdout",
     "output_type": "stream",
     "text": [
      "Произошла ебучая ошибка: HTTPSConnectionPool(host='www.modi.ru', port=443): Max retries exceeded with url: /upload/product/fc5/y213lygio4azfnpllfs8cqlnflgptygp.jpg (Caused by SSLError(SSLCertVerificationError(1, '[SSL: CERTIFICATE_VERIFY_FAILED] certificate verify failed: unable to get local issuer certificate (_ssl.c:1006)')))\n"
     ]
    },
    {
     "data": {
      "application/vnd.jupyter.widget-view+json": {
       "model_id": "43f8e1ba3f8c4e9993e04bd907712a43",
       "version_major": 2,
       "version_minor": 0
      },
      "text/plain": [
       "  0%|          | 0/30 [00:00<?, ?it/s]"
      ]
     },
     "metadata": {},
     "output_type": "display_data"
    },
    {
     "name": "stdout",
     "output_type": "stream",
     "text": [
      "Произошла ебучая ошибка: Message: \n",
      "\n",
      "Произошла ебучая ошибка: Message: \n",
      "\n",
      "Произошла ебучая ошибка: Message: \n",
      "\n"
     ]
    },
    {
     "data": {
      "application/vnd.jupyter.widget-view+json": {
       "model_id": "d1d01e4bccdb44bea97d5a59ca942db3",
       "version_major": 2,
       "version_minor": 0
      },
      "text/plain": [
       "  0%|          | 0/30 [00:00<?, ?it/s]"
      ]
     },
     "metadata": {},
     "output_type": "display_data"
    },
    {
     "name": "stdout",
     "output_type": "stream",
     "text": [
      "Произошла ебучая ошибка: HTTPSConnectionPool(host='sibprod.info', port=443): Max retries exceeded with url: /upload/resize_cache/iblock/977/700_467_19d1669f6609e6dfcaeac28e5aab5b3be/97719fe53309591b1bc869e5b7977038.png (Caused by SSLError(SSLCertVerificationError(1, '[SSL: CERTIFICATE_VERIFY_FAILED] certificate verify failed: unable to get local issuer certificate (_ssl.c:1006)')))\n"
     ]
    },
    {
     "data": {
      "application/vnd.jupyter.widget-view+json": {
       "model_id": "acf683bdad164cccbe30b69da86b7de1",
       "version_major": 2,
       "version_minor": 0
      },
      "text/plain": [
       "  0%|          | 0/30 [00:00<?, ?it/s]"
      ]
     },
     "metadata": {},
     "output_type": "display_data"
    },
    {
     "data": {
      "application/vnd.jupyter.widget-view+json": {
       "model_id": "8caa72728cb74b7497cd074031e61b47",
       "version_major": 2,
       "version_minor": 0
      },
      "text/plain": [
       "  0%|          | 0/30 [00:00<?, ?it/s]"
      ]
     },
     "metadata": {},
     "output_type": "display_data"
    },
    {
     "name": "stdout",
     "output_type": "stream",
     "text": [
      "Произошла ебучая ошибка: Message: \n",
      "\n"
     ]
    },
    {
     "data": {
      "application/vnd.jupyter.widget-view+json": {
       "model_id": "db0fdb9c7c954bfe8b62ce7299e5a304",
       "version_major": 2,
       "version_minor": 0
      },
      "text/plain": [
       "  0%|          | 0/30 [00:00<?, ?it/s]"
      ]
     },
     "metadata": {},
     "output_type": "display_data"
    },
    {
     "name": "stdout",
     "output_type": "stream",
     "text": [
      "Произошла ебучая ошибка: HTTPSConnectionPool(host='swnn.ru', port=443): Max retries exceeded with url: /image/cache/catalog/products/122812-500x500.jpg (Caused by SSLError(SSLCertVerificationError(1, '[SSL: CERTIFICATE_VERIFY_FAILED] certificate verify failed: unable to get local issuer certificate (_ssl.c:1006)')))\n"
     ]
    },
    {
     "data": {
      "application/vnd.jupyter.widget-view+json": {
       "model_id": "7c43cbc76bdc4854b12be3cf34261ff4",
       "version_major": 2,
       "version_minor": 0
      },
      "text/plain": [
       "  0%|          | 0/30 [00:00<?, ?it/s]"
      ]
     },
     "metadata": {},
     "output_type": "display_data"
    },
    {
     "name": "stdout",
     "output_type": "stream",
     "text": [
      "Произошла ебучая ошибка: Message: \n",
      "\n",
      "Произошла ебучая ошибка: Message: \n",
      "\n",
      "Произошла ебучая ошибка: Message: \n",
      "\n",
      "Произошла ебучая ошибка: Message: \n",
      "\n",
      "Произошла ебучая ошибка: Message: \n",
      "\n",
      "Произошла ебучая ошибка: HTTPSConnectionPool(host='kamchatka.pro', port=443): Max retries exceeded with url: /images/detailed/4/8aBc36u8y9H7PJjs.jpg (Caused by SSLError(SSLCertVerificationError(1, '[SSL: CERTIFICATE_VERIFY_FAILED] certificate verify failed: unable to get local issuer certificate (_ssl.c:1006)')))\n"
     ]
    },
    {
     "data": {
      "application/vnd.jupyter.widget-view+json": {
       "model_id": "312145514fe14a56afb4254149083864",
       "version_major": 2,
       "version_minor": 0
      },
      "text/plain": [
       "  0%|          | 0/30 [00:00<?, ?it/s]"
      ]
     },
     "metadata": {},
     "output_type": "display_data"
    },
    {
     "data": {
      "application/vnd.jupyter.widget-view+json": {
       "model_id": "65186b35a2b444dcbfedda055435d7f8",
       "version_major": 2,
       "version_minor": 0
      },
      "text/plain": [
       "  0%|          | 0/30 [00:00<?, ?it/s]"
      ]
     },
     "metadata": {},
     "output_type": "display_data"
    },
    {
     "data": {
      "application/vnd.jupyter.widget-view+json": {
       "model_id": "46a9abfaf2374a7bb391302428a18bce",
       "version_major": 2,
       "version_minor": 0
      },
      "text/plain": [
       "  0%|          | 0/30 [00:00<?, ?it/s]"
      ]
     },
     "metadata": {},
     "output_type": "display_data"
    },
    {
     "name": "stdout",
     "output_type": "stream",
     "text": [
      "Произошла ебучая ошибка: Message: \n",
      "\n"
     ]
    },
    {
     "data": {
      "application/vnd.jupyter.widget-view+json": {
       "model_id": "55fe4775958b4b9d974c7d262bf0f94a",
       "version_major": 2,
       "version_minor": 0
      },
      "text/plain": [
       "  0%|          | 0/30 [00:00<?, ?it/s]"
      ]
     },
     "metadata": {},
     "output_type": "display_data"
    },
    {
     "name": "stdout",
     "output_type": "stream",
     "text": [
      "Произошла ебучая ошибка: Message: \n",
      "\n",
      "Произошла ебучая ошибка: Message: \n",
      "\n",
      "Произошла ебучая ошибка: HTTPSConnectionPool(host='kamchatka.pro', port=443): Max retries exceeded with url: /images/detailed/4/w63mPS7w6PCri3H8.jpg (Caused by SSLError(SSLCertVerificationError(1, '[SSL: CERTIFICATE_VERIFY_FAILED] certificate verify failed: unable to get local issuer certificate (_ssl.c:1006)')))\n",
      "Произошла ебучая ошибка: Message: \n",
      "\n"
     ]
    },
    {
     "data": {
      "application/vnd.jupyter.widget-view+json": {
       "model_id": "6f92e131f04a43a0bb08c2d67fc8e9a1",
       "version_major": 2,
       "version_minor": 0
      },
      "text/plain": [
       "  0%|          | 0/30 [00:00<?, ?it/s]"
      ]
     },
     "metadata": {},
     "output_type": "display_data"
    },
    {
     "name": "stdout",
     "output_type": "stream",
     "text": [
      "Произошла ебучая ошибка: Message: \n",
      "\n"
     ]
    },
    {
     "data": {
      "application/vnd.jupyter.widget-view+json": {
       "model_id": "91194d537d294cb094048b0b07804027",
       "version_major": 2,
       "version_minor": 0
      },
      "text/plain": [
       "  0%|          | 0/30 [00:00<?, ?it/s]"
      ]
     },
     "metadata": {},
     "output_type": "display_data"
    },
    {
     "name": "stdout",
     "output_type": "stream",
     "text": [
      "Произошла ебучая ошибка: Message: \n",
      "\n",
      "Произошла ебучая ошибка: Message: \n",
      "\n",
      "Произошла ебучая ошибка: Message: \n",
      "\n"
     ]
    },
    {
     "data": {
      "application/vnd.jupyter.widget-view+json": {
       "model_id": "358b76c0dc7e496dbba4fb0ebe741eea",
       "version_major": 2,
       "version_minor": 0
      },
      "text/plain": [
       "  0%|          | 0/30 [00:00<?, ?it/s]"
      ]
     },
     "metadata": {},
     "output_type": "display_data"
    },
    {
     "name": "stdout",
     "output_type": "stream",
     "text": [
      "Произошла ебучая ошибка: Message: \n",
      "\n",
      "Произошла ебучая ошибка: Message: \n",
      "\n",
      "Произошла ебучая ошибка: Message: \n",
      "\n"
     ]
    },
    {
     "data": {
      "application/vnd.jupyter.widget-view+json": {
       "model_id": "f5ae7b813f90483cac7b4bc2fc53879b",
       "version_major": 2,
       "version_minor": 0
      },
      "text/plain": [
       "  0%|          | 0/30 [00:00<?, ?it/s]"
      ]
     },
     "metadata": {},
     "output_type": "display_data"
    },
    {
     "name": "stdout",
     "output_type": "stream",
     "text": [
      "Произошла ебучая ошибка: Message: \n",
      "\n",
      "Произошла ебучая ошибка: Message: \n",
      "\n",
      "Произошла ебучая ошибка: Message: \n",
      "\n",
      "Произошла ебучая ошибка: Message: \n",
      "\n"
     ]
    },
    {
     "data": {
      "application/vnd.jupyter.widget-view+json": {
       "model_id": "f732a29170dc4b33b6e76832deeb79ad",
       "version_major": 2,
       "version_minor": 0
      },
      "text/plain": [
       "  0%|          | 0/30 [00:00<?, ?it/s]"
      ]
     },
     "metadata": {},
     "output_type": "display_data"
    },
    {
     "name": "stdout",
     "output_type": "stream",
     "text": [
      "Произошла ебучая ошибка: Message: \n",
      "\n",
      "Произошла ебучая ошибка: HTTPSConnectionPool(host='mkgomel.by', port=443): Max retries exceeded with url: /images/uploads/b40da322f194b6a566b20794031364d1.png (Caused by SSLError(SSLCertVerificationError(1, '[SSL: CERTIFICATE_VERIFY_FAILED] certificate verify failed: unable to get local issuer certificate (_ssl.c:1006)')))\n"
     ]
    },
    {
     "data": {
      "application/vnd.jupyter.widget-view+json": {
       "model_id": "1cdcee5ec0b0481aa387ce59008aa2b2",
       "version_major": 2,
       "version_minor": 0
      },
      "text/plain": [
       "  0%|          | 0/30 [00:00<?, ?it/s]"
      ]
     },
     "metadata": {},
     "output_type": "display_data"
    },
    {
     "name": "stdout",
     "output_type": "stream",
     "text": [
      "Произошла ебучая ошибка: HTTPSConnectionPool(host='www.spkfood.ru', port=443): Max retries exceeded with url: /upload/iblock/ad2/ad240abe4bc8e881e3b971fc50053c49.png (Caused by SSLError(SSLCertVerificationError(1, '[SSL: CERTIFICATE_VERIFY_FAILED] certificate verify failed: unable to get local issuer certificate (_ssl.c:1006)')))\n",
      "Произошла ебучая ошибка: HTTPSConnectionPool(host='spkfood.ru', port=443): Max retries exceeded with url: /upload/iblock/dac/dacef89b1be73489c653f55a016da65f.png (Caused by SSLError(SSLCertVerificationError(1, '[SSL: CERTIFICATE_VERIFY_FAILED] certificate verify failed: unable to get local issuer certificate (_ssl.c:1006)')))\n",
      "Произошла ебучая ошибка: ('Connection aborted.', RemoteDisconnected('Remote end closed connection without response'))\n"
     ]
    },
    {
     "data": {
      "application/vnd.jupyter.widget-view+json": {
       "model_id": "c445d216263d44df959e0fa7de20b9ed",
       "version_major": 2,
       "version_minor": 0
      },
      "text/plain": [
       "  0%|          | 0/30 [00:00<?, ?it/s]"
      ]
     },
     "metadata": {},
     "output_type": "display_data"
    },
    {
     "name": "stdout",
     "output_type": "stream",
     "text": [
      "Произошла ебучая ошибка: HTTPSConnectionPool(host='spkfood.ru', port=443): Max retries exceeded with url: /upload/iblock/2ea/2ea59a080648c724cc0c9ed14c6834d1.png (Caused by SSLError(SSLCertVerificationError(1, '[SSL: CERTIFICATE_VERIFY_FAILED] certificate verify failed: unable to get local issuer certificate (_ssl.c:1006)')))\n",
      "Произошла ебучая ошибка: Message: \n",
      "\n",
      "Произошла ебучая ошибка: HTTPSConnectionPool(host='ineyspb.ru', port=443): Max retries exceeded with url: /upload/iblock/f3b/33zgvflngedkd446cs6ebq74q4wvdyo1.jpg (Caused by SSLError(SSLCertVerificationError(1, '[SSL: CERTIFICATE_VERIFY_FAILED] certificate verify failed: unable to get local issuer certificate (_ssl.c:1006)')))\n"
     ]
    },
    {
     "data": {
      "application/vnd.jupyter.widget-view+json": {
       "model_id": "cf5dd19462e542ffa77b62055bae843e",
       "version_major": 2,
       "version_minor": 0
      },
      "text/plain": [
       "  0%|          | 0/30 [00:00<?, ?it/s]"
      ]
     },
     "metadata": {},
     "output_type": "display_data"
    },
    {
     "name": "stdout",
     "output_type": "stream",
     "text": [
      "Произошла ебучая ошибка: HTTPSConnectionPool(host='sibprod.info', port=443): Max retries exceeded with url: /upload/resize_cache/iblock/e65/1200_800_19d1669f6609e6dfcaeac28e5aab5b3be/e654c46b892ee83e3a77518c26b08ac9.png (Caused by SSLError(SSLCertVerificationError(1, '[SSL: CERTIFICATE_VERIFY_FAILED] certificate verify failed: unable to get local issuer certificate (_ssl.c:1006)')))\n"
     ]
    },
    {
     "data": {
      "application/vnd.jupyter.widget-view+json": {
       "model_id": "01394a12f68a462595f07cf979f06653",
       "version_major": 2,
       "version_minor": 0
      },
      "text/plain": [
       "  0%|          | 0/30 [00:00<?, ?it/s]"
      ]
     },
     "metadata": {},
     "output_type": "display_data"
    },
    {
     "name": "stdout",
     "output_type": "stream",
     "text": [
      "Произошла ебучая ошибка: Message: \n",
      "\n"
     ]
    },
    {
     "data": {
      "application/vnd.jupyter.widget-view+json": {
       "model_id": "1b0158bc246847fc9dc0eeabbbf65559",
       "version_major": 2,
       "version_minor": 0
      },
      "text/plain": [
       "  0%|          | 0/30 [00:00<?, ?it/s]"
      ]
     },
     "metadata": {},
     "output_type": "display_data"
    },
    {
     "name": "stdout",
     "output_type": "stream",
     "text": [
      "Произошла ебучая ошибка: HTTPSConnectionPool(host='ineyspb.ru', port=443): Max retries exceeded with url: /upload/iblock/867/kol_ohot_gost_pk_no_vu_07_inner_1.jpg (Caused by SSLError(SSLCertVerificationError(1, '[SSL: CERTIFICATE_VERIFY_FAILED] certificate verify failed: unable to get local issuer certificate (_ssl.c:1006)')))\n"
     ]
    },
    {
     "data": {
      "application/vnd.jupyter.widget-view+json": {
       "model_id": "f66ca2dc52b94494828cd53f27644be7",
       "version_major": 2,
       "version_minor": 0
      },
      "text/plain": [
       "  0%|          | 0/30 [00:00<?, ?it/s]"
      ]
     },
     "metadata": {},
     "output_type": "display_data"
    },
    {
     "name": "stdout",
     "output_type": "stream",
     "text": [
      "Произошла ебучая ошибка: Message: \n",
      "\n",
      "Произошла ебучая ошибка: Message: \n",
      "\n",
      "Произошла ебучая ошибка: ('Connection aborted.', RemoteDisconnected('Remote end closed connection without response'))\n",
      "Произошла ебучая ошибка: HTTPSConnectionPool(host='swnn.ru', port=443): Max retries exceeded with url: /image/cache/catalog/products/115932-500x500.jpg (Caused by SSLError(SSLCertVerificationError(1, '[SSL: CERTIFICATE_VERIFY_FAILED] certificate verify failed: unable to get local issuer certificate (_ssl.c:1006)')))\n",
      "Произошла ебучая ошибка: Message: \n",
      "\n"
     ]
    },
    {
     "data": {
      "application/vnd.jupyter.widget-view+json": {
       "model_id": "ab29c16a846e425c9ddb37e261897f28",
       "version_major": 2,
       "version_minor": 0
      },
      "text/plain": [
       "  0%|          | 0/30 [00:00<?, ?it/s]"
      ]
     },
     "metadata": {},
     "output_type": "display_data"
    },
    {
     "name": "stdout",
     "output_type": "stream",
     "text": [
      "Произошла ебучая ошибка: Message: \n",
      "\n",
      "Произошла ебучая ошибка: HTTPSConnectionPool(host='sibprod.info', port=443): Max retries exceeded with url: /upload/resize_cache/iblock/c6b/1024_768_19d1669f6609e6dfcaeac28e5aab5b3be/c6ba68fc12d254800ab3ccc24ce57263.jpg (Caused by SSLError(SSLCertVerificationError(1, '[SSL: CERTIFICATE_VERIFY_FAILED] certificate verify failed: unable to get local issuer certificate (_ssl.c:1006)')))\n"
     ]
    },
    {
     "data": {
      "application/vnd.jupyter.widget-view+json": {
       "model_id": "0c6b77ebe18f46f1b3b36351781b432c",
       "version_major": 2,
       "version_minor": 0
      },
      "text/plain": [
       "  0%|          | 0/30 [00:00<?, ?it/s]"
      ]
     },
     "metadata": {},
     "output_type": "display_data"
    },
    {
     "data": {
      "application/vnd.jupyter.widget-view+json": {
       "model_id": "20b2af41a4e54cc481792198f2fe59a0",
       "version_major": 2,
       "version_minor": 0
      },
      "text/plain": [
       "  0%|          | 0/30 [00:00<?, ?it/s]"
      ]
     },
     "metadata": {},
     "output_type": "display_data"
    },
    {
     "name": "stdout",
     "output_type": "stream",
     "text": [
      "Произошла ебучая ошибка: Message: \n",
      "\n"
     ]
    },
    {
     "data": {
      "application/vnd.jupyter.widget-view+json": {
       "model_id": "f546ec5de28b461ea67f99f8b0e12048",
       "version_major": 2,
       "version_minor": 0
      },
      "text/plain": [
       "  0%|          | 0/30 [00:00<?, ?it/s]"
      ]
     },
     "metadata": {},
     "output_type": "display_data"
    },
    {
     "name": "stdout",
     "output_type": "stream",
     "text": [
      "Произошла ебучая ошибка: Message: \n",
      "\n",
      "Произошла ебучая ошибка: Message: \n",
      "\n"
     ]
    },
    {
     "data": {
      "application/vnd.jupyter.widget-view+json": {
       "model_id": "327166d76e7942f3803bf40cf9043c5d",
       "version_major": 2,
       "version_minor": 0
      },
      "text/plain": [
       "  0%|          | 0/30 [00:00<?, ?it/s]"
      ]
     },
     "metadata": {},
     "output_type": "display_data"
    },
    {
     "name": "stdout",
     "output_type": "stream",
     "text": [
      "Произошла ебучая ошибка: HTTPSConnectionPool(host='abi.ru', port=443): Max retries exceeded with url: /upload/iblock/2f7/g2cnaostj53ngpwfhf2vhbq77f7ibs2o.png (Caused by SSLError(SSLCertVerificationError(1, '[SSL: CERTIFICATE_VERIFY_FAILED] certificate verify failed: unable to get local issuer certificate (_ssl.c:1006)')))\n",
      "Произошла ебучая ошибка: HTTPSConnectionPool(host='sibprod.info', port=443): Max retries exceeded with url: /upload/resize_cache/iblock/e65/1200_800_19d1669f6609e6dfcaeac28e5aab5b3be/e654c46b892ee83e3a77518c26b08ac9.png (Caused by SSLError(SSLCertVerificationError(1, '[SSL: CERTIFICATE_VERIFY_FAILED] certificate verify failed: unable to get local issuer certificate (_ssl.c:1006)')))\n",
      "Произошла ебучая ошибка: HTTPSConnectionPool(host='abi.ru', port=443): Max retries exceeded with url: /upload/iblock/473/qcxu27w1rscrp0wpb2t5rs7ogqtx34qi.png (Caused by SSLError(SSLCertVerificationError(1, '[SSL: CERTIFICATE_VERIFY_FAILED] certificate verify failed: unable to get local issuer certificate (_ssl.c:1006)')))\n"
     ]
    },
    {
     "data": {
      "application/vnd.jupyter.widget-view+json": {
       "model_id": "dc25fc214b9f4880b50f7cd05e0b2874",
       "version_major": 2,
       "version_minor": 0
      },
      "text/plain": [
       "  0%|          | 0/30 [00:00<?, ?it/s]"
      ]
     },
     "metadata": {},
     "output_type": "display_data"
    },
    {
     "name": "stdout",
     "output_type": "stream",
     "text": [
      "Произошла ебучая ошибка: Message: \n",
      "\n",
      "Произошла ебучая ошибка: Message: \n",
      "\n"
     ]
    },
    {
     "data": {
      "application/vnd.jupyter.widget-view+json": {
       "model_id": "f41ac9e148564c028de2fcbfba559ad1",
       "version_major": 2,
       "version_minor": 0
      },
      "text/plain": [
       "  0%|          | 0/30 [00:00<?, ?it/s]"
      ]
     },
     "metadata": {},
     "output_type": "display_data"
    },
    {
     "name": "stdout",
     "output_type": "stream",
     "text": [
      "Произошла ебучая ошибка: Message: \n",
      "\n",
      "Произошла ебучая ошибка: Message: \n",
      "\n",
      "Произошла ебучая ошибка: Message: \n",
      "\n",
      "Произошла ебучая ошибка: Message: \n",
      "\n",
      "Произошла ебучая ошибка: HTTPSConnectionPool(host='ineyspb.ru', port=443): Max retries exceeded with url: /upload/iblock/06a/wt9zkb2b9t1ki739sml8eglxsaulei6t.jpg (Caused by SSLError(SSLCertVerificationError(1, '[SSL: CERTIFICATE_VERIFY_FAILED] certificate verify failed: unable to get local issuer certificate (_ssl.c:1006)')))\n"
     ]
    },
    {
     "data": {
      "application/vnd.jupyter.widget-view+json": {
       "model_id": "f13981acb6d14f0fa445c9fd3d84bf08",
       "version_major": 2,
       "version_minor": 0
      },
      "text/plain": [
       "  0%|          | 0/30 [00:00<?, ?it/s]"
      ]
     },
     "metadata": {},
     "output_type": "display_data"
    },
    {
     "name": "stdout",
     "output_type": "stream",
     "text": [
      "Произошла ебучая ошибка: Message: \n",
      "\n",
      "Произошла ебучая ошибка: Message: \n",
      "\n",
      "Произошла ебучая ошибка: Message: \n",
      "\n"
     ]
    },
    {
     "data": {
      "application/vnd.jupyter.widget-view+json": {
       "model_id": "3d3150c052c74d9b9cf8245df74059b9",
       "version_major": 2,
       "version_minor": 0
      },
      "text/plain": [
       "  0%|          | 0/30 [00:00<?, ?it/s]"
      ]
     },
     "metadata": {},
     "output_type": "display_data"
    },
    {
     "name": "stdout",
     "output_type": "stream",
     "text": [
      "Произошла ебучая ошибка: Message: \n",
      "\n",
      "Произошла ебучая ошибка: Message: \n",
      "\n",
      "Произошла ебучая ошибка: Message: \n",
      "\n"
     ]
    },
    {
     "data": {
      "application/vnd.jupyter.widget-view+json": {
       "model_id": "4afde5b7ac6845ab8f788183c32685e1",
       "version_major": 2,
       "version_minor": 0
      },
      "text/plain": [
       "  0%|          | 0/30 [00:00<?, ?it/s]"
      ]
     },
     "metadata": {},
     "output_type": "display_data"
    },
    {
     "name": "stdout",
     "output_type": "stream",
     "text": [
      "Произошла ебучая ошибка: HTTPSConnectionPool(host='www.spkfood.ru', port=443): Max retries exceeded with url: /upload/iblock/5d0/5d06a9912a860cf16b6e838c328991c4.png (Caused by SSLError(SSLCertVerificationError(1, '[SSL: CERTIFICATE_VERIFY_FAILED] certificate verify failed: unable to get local issuer certificate (_ssl.c:1006)')))\n",
      "Произошла ебучая ошибка: Message: \n",
      "\n"
     ]
    },
    {
     "data": {
      "application/vnd.jupyter.widget-view+json": {
       "model_id": "5f7646733dc84b63a7787aeda43d900a",
       "version_major": 2,
       "version_minor": 0
      },
      "text/plain": [
       "  0%|          | 0/30 [00:00<?, ?it/s]"
      ]
     },
     "metadata": {},
     "output_type": "display_data"
    },
    {
     "data": {
      "application/vnd.jupyter.widget-view+json": {
       "model_id": "499f42d5b1e244e797a1c8fb78a0c5ba",
       "version_major": 2,
       "version_minor": 0
      },
      "text/plain": [
       "  0%|          | 0/30 [00:00<?, ?it/s]"
      ]
     },
     "metadata": {},
     "output_type": "display_data"
    },
    {
     "name": "stdout",
     "output_type": "stream",
     "text": [
      "Произошла ебучая ошибка: Message: \n",
      "\n",
      "Произошла ебучая ошибка: Message: \n",
      "\n"
     ]
    },
    {
     "data": {
      "application/vnd.jupyter.widget-view+json": {
       "model_id": "3ebb7c745fff41dca8e836a4e2bf0e84",
       "version_major": 2,
       "version_minor": 0
      },
      "text/plain": [
       "  0%|          | 0/30 [00:00<?, ?it/s]"
      ]
     },
     "metadata": {},
     "output_type": "display_data"
    },
    {
     "name": "stdout",
     "output_type": "stream",
     "text": [
      "Произошла ебучая ошибка: Message: \n",
      "\n",
      "Произошла ебучая ошибка: Message: \n",
      "\n"
     ]
    },
    {
     "data": {
      "application/vnd.jupyter.widget-view+json": {
       "model_id": "405eac454b194319ac25f9c02b9c74a0",
       "version_major": 2,
       "version_minor": 0
      },
      "text/plain": [
       "  0%|          | 0/30 [00:00<?, ?it/s]"
      ]
     },
     "metadata": {},
     "output_type": "display_data"
    },
    {
     "name": "stdout",
     "output_type": "stream",
     "text": [
      "Произошла ебучая ошибка: Message: \n",
      "\n"
     ]
    },
    {
     "data": {
      "application/vnd.jupyter.widget-view+json": {
       "model_id": "9c1bba7e0cb642e2b8158bbf562146fc",
       "version_major": 2,
       "version_minor": 0
      },
      "text/plain": [
       "  0%|          | 0/30 [00:00<?, ?it/s]"
      ]
     },
     "metadata": {},
     "output_type": "display_data"
    },
    {
     "name": "stdout",
     "output_type": "stream",
     "text": [
      "Произошла ебучая ошибка: Message: \n",
      "\n",
      "Произошла ебучая ошибка: Message: \n",
      "\n",
      "Произошла ебучая ошибка: HTTPSConnectionPool(host='kamchatka.pro', port=443): Max retries exceeded with url: /images/thumbnails/430/430/detailed/4/a75ix85ie29UQEBu.jpg (Caused by SSLError(SSLCertVerificationError(1, '[SSL: CERTIFICATE_VERIFY_FAILED] certificate verify failed: unable to get local issuer certificate (_ssl.c:1006)')))\n"
     ]
    },
    {
     "data": {
      "application/vnd.jupyter.widget-view+json": {
       "model_id": "3f3b2ab1e9d54f0e859db2990400c1df",
       "version_major": 2,
       "version_minor": 0
      },
      "text/plain": [
       "  0%|          | 0/30 [00:00<?, ?it/s]"
      ]
     },
     "metadata": {},
     "output_type": "display_data"
    },
    {
     "name": "stdout",
     "output_type": "stream",
     "text": [
      "Произошла ебучая ошибка: Message: \n",
      "\n",
      "Произошла ебучая ошибка: ('Connection aborted.', RemoteDisconnected('Remote end closed connection without response'))\n"
     ]
    },
    {
     "data": {
      "application/vnd.jupyter.widget-view+json": {
       "model_id": "70f5d3007ecf4ed988428b1da15db143",
       "version_major": 2,
       "version_minor": 0
      },
      "text/plain": [
       "  0%|          | 0/30 [00:00<?, ?it/s]"
      ]
     },
     "metadata": {},
     "output_type": "display_data"
    },
    {
     "data": {
      "application/vnd.jupyter.widget-view+json": {
       "model_id": "cea1e710b61d42a684e97121b623d37d",
       "version_major": 2,
       "version_minor": 0
      },
      "text/plain": [
       "  0%|          | 0/30 [00:00<?, ?it/s]"
      ]
     },
     "metadata": {},
     "output_type": "display_data"
    },
    {
     "name": "stdout",
     "output_type": "stream",
     "text": [
      "Произошла ебучая ошибка: HTTPSConnectionPool(host='spkfood.ru', port=443): Max retries exceeded with url: /upload/iblock/e08/e083735b292629f4bbe4b0f8161f7a14.png (Caused by SSLError(SSLCertVerificationError(1, '[SSL: CERTIFICATE_VERIFY_FAILED] certificate verify failed: unable to get local issuer certificate (_ssl.c:1006)')))\n",
      "Произошла ебучая ошибка: Message: \n",
      "\n",
      "Произошла ебучая ошибка: Message: \n",
      "\n",
      "Произошла ебучая ошибка: Message: \n",
      "\n"
     ]
    },
    {
     "data": {
      "application/vnd.jupyter.widget-view+json": {
       "model_id": "32ce5322fdbd4ca8b3fcdcb2c8db8102",
       "version_major": 2,
       "version_minor": 0
      },
      "text/plain": [
       "  0%|          | 0/30 [00:00<?, ?it/s]"
      ]
     },
     "metadata": {},
     "output_type": "display_data"
    },
    {
     "name": "stdout",
     "output_type": "stream",
     "text": [
      "Произошла ебучая ошибка: Message: \n",
      "\n",
      "Произошла ебучая ошибка: Message: \n",
      "\n",
      "Произошла ебучая ошибка: HTTPSConnectionPool(host='swnn.ru', port=443): Max retries exceeded with url: /image/cache/catalog/products/24469-500x500.jpg (Caused by SSLError(SSLCertVerificationError(1, '[SSL: CERTIFICATE_VERIFY_FAILED] certificate verify failed: unable to get local issuer certificate (_ssl.c:1006)')))\n"
     ]
    },
    {
     "data": {
      "application/vnd.jupyter.widget-view+json": {
       "model_id": "8c968075c61246928018f03aee777916",
       "version_major": 2,
       "version_minor": 0
      },
      "text/plain": [
       "  0%|          | 0/30 [00:00<?, ?it/s]"
      ]
     },
     "metadata": {},
     "output_type": "display_data"
    },
    {
     "name": "stdout",
     "output_type": "stream",
     "text": [
      "Произошла ебучая ошибка: Message: \n",
      "\n",
      "Произошла ебучая ошибка: HTTPSConnectionPool(host='spkfood.ru', port=443): Max retries exceeded with url: /upload/iblock/741/741592a3b5e356a64e4bb725c964c690.png (Caused by SSLError(SSLCertVerificationError(1, '[SSL: CERTIFICATE_VERIFY_FAILED] certificate verify failed: unable to get local issuer certificate (_ssl.c:1006)')))\n"
     ]
    },
    {
     "data": {
      "application/vnd.jupyter.widget-view+json": {
       "model_id": "cdec3dc7b7ec4bca97f5f43821c8e015",
       "version_major": 2,
       "version_minor": 0
      },
      "text/plain": [
       "  0%|          | 0/30 [00:00<?, ?it/s]"
      ]
     },
     "metadata": {},
     "output_type": "display_data"
    },
    {
     "name": "stdout",
     "output_type": "stream",
     "text": [
      "Произошла ебучая ошибка: Message: \n",
      "\n",
      "Произошла ебучая ошибка: Message: \n",
      "\n",
      "Произошла ебучая ошибка: HTTPSConnectionPool(host='abi.ru', port=443): Max retries exceeded with url: /upload/iblock/c2b/c2bd1aa1b3152ffb9324d83761c5f9e5.png (Caused by SSLError(SSLCertVerificationError(1, '[SSL: CERTIFICATE_VERIFY_FAILED] certificate verify failed: unable to get local issuer certificate (_ssl.c:1006)')))\n"
     ]
    },
    {
     "data": {
      "application/vnd.jupyter.widget-view+json": {
       "model_id": "99950e88b98d42fb81a63eb62ab9feda",
       "version_major": 2,
       "version_minor": 0
      },
      "text/plain": [
       "  0%|          | 0/30 [00:00<?, ?it/s]"
      ]
     },
     "metadata": {},
     "output_type": "display_data"
    },
    {
     "name": "stdout",
     "output_type": "stream",
     "text": [
      "Произошла ебучая ошибка: Message: \n",
      "\n",
      "Произошла ебучая ошибка: Message: \n",
      "\n",
      "Произошла ебучая ошибка: Message: \n",
      "\n",
      "Произошла ебучая ошибка: Message: \n",
      "\n"
     ]
    },
    {
     "data": {
      "application/vnd.jupyter.widget-view+json": {
       "model_id": "f830644f2bf0412081a5376d5c23b9bb",
       "version_major": 2,
       "version_minor": 0
      },
      "text/plain": [
       "  0%|          | 0/30 [00:00<?, ?it/s]"
      ]
     },
     "metadata": {},
     "output_type": "display_data"
    },
    {
     "name": "stdout",
     "output_type": "stream",
     "text": [
      "Произошла ебучая ошибка: Message: \n",
      "\n",
      "Произошла ебучая ошибка: Message: \n",
      "\n",
      "Произошла ебучая ошибка: HTTPSConnectionPool(host='shuba.life', port=443): Read timed out. (read timeout=None)\n",
      "Произошла ебучая ошибка: Message: \n",
      "\n"
     ]
    },
    {
     "data": {
      "application/vnd.jupyter.widget-view+json": {
       "model_id": "fa0cea76cc4a44a5b1f4fd64c8d6c03e",
       "version_major": 2,
       "version_minor": 0
      },
      "text/plain": [
       "  0%|          | 0/30 [00:00<?, ?it/s]"
      ]
     },
     "metadata": {},
     "output_type": "display_data"
    },
    {
     "name": "stdout",
     "output_type": "stream",
     "text": [
      "Произошла ебучая ошибка: ('Connection aborted.', RemoteDisconnected('Remote end closed connection without response'))\n",
      "Произошла ебучая ошибка: Message: \n",
      "\n",
      "Произошла ебучая ошибка: Message: \n",
      "\n",
      "Произошла ебучая ошибка: Message: \n",
      "\n",
      "Произошла ебучая ошибка: Message: \n",
      "\n",
      "Произошла ебучая ошибка: Message: \n",
      "\n",
      "Произошла ебучая ошибка: Message: \n",
      "\n",
      "Произошла ебучая ошибка: Message: \n",
      "\n"
     ]
    },
    {
     "data": {
      "application/vnd.jupyter.widget-view+json": {
       "model_id": "f9a7797599354659aeee81d3152c781e",
       "version_major": 2,
       "version_minor": 0
      },
      "text/plain": [
       "  0%|          | 0/30 [00:00<?, ?it/s]"
      ]
     },
     "metadata": {},
     "output_type": "display_data"
    },
    {
     "name": "stdout",
     "output_type": "stream",
     "text": [
      "Произошла ебучая ошибка: Message: \n",
      "\n"
     ]
    },
    {
     "data": {
      "application/vnd.jupyter.widget-view+json": {
       "model_id": "e314d4c28f6643a3b87987483bd69dfe",
       "version_major": 2,
       "version_minor": 0
      },
      "text/plain": [
       "  0%|          | 0/30 [00:00<?, ?it/s]"
      ]
     },
     "metadata": {},
     "output_type": "display_data"
    },
    {
     "name": "stdout",
     "output_type": "stream",
     "text": [
      "Произошла ебучая ошибка: Message: \n",
      "\n",
      "Произошла ебучая ошибка: Message: \n",
      "\n",
      "Произошла ебучая ошибка: Message: \n",
      "\n",
      "Произошла ебучая ошибка: Message: \n",
      "\n",
      "Произошла ебучая ошибка: Message: \n",
      "\n"
     ]
    },
    {
     "data": {
      "application/vnd.jupyter.widget-view+json": {
       "model_id": "fd6ed3233c89419a9002fac7549b97cd",
       "version_major": 2,
       "version_minor": 0
      },
      "text/plain": [
       "  0%|          | 0/30 [00:00<?, ?it/s]"
      ]
     },
     "metadata": {},
     "output_type": "display_data"
    },
    {
     "data": {
      "application/vnd.jupyter.widget-view+json": {
       "model_id": "4a4df0a9128a4599b150e960568d621b",
       "version_major": 2,
       "version_minor": 0
      },
      "text/plain": [
       "  0%|          | 0/30 [00:00<?, ?it/s]"
      ]
     },
     "metadata": {},
     "output_type": "display_data"
    },
    {
     "name": "stdout",
     "output_type": "stream",
     "text": [
      "Произошла ебучая ошибка: Message: \n",
      "\n"
     ]
    },
    {
     "data": {
      "application/vnd.jupyter.widget-view+json": {
       "model_id": "b3920d10063d47879ba44b5b901449b4",
       "version_major": 2,
       "version_minor": 0
      },
      "text/plain": [
       "  0%|          | 0/30 [00:00<?, ?it/s]"
      ]
     },
     "metadata": {},
     "output_type": "display_data"
    },
    {
     "name": "stdout",
     "output_type": "stream",
     "text": [
      "Произошла ебучая ошибка: Message: \n",
      "\n",
      "Произошла ебучая ошибка: Message: \n",
      "\n",
      "Произошла ебучая ошибка: Message: \n",
      "\n",
      "Произошла ебучая ошибка: Message: \n",
      "\n"
     ]
    },
    {
     "data": {
      "application/vnd.jupyter.widget-view+json": {
       "model_id": "00dfa122f1374900b10d9ac01366b099",
       "version_major": 2,
       "version_minor": 0
      },
      "text/plain": [
       "  0%|          | 0/30 [00:00<?, ?it/s]"
      ]
     },
     "metadata": {},
     "output_type": "display_data"
    },
    {
     "name": "stdout",
     "output_type": "stream",
     "text": [
      "Произошла ебучая ошибка: Message: \n",
      "\n"
     ]
    },
    {
     "data": {
      "application/vnd.jupyter.widget-view+json": {
       "model_id": "29f3a99ea3914fb48c4a9b34691a4773",
       "version_major": 2,
       "version_minor": 0
      },
      "text/plain": [
       "  0%|          | 0/30 [00:00<?, ?it/s]"
      ]
     },
     "metadata": {},
     "output_type": "display_data"
    },
    {
     "name": "stdout",
     "output_type": "stream",
     "text": [
      "Произошла ебучая ошибка: HTTPSConnectionPool(host='kamchatka.pro', port=443): Max retries exceeded with url: /images/detailed/26/038426311521595_ucao-1w.webp (Caused by SSLError(SSLCertVerificationError(1, '[SSL: CERTIFICATE_VERIFY_FAILED] certificate verify failed: unable to get local issuer certificate (_ssl.c:1006)')))\n",
      "Произошла ебучая ошибка: Message: \n",
      "\n"
     ]
    },
    {
     "data": {
      "application/vnd.jupyter.widget-view+json": {
       "model_id": "0b866fb5b75d4dab997a865d151acd73",
       "version_major": 2,
       "version_minor": 0
      },
      "text/plain": [
       "  0%|          | 0/30 [00:00<?, ?it/s]"
      ]
     },
     "metadata": {},
     "output_type": "display_data"
    },
    {
     "name": "stdout",
     "output_type": "stream",
     "text": [
      "Произошла ебучая ошибка: Message: \n",
      "\n",
      "Произошла ебучая ошибка: Message: \n",
      "\n",
      "Произошла ебучая ошибка: Message: \n",
      "\n",
      "Произошла ебучая ошибка: Message: \n",
      "\n",
      "Произошла ебучая ошибка: Message: \n",
      "\n"
     ]
    },
    {
     "data": {
      "application/vnd.jupyter.widget-view+json": {
       "model_id": "3b164c9bdd59447ea6f3c59bee142dcb",
       "version_major": 2,
       "version_minor": 0
      },
      "text/plain": [
       "  0%|          | 0/30 [00:00<?, ?it/s]"
      ]
     },
     "metadata": {},
     "output_type": "display_data"
    },
    {
     "name": "stdout",
     "output_type": "stream",
     "text": [
      "Произошла ебучая ошибка: Message: \n",
      "\n",
      "Произошла ебучая ошибка: HTTPSConnectionPool(host='swnn.ru', port=443): Max retries exceeded with url: /image/cache/catalog/products/117794-500x500.jpg (Caused by SSLError(SSLCertVerificationError(1, '[SSL: CERTIFICATE_VERIFY_FAILED] certificate verify failed: unable to get local issuer certificate (_ssl.c:1006)')))\n",
      "Произошла ебучая ошибка: Message: \n",
      "\n"
     ]
    },
    {
     "data": {
      "application/vnd.jupyter.widget-view+json": {
       "model_id": "f8f08f0342234582afd4b981f7714698",
       "version_major": 2,
       "version_minor": 0
      },
      "text/plain": [
       "  0%|          | 0/30 [00:00<?, ?it/s]"
      ]
     },
     "metadata": {},
     "output_type": "display_data"
    },
    {
     "name": "stdout",
     "output_type": "stream",
     "text": [
      "Произошла ебучая ошибка: Message: \n",
      "\n",
      "Произошла ебучая ошибка: Message: \n",
      "\n",
      "Произошла ебучая ошибка: Message: \n",
      "\n",
      "Произошла ебучая ошибка: Message: \n",
      "\n",
      "Произошла ебучая ошибка: Message: \n",
      "\n",
      "Произошла ебучая ошибка: Message: \n",
      "\n",
      "Произошла ебучая ошибка: Message: \n",
      "\n"
     ]
    },
    {
     "data": {
      "application/vnd.jupyter.widget-view+json": {
       "model_id": "c370412775c3423d858baf05a1ef6270",
       "version_major": 2,
       "version_minor": 0
      },
      "text/plain": [
       "  0%|          | 0/30 [00:00<?, ?it/s]"
      ]
     },
     "metadata": {},
     "output_type": "display_data"
    },
    {
     "name": "stdout",
     "output_type": "stream",
     "text": [
      "Произошла ебучая ошибка: HTTPSConnectionPool(host='abi.ru', port=443): Max retries exceeded with url: /upload/iblock/571/571fad2c9b24910f79197cbf8874e91e.png (Caused by SSLError(SSLCertVerificationError(1, '[SSL: CERTIFICATE_VERIFY_FAILED] certificate verify failed: unable to get local issuer certificate (_ssl.c:1006)')))\n",
      "Произошла ебучая ошибка: HTTPSConnectionPool(host='spkfood.ru', port=443): Max retries exceeded with url: /upload/iblock/271/271bedb8ca843789ebca47852706f485.png (Caused by SSLError(SSLCertVerificationError(1, '[SSL: CERTIFICATE_VERIFY_FAILED] certificate verify failed: unable to get local issuer certificate (_ssl.c:1006)')))\n",
      "Произошла ебучая ошибка: HTTPSConnectionPool(host='abi.ru', port=443): Max retries exceeded with url: /upload/iblock/a90/a909a7c29c3fac2b24b9475c8bd45f14.png (Caused by SSLError(SSLCertVerificationError(1, '[SSL: CERTIFICATE_VERIFY_FAILED] certificate verify failed: unable to get local issuer certificate (_ssl.c:1006)')))\n"
     ]
    },
    {
     "data": {
      "application/vnd.jupyter.widget-view+json": {
       "model_id": "09befe812cce42fd99e2ac371a470fdc",
       "version_major": 2,
       "version_minor": 0
      },
      "text/plain": [
       "  0%|          | 0/30 [00:00<?, ?it/s]"
      ]
     },
     "metadata": {},
     "output_type": "display_data"
    },
    {
     "name": "stdout",
     "output_type": "stream",
     "text": [
      "Произошла ебучая ошибка: Message: \n",
      "\n",
      "Произошла ебучая ошибка: Message: \n",
      "\n"
     ]
    },
    {
     "data": {
      "application/vnd.jupyter.widget-view+json": {
       "model_id": "857a216c04e94c11a7ba174fb95d5d86",
       "version_major": 2,
       "version_minor": 0
      },
      "text/plain": [
       "  0%|          | 0/30 [00:00<?, ?it/s]"
      ]
     },
     "metadata": {},
     "output_type": "display_data"
    },
    {
     "name": "stdout",
     "output_type": "stream",
     "text": [
      "Произошла ебучая ошибка: Message: \n",
      "\n",
      "Произошла ебучая ошибка: Message: \n",
      "\n"
     ]
    },
    {
     "data": {
      "application/vnd.jupyter.widget-view+json": {
       "model_id": "457ebf6e432d48f786861d487f179c5c",
       "version_major": 2,
       "version_minor": 0
      },
      "text/plain": [
       "  0%|          | 0/30 [00:00<?, ?it/s]"
      ]
     },
     "metadata": {},
     "output_type": "display_data"
    },
    {
     "name": "stdout",
     "output_type": "stream",
     "text": [
      "Произошла ебучая ошибка: HTTPSConnectionPool(host='kamchatka.pro', port=443): Max retries exceeded with url: /images/detailed/24/94285417008866.webp (Caused by SSLError(SSLCertVerificationError(1, '[SSL: CERTIFICATE_VERIFY_FAILED] certificate verify failed: unable to get local issuer certificate (_ssl.c:1006)')))\n",
      "Произошла ебучая ошибка: HTTPSConnectionPool(host='sibprod.info', port=443): Max retries exceeded with url: /upload/resize_cache/iblock/7a3/1200_917_19d1669f6609e6dfcaeac28e5aab5b3be/7a3d04dccdac1ebb605d8b16a1e84dcc.jpeg (Caused by SSLError(SSLCertVerificationError(1, '[SSL: CERTIFICATE_VERIFY_FAILED] certificate verify failed: unable to get local issuer certificate (_ssl.c:1006)')))\n"
     ]
    },
    {
     "data": {
      "application/vnd.jupyter.widget-view+json": {
       "model_id": "2924f07b55a7464faff8327fba02d069",
       "version_major": 2,
       "version_minor": 0
      },
      "text/plain": [
       "  0%|          | 0/30 [00:00<?, ?it/s]"
      ]
     },
     "metadata": {},
     "output_type": "display_data"
    },
    {
     "data": {
      "application/vnd.jupyter.widget-view+json": {
       "model_id": "c0ebf34303344cb78ece6da4ed775dfc",
       "version_major": 2,
       "version_minor": 0
      },
      "text/plain": [
       "  0%|          | 0/30 [00:00<?, ?it/s]"
      ]
     },
     "metadata": {},
     "output_type": "display_data"
    },
    {
     "data": {
      "application/vnd.jupyter.widget-view+json": {
       "model_id": "09c34e40e1fb41f2afe4df081081c2c9",
       "version_major": 2,
       "version_minor": 0
      },
      "text/plain": [
       "  0%|          | 0/30 [00:00<?, ?it/s]"
      ]
     },
     "metadata": {},
     "output_type": "display_data"
    },
    {
     "data": {
      "application/vnd.jupyter.widget-view+json": {
       "model_id": "9a6860feda234c58bb1523f966f0b0a4",
       "version_major": 2,
       "version_minor": 0
      },
      "text/plain": [
       "  0%|          | 0/30 [00:00<?, ?it/s]"
      ]
     },
     "metadata": {},
     "output_type": "display_data"
    },
    {
     "name": "stdout",
     "output_type": "stream",
     "text": [
      "Произошла ебучая ошибка: HTTPSConnectionPool(host='www.arriah.ru', port=443): Max retries exceeded with url: /upload/iblock/10d/2rioye1d8medjo7t9oris6fzkf7nzeq4.png (Caused by SSLError(SSLCertVerificationError(1, '[SSL: CERTIFICATE_VERIFY_FAILED] certificate verify failed: unable to get local issuer certificate (_ssl.c:1006)')))\n"
     ]
    },
    {
     "data": {
      "application/vnd.jupyter.widget-view+json": {
       "model_id": "eaa206665e3e4f17ae5fb7fb204bd809",
       "version_major": 2,
       "version_minor": 0
      },
      "text/plain": [
       "  0%|          | 0/30 [00:00<?, ?it/s]"
      ]
     },
     "metadata": {},
     "output_type": "display_data"
    },
    {
     "data": {
      "application/vnd.jupyter.widget-view+json": {
       "model_id": "77c840816c5845b5b8faaec70da2c7e7",
       "version_major": 2,
       "version_minor": 0
      },
      "text/plain": [
       "  0%|          | 0/30 [00:00<?, ?it/s]"
      ]
     },
     "metadata": {},
     "output_type": "display_data"
    },
    {
     "name": "stdout",
     "output_type": "stream",
     "text": [
      "Произошла ебучая ошибка: Message: \n",
      "\n",
      "Произошла ебучая ошибка: Message: \n",
      "\n"
     ]
    },
    {
     "data": {
      "application/vnd.jupyter.widget-view+json": {
       "model_id": "6667dcb2ddc64b458d0fd2b47f09268c",
       "version_major": 2,
       "version_minor": 0
      },
      "text/plain": [
       "  0%|          | 0/30 [00:00<?, ?it/s]"
      ]
     },
     "metadata": {},
     "output_type": "display_data"
    },
    {
     "name": "stdout",
     "output_type": "stream",
     "text": [
      "Произошла ебучая ошибка: HTTPSConnectionPool(host='sibprod.info', port=443): Max retries exceeded with url: /upload/resize_cache/iblock/43d/1000_856_19d1669f6609e6dfcaeac28e5aab5b3be/43df70878f67df6fc931758936363295.png (Caused by SSLError(SSLCertVerificationError(1, '[SSL: CERTIFICATE_VERIFY_FAILED] certificate verify failed: unable to get local issuer certificate (_ssl.c:1006)')))\n",
      "Произошла ебучая ошибка: Message: \n",
      "\n",
      "Произошла ебучая ошибка: Message: \n",
      "\n",
      "Произошла ебучая ошибка: HTTPSConnectionPool(host='sibprod.info', port=443): Max retries exceeded with url: /upload/resize_cache/iblock/c40/243_300_19d1669f6609e6dfcaeac28e5aab5b3be/c400651afcf4f106f30bfef6aee87410.jpeg (Caused by SSLError(SSLCertVerificationError(1, '[SSL: CERTIFICATE_VERIFY_FAILED] certificate verify failed: unable to get local issuer certificate (_ssl.c:1006)')))\n"
     ]
    },
    {
     "data": {
      "application/vnd.jupyter.widget-view+json": {
       "model_id": "d0f4e48ebb024dc3ac24cd4634a33cfc",
       "version_major": 2,
       "version_minor": 0
      },
      "text/plain": [
       "  0%|          | 0/30 [00:00<?, ?it/s]"
      ]
     },
     "metadata": {},
     "output_type": "display_data"
    },
    {
     "name": "stdout",
     "output_type": "stream",
     "text": [
      "Произошла ебучая ошибка: HTTPSConnectionPool(host='oilsoap.ru', port=443): Max retries exceeded with url: /wa-data/public/shop/products/92/07/792/images/1881/1881.970.jpg (Caused by SSLError(SSLCertVerificationError(1, '[SSL: CERTIFICATE_VERIFY_FAILED] certificate verify failed: unable to get local issuer certificate (_ssl.c:1006)')))\n"
     ]
    },
    {
     "data": {
      "application/vnd.jupyter.widget-view+json": {
       "model_id": "cf39ab8444e047b9b526a18807dd2d0b",
       "version_major": 2,
       "version_minor": 0
      },
      "text/plain": [
       "  0%|          | 0/30 [00:00<?, ?it/s]"
      ]
     },
     "metadata": {},
     "output_type": "display_data"
    },
    {
     "name": "stdout",
     "output_type": "stream",
     "text": [
      "Произошла ебучая ошибка: HTTPSConnectionPool(host='ssnab.ru', port=443): Max retries exceeded with url: /upload/iblock/18d/xk7oaatlm7dtecamh47u9nfou1y4qsop.jpg (Caused by SSLError(SSLCertVerificationError(1, '[SSL: CERTIFICATE_VERIFY_FAILED] certificate verify failed: unable to get local issuer certificate (_ssl.c:1006)')))\n",
      "Произошла ебучая ошибка: Message: \n",
      "\n",
      "Произошла ебучая ошибка: Message: \n",
      "\n"
     ]
    },
    {
     "data": {
      "application/vnd.jupyter.widget-view+json": {
       "model_id": "1f952ec8e85c47478907b126b172af9d",
       "version_major": 2,
       "version_minor": 0
      },
      "text/plain": [
       "  0%|          | 0/30 [00:00<?, ?it/s]"
      ]
     },
     "metadata": {},
     "output_type": "display_data"
    },
    {
     "name": "stdout",
     "output_type": "stream",
     "text": [
      "Произошла ебучая ошибка: Message: \n",
      "\n",
      "Произошла ебучая ошибка: Message: \n",
      "\n"
     ]
    },
    {
     "data": {
      "application/vnd.jupyter.widget-view+json": {
       "model_id": "074c79b90d3743a2ac2e7801d4c84642",
       "version_major": 2,
       "version_minor": 0
      },
      "text/plain": [
       "  0%|          | 0/30 [00:00<?, ?it/s]"
      ]
     },
     "metadata": {},
     "output_type": "display_data"
    },
    {
     "name": "stdout",
     "output_type": "stream",
     "text": [
      "Произошла ебучая ошибка: Message: \n",
      "\n"
     ]
    },
    {
     "data": {
      "application/vnd.jupyter.widget-view+json": {
       "model_id": "a0f2c23fc5424dc084fee0e3c70798c8",
       "version_major": 2,
       "version_minor": 0
      },
      "text/plain": [
       "  0%|          | 0/30 [00:00<?, ?it/s]"
      ]
     },
     "metadata": {},
     "output_type": "display_data"
    },
    {
     "name": "stdout",
     "output_type": "stream",
     "text": [
      "Произошла ебучая ошибка: HTTPSConnectionPool(host='www.rushimset.ru', port=443): Max retries exceeded with url: /upload/iblock/cde/maslo-makadamii.png (Caused by SSLError(SSLCertVerificationError(1, '[SSL: CERTIFICATE_VERIFY_FAILED] certificate verify failed: unable to get local issuer certificate (_ssl.c:1006)')))\n",
      "Произошла ебучая ошибка: HTTPSConnectionPool(host='oilsoap.ru', port=443): Max retries exceeded with url: /wa-data/public/shop/products/37/07/737/images/1864/1864.970.jpg (Caused by SSLError(SSLCertVerificationError(1, '[SSL: CERTIFICATE_VERIFY_FAILED] certificate verify failed: unable to get local issuer certificate (_ssl.c:1006)')))\n"
     ]
    },
    {
     "data": {
      "application/vnd.jupyter.widget-view+json": {
       "model_id": "7698f33be6fc45f3bf56ada78ba19fcf",
       "version_major": 2,
       "version_minor": 0
      },
      "text/plain": [
       "  0%|          | 0/30 [00:00<?, ?it/s]"
      ]
     },
     "metadata": {},
     "output_type": "display_data"
    },
    {
     "name": "stdout",
     "output_type": "stream",
     "text": [
      "Произошла ебучая ошибка: Message: \n",
      "\n",
      "Произошла ебучая ошибка: Message: \n",
      "\n",
      "Произошла ебучая ошибка: Message: \n",
      "\n",
      "Произошла ебучая ошибка: ('Connection aborted.', RemoteDisconnected('Remote end closed connection without response'))\n"
     ]
    },
    {
     "data": {
      "application/vnd.jupyter.widget-view+json": {
       "model_id": "1ebbfe7fbe17480d97b42523e02a4c45",
       "version_major": 2,
       "version_minor": 0
      },
      "text/plain": [
       "  0%|          | 0/30 [00:00<?, ?it/s]"
      ]
     },
     "metadata": {},
     "output_type": "display_data"
    },
    {
     "name": "stdout",
     "output_type": "stream",
     "text": [
      "Произошла ебучая ошибка: Message: \n",
      "\n"
     ]
    },
    {
     "data": {
      "application/vnd.jupyter.widget-view+json": {
       "model_id": "8ec9b2819cab438ea6f5e1c445550cde",
       "version_major": 2,
       "version_minor": 0
      },
      "text/plain": [
       "  0%|          | 0/30 [00:00<?, ?it/s]"
      ]
     },
     "metadata": {},
     "output_type": "display_data"
    },
    {
     "name": "stdout",
     "output_type": "stream",
     "text": [
      "Произошла ебучая ошибка: Message: \n",
      "\n"
     ]
    },
    {
     "data": {
      "application/vnd.jupyter.widget-view+json": {
       "model_id": "40a3bfa6ceac450bad2634e5ac2c8b0a",
       "version_major": 2,
       "version_minor": 0
      },
      "text/plain": [
       "  0%|          | 0/30 [00:00<?, ?it/s]"
      ]
     },
     "metadata": {},
     "output_type": "display_data"
    },
    {
     "name": "stdout",
     "output_type": "stream",
     "text": [
      "Произошла ебучая ошибка: Message: \n",
      "\n",
      "Произошла ебучая ошибка: Message: \n",
      "\n"
     ]
    },
    {
     "data": {
      "application/vnd.jupyter.widget-view+json": {
       "model_id": "a81f8c09879e4f3d906caaa9e5c3f781",
       "version_major": 2,
       "version_minor": 0
      },
      "text/plain": [
       "  0%|          | 0/30 [00:00<?, ?it/s]"
      ]
     },
     "metadata": {},
     "output_type": "display_data"
    },
    {
     "name": "stdout",
     "output_type": "stream",
     "text": [
      "Произошла ебучая ошибка: Message: \n",
      "\n",
      "Произошла ебучая ошибка: Message: \n",
      "\n",
      "Произошла ебучая ошибка: Message: \n",
      "\n"
     ]
    },
    {
     "data": {
      "application/vnd.jupyter.widget-view+json": {
       "model_id": "936cc749084e42a69482b4c188fc032e",
       "version_major": 2,
       "version_minor": 0
      },
      "text/plain": [
       "  0%|          | 0/30 [00:00<?, ?it/s]"
      ]
     },
     "metadata": {},
     "output_type": "display_data"
    },
    {
     "name": "stdout",
     "output_type": "stream",
     "text": [
      "Произошла ебучая ошибка: Message: \n",
      "\n"
     ]
    },
    {
     "data": {
      "application/vnd.jupyter.widget-view+json": {
       "model_id": "8c879d2aa26041bba041837f369a8059",
       "version_major": 2,
       "version_minor": 0
      },
      "text/plain": [
       "  0%|          | 0/30 [00:00<?, ?it/s]"
      ]
     },
     "metadata": {},
     "output_type": "display_data"
    },
    {
     "data": {
      "application/vnd.jupyter.widget-view+json": {
       "model_id": "c70806dfccb1457f8937fa7ca8e467a6",
       "version_major": 2,
       "version_minor": 0
      },
      "text/plain": [
       "  0%|          | 0/30 [00:00<?, ?it/s]"
      ]
     },
     "metadata": {},
     "output_type": "display_data"
    },
    {
     "name": "stdout",
     "output_type": "stream",
     "text": [
      "Произошла ебучая ошибка: HTTPSConnectionPool(host='goodapteka.ru', port=443): Max retries exceeded with url: /wa-data/public/shop/products/07/54/75407/images/3632965/3632965.750@2x.jpg (Caused by SSLError(SSLCertVerificationError(1, '[SSL: CERTIFICATE_VERIFY_FAILED] certificate verify failed: unable to get local issuer certificate (_ssl.c:1006)')))\n"
     ]
    },
    {
     "data": {
      "application/vnd.jupyter.widget-view+json": {
       "model_id": "a275f09d808c4aa19380bacb3fe14382",
       "version_major": 2,
       "version_minor": 0
      },
      "text/plain": [
       "  0%|          | 0/30 [00:00<?, ?it/s]"
      ]
     },
     "metadata": {},
     "output_type": "display_data"
    },
    {
     "name": "stdout",
     "output_type": "stream",
     "text": [
      "Произошла ебучая ошибка: Message: \n",
      "\n",
      "Произошла ебучая ошибка: Message: \n",
      "\n",
      "Произошла ебучая ошибка: Message: \n",
      "\n"
     ]
    },
    {
     "data": {
      "application/vnd.jupyter.widget-view+json": {
       "model_id": "5f06efaec15148a3928db2c24b393ff0",
       "version_major": 2,
       "version_minor": 0
      },
      "text/plain": [
       "  0%|          | 0/30 [00:00<?, ?it/s]"
      ]
     },
     "metadata": {},
     "output_type": "display_data"
    },
    {
     "data": {
      "application/vnd.jupyter.widget-view+json": {
       "model_id": "86bd4de425044eac8c53da25a20ffd16",
       "version_major": 2,
       "version_minor": 0
      },
      "text/plain": [
       "  0%|          | 0/30 [00:00<?, ?it/s]"
      ]
     },
     "metadata": {},
     "output_type": "display_data"
    },
    {
     "name": "stdout",
     "output_type": "stream",
     "text": [
      "Произошла ебучая ошибка: HTTPSConnectionPool(host='oilsoap.ru', port=443): Max retries exceeded with url: /wa-data/public/shop/products/05/07/705/images/2073/2073.970.jpg (Caused by SSLError(SSLCertVerificationError(1, '[SSL: CERTIFICATE_VERIFY_FAILED] certificate verify failed: unable to get local issuer certificate (_ssl.c:1006)')))\n",
      "Произошла ебучая ошибка: Message: \n",
      "\n"
     ]
    },
    {
     "data": {
      "application/vnd.jupyter.widget-view+json": {
       "model_id": "df66ca2ca1fd473a843da77eb18a494d",
       "version_major": 2,
       "version_minor": 0
      },
      "text/plain": [
       "  0%|          | 0/30 [00:00<?, ?it/s]"
      ]
     },
     "metadata": {},
     "output_type": "display_data"
    },
    {
     "data": {
      "application/vnd.jupyter.widget-view+json": {
       "model_id": "c98c0cf03b05409d97c56d56dc6dd675",
       "version_major": 2,
       "version_minor": 0
      },
      "text/plain": [
       "  0%|          | 0/30 [00:00<?, ?it/s]"
      ]
     },
     "metadata": {},
     "output_type": "display_data"
    },
    {
     "name": "stdout",
     "output_type": "stream",
     "text": [
      "Произошла ебучая ошибка: HTTPSConnectionPool(host='ingredientpro.ru', port=443): Max retries exceeded with url: /sites/default/files/styles/prod/public/zhir-oilmiks.jpg?itok=eJKgbplv (Caused by SSLError(SSLCertVerificationError(1, '[SSL: CERTIFICATE_VERIFY_FAILED] certificate verify failed: unable to get local issuer certificate (_ssl.c:1006)')))\n",
      "Произошла ебучая ошибка: Message: \n",
      "\n",
      "Произошла ебучая ошибка: Message: \n",
      "\n"
     ]
    },
    {
     "data": {
      "application/vnd.jupyter.widget-view+json": {
       "model_id": "15590598cb344db393bc6a18038d88dc",
       "version_major": 2,
       "version_minor": 0
      },
      "text/plain": [
       "  0%|          | 0/30 [00:00<?, ?it/s]"
      ]
     },
     "metadata": {},
     "output_type": "display_data"
    },
    {
     "name": "stdout",
     "output_type": "stream",
     "text": [
      "Произошла ебучая ошибка: Message: \n",
      "\n"
     ]
    },
    {
     "data": {
      "application/vnd.jupyter.widget-view+json": {
       "model_id": "1e7d9098e1754366a6a8338b3b1a9374",
       "version_major": 2,
       "version_minor": 0
      },
      "text/plain": [
       "  0%|          | 0/30 [00:00<?, ?it/s]"
      ]
     },
     "metadata": {},
     "output_type": "display_data"
    },
    {
     "name": "stdout",
     "output_type": "stream",
     "text": [
      "Произошла ебучая ошибка: Message: \n",
      "\n",
      "Произошла ебучая ошибка: Message: \n",
      "\n"
     ]
    },
    {
     "data": {
      "application/vnd.jupyter.widget-view+json": {
       "model_id": "07d487a249c74483b8d2ffdd819b9acf",
       "version_major": 2,
       "version_minor": 0
      },
      "text/plain": [
       "  0%|          | 0/30 [00:00<?, ?it/s]"
      ]
     },
     "metadata": {},
     "output_type": "display_data"
    },
    {
     "data": {
      "application/vnd.jupyter.widget-view+json": {
       "model_id": "1114cadce31c4bfb9cfff2d7028d7ca1",
       "version_major": 2,
       "version_minor": 0
      },
      "text/plain": [
       "  0%|          | 0/30 [00:00<?, ?it/s]"
      ]
     },
     "metadata": {},
     "output_type": "display_data"
    },
    {
     "name": "stdout",
     "output_type": "stream",
     "text": [
      "Произошла ебучая ошибка: Message: \n",
      "\n",
      "Произошла ебучая ошибка: Message: \n",
      "\n",
      "Произошла ебучая ошибка: HTTPSConnectionPool(host='kamchatka.pro', port=443): Max retries exceeded with url: /images/detailed/11/maslo-soevoe-0-87l-rafinirovannoe-rus-vostochnaya-135-rubley-10421-maslo-soevoe-0-87l-rafinirovannoe-rus-vostochnayapredlozhenie-s-besplatnoy-dostavkoy-na-dom-po-gorodu-petropavlovsku-kamchatskomu-ot-kamchatka-pro.webp (Caused by SSLError(SSLCertVerificationError(1, '[SSL: CERTIFICATE_VERIFY_FAILED] certificate verify failed: unable to get local issuer certificate (_ssl.c:1006)')))\n"
     ]
    },
    {
     "data": {
      "application/vnd.jupyter.widget-view+json": {
       "model_id": "9238eb5cabb5405ca90e3192d723abac",
       "version_major": 2,
       "version_minor": 0
      },
      "text/plain": [
       "  0%|          | 0/30 [00:00<?, ?it/s]"
      ]
     },
     "metadata": {},
     "output_type": "display_data"
    },
    {
     "name": "stdout",
     "output_type": "stream",
     "text": [
      "Произошла ебучая ошибка: Message: \n",
      "\n",
      "Произошла ебучая ошибка: Message: \n",
      "\n",
      "Произошла ебучая ошибка: HTTPSConnectionPool(host='ingredientpro.ru', port=443): Max retries exceeded with url: /sites/default/files/styles/prod/public/margarin_solpro_stolovyj_molochnyj_82_marka_mt_20_kg_22.png?itok=8WktTREb (Caused by SSLError(SSLCertVerificationError(1, '[SSL: CERTIFICATE_VERIFY_FAILED] certificate verify failed: unable to get local issuer certificate (_ssl.c:1006)')))\n",
      "Произошла ебучая ошибка: Message: \n",
      "\n",
      "Произошла ебучая ошибка: Message: \n",
      "\n",
      "Произошла ебучая ошибка: Message: \n",
      "\n"
     ]
    },
    {
     "data": {
      "application/vnd.jupyter.widget-view+json": {
       "model_id": "be2b2b38317e45a1a522113b33e80a30",
       "version_major": 2,
       "version_minor": 0
      },
      "text/plain": [
       "  0%|          | 0/30 [00:00<?, ?it/s]"
      ]
     },
     "metadata": {},
     "output_type": "display_data"
    },
    {
     "data": {
      "application/vnd.jupyter.widget-view+json": {
       "model_id": "b3046caa2ec843fc82d17386b6281790",
       "version_major": 2,
       "version_minor": 0
      },
      "text/plain": [
       "  0%|          | 0/30 [00:00<?, ?it/s]"
      ]
     },
     "metadata": {},
     "output_type": "display_data"
    },
    {
     "name": "stdout",
     "output_type": "stream",
     "text": [
      "Произошла ебучая ошибка: Message: \n",
      "\n",
      "Произошла ебучая ошибка: Message: \n",
      "\n"
     ]
    },
    {
     "data": {
      "application/vnd.jupyter.widget-view+json": {
       "model_id": "0a4bca72be7743ea9432f7c0c30a0965",
       "version_major": 2,
       "version_minor": 0
      },
      "text/plain": [
       "  0%|          | 0/30 [00:00<?, ?it/s]"
      ]
     },
     "metadata": {},
     "output_type": "display_data"
    },
    {
     "name": "stdout",
     "output_type": "stream",
     "text": [
      "Произошла ебучая ошибка: Message: \n",
      "\n",
      "Произошла ебучая ошибка: Message: \n",
      "\n",
      "Произошла ебучая ошибка: Message: \n",
      "\n",
      "Произошла ебучая ошибка: Message: \n",
      "\n",
      "Произошла ебучая ошибка: Message: \n",
      "\n"
     ]
    },
    {
     "data": {
      "application/vnd.jupyter.widget-view+json": {
       "model_id": "b0a6e8e1a15448a7a521763bd4742427",
       "version_major": 2,
       "version_minor": 0
      },
      "text/plain": [
       "  0%|          | 0/30 [00:00<?, ?it/s]"
      ]
     },
     "metadata": {},
     "output_type": "display_data"
    },
    {
     "name": "stdout",
     "output_type": "stream",
     "text": [
      "Произошла ебучая ошибка: Message: \n",
      "\n"
     ]
    },
    {
     "data": {
      "application/vnd.jupyter.widget-view+json": {
       "model_id": "7ddcb19809a346039459d71e5275525d",
       "version_major": 2,
       "version_minor": 0
      },
      "text/plain": [
       "  0%|          | 0/30 [00:00<?, ?it/s]"
      ]
     },
     "metadata": {},
     "output_type": "display_data"
    },
    {
     "data": {
      "application/vnd.jupyter.widget-view+json": {
       "model_id": "f9603fee77504e738a06738a2a399d53",
       "version_major": 2,
       "version_minor": 0
      },
      "text/plain": [
       "  0%|          | 0/30 [00:00<?, ?it/s]"
      ]
     },
     "metadata": {},
     "output_type": "display_data"
    },
    {
     "data": {
      "application/vnd.jupyter.widget-view+json": {
       "model_id": "1bb8e839c1ce45cab3918f633ed8c9ce",
       "version_major": 2,
       "version_minor": 0
      },
      "text/plain": [
       "  0%|          | 0/30 [00:00<?, ?it/s]"
      ]
     },
     "metadata": {},
     "output_type": "display_data"
    },
    {
     "data": {
      "application/vnd.jupyter.widget-view+json": {
       "model_id": "3451bf2c509a460da352fe28562021fa",
       "version_major": 2,
       "version_minor": 0
      },
      "text/plain": [
       "  0%|          | 0/30 [00:00<?, ?it/s]"
      ]
     },
     "metadata": {},
     "output_type": "display_data"
    },
    {
     "name": "stdout",
     "output_type": "stream",
     "text": [
      "Произошла ебучая ошибка: Message: \n",
      "\n",
      "Произошла ебучая ошибка: Message: \n",
      "\n"
     ]
    },
    {
     "data": {
      "application/vnd.jupyter.widget-view+json": {
       "model_id": "927429c17ac64deb9d664d9ca2319d78",
       "version_major": 2,
       "version_minor": 0
      },
      "text/plain": [
       "  0%|          | 0/30 [00:00<?, ?it/s]"
      ]
     },
     "metadata": {},
     "output_type": "display_data"
    },
    {
     "name": "stdout",
     "output_type": "stream",
     "text": [
      "Произошла ебучая ошибка: HTTPSConnectionPool(host='sibprod.info', port=443): Max retries exceeded with url: /upload/resize_cache/iblock/0fb/707_589_19d1669f6609e6dfcaeac28e5aab5b3be/0fbd1ca908d1662f0f812ac35fe29c96.png (Caused by SSLError(SSLCertVerificationError(1, '[SSL: CERTIFICATE_VERIFY_FAILED] certificate verify failed: unable to get local issuer certificate (_ssl.c:1006)')))\n",
      "Произошла ебучая ошибка: Message: \n",
      "\n",
      "Произошла ебучая ошибка: Message: \n",
      "\n"
     ]
    },
    {
     "data": {
      "application/vnd.jupyter.widget-view+json": {
       "model_id": "081872593bcf4e719b25c43a7eabc69b",
       "version_major": 2,
       "version_minor": 0
      },
      "text/plain": [
       "  0%|          | 0/30 [00:00<?, ?it/s]"
      ]
     },
     "metadata": {},
     "output_type": "display_data"
    },
    {
     "name": "stdout",
     "output_type": "stream",
     "text": [
      "Произошла ебучая ошибка: Message: \n",
      "\n",
      "Произошла ебучая ошибка: Message: \n",
      "\n"
     ]
    },
    {
     "data": {
      "application/vnd.jupyter.widget-view+json": {
       "model_id": "0a6e0eb18b334145ad7e2faf7ec21d42",
       "version_major": 2,
       "version_minor": 0
      },
      "text/plain": [
       "  0%|          | 0/30 [00:00<?, ?it/s]"
      ]
     },
     "metadata": {},
     "output_type": "display_data"
    },
    {
     "data": {
      "application/vnd.jupyter.widget-view+json": {
       "model_id": "0e36bdbaaded46dbb88b22ad09fa5193",
       "version_major": 2,
       "version_minor": 0
      },
      "text/plain": [
       "  0%|          | 0/30 [00:00<?, ?it/s]"
      ]
     },
     "metadata": {},
     "output_type": "display_data"
    },
    {
     "name": "stdout",
     "output_type": "stream",
     "text": [
      "Произошла ебучая ошибка: Message: \n",
      "\n"
     ]
    },
    {
     "data": {
      "application/vnd.jupyter.widget-view+json": {
       "model_id": "e365542df5674e27ac21b2560c608815",
       "version_major": 2,
       "version_minor": 0
      },
      "text/plain": [
       "  0%|          | 0/30 [00:00<?, ?it/s]"
      ]
     },
     "metadata": {},
     "output_type": "display_data"
    },
    {
     "name": "stdout",
     "output_type": "stream",
     "text": [
      "Произошла ебучая ошибка: Message: \n",
      "\n",
      "Произошла ебучая ошибка: Message: \n",
      "\n"
     ]
    },
    {
     "data": {
      "application/vnd.jupyter.widget-view+json": {
       "model_id": "2282bc42cf254931a59a72c094879793",
       "version_major": 2,
       "version_minor": 0
      },
      "text/plain": [
       "  0%|          | 0/30 [00:00<?, ?it/s]"
      ]
     },
     "metadata": {},
     "output_type": "display_data"
    },
    {
     "name": "stdout",
     "output_type": "stream",
     "text": [
      "Произошла ебучая ошибка: Message: \n",
      "\n"
     ]
    },
    {
     "data": {
      "application/vnd.jupyter.widget-view+json": {
       "model_id": "cbdcf850218c4b138eae50b2abf70e57",
       "version_major": 2,
       "version_minor": 0
      },
      "text/plain": [
       "  0%|          | 0/30 [00:00<?, ?it/s]"
      ]
     },
     "metadata": {},
     "output_type": "display_data"
    },
    {
     "name": "stdout",
     "output_type": "stream",
     "text": [
      "Произошла ебучая ошибка: Message: \n",
      "\n",
      "Произошла ебучая ошибка: Message: \n",
      "\n",
      "Произошла ебучая ошибка: Message: \n",
      "\n",
      "Произошла ебучая ошибка: Message: \n",
      "\n"
     ]
    },
    {
     "data": {
      "application/vnd.jupyter.widget-view+json": {
       "model_id": "43dde7d9d4504144a29de30ad754daa5",
       "version_major": 2,
       "version_minor": 0
      },
      "text/plain": [
       "  0%|          | 0/30 [00:00<?, ?it/s]"
      ]
     },
     "metadata": {},
     "output_type": "display_data"
    },
    {
     "name": "stdout",
     "output_type": "stream",
     "text": [
      "Произошла ебучая ошибка: Message: \n",
      "\n"
     ]
    },
    {
     "data": {
      "application/vnd.jupyter.widget-view+json": {
       "model_id": "49f81b1fec364654847ad3c7d38d5a8a",
       "version_major": 2,
       "version_minor": 0
      },
      "text/plain": [
       "  0%|          | 0/30 [00:00<?, ?it/s]"
      ]
     },
     "metadata": {},
     "output_type": "display_data"
    },
    {
     "name": "stdout",
     "output_type": "stream",
     "text": [
      "Произошла ебучая ошибка: Message: \n",
      "\n",
      "Произошла ебучая ошибка: Message: \n",
      "\n"
     ]
    },
    {
     "data": {
      "application/vnd.jupyter.widget-view+json": {
       "model_id": "20dd3f9e5a6543709f9c5f46a5c8514f",
       "version_major": 2,
       "version_minor": 0
      },
      "text/plain": [
       "  0%|          | 0/30 [00:00<?, ?it/s]"
      ]
     },
     "metadata": {},
     "output_type": "display_data"
    },
    {
     "name": "stdout",
     "output_type": "stream",
     "text": [
      "Произошла ебучая ошибка: Message: \n",
      "\n",
      "Произошла ебучая ошибка: Message: \n",
      "\n"
     ]
    },
    {
     "data": {
      "application/vnd.jupyter.widget-view+json": {
       "model_id": "0da577a5273e4754bbf5f82d9f1ebd25",
       "version_major": 2,
       "version_minor": 0
      },
      "text/plain": [
       "  0%|          | 0/30 [00:00<?, ?it/s]"
      ]
     },
     "metadata": {},
     "output_type": "display_data"
    },
    {
     "name": "stdout",
     "output_type": "stream",
     "text": [
      "Произошла ебучая ошибка: Message: \n",
      "\n",
      "Произошла ебучая ошибка: Message: \n",
      "\n",
      "Произошла ебучая ошибка: Message: \n",
      "\n",
      "Произошла ебучая ошибка: Message: \n",
      "\n",
      "Произошла ебучая ошибка: Message: \n",
      "\n",
      "Произошла ебучая ошибка: Message: \n",
      "\n"
     ]
    },
    {
     "data": {
      "application/vnd.jupyter.widget-view+json": {
       "model_id": "2c2ced40e14b40c880bce331e63b3201",
       "version_major": 2,
       "version_minor": 0
      },
      "text/plain": [
       "  0%|          | 0/30 [00:00<?, ?it/s]"
      ]
     },
     "metadata": {},
     "output_type": "display_data"
    },
    {
     "data": {
      "application/vnd.jupyter.widget-view+json": {
       "model_id": "c7b4c66eb9dc45038753e1561af5d32c",
       "version_major": 2,
       "version_minor": 0
      },
      "text/plain": [
       "  0%|          | 0/30 [00:00<?, ?it/s]"
      ]
     },
     "metadata": {},
     "output_type": "display_data"
    },
    {
     "name": "stdout",
     "output_type": "stream",
     "text": [
      "Произошла ебучая ошибка: Message: \n",
      "\n",
      "Произошла ебучая ошибка: Message: \n",
      "\n",
      "Произошла ебучая ошибка: Message: \n",
      "\n"
     ]
    },
    {
     "data": {
      "application/vnd.jupyter.widget-view+json": {
       "model_id": "b3cc0cacae0f453999f958b896d1a7dd",
       "version_major": 2,
       "version_minor": 0
      },
      "text/plain": [
       "  0%|          | 0/30 [00:00<?, ?it/s]"
      ]
     },
     "metadata": {},
     "output_type": "display_data"
    },
    {
     "name": "stdout",
     "output_type": "stream",
     "text": [
      "Произошла ебучая ошибка: HTTPSConnectionPool(host='sibprod.info', port=443): Max retries exceeded with url: /upload/resize_cache/iblock/95e/1024_768_19d1669f6609e6dfcaeac28e5aab5b3be/95e541edee439bfa7a8dccdae86cb570.jpeg (Caused by SSLError(SSLCertVerificationError(1, '[SSL: CERTIFICATE_VERIFY_FAILED] certificate verify failed: unable to get local issuer certificate (_ssl.c:1006)')))\n",
      "Произошла ебучая ошибка: Message: \n",
      "\n"
     ]
    },
    {
     "data": {
      "application/vnd.jupyter.widget-view+json": {
       "model_id": "0e657e9cb85a476e97b544812d7d02a5",
       "version_major": 2,
       "version_minor": 0
      },
      "text/plain": [
       "  0%|          | 0/30 [00:00<?, ?it/s]"
      ]
     },
     "metadata": {},
     "output_type": "display_data"
    },
    {
     "name": "stdout",
     "output_type": "stream",
     "text": [
      "Произошла ебучая ошибка: Message: \n",
      "\n"
     ]
    },
    {
     "data": {
      "application/vnd.jupyter.widget-view+json": {
       "model_id": "34d4ff7bbedf4788948988fbc2a61a3d",
       "version_major": 2,
       "version_minor": 0
      },
      "text/plain": [
       "  0%|          | 0/30 [00:00<?, ?it/s]"
      ]
     },
     "metadata": {},
     "output_type": "display_data"
    },
    {
     "name": "stdout",
     "output_type": "stream",
     "text": [
      "Произошла ебучая ошибка: HTTPSConnectionPool(host='aktrong.ru', port=443): Max retries exceeded with url: /upload/iblock/1f2/1f2875bac9550d9fed6df8ddc906515b.jpg (Caused by ConnectTimeoutError(<urllib3.connection.HTTPSConnection object at 0x119cdf010>, 'Connection to aktrong.ru timed out. (connect timeout=None)'))\n"
     ]
    },
    {
     "data": {
      "application/vnd.jupyter.widget-view+json": {
       "model_id": "dfdcc5e8b3674aa798531dd5b9f5d315",
       "version_major": 2,
       "version_minor": 0
      },
      "text/plain": [
       "  0%|          | 0/30 [00:00<?, ?it/s]"
      ]
     },
     "metadata": {},
     "output_type": "display_data"
    },
    {
     "data": {
      "application/vnd.jupyter.widget-view+json": {
       "model_id": "4ddd18cae26d4e2caae8864465265477",
       "version_major": 2,
       "version_minor": 0
      },
      "text/plain": [
       "  0%|          | 0/30 [00:00<?, ?it/s]"
      ]
     },
     "metadata": {},
     "output_type": "display_data"
    },
    {
     "data": {
      "application/vnd.jupyter.widget-view+json": {
       "model_id": "8b90b5c5ee7a407ea600ac5c85245566",
       "version_major": 2,
       "version_minor": 0
      },
      "text/plain": [
       "  0%|          | 0/30 [00:00<?, ?it/s]"
      ]
     },
     "metadata": {},
     "output_type": "display_data"
    },
    {
     "name": "stdout",
     "output_type": "stream",
     "text": [
      "Произошла ебучая ошибка: Message: \n",
      "\n"
     ]
    },
    {
     "data": {
      "application/vnd.jupyter.widget-view+json": {
       "model_id": "6b7797842b994a9c9240a21a89164f6f",
       "version_major": 2,
       "version_minor": 0
      },
      "text/plain": [
       "  0%|          | 0/30 [00:00<?, ?it/s]"
      ]
     },
     "metadata": {},
     "output_type": "display_data"
    },
    {
     "data": {
      "application/vnd.jupyter.widget-view+json": {
       "model_id": "10450fad401044cf9a7c612966d1a268",
       "version_major": 2,
       "version_minor": 0
      },
      "text/plain": [
       "  0%|          | 0/30 [00:00<?, ?it/s]"
      ]
     },
     "metadata": {},
     "output_type": "display_data"
    },
    {
     "name": "stdout",
     "output_type": "stream",
     "text": [
      "Произошла ебучая ошибка: Message: \n",
      "\n",
      "Произошла ебучая ошибка: Message: \n",
      "\n",
      "Произошла ебучая ошибка: Message: \n",
      "\n"
     ]
    },
    {
     "data": {
      "application/vnd.jupyter.widget-view+json": {
       "model_id": "da8e365243a4487fb5ce779927e4d728",
       "version_major": 2,
       "version_minor": 0
      },
      "text/plain": [
       "  0%|          | 0/30 [00:00<?, ?it/s]"
      ]
     },
     "metadata": {},
     "output_type": "display_data"
    },
    {
     "data": {
      "application/vnd.jupyter.widget-view+json": {
       "model_id": "0647249c46254f14aef47f329e24a4c0",
       "version_major": 2,
       "version_minor": 0
      },
      "text/plain": [
       "  0%|          | 0/30 [00:00<?, ?it/s]"
      ]
     },
     "metadata": {},
     "output_type": "display_data"
    },
    {
     "name": "stdout",
     "output_type": "stream",
     "text": [
      "Произошла ебучая ошибка: Message: \n",
      "\n"
     ]
    },
    {
     "data": {
      "application/vnd.jupyter.widget-view+json": {
       "model_id": "a61144188bc44634a5e337aa1fe3252d",
       "version_major": 2,
       "version_minor": 0
      },
      "text/plain": [
       "  0%|          | 0/30 [00:00<?, ?it/s]"
      ]
     },
     "metadata": {},
     "output_type": "display_data"
    },
    {
     "data": {
      "application/vnd.jupyter.widget-view+json": {
       "model_id": "5c873e04c5204ac18ec77e806e76145e",
       "version_major": 2,
       "version_minor": 0
      },
      "text/plain": [
       "  0%|          | 0/30 [00:00<?, ?it/s]"
      ]
     },
     "metadata": {},
     "output_type": "display_data"
    },
    {
     "name": "stdout",
     "output_type": "stream",
     "text": [
      "Произошла ебучая ошибка: HTTPSConnectionPool(host='www.ekoniva-moloko.com', port=443): Max retries exceeded with url: /uploads/18/200722_yogurt_pet_300g_natural_render_front_01.png (Caused by SSLError(SSLCertVerificationError(1, '[SSL: CERTIFICATE_VERIFY_FAILED] certificate verify failed: unable to get local issuer certificate (_ssl.c:1006)')))\n",
      "Произошла ебучая ошибка: Message: \n",
      "\n",
      "Произошла ебучая ошибка: Message: \n",
      "\n"
     ]
    },
    {
     "data": {
      "application/vnd.jupyter.widget-view+json": {
       "model_id": "78b8e950bec8492e9ec8a81608c96e2a",
       "version_major": 2,
       "version_minor": 0
      },
      "text/plain": [
       "  0%|          | 0/30 [00:00<?, ?it/s]"
      ]
     },
     "metadata": {},
     "output_type": "display_data"
    },
    {
     "name": "stdout",
     "output_type": "stream",
     "text": [
      "Произошла ебучая ошибка: HTTPSConnectionPool(host='produkty24.com.ua', port=443): Read timed out. (read timeout=None)\n",
      "Произошла ебучая ошибка: Message: \n",
      "\n",
      "Произошла ебучая ошибка: Message: \n",
      "\n",
      "Произошла ебучая ошибка: HTTPSConnectionPool(host='produkty24.com.ua', port=443): Read timed out. (read timeout=None)\n"
     ]
    },
    {
     "data": {
      "application/vnd.jupyter.widget-view+json": {
       "model_id": "e3f0c219990a4744987117b3c58d029d",
       "version_major": 2,
       "version_minor": 0
      },
      "text/plain": [
       "  0%|          | 0/30 [00:00<?, ?it/s]"
      ]
     },
     "metadata": {},
     "output_type": "display_data"
    },
    {
     "name": "stdout",
     "output_type": "stream",
     "text": [
      "Произошла ебучая ошибка: ('Connection aborted.', RemoteDisconnected('Remote end closed connection without response'))\n",
      "Произошла ебучая ошибка: Message: \n",
      "\n",
      "Произошла ебучая ошибка: Message: \n",
      "\n",
      "Произошла ебучая ошибка: Message: \n",
      "\n"
     ]
    },
    {
     "data": {
      "application/vnd.jupyter.widget-view+json": {
       "model_id": "851ed08ccda84a10a0f5dcf903b3dafa",
       "version_major": 2,
       "version_minor": 0
      },
      "text/plain": [
       "  0%|          | 0/30 [00:00<?, ?it/s]"
      ]
     },
     "metadata": {},
     "output_type": "display_data"
    },
    {
     "name": "stdout",
     "output_type": "stream",
     "text": [
      "Произошла ебучая ошибка: Message: \n",
      "\n"
     ]
    },
    {
     "data": {
      "application/vnd.jupyter.widget-view+json": {
       "model_id": "c5252f2127ad4dd4adca14ebe9fc1e92",
       "version_major": 2,
       "version_minor": 0
      },
      "text/plain": [
       "  0%|          | 0/30 [00:00<?, ?it/s]"
      ]
     },
     "metadata": {},
     "output_type": "display_data"
    },
    {
     "name": "stdout",
     "output_type": "stream",
     "text": [
      "Произошла ебучая ошибка: HTTPSConnectionPool(host='produkty24.com.ua', port=443): Read timed out. (read timeout=None)\n",
      "Произошла ебучая ошибка: Message: \n",
      "\n",
      "Произошла ебучая ошибка: Message: \n",
      "\n",
      "Произошла ебучая ошибка: Message: \n",
      "\n",
      "Произошла ебучая ошибка: Message: \n",
      "\n"
     ]
    },
    {
     "data": {
      "application/vnd.jupyter.widget-view+json": {
       "model_id": "0a9130baede5491f90674e3d4d2ec15d",
       "version_major": 2,
       "version_minor": 0
      },
      "text/plain": [
       "  0%|          | 0/30 [00:00<?, ?it/s]"
      ]
     },
     "metadata": {},
     "output_type": "display_data"
    },
    {
     "data": {
      "application/vnd.jupyter.widget-view+json": {
       "model_id": "24b653616b834851a8e62ef3d12b7fd9",
       "version_major": 2,
       "version_minor": 0
      },
      "text/plain": [
       "  0%|          | 0/30 [00:00<?, ?it/s]"
      ]
     },
     "metadata": {},
     "output_type": "display_data"
    },
    {
     "name": "stdout",
     "output_type": "stream",
     "text": [
      "Произошла ебучая ошибка: Message: \n",
      "\n"
     ]
    },
    {
     "data": {
      "application/vnd.jupyter.widget-view+json": {
       "model_id": "b909e7eb0f4040da888b419faf1d0bc4",
       "version_major": 2,
       "version_minor": 0
      },
      "text/plain": [
       "  0%|          | 0/30 [00:00<?, ?it/s]"
      ]
     },
     "metadata": {},
     "output_type": "display_data"
    },
    {
     "name": "stdout",
     "output_type": "stream",
     "text": [
      "Произошла ебучая ошибка: Message: \n",
      "\n",
      "Произошла ебучая ошибка: Message: \n",
      "\n"
     ]
    },
    {
     "data": {
      "application/vnd.jupyter.widget-view+json": {
       "model_id": "a3486baa98864f929b08a17a75cbedd2",
       "version_major": 2,
       "version_minor": 0
      },
      "text/plain": [
       "  0%|          | 0/30 [00:00<?, ?it/s]"
      ]
     },
     "metadata": {},
     "output_type": "display_data"
    },
    {
     "name": "stdout",
     "output_type": "stream",
     "text": [
      "Произошла ебучая ошибка: Message: \n",
      "\n"
     ]
    },
    {
     "data": {
      "application/vnd.jupyter.widget-view+json": {
       "model_id": "c537990c9dd748c7b18cd50160c100b2",
       "version_major": 2,
       "version_minor": 0
      },
      "text/plain": [
       "  0%|          | 0/30 [00:00<?, ?it/s]"
      ]
     },
     "metadata": {},
     "output_type": "display_data"
    },
    {
     "name": "stdout",
     "output_type": "stream",
     "text": [
      "Произошла ебучая ошибка: Message: \n",
      "\n",
      "Произошла ебучая ошибка: Message: \n",
      "\n"
     ]
    },
    {
     "data": {
      "application/vnd.jupyter.widget-view+json": {
       "model_id": "379b4eca4ec44841b7a702f8d9c34037",
       "version_major": 2,
       "version_minor": 0
      },
      "text/plain": [
       "  0%|          | 0/30 [00:00<?, ?it/s]"
      ]
     },
     "metadata": {},
     "output_type": "display_data"
    },
    {
     "data": {
      "application/vnd.jupyter.widget-view+json": {
       "model_id": "6532e73b18e34f29a31d45e23cf03fb0",
       "version_major": 2,
       "version_minor": 0
      },
      "text/plain": [
       "  0%|          | 0/30 [00:00<?, ?it/s]"
      ]
     },
     "metadata": {},
     "output_type": "display_data"
    },
    {
     "name": "stdout",
     "output_type": "stream",
     "text": [
      "Произошла ебучая ошибка: Message: \n",
      "\n"
     ]
    },
    {
     "data": {
      "application/vnd.jupyter.widget-view+json": {
       "model_id": "2297bd318d954f7cb60fbab0e2d252d7",
       "version_major": 2,
       "version_minor": 0
      },
      "text/plain": [
       "  0%|          | 0/30 [00:00<?, ?it/s]"
      ]
     },
     "metadata": {},
     "output_type": "display_data"
    },
    {
     "name": "stdout",
     "output_type": "stream",
     "text": [
      "Произошла ебучая ошибка: HTTPSConnectionPool(host='www.ekoniva-moloko.com', port=443): Max retries exceeded with url: /uploads/7/ryazhenka_40_butylka_1.png (Caused by SSLError(SSLCertVerificationError(1, '[SSL: CERTIFICATE_VERIFY_FAILED] certificate verify failed: unable to get local issuer certificate (_ssl.c:1006)')))\n",
      "Произошла ебучая ошибка: HTTPSConnectionPool(host='www.ekoniva-moloko.com', port=443): Max retries exceeded with url: /uploads/7/ryazhenka_40_butylka_2.png (Caused by SSLError(SSLCertVerificationError(1, '[SSL: CERTIFICATE_VERIFY_FAILED] certificate verify failed: unable to get local issuer certificate (_ssl.c:1006)')))\n",
      "Произошла ебучая ошибка: Message: \n",
      "\n"
     ]
    },
    {
     "data": {
      "application/vnd.jupyter.widget-view+json": {
       "model_id": "0f6e3974974c4458925590fc86a774ac",
       "version_major": 2,
       "version_minor": 0
      },
      "text/plain": [
       "  0%|          | 0/30 [00:00<?, ?it/s]"
      ]
     },
     "metadata": {},
     "output_type": "display_data"
    },
    {
     "name": "stdout",
     "output_type": "stream",
     "text": [
      "Произошла ебучая ошибка: Message: \n",
      "\n",
      "Произошла ебучая ошибка: Message: \n",
      "\n",
      "Произошла ебучая ошибка: Message: \n",
      "\n"
     ]
    },
    {
     "data": {
      "application/vnd.jupyter.widget-view+json": {
       "model_id": "d3c7c0b11ac342eabfd8d26820abb2ce",
       "version_major": 2,
       "version_minor": 0
      },
      "text/plain": [
       "  0%|          | 0/30 [00:00<?, ?it/s]"
      ]
     },
     "metadata": {},
     "output_type": "display_data"
    },
    {
     "name": "stdout",
     "output_type": "stream",
     "text": [
      "Произошла ебучая ошибка: Message: \n",
      "\n"
     ]
    },
    {
     "data": {
      "application/vnd.jupyter.widget-view+json": {
       "model_id": "fa38719c3d2e495e9acae95121566abf",
       "version_major": 2,
       "version_minor": 0
      },
      "text/plain": [
       "  0%|          | 0/30 [00:00<?, ?it/s]"
      ]
     },
     "metadata": {},
     "output_type": "display_data"
    },
    {
     "name": "stdout",
     "output_type": "stream",
     "text": [
      "Произошла ебучая ошибка: Message: \n",
      "\n"
     ]
    },
    {
     "data": {
      "application/vnd.jupyter.widget-view+json": {
       "model_id": "084b8e3d11c64b8d8df2991d63e6a465",
       "version_major": 2,
       "version_minor": 0
      },
      "text/plain": [
       "  0%|          | 0/30 [00:00<?, ?it/s]"
      ]
     },
     "metadata": {},
     "output_type": "display_data"
    },
    {
     "name": "stdout",
     "output_type": "stream",
     "text": [
      "Произошла ебучая ошибка: Message: \n",
      "\n"
     ]
    },
    {
     "data": {
      "application/vnd.jupyter.widget-view+json": {
       "model_id": "70ae86f65ed740a4b0d8ab1a9d66176f",
       "version_major": 2,
       "version_minor": 0
      },
      "text/plain": [
       "  0%|          | 0/30 [00:00<?, ?it/s]"
      ]
     },
     "metadata": {},
     "output_type": "display_data"
    },
    {
     "data": {
      "application/vnd.jupyter.widget-view+json": {
       "model_id": "115bf3177def4b9daf1e656911f59045",
       "version_major": 2,
       "version_minor": 0
      },
      "text/plain": [
       "  0%|          | 0/30 [00:00<?, ?it/s]"
      ]
     },
     "metadata": {},
     "output_type": "display_data"
    },
    {
     "data": {
      "application/vnd.jupyter.widget-view+json": {
       "model_id": "9894e866b46f4eb1b0af3d34bc86e885",
       "version_major": 2,
       "version_minor": 0
      },
      "text/plain": [
       "  0%|          | 0/30 [00:00<?, ?it/s]"
      ]
     },
     "metadata": {},
     "output_type": "display_data"
    },
    {
     "data": {
      "application/vnd.jupyter.widget-view+json": {
       "model_id": "b1d5783968b64ba2b543b462ef1c32a0",
       "version_major": 2,
       "version_minor": 0
      },
      "text/plain": [
       "  0%|          | 0/30 [00:00<?, ?it/s]"
      ]
     },
     "metadata": {},
     "output_type": "display_data"
    },
    {
     "name": "stdout",
     "output_type": "stream",
     "text": [
      "Произошла ебучая ошибка: Message: \n",
      "\n",
      "Произошла ебучая ошибка: HTTPSConnectionPool(host='shuba.life', port=443): Read timed out. (read timeout=None)\n"
     ]
    },
    {
     "data": {
      "application/vnd.jupyter.widget-view+json": {
       "model_id": "5a10867a9244437e85b466bfb6746dcd",
       "version_major": 2,
       "version_minor": 0
      },
      "text/plain": [
       "  0%|          | 0/30 [00:00<?, ?it/s]"
      ]
     },
     "metadata": {},
     "output_type": "display_data"
    },
    {
     "name": "stdout",
     "output_type": "stream",
     "text": [
      "Произошла ебучая ошибка: Message: \n",
      "\n",
      "Произошла ебучая ошибка: Message: \n",
      "\n"
     ]
    },
    {
     "data": {
      "application/vnd.jupyter.widget-view+json": {
       "model_id": "2bcff76927774c4ca6257f8d148425c7",
       "version_major": 2,
       "version_minor": 0
      },
      "text/plain": [
       "  0%|          | 0/30 [00:00<?, ?it/s]"
      ]
     },
     "metadata": {},
     "output_type": "display_data"
    },
    {
     "name": "stdout",
     "output_type": "stream",
     "text": [
      "Произошла ебучая ошибка: Message: \n",
      "\n"
     ]
    },
    {
     "data": {
      "application/vnd.jupyter.widget-view+json": {
       "model_id": "2f311946cd3f43f78394b93e71d571f8",
       "version_major": 2,
       "version_minor": 0
      },
      "text/plain": [
       "  0%|          | 0/30 [00:00<?, ?it/s]"
      ]
     },
     "metadata": {},
     "output_type": "display_data"
    },
    {
     "name": "stdout",
     "output_type": "stream",
     "text": [
      "Произошла ебучая ошибка: HTTPSConnectionPool(host='vechera.me', port=443): Max retries exceeded with url: /uploads/ingredient/image/46/420-1.png (Caused by SSLError(SSLCertVerificationError(1, '[SSL: CERTIFICATE_VERIFY_FAILED] certificate verify failed: unable to get local issuer certificate (_ssl.c:1006)')))\n"
     ]
    },
    {
     "data": {
      "application/vnd.jupyter.widget-view+json": {
       "model_id": "c167b145cc4f4fdead9428065825d6f4",
       "version_major": 2,
       "version_minor": 0
      },
      "text/plain": [
       "  0%|          | 0/30 [00:00<?, ?it/s]"
      ]
     },
     "metadata": {},
     "output_type": "display_data"
    },
    {
     "name": "stdout",
     "output_type": "stream",
     "text": [
      "Произошла ебучая ошибка: HTTPSConnectionPool(host='swnn.ru', port=443): Max retries exceeded with url: /image/cache/catalog/products/894-500x500.jpg (Caused by SSLError(SSLCertVerificationError(1, '[SSL: CERTIFICATE_VERIFY_FAILED] certificate verify failed: unable to get local issuer certificate (_ssl.c:1006)')))\n",
      "Произошла ебучая ошибка: Message: \n",
      "\n"
     ]
    },
    {
     "data": {
      "application/vnd.jupyter.widget-view+json": {
       "model_id": "a40d21576814435291918cc4b5729f71",
       "version_major": 2,
       "version_minor": 0
      },
      "text/plain": [
       "  0%|          | 0/30 [00:00<?, ?it/s]"
      ]
     },
     "metadata": {},
     "output_type": "display_data"
    },
    {
     "name": "stdout",
     "output_type": "stream",
     "text": [
      "Произошла ебучая ошибка: Message: \n",
      "\n",
      "Произошла ебучая ошибка: Message: \n",
      "\n",
      "Произошла ебучая ошибка: Message: \n",
      "\n",
      "Произошла ебучая ошибка: HTTPSConnectionPool(host='ssnab.ru', port=443): Max retries exceeded with url: /upload/iblock/6d6/nsqw88mw2rlb5v0tfsv3d9l6tzf4bi58.jpg (Caused by SSLError(SSLCertVerificationError(1, '[SSL: CERTIFICATE_VERIFY_FAILED] certificate verify failed: unable to get local issuer certificate (_ssl.c:1006)')))\n",
      "Произошла ебучая ошибка: Message: element not interactable\n",
      "  (Session info: chrome=130.0.6723.70)\n",
      "Stacktrace:\n",
      "0   chromedriver                        0x0000000102663634 cxxbridge1$str$ptr + 3645404\n",
      "1   chromedriver                        0x000000010265be94 cxxbridge1$str$ptr + 3614780\n",
      "2   chromedriver                        0x00000001020c7f74 cxxbridge1$string$len + 88016\n",
      "3   chromedriver                        0x000000010210b2b4 cxxbridge1$string$len + 363280\n",
      "4   chromedriver                        0x0000000102100e14 cxxbridge1$string$len + 321136\n",
      "5   chromedriver                        0x00000001021008b0 cxxbridge1$string$len + 319756\n",
      "6   chromedriver                        0x0000000102143bd0 cxxbridge1$string$len + 594988\n",
      "7   chromedriver                        0x00000001020fef54 cxxbridge1$string$len + 313264\n",
      "8   chromedriver                        0x00000001020ffba4 cxxbridge1$string$len + 316416\n",
      "9   chromedriver                        0x000000010262e1d4 cxxbridge1$str$ptr + 3427196\n",
      "10  chromedriver                        0x0000000102631518 cxxbridge1$str$ptr + 3440320\n",
      "11  chromedriver                        0x00000001026155f8 cxxbridge1$str$ptr + 3325856\n",
      "12  chromedriver                        0x0000000102631ddc cxxbridge1$str$ptr + 3442564\n",
      "13  chromedriver                        0x000000010260687c cxxbridge1$str$ptr + 3265060\n",
      "14  chromedriver                        0x000000010264c884 cxxbridge1$str$ptr + 3551788\n",
      "15  chromedriver                        0x000000010264ca00 cxxbridge1$str$ptr + 3552168\n",
      "16  chromedriver                        0x000000010265bb2c cxxbridge1$str$ptr + 3613908\n",
      "17  libsystem_pthread.dylib             0x000000019d04ef94 _pthread_start + 136\n",
      "18  libsystem_pthread.dylib             0x000000019d049d34 thread_start + 8\n",
      "\n",
      "Произошла ебучая ошибка: Message: element not interactable\n",
      "  (Session info: chrome=130.0.6723.70)\n",
      "Stacktrace:\n",
      "0   chromedriver                        0x0000000102663634 cxxbridge1$str$ptr + 3645404\n",
      "1   chromedriver                        0x000000010265be94 cxxbridge1$str$ptr + 3614780\n",
      "2   chromedriver                        0x00000001020c7f74 cxxbridge1$string$len + 88016\n",
      "3   chromedriver                        0x000000010210b2b4 cxxbridge1$string$len + 363280\n",
      "4   chromedriver                        0x0000000102100e14 cxxbridge1$string$len + 321136\n",
      "5   chromedriver                        0x00000001021008b0 cxxbridge1$string$len + 319756\n",
      "6   chromedriver                        0x0000000102143bd0 cxxbridge1$string$len + 594988\n",
      "7   chromedriver                        0x00000001020fef54 cxxbridge1$string$len + 313264\n",
      "8   chromedriver                        0x00000001020ffba4 cxxbridge1$string$len + 316416\n",
      "9   chromedriver                        0x000000010262e1d4 cxxbridge1$str$ptr + 3427196\n",
      "10  chromedriver                        0x0000000102631518 cxxbridge1$str$ptr + 3440320\n",
      "11  chromedriver                        0x00000001026155f8 cxxbridge1$str$ptr + 3325856\n",
      "12  chromedriver                        0x0000000102631ddc cxxbridge1$str$ptr + 3442564\n",
      "13  chromedriver                        0x000000010260687c cxxbridge1$str$ptr + 3265060\n",
      "14  chromedriver                        0x000000010264c884 cxxbridge1$str$ptr + 3551788\n",
      "15  chromedriver                        0x000000010264ca00 cxxbridge1$str$ptr + 3552168\n",
      "16  chromedriver                        0x000000010265bb2c cxxbridge1$str$ptr + 3613908\n",
      "17  libsystem_pthread.dylib             0x000000019d04ef94 _pthread_start + 136\n",
      "18  libsystem_pthread.dylib             0x000000019d049d34 thread_start + 8\n",
      "\n",
      "Произошла ебучая ошибка: Message: element not interactable\n",
      "  (Session info: chrome=130.0.6723.70)\n",
      "Stacktrace:\n",
      "0   chromedriver                        0x0000000102663634 cxxbridge1$str$ptr + 3645404\n",
      "1   chromedriver                        0x000000010265be94 cxxbridge1$str$ptr + 3614780\n",
      "2   chromedriver                        0x00000001020c7f74 cxxbridge1$string$len + 88016\n",
      "3   chromedriver                        0x000000010210b2b4 cxxbridge1$string$len + 363280\n",
      "4   chromedriver                        0x0000000102100e14 cxxbridge1$string$len + 321136\n",
      "5   chromedriver                        0x00000001021008b0 cxxbridge1$string$len + 319756\n",
      "6   chromedriver                        0x0000000102143bd0 cxxbridge1$string$len + 594988\n",
      "7   chromedriver                        0x00000001020fef54 cxxbridge1$string$len + 313264\n",
      "8   chromedriver                        0x00000001020ffba4 cxxbridge1$string$len + 316416\n",
      "9   chromedriver                        0x000000010262e1d4 cxxbridge1$str$ptr + 3427196\n",
      "10  chromedriver                        0x0000000102631518 cxxbridge1$str$ptr + 3440320\n",
      "11  chromedriver                        0x00000001026155f8 cxxbridge1$str$ptr + 3325856\n",
      "12  chromedriver                        0x0000000102631ddc cxxbridge1$str$ptr + 3442564\n",
      "13  chromedriver                        0x000000010260687c cxxbridge1$str$ptr + 3265060\n",
      "14  chromedriver                        0x000000010264c884 cxxbridge1$str$ptr + 3551788\n",
      "15  chromedriver                        0x000000010264ca00 cxxbridge1$str$ptr + 3552168\n",
      "16  chromedriver                        0x000000010265bb2c cxxbridge1$str$ptr + 3613908\n",
      "17  libsystem_pthread.dylib             0x000000019d04ef94 _pthread_start + 136\n",
      "18  libsystem_pthread.dylib             0x000000019d049d34 thread_start + 8\n",
      "\n",
      "Произошла ебучая ошибка: Message: element not interactable\n",
      "  (Session info: chrome=130.0.6723.70)\n",
      "Stacktrace:\n",
      "0   chromedriver                        0x0000000102663634 cxxbridge1$str$ptr + 3645404\n",
      "1   chromedriver                        0x000000010265be94 cxxbridge1$str$ptr + 3614780\n",
      "2   chromedriver                        0x00000001020c7f74 cxxbridge1$string$len + 88016\n",
      "3   chromedriver                        0x000000010210b2b4 cxxbridge1$string$len + 363280\n",
      "4   chromedriver                        0x0000000102100e14 cxxbridge1$string$len + 321136\n",
      "5   chromedriver                        0x00000001021008b0 cxxbridge1$string$len + 319756\n",
      "6   chromedriver                        0x0000000102143bd0 cxxbridge1$string$len + 594988\n",
      "7   chromedriver                        0x00000001020fef54 cxxbridge1$string$len + 313264\n",
      "8   chromedriver                        0x00000001020ffba4 cxxbridge1$string$len + 316416\n",
      "9   chromedriver                        0x000000010262e1d4 cxxbridge1$str$ptr + 3427196\n",
      "10  chromedriver                        0x0000000102631518 cxxbridge1$str$ptr + 3440320\n",
      "11  chromedriver                        0x00000001026155f8 cxxbridge1$str$ptr + 3325856\n",
      "12  chromedriver                        0x0000000102631ddc cxxbridge1$str$ptr + 3442564\n",
      "13  chromedriver                        0x000000010260687c cxxbridge1$str$ptr + 3265060\n",
      "14  chromedriver                        0x000000010264c884 cxxbridge1$str$ptr + 3551788\n",
      "15  chromedriver                        0x000000010264ca00 cxxbridge1$str$ptr + 3552168\n",
      "16  chromedriver                        0x000000010265bb2c cxxbridge1$str$ptr + 3613908\n",
      "17  libsystem_pthread.dylib             0x000000019d04ef94 _pthread_start + 136\n",
      "18  libsystem_pthread.dylib             0x000000019d049d34 thread_start + 8\n",
      "\n",
      "Произошла ебучая ошибка: Message: element not interactable\n",
      "  (Session info: chrome=130.0.6723.70)\n",
      "Stacktrace:\n",
      "0   chromedriver                        0x0000000102663634 cxxbridge1$str$ptr + 3645404\n",
      "1   chromedriver                        0x000000010265be94 cxxbridge1$str$ptr + 3614780\n",
      "2   chromedriver                        0x00000001020c7f74 cxxbridge1$string$len + 88016\n",
      "3   chromedriver                        0x000000010210b2b4 cxxbridge1$string$len + 363280\n",
      "4   chromedriver                        0x0000000102100e14 cxxbridge1$string$len + 321136\n",
      "5   chromedriver                        0x00000001021008b0 cxxbridge1$string$len + 319756\n",
      "6   chromedriver                        0x0000000102143bd0 cxxbridge1$string$len + 594988\n",
      "7   chromedriver                        0x00000001020fef54 cxxbridge1$string$len + 313264\n",
      "8   chromedriver                        0x00000001020ffba4 cxxbridge1$string$len + 316416\n",
      "9   chromedriver                        0x000000010262e1d4 cxxbridge1$str$ptr + 3427196\n",
      "10  chromedriver                        0x0000000102631518 cxxbridge1$str$ptr + 3440320\n",
      "11  chromedriver                        0x00000001026155f8 cxxbridge1$str$ptr + 3325856\n",
      "12  chromedriver                        0x0000000102631ddc cxxbridge1$str$ptr + 3442564\n",
      "13  chromedriver                        0x000000010260687c cxxbridge1$str$ptr + 3265060\n",
      "14  chromedriver                        0x000000010264c884 cxxbridge1$str$ptr + 3551788\n",
      "15  chromedriver                        0x000000010264ca00 cxxbridge1$str$ptr + 3552168\n",
      "16  chromedriver                        0x000000010265bb2c cxxbridge1$str$ptr + 3613908\n",
      "17  libsystem_pthread.dylib             0x000000019d04ef94 _pthread_start + 136\n",
      "18  libsystem_pthread.dylib             0x000000019d049d34 thread_start + 8\n",
      "\n",
      "Произошла ебучая ошибка: Message: element not interactable\n",
      "  (Session info: chrome=130.0.6723.70)\n",
      "Stacktrace:\n",
      "0   chromedriver                        0x0000000102663634 cxxbridge1$str$ptr + 3645404\n",
      "1   chromedriver                        0x000000010265be94 cxxbridge1$str$ptr + 3614780\n",
      "2   chromedriver                        0x00000001020c7f74 cxxbridge1$string$len + 88016\n",
      "3   chromedriver                        0x000000010210b2b4 cxxbridge1$string$len + 363280\n",
      "4   chromedriver                        0x0000000102100e14 cxxbridge1$string$len + 321136\n",
      "5   chromedriver                        0x00000001021008b0 cxxbridge1$string$len + 319756\n",
      "6   chromedriver                        0x0000000102143bd0 cxxbridge1$string$len + 594988\n",
      "7   chromedriver                        0x00000001020fef54 cxxbridge1$string$len + 313264\n",
      "8   chromedriver                        0x00000001020ffba4 cxxbridge1$string$len + 316416\n",
      "9   chromedriver                        0x000000010262e1d4 cxxbridge1$str$ptr + 3427196\n",
      "10  chromedriver                        0x0000000102631518 cxxbridge1$str$ptr + 3440320\n",
      "11  chromedriver                        0x00000001026155f8 cxxbridge1$str$ptr + 3325856\n",
      "12  chromedriver                        0x0000000102631ddc cxxbridge1$str$ptr + 3442564\n",
      "13  chromedriver                        0x000000010260687c cxxbridge1$str$ptr + 3265060\n",
      "14  chromedriver                        0x000000010264c884 cxxbridge1$str$ptr + 3551788\n",
      "15  chromedriver                        0x000000010264ca00 cxxbridge1$str$ptr + 3552168\n",
      "16  chromedriver                        0x000000010265bb2c cxxbridge1$str$ptr + 3613908\n",
      "17  libsystem_pthread.dylib             0x000000019d04ef94 _pthread_start + 136\n",
      "18  libsystem_pthread.dylib             0x000000019d049d34 thread_start + 8\n",
      "\n",
      "Произошла ебучая ошибка: Message: element not interactable\n",
      "  (Session info: chrome=130.0.6723.70)\n",
      "Stacktrace:\n",
      "0   chromedriver                        0x0000000102663634 cxxbridge1$str$ptr + 3645404\n",
      "1   chromedriver                        0x000000010265be94 cxxbridge1$str$ptr + 3614780\n",
      "2   chromedriver                        0x00000001020c7f74 cxxbridge1$string$len + 88016\n",
      "3   chromedriver                        0x000000010210b2b4 cxxbridge1$string$len + 363280\n",
      "4   chromedriver                        0x0000000102100e14 cxxbridge1$string$len + 321136\n",
      "5   chromedriver                        0x00000001021008b0 cxxbridge1$string$len + 319756\n",
      "6   chromedriver                        0x0000000102143bd0 cxxbridge1$string$len + 594988\n",
      "7   chromedriver                        0x00000001020fef54 cxxbridge1$string$len + 313264\n",
      "8   chromedriver                        0x00000001020ffba4 cxxbridge1$string$len + 316416\n",
      "9   chromedriver                        0x000000010262e1d4 cxxbridge1$str$ptr + 3427196\n",
      "10  chromedriver                        0x0000000102631518 cxxbridge1$str$ptr + 3440320\n",
      "11  chromedriver                        0x00000001026155f8 cxxbridge1$str$ptr + 3325856\n",
      "12  chromedriver                        0x0000000102631ddc cxxbridge1$str$ptr + 3442564\n",
      "13  chromedriver                        0x000000010260687c cxxbridge1$str$ptr + 3265060\n",
      "14  chromedriver                        0x000000010264c884 cxxbridge1$str$ptr + 3551788\n",
      "15  chromedriver                        0x000000010264ca00 cxxbridge1$str$ptr + 3552168\n",
      "16  chromedriver                        0x000000010265bb2c cxxbridge1$str$ptr + 3613908\n",
      "17  libsystem_pthread.dylib             0x000000019d04ef94 _pthread_start + 136\n",
      "18  libsystem_pthread.dylib             0x000000019d049d34 thread_start + 8\n",
      "\n",
      "Произошла ебучая ошибка: Message: element not interactable\n",
      "  (Session info: chrome=130.0.6723.70)\n",
      "Stacktrace:\n",
      "0   chromedriver                        0x0000000102663634 cxxbridge1$str$ptr + 3645404\n",
      "1   chromedriver                        0x000000010265be94 cxxbridge1$str$ptr + 3614780\n",
      "2   chromedriver                        0x00000001020c7f74 cxxbridge1$string$len + 88016\n",
      "3   chromedriver                        0x000000010210b2b4 cxxbridge1$string$len + 363280\n",
      "4   chromedriver                        0x0000000102100e14 cxxbridge1$string$len + 321136\n",
      "5   chromedriver                        0x00000001021008b0 cxxbridge1$string$len + 319756\n",
      "6   chromedriver                        0x0000000102143bd0 cxxbridge1$string$len + 594988\n",
      "7   chromedriver                        0x00000001020fef54 cxxbridge1$string$len + 313264\n",
      "8   chromedriver                        0x00000001020ffba4 cxxbridge1$string$len + 316416\n",
      "9   chromedriver                        0x000000010262e1d4 cxxbridge1$str$ptr + 3427196\n",
      "10  chromedriver                        0x0000000102631518 cxxbridge1$str$ptr + 3440320\n",
      "11  chromedriver                        0x00000001026155f8 cxxbridge1$str$ptr + 3325856\n",
      "12  chromedriver                        0x0000000102631ddc cxxbridge1$str$ptr + 3442564\n",
      "13  chromedriver                        0x000000010260687c cxxbridge1$str$ptr + 3265060\n",
      "14  chromedriver                        0x000000010264c884 cxxbridge1$str$ptr + 3551788\n",
      "15  chromedriver                        0x000000010264ca00 cxxbridge1$str$ptr + 3552168\n",
      "16  chromedriver                        0x000000010265bb2c cxxbridge1$str$ptr + 3613908\n",
      "17  libsystem_pthread.dylib             0x000000019d04ef94 _pthread_start + 136\n",
      "18  libsystem_pthread.dylib             0x000000019d049d34 thread_start + 8\n",
      "\n"
     ]
    },
    {
     "data": {
      "application/vnd.jupyter.widget-view+json": {
       "model_id": "7fbdd1c06d85440bb4dc721a84f936cc",
       "version_major": 2,
       "version_minor": 0
      },
      "text/plain": [
       "  0%|          | 0/30 [00:00<?, ?it/s]"
      ]
     },
     "metadata": {},
     "output_type": "display_data"
    },
    {
     "name": "stdout",
     "output_type": "stream",
     "text": [
      "Произошла ебучая ошибка: Message: \n",
      "\n"
     ]
    },
    {
     "data": {
      "application/vnd.jupyter.widget-view+json": {
       "model_id": "caece8472d8a489f96e3fc46a029433d",
       "version_major": 2,
       "version_minor": 0
      },
      "text/plain": [
       "  0%|          | 0/30 [00:00<?, ?it/s]"
      ]
     },
     "metadata": {},
     "output_type": "display_data"
    },
    {
     "data": {
      "application/vnd.jupyter.widget-view+json": {
       "model_id": "ae6f299d6dd244a78598d66171721291",
       "version_major": 2,
       "version_minor": 0
      },
      "text/plain": [
       "  0%|          | 0/30 [00:00<?, ?it/s]"
      ]
     },
     "metadata": {},
     "output_type": "display_data"
    },
    {
     "name": "stdout",
     "output_type": "stream",
     "text": [
      "Произошла ебучая ошибка: HTTPSConnectionPool(host='produkty24.com.ua', port=443): Read timed out. (read timeout=None)\n"
     ]
    },
    {
     "data": {
      "application/vnd.jupyter.widget-view+json": {
       "model_id": "5495f7704c8842e2bae68314d01a1b31",
       "version_major": 2,
       "version_minor": 0
      },
      "text/plain": [
       "  0%|          | 0/30 [00:00<?, ?it/s]"
      ]
     },
     "metadata": {},
     "output_type": "display_data"
    },
    {
     "name": "stdout",
     "output_type": "stream",
     "text": [
      "Произошла ебучая ошибка: Message: \n",
      "\n"
     ]
    },
    {
     "data": {
      "application/vnd.jupyter.widget-view+json": {
       "model_id": "fd87dcf8ed434024851cb8b3feaecd1e",
       "version_major": 2,
       "version_minor": 0
      },
      "text/plain": [
       "  0%|          | 0/30 [00:00<?, ?it/s]"
      ]
     },
     "metadata": {},
     "output_type": "display_data"
    },
    {
     "data": {
      "application/vnd.jupyter.widget-view+json": {
       "model_id": "82f84eeeba3b4f84b59096f848a36711",
       "version_major": 2,
       "version_minor": 0
      },
      "text/plain": [
       "  0%|          | 0/30 [00:00<?, ?it/s]"
      ]
     },
     "metadata": {},
     "output_type": "display_data"
    },
    {
     "name": "stdout",
     "output_type": "stream",
     "text": [
      "Произошла ебучая ошибка: HTTPSConnectionPool(host='produkty24.com.ua', port=443): Read timed out. (read timeout=None)\n",
      "Произошла ебучая ошибка: Message: \n",
      "\n"
     ]
    },
    {
     "data": {
      "application/vnd.jupyter.widget-view+json": {
       "model_id": "f6564111916a4e898695395f49e1e46a",
       "version_major": 2,
       "version_minor": 0
      },
      "text/plain": [
       "  0%|          | 0/30 [00:00<?, ?it/s]"
      ]
     },
     "metadata": {},
     "output_type": "display_data"
    },
    {
     "name": "stdout",
     "output_type": "stream",
     "text": [
      "Произошла ебучая ошибка: Message: \n",
      "\n",
      "Произошла ебучая ошибка: Message: \n",
      "\n"
     ]
    },
    {
     "data": {
      "application/vnd.jupyter.widget-view+json": {
       "model_id": "eb75e69225a34cae8f1e204ee7888e5a",
       "version_major": 2,
       "version_minor": 0
      },
      "text/plain": [
       "  0%|          | 0/30 [00:00<?, ?it/s]"
      ]
     },
     "metadata": {},
     "output_type": "display_data"
    },
    {
     "name": "stdout",
     "output_type": "stream",
     "text": [
      "Произошла ебучая ошибка: Message: \n",
      "\n",
      "Произошла ебучая ошибка: Message: \n",
      "\n"
     ]
    },
    {
     "data": {
      "application/vnd.jupyter.widget-view+json": {
       "model_id": "51f5db2cb08b4ed3a89cca773fd5c7e7",
       "version_major": 2,
       "version_minor": 0
      },
      "text/plain": [
       "  0%|          | 0/30 [00:00<?, ?it/s]"
      ]
     },
     "metadata": {},
     "output_type": "display_data"
    },
    {
     "name": "stdout",
     "output_type": "stream",
     "text": [
      "Произошла ебучая ошибка: Message: \n",
      "\n",
      "Произошла ебучая ошибка: Message: \n",
      "\n",
      "Произошла ебучая ошибка: Message: \n",
      "\n"
     ]
    },
    {
     "data": {
      "application/vnd.jupyter.widget-view+json": {
       "model_id": "b5abf0bdd6474c4fb24cbbb23bbe9ebd",
       "version_major": 2,
       "version_minor": 0
      },
      "text/plain": [
       "  0%|          | 0/30 [00:00<?, ?it/s]"
      ]
     },
     "metadata": {},
     "output_type": "display_data"
    },
    {
     "name": "stdout",
     "output_type": "stream",
     "text": [
      "Произошла ебучая ошибка: Message: \n",
      "\n"
     ]
    },
    {
     "data": {
      "application/vnd.jupyter.widget-view+json": {
       "model_id": "2b5fa8abb116435aa529d5188b38dab2",
       "version_major": 2,
       "version_minor": 0
      },
      "text/plain": [
       "  0%|          | 0/30 [00:00<?, ?it/s]"
      ]
     },
     "metadata": {},
     "output_type": "display_data"
    },
    {
     "name": "stdout",
     "output_type": "stream",
     "text": [
      "Произошла ебучая ошибка: Message: \n",
      "\n",
      "Произошла ебучая ошибка: Message: \n",
      "\n",
      "Произошла ебучая ошибка: Message: \n",
      "\n"
     ]
    },
    {
     "data": {
      "application/vnd.jupyter.widget-view+json": {
       "model_id": "460dabc089dd4921bbdb2a5b312ad0a1",
       "version_major": 2,
       "version_minor": 0
      },
      "text/plain": [
       "  0%|          | 0/30 [00:00<?, ?it/s]"
      ]
     },
     "metadata": {},
     "output_type": "display_data"
    },
    {
     "data": {
      "application/vnd.jupyter.widget-view+json": {
       "model_id": "1654bfce174b4a9695d909d3b9415abe",
       "version_major": 2,
       "version_minor": 0
      },
      "text/plain": [
       "  0%|          | 0/30 [00:00<?, ?it/s]"
      ]
     },
     "metadata": {},
     "output_type": "display_data"
    },
    {
     "name": "stdout",
     "output_type": "stream",
     "text": [
      "Произошла ебучая ошибка: Message: \n",
      "\n"
     ]
    },
    {
     "data": {
      "application/vnd.jupyter.widget-view+json": {
       "model_id": "c6978dafc9094b6d8160e0d8777fdb9d",
       "version_major": 2,
       "version_minor": 0
      },
      "text/plain": [
       "  0%|          | 0/30 [00:00<?, ?it/s]"
      ]
     },
     "metadata": {},
     "output_type": "display_data"
    },
    {
     "data": {
      "application/vnd.jupyter.widget-view+json": {
       "model_id": "fd60ae53b9ff418e8b9fc92062ecac4d",
       "version_major": 2,
       "version_minor": 0
      },
      "text/plain": [
       "  0%|          | 0/30 [00:00<?, ?it/s]"
      ]
     },
     "metadata": {},
     "output_type": "display_data"
    },
    {
     "data": {
      "application/vnd.jupyter.widget-view+json": {
       "model_id": "12d5234c0bf24776b7f9dfc5bc34b950",
       "version_major": 2,
       "version_minor": 0
      },
      "text/plain": [
       "  0%|          | 0/30 [00:00<?, ?it/s]"
      ]
     },
     "metadata": {},
     "output_type": "display_data"
    },
    {
     "name": "stdout",
     "output_type": "stream",
     "text": [
      "Произошла ебучая ошибка: Message: \n",
      "\n",
      "Произошла ебучая ошибка: Message: \n",
      "\n"
     ]
    },
    {
     "data": {
      "application/vnd.jupyter.widget-view+json": {
       "model_id": "426f64e68f7246aab42e115e69043cbc",
       "version_major": 2,
       "version_minor": 0
      },
      "text/plain": [
       "  0%|          | 0/30 [00:00<?, ?it/s]"
      ]
     },
     "metadata": {},
     "output_type": "display_data"
    },
    {
     "name": "stdout",
     "output_type": "stream",
     "text": [
      "Произошла ебучая ошибка: Message: \n",
      "\n",
      "Произошла ебучая ошибка: Message: \n",
      "\n"
     ]
    },
    {
     "data": {
      "application/vnd.jupyter.widget-view+json": {
       "model_id": "b5711c21f27944dea2e3eaabc284ce7c",
       "version_major": 2,
       "version_minor": 0
      },
      "text/plain": [
       "  0%|          | 0/30 [00:00<?, ?it/s]"
      ]
     },
     "metadata": {},
     "output_type": "display_data"
    },
    {
     "data": {
      "application/vnd.jupyter.widget-view+json": {
       "model_id": "3645431e878042e986cc802e57fd75b5",
       "version_major": 2,
       "version_minor": 0
      },
      "text/plain": [
       "  0%|          | 0/30 [00:00<?, ?it/s]"
      ]
     },
     "metadata": {},
     "output_type": "display_data"
    },
    {
     "name": "stdout",
     "output_type": "stream",
     "text": [
      "Произошла ебучая ошибка: HTTPSConnectionPool(host='sibprod.info', port=443): Max retries exceeded with url: /upload/resize_cache/iblock/55c/553_553_19d1669f6609e6dfcaeac28e5aab5b3be/55c07ee759381e52461c75d33cb8fd4c.png (Caused by SSLError(SSLCertVerificationError(1, '[SSL: CERTIFICATE_VERIFY_FAILED] certificate verify failed: unable to get local issuer certificate (_ssl.c:1006)')))\n"
     ]
    },
    {
     "data": {
      "application/vnd.jupyter.widget-view+json": {
       "model_id": "d862f7e9ed95440695c108e75f33788c",
       "version_major": 2,
       "version_minor": 0
      },
      "text/plain": [
       "  0%|          | 0/30 [00:00<?, ?it/s]"
      ]
     },
     "metadata": {},
     "output_type": "display_data"
    },
    {
     "data": {
      "application/vnd.jupyter.widget-view+json": {
       "model_id": "02e51ef311f74267834ed095ce513fc9",
       "version_major": 2,
       "version_minor": 0
      },
      "text/plain": [
       "  0%|          | 0/30 [00:00<?, ?it/s]"
      ]
     },
     "metadata": {},
     "output_type": "display_data"
    },
    {
     "name": "stdout",
     "output_type": "stream",
     "text": [
      "Произошла ебучая ошибка: Message: \n",
      "\n"
     ]
    },
    {
     "data": {
      "application/vnd.jupyter.widget-view+json": {
       "model_id": "93a8ff6c221e464fbf6f9ff87debe47a",
       "version_major": 2,
       "version_minor": 0
      },
      "text/plain": [
       "  0%|          | 0/30 [00:00<?, ?it/s]"
      ]
     },
     "metadata": {},
     "output_type": "display_data"
    },
    {
     "name": "stdout",
     "output_type": "stream",
     "text": [
      "Произошла ебучая ошибка: HTTPSConnectionPool(host='swnn.ru', port=443): Max retries exceeded with url: /image/cache/catalog/products/115723-500x500.jpg (Caused by SSLError(SSLCertVerificationError(1, '[SSL: CERTIFICATE_VERIFY_FAILED] certificate verify failed: unable to get local issuer certificate (_ssl.c:1006)')))\n",
      "Произошла ебучая ошибка: Message: \n",
      "\n"
     ]
    },
    {
     "data": {
      "application/vnd.jupyter.widget-view+json": {
       "model_id": "8a955addbba74e1f84933a16e3e32a5e",
       "version_major": 2,
       "version_minor": 0
      },
      "text/plain": [
       "  0%|          | 0/30 [00:00<?, ?it/s]"
      ]
     },
     "metadata": {},
     "output_type": "display_data"
    },
    {
     "name": "stdout",
     "output_type": "stream",
     "text": [
      "Произошла ебучая ошибка: Message: \n",
      "\n",
      "Произошла ебучая ошибка: Message: element not interactable\n",
      "  (Session info: chrome=130.0.6723.70)\n",
      "Stacktrace:\n",
      "0   chromedriver                        0x0000000102663634 cxxbridge1$str$ptr + 3645404\n",
      "1   chromedriver                        0x000000010265be94 cxxbridge1$str$ptr + 3614780\n",
      "2   chromedriver                        0x00000001020c7f74 cxxbridge1$string$len + 88016\n",
      "3   chromedriver                        0x000000010210b2b4 cxxbridge1$string$len + 363280\n",
      "4   chromedriver                        0x0000000102100e14 cxxbridge1$string$len + 321136\n",
      "5   chromedriver                        0x00000001021008b0 cxxbridge1$string$len + 319756\n",
      "6   chromedriver                        0x0000000102143bd0 cxxbridge1$string$len + 594988\n",
      "7   chromedriver                        0x00000001020fef54 cxxbridge1$string$len + 313264\n",
      "8   chromedriver                        0x00000001020ffba4 cxxbridge1$string$len + 316416\n",
      "9   chromedriver                        0x000000010262e1d4 cxxbridge1$str$ptr + 3427196\n",
      "10  chromedriver                        0x0000000102631518 cxxbridge1$str$ptr + 3440320\n",
      "11  chromedriver                        0x00000001026155f8 cxxbridge1$str$ptr + 3325856\n",
      "12  chromedriver                        0x0000000102631ddc cxxbridge1$str$ptr + 3442564\n",
      "13  chromedriver                        0x000000010260687c cxxbridge1$str$ptr + 3265060\n",
      "14  chromedriver                        0x000000010264c884 cxxbridge1$str$ptr + 3551788\n",
      "15  chromedriver                        0x000000010264ca00 cxxbridge1$str$ptr + 3552168\n",
      "16  chromedriver                        0x000000010265bb2c cxxbridge1$str$ptr + 3613908\n",
      "17  libsystem_pthread.dylib             0x000000019d04ef94 _pthread_start + 136\n",
      "18  libsystem_pthread.dylib             0x000000019d049d34 thread_start + 8\n",
      "\n",
      "Произошла ебучая ошибка: Message: element not interactable\n",
      "  (Session info: chrome=130.0.6723.70)\n",
      "Stacktrace:\n",
      "0   chromedriver                        0x0000000102663634 cxxbridge1$str$ptr + 3645404\n",
      "1   chromedriver                        0x000000010265be94 cxxbridge1$str$ptr + 3614780\n",
      "2   chromedriver                        0x00000001020c7f74 cxxbridge1$string$len + 88016\n",
      "3   chromedriver                        0x000000010210b2b4 cxxbridge1$string$len + 363280\n",
      "4   chromedriver                        0x0000000102100e14 cxxbridge1$string$len + 321136\n",
      "5   chromedriver                        0x00000001021008b0 cxxbridge1$string$len + 319756\n",
      "6   chromedriver                        0x0000000102143bd0 cxxbridge1$string$len + 594988\n",
      "7   chromedriver                        0x00000001020fef54 cxxbridge1$string$len + 313264\n",
      "8   chromedriver                        0x00000001020ffba4 cxxbridge1$string$len + 316416\n",
      "9   chromedriver                        0x000000010262e1d4 cxxbridge1$str$ptr + 3427196\n",
      "10  chromedriver                        0x0000000102631518 cxxbridge1$str$ptr + 3440320\n",
      "11  chromedriver                        0x00000001026155f8 cxxbridge1$str$ptr + 3325856\n",
      "12  chromedriver                        0x0000000102631ddc cxxbridge1$str$ptr + 3442564\n",
      "13  chromedriver                        0x000000010260687c cxxbridge1$str$ptr + 3265060\n",
      "14  chromedriver                        0x000000010264c884 cxxbridge1$str$ptr + 3551788\n",
      "15  chromedriver                        0x000000010264ca00 cxxbridge1$str$ptr + 3552168\n",
      "16  chromedriver                        0x000000010265bb2c cxxbridge1$str$ptr + 3613908\n",
      "17  libsystem_pthread.dylib             0x000000019d04ef94 _pthread_start + 136\n",
      "18  libsystem_pthread.dylib             0x000000019d049d34 thread_start + 8\n",
      "\n",
      "Произошла ебучая ошибка: Message: element not interactable\n",
      "  (Session info: chrome=130.0.6723.70)\n",
      "Stacktrace:\n",
      "0   chromedriver                        0x0000000102663634 cxxbridge1$str$ptr + 3645404\n",
      "1   chromedriver                        0x000000010265be94 cxxbridge1$str$ptr + 3614780\n",
      "2   chromedriver                        0x00000001020c7f74 cxxbridge1$string$len + 88016\n",
      "3   chromedriver                        0x000000010210b2b4 cxxbridge1$string$len + 363280\n",
      "4   chromedriver                        0x0000000102100e14 cxxbridge1$string$len + 321136\n",
      "5   chromedriver                        0x00000001021008b0 cxxbridge1$string$len + 319756\n",
      "6   chromedriver                        0x0000000102143bd0 cxxbridge1$string$len + 594988\n",
      "7   chromedriver                        0x00000001020fef54 cxxbridge1$string$len + 313264\n",
      "8   chromedriver                        0x00000001020ffba4 cxxbridge1$string$len + 316416\n",
      "9   chromedriver                        0x000000010262e1d4 cxxbridge1$str$ptr + 3427196\n",
      "10  chromedriver                        0x0000000102631518 cxxbridge1$str$ptr + 3440320\n",
      "11  chromedriver                        0x00000001026155f8 cxxbridge1$str$ptr + 3325856\n",
      "12  chromedriver                        0x0000000102631ddc cxxbridge1$str$ptr + 3442564\n",
      "13  chromedriver                        0x000000010260687c cxxbridge1$str$ptr + 3265060\n",
      "14  chromedriver                        0x000000010264c884 cxxbridge1$str$ptr + 3551788\n",
      "15  chromedriver                        0x000000010264ca00 cxxbridge1$str$ptr + 3552168\n",
      "16  chromedriver                        0x000000010265bb2c cxxbridge1$str$ptr + 3613908\n",
      "17  libsystem_pthread.dylib             0x000000019d04ef94 _pthread_start + 136\n",
      "18  libsystem_pthread.dylib             0x000000019d049d34 thread_start + 8\n",
      "\n",
      "Произошла ебучая ошибка: Message: element not interactable\n",
      "  (Session info: chrome=130.0.6723.70)\n",
      "Stacktrace:\n",
      "0   chromedriver                        0x0000000102663634 cxxbridge1$str$ptr + 3645404\n",
      "1   chromedriver                        0x000000010265be94 cxxbridge1$str$ptr + 3614780\n",
      "2   chromedriver                        0x00000001020c7f74 cxxbridge1$string$len + 88016\n",
      "3   chromedriver                        0x000000010210b2b4 cxxbridge1$string$len + 363280\n",
      "4   chromedriver                        0x0000000102100e14 cxxbridge1$string$len + 321136\n",
      "5   chromedriver                        0x00000001021008b0 cxxbridge1$string$len + 319756\n",
      "6   chromedriver                        0x0000000102143bd0 cxxbridge1$string$len + 594988\n",
      "7   chromedriver                        0x00000001020fef54 cxxbridge1$string$len + 313264\n",
      "8   chromedriver                        0x00000001020ffba4 cxxbridge1$string$len + 316416\n",
      "9   chromedriver                        0x000000010262e1d4 cxxbridge1$str$ptr + 3427196\n",
      "10  chromedriver                        0x0000000102631518 cxxbridge1$str$ptr + 3440320\n",
      "11  chromedriver                        0x00000001026155f8 cxxbridge1$str$ptr + 3325856\n",
      "12  chromedriver                        0x0000000102631ddc cxxbridge1$str$ptr + 3442564\n",
      "13  chromedriver                        0x000000010260687c cxxbridge1$str$ptr + 3265060\n",
      "14  chromedriver                        0x000000010264c884 cxxbridge1$str$ptr + 3551788\n",
      "15  chromedriver                        0x000000010264ca00 cxxbridge1$str$ptr + 3552168\n",
      "16  chromedriver                        0x000000010265bb2c cxxbridge1$str$ptr + 3613908\n",
      "17  libsystem_pthread.dylib             0x000000019d04ef94 _pthread_start + 136\n",
      "18  libsystem_pthread.dylib             0x000000019d049d34 thread_start + 8\n",
      "\n",
      "Произошла ебучая ошибка: Message: element not interactable\n",
      "  (Session info: chrome=130.0.6723.70)\n",
      "Stacktrace:\n",
      "0   chromedriver                        0x0000000102663634 cxxbridge1$str$ptr + 3645404\n",
      "1   chromedriver                        0x000000010265be94 cxxbridge1$str$ptr + 3614780\n",
      "2   chromedriver                        0x00000001020c7f74 cxxbridge1$string$len + 88016\n",
      "3   chromedriver                        0x000000010210b2b4 cxxbridge1$string$len + 363280\n",
      "4   chromedriver                        0x0000000102100e14 cxxbridge1$string$len + 321136\n",
      "5   chromedriver                        0x00000001021008b0 cxxbridge1$string$len + 319756\n",
      "6   chromedriver                        0x0000000102143bd0 cxxbridge1$string$len + 594988\n",
      "7   chromedriver                        0x00000001020fef54 cxxbridge1$string$len + 313264\n",
      "8   chromedriver                        0x00000001020ffba4 cxxbridge1$string$len + 316416\n",
      "9   chromedriver                        0x000000010262e1d4 cxxbridge1$str$ptr + 3427196\n",
      "10  chromedriver                        0x0000000102631518 cxxbridge1$str$ptr + 3440320\n",
      "11  chromedriver                        0x00000001026155f8 cxxbridge1$str$ptr + 3325856\n",
      "12  chromedriver                        0x0000000102631ddc cxxbridge1$str$ptr + 3442564\n",
      "13  chromedriver                        0x000000010260687c cxxbridge1$str$ptr + 3265060\n",
      "14  chromedriver                        0x000000010264c884 cxxbridge1$str$ptr + 3551788\n",
      "15  chromedriver                        0x000000010264ca00 cxxbridge1$str$ptr + 3552168\n",
      "16  chromedriver                        0x000000010265bb2c cxxbridge1$str$ptr + 3613908\n",
      "17  libsystem_pthread.dylib             0x000000019d04ef94 _pthread_start + 136\n",
      "18  libsystem_pthread.dylib             0x000000019d049d34 thread_start + 8\n",
      "\n"
     ]
    },
    {
     "data": {
      "application/vnd.jupyter.widget-view+json": {
       "model_id": "65e2ff0347a64f8c8c267e1f0559b48c",
       "version_major": 2,
       "version_minor": 0
      },
      "text/plain": [
       "  0%|          | 0/30 [00:00<?, ?it/s]"
      ]
     },
     "metadata": {},
     "output_type": "display_data"
    },
    {
     "name": "stdout",
     "output_type": "stream",
     "text": [
      "Произошла ебучая ошибка: Message: \n",
      "\n",
      "Произошла ебучая ошибка: Message: \n",
      "\n",
      "Произошла ебучая ошибка: HTTPSConnectionPool(host='www.ekoniva-moloko.com', port=443): Max retries exceeded with url: /uploads/3/moloko-ultrapaster-1.5-tetrapack-2.jpg (Caused by SSLError(SSLCertVerificationError(1, '[SSL: CERTIFICATE_VERIFY_FAILED] certificate verify failed: unable to get local issuer certificate (_ssl.c:1006)')))\n"
     ]
    },
    {
     "data": {
      "application/vnd.jupyter.widget-view+json": {
       "model_id": "bcfcf4642ef44ae991564471554555b1",
       "version_major": 2,
       "version_minor": 0
      },
      "text/plain": [
       "  0%|          | 0/30 [00:00<?, ?it/s]"
      ]
     },
     "metadata": {},
     "output_type": "display_data"
    },
    {
     "data": {
      "application/vnd.jupyter.widget-view+json": {
       "model_id": "ef18b271dd0443e1873b6c07e810ab00",
       "version_major": 2,
       "version_minor": 0
      },
      "text/plain": [
       "  0%|          | 0/30 [00:00<?, ?it/s]"
      ]
     },
     "metadata": {},
     "output_type": "display_data"
    },
    {
     "data": {
      "application/vnd.jupyter.widget-view+json": {
       "model_id": "00a62ef0017a4bb89fe349a26f11fa91",
       "version_major": 2,
       "version_minor": 0
      },
      "text/plain": [
       "  0%|          | 0/30 [00:00<?, ?it/s]"
      ]
     },
     "metadata": {},
     "output_type": "display_data"
    },
    {
     "name": "stdout",
     "output_type": "stream",
     "text": [
      "Произошла ебучая ошибка: Message: \n",
      "\n",
      "Произошла ебучая ошибка: Message: \n",
      "\n"
     ]
    },
    {
     "data": {
      "application/vnd.jupyter.widget-view+json": {
       "model_id": "c9dd5ac438424b18a413a181a2624578",
       "version_major": 2,
       "version_minor": 0
      },
      "text/plain": [
       "  0%|          | 0/30 [00:00<?, ?it/s]"
      ]
     },
     "metadata": {},
     "output_type": "display_data"
    },
    {
     "name": "stdout",
     "output_type": "stream",
     "text": [
      "Произошла ебучая ошибка: Message: \n",
      "\n",
      "Произошла ебучая ошибка: Message: \n",
      "\n"
     ]
    },
    {
     "data": {
      "application/vnd.jupyter.widget-view+json": {
       "model_id": "e7bb702b734d4342a457fa14b80f9ae7",
       "version_major": 2,
       "version_minor": 0
      },
      "text/plain": [
       "  0%|          | 0/30 [00:00<?, ?it/s]"
      ]
     },
     "metadata": {},
     "output_type": "display_data"
    },
    {
     "name": "stdout",
     "output_type": "stream",
     "text": [
      "Произошла ебучая ошибка: Message: \n",
      "\n",
      "Произошла ебучая ошибка: Message: \n",
      "\n",
      "Произошла ебучая ошибка: Message: \n",
      "\n",
      "Произошла ебучая ошибка: Message: \n",
      "\n"
     ]
    },
    {
     "data": {
      "application/vnd.jupyter.widget-view+json": {
       "model_id": "2d73156b9a3b4d6a9f33cdd37d73ee2d",
       "version_major": 2,
       "version_minor": 0
      },
      "text/plain": [
       "  0%|          | 0/30 [00:00<?, ?it/s]"
      ]
     },
     "metadata": {},
     "output_type": "display_data"
    },
    {
     "name": "stdout",
     "output_type": "stream",
     "text": [
      "Произошла ебучая ошибка: Message: \n",
      "\n"
     ]
    },
    {
     "data": {
      "application/vnd.jupyter.widget-view+json": {
       "model_id": "de37c4174d084b488f12bbb58f76dba5",
       "version_major": 2,
       "version_minor": 0
      },
      "text/plain": [
       "  0%|          | 0/30 [00:00<?, ?it/s]"
      ]
     },
     "metadata": {},
     "output_type": "display_data"
    },
    {
     "name": "stdout",
     "output_type": "stream",
     "text": [
      "Произошла ебучая ошибка: Message: \n",
      "\n",
      "Произошла ебучая ошибка: Message: \n",
      "\n"
     ]
    },
    {
     "data": {
      "application/vnd.jupyter.widget-view+json": {
       "model_id": "50f9569cffa14fa6a814c6cd5bdde0be",
       "version_major": 2,
       "version_minor": 0
      },
      "text/plain": [
       "  0%|          | 0/30 [00:00<?, ?it/s]"
      ]
     },
     "metadata": {},
     "output_type": "display_data"
    },
    {
     "name": "stdout",
     "output_type": "stream",
     "text": [
      "Произошла ебучая ошибка: HTTPSConnectionPool(host='kamchatka.pro', port=443): Max retries exceeded with url: /images/detailed/16/moloko-3-2-ultrapasterizovannoe-0-95l-belyy-gorod-132-rubley-15664-moloko-3-2-ultrapasterizovannoe-0-95l-belyy-gorodpredlozhenie-s-besplatnoy-dostavkoy-na-dom-po-gorodu-petropavlovsku-kamchatskomu-ot-kamchatka-pro.webp (Caused by SSLError(SSLCertVerificationError(1, '[SSL: CERTIFICATE_VERIFY_FAILED] certificate verify failed: unable to get local issuer certificate (_ssl.c:1006)')))\n",
      "Произошла ебучая ошибка: Message: \n",
      "\n",
      "Произошла ебучая ошибка: Message: \n",
      "\n"
     ]
    },
    {
     "data": {
      "application/vnd.jupyter.widget-view+json": {
       "model_id": "e2c38dcc576240fa9837ed95595b5264",
       "version_major": 2,
       "version_minor": 0
      },
      "text/plain": [
       "  0%|          | 0/30 [00:00<?, ?it/s]"
      ]
     },
     "metadata": {},
     "output_type": "display_data"
    },
    {
     "data": {
      "application/vnd.jupyter.widget-view+json": {
       "model_id": "632b3912cec04e119ad035fb9843cbe2",
       "version_major": 2,
       "version_minor": 0
      },
      "text/plain": [
       "  0%|          | 0/30 [00:00<?, ?it/s]"
      ]
     },
     "metadata": {},
     "output_type": "display_data"
    },
    {
     "name": "stdout",
     "output_type": "stream",
     "text": [
      "Произошла ебучая ошибка: Message: \n",
      "\n"
     ]
    },
    {
     "data": {
      "application/vnd.jupyter.widget-view+json": {
       "model_id": "68648731f0ed409784a8892573f7c9e6",
       "version_major": 2,
       "version_minor": 0
      },
      "text/plain": [
       "  0%|          | 0/30 [00:00<?, ?it/s]"
      ]
     },
     "metadata": {},
     "output_type": "display_data"
    },
    {
     "name": "stdout",
     "output_type": "stream",
     "text": [
      "Произошла ебучая ошибка: HTTPSConnectionPool(host='sibprod.info', port=443): Max retries exceeded with url: /upload/resize_cache/iblock/1f1/300_567_19d1669f6609e6dfcaeac28e5aab5b3be/1f14327b95fcc4779cf305c88ebba1ed.jpeg (Caused by SSLError(SSLCertVerificationError(1, '[SSL: CERTIFICATE_VERIFY_FAILED] certificate verify failed: unable to get local issuer certificate (_ssl.c:1006)')))\n",
      "Произошла ебучая ошибка: Message: \n",
      "\n"
     ]
    },
    {
     "data": {
      "application/vnd.jupyter.widget-view+json": {
       "model_id": "991c67a6efe84de28c998dcfb973f244",
       "version_major": 2,
       "version_minor": 0
      },
      "text/plain": [
       "  0%|          | 0/30 [00:00<?, ?it/s]"
      ]
     },
     "metadata": {},
     "output_type": "display_data"
    },
    {
     "name": "stdout",
     "output_type": "stream",
     "text": [
      "Произошла ебучая ошибка: Message: \n",
      "\n",
      "Произошла ебучая ошибка: Message: \n",
      "\n"
     ]
    },
    {
     "data": {
      "application/vnd.jupyter.widget-view+json": {
       "model_id": "78f4f9359e0c4d68b8cd213756d19610",
       "version_major": 2,
       "version_minor": 0
      },
      "text/plain": [
       "  0%|          | 0/30 [00:00<?, ?it/s]"
      ]
     },
     "metadata": {},
     "output_type": "display_data"
    },
    {
     "data": {
      "application/vnd.jupyter.widget-view+json": {
       "model_id": "9872cde8c322412784bd9eeba05eb52d",
       "version_major": 2,
       "version_minor": 0
      },
      "text/plain": [
       "  0%|          | 0/30 [00:00<?, ?it/s]"
      ]
     },
     "metadata": {},
     "output_type": "display_data"
    },
    {
     "data": {
      "application/vnd.jupyter.widget-view+json": {
       "model_id": "1d1c07bdec3a46b3ba6a23a5520f459c",
       "version_major": 2,
       "version_minor": 0
      },
      "text/plain": [
       "  0%|          | 0/30 [00:00<?, ?it/s]"
      ]
     },
     "metadata": {},
     "output_type": "display_data"
    },
    {
     "data": {
      "application/vnd.jupyter.widget-view+json": {
       "model_id": "55c8ee5010464a5ebdb1e2fbe20aabf6",
       "version_major": 2,
       "version_minor": 0
      },
      "text/plain": [
       "  0%|          | 0/30 [00:00<?, ?it/s]"
      ]
     },
     "metadata": {},
     "output_type": "display_data"
    },
    {
     "name": "stdout",
     "output_type": "stream",
     "text": [
      "Произошла ебучая ошибка: Message: \n",
      "\n"
     ]
    },
    {
     "data": {
      "application/vnd.jupyter.widget-view+json": {
       "model_id": "f41f0569ac4942a8b91b5a45ec34ade8",
       "version_major": 2,
       "version_minor": 0
      },
      "text/plain": [
       "  0%|          | 0/30 [00:00<?, ?it/s]"
      ]
     },
     "metadata": {},
     "output_type": "display_data"
    },
    {
     "data": {
      "application/vnd.jupyter.widget-view+json": {
       "model_id": "d64a305aad22491f92d26e9b573712bc",
       "version_major": 2,
       "version_minor": 0
      },
      "text/plain": [
       "  0%|          | 0/30 [00:00<?, ?it/s]"
      ]
     },
     "metadata": {},
     "output_type": "display_data"
    },
    {
     "name": "stdout",
     "output_type": "stream",
     "text": [
      "Произошла ебучая ошибка: Message: \n",
      "\n",
      "Произошла ебучая ошибка: HTTPSConnectionPool(host='cdn.27.ua', port=443): Read timed out. (read timeout=None)\n",
      "Произошла ебучая ошибка: Message: \n",
      "\n",
      "Произошла ебучая ошибка: Message: \n",
      "\n"
     ]
    },
    {
     "data": {
      "application/vnd.jupyter.widget-view+json": {
       "model_id": "079a071912834947ac1c4035b1fb9a68",
       "version_major": 2,
       "version_minor": 0
      },
      "text/plain": [
       "  0%|          | 0/30 [00:00<?, ?it/s]"
      ]
     },
     "metadata": {},
     "output_type": "display_data"
    },
    {
     "name": "stdout",
     "output_type": "stream",
     "text": [
      "Произошла ебучая ошибка: HTTPSConnectionPool(host='swnn.ru', port=443): Max retries exceeded with url: /image/cache/catalog/products/5884-500x500.jpg (Caused by SSLError(SSLCertVerificationError(1, '[SSL: CERTIFICATE_VERIFY_FAILED] certificate verify failed: unable to get local issuer certificate (_ssl.c:1006)')))\n"
     ]
    },
    {
     "data": {
      "application/vnd.jupyter.widget-view+json": {
       "model_id": "0de00fc750a24a7ebdba897781c9a53c",
       "version_major": 2,
       "version_minor": 0
      },
      "text/plain": [
       "  0%|          | 0/30 [00:00<?, ?it/s]"
      ]
     },
     "metadata": {},
     "output_type": "display_data"
    },
    {
     "name": "stdout",
     "output_type": "stream",
     "text": [
      "Произошла ебучая ошибка: HTTPSConnectionPool(host='www.ekoniva-moloko.com', port=443): Max retries exceeded with url: /uploads/3/kefir-1-pet-1.jpg (Caused by SSLError(SSLCertVerificationError(1, '[SSL: CERTIFICATE_VERIFY_FAILED] certificate verify failed: unable to get local issuer certificate (_ssl.c:1006)')))\n",
      "Произошла ебучая ошибка: Message: \n",
      "\n",
      "Произошла ебучая ошибка: HTTPSConnectionPool(host='sibprod.info', port=443): Max retries exceeded with url: /upload/resize_cache/iblock/de0/300_567_19d1669f6609e6dfcaeac28e5aab5b3be/de06477dcb1877eaf21fbfb3399e63aa.jpeg (Caused by SSLError(SSLCertVerificationError(1, '[SSL: CERTIFICATE_VERIFY_FAILED] certificate verify failed: unable to get local issuer certificate (_ssl.c:1006)')))\n"
     ]
    },
    {
     "data": {
      "application/vnd.jupyter.widget-view+json": {
       "model_id": "f6261a922a2b45668b89f9712ea63ecf",
       "version_major": 2,
       "version_minor": 0
      },
      "text/plain": [
       "  0%|          | 0/30 [00:00<?, ?it/s]"
      ]
     },
     "metadata": {},
     "output_type": "display_data"
    },
    {
     "data": {
      "application/vnd.jupyter.widget-view+json": {
       "model_id": "f050405608a64499aeaeacbc1c499aef",
       "version_major": 2,
       "version_minor": 0
      },
      "text/plain": [
       "  0%|          | 0/30 [00:00<?, ?it/s]"
      ]
     },
     "metadata": {},
     "output_type": "display_data"
    },
    {
     "name": "stdout",
     "output_type": "stream",
     "text": [
      "Произошла ебучая ошибка: Message: \n",
      "\n",
      "Произошла ебучая ошибка: Message: \n",
      "\n",
      "Произошла ебучая ошибка: Message: \n",
      "\n",
      "Произошла ебучая ошибка: Message: \n",
      "\n",
      "Произошла ебучая ошибка: Message: \n",
      "\n",
      "Произошла ебучая ошибка: Message: \n",
      "\n"
     ]
    },
    {
     "data": {
      "application/vnd.jupyter.widget-view+json": {
       "model_id": "ec63f238021a4468a0c492ee132f009f",
       "version_major": 2,
       "version_minor": 0
      },
      "text/plain": [
       "  0%|          | 0/30 [00:00<?, ?it/s]"
      ]
     },
     "metadata": {},
     "output_type": "display_data"
    },
    {
     "data": {
      "application/vnd.jupyter.widget-view+json": {
       "model_id": "1d8cf2516a3b48879207a79cb1956462",
       "version_major": 2,
       "version_minor": 0
      },
      "text/plain": [
       "  0%|          | 0/30 [00:00<?, ?it/s]"
      ]
     },
     "metadata": {},
     "output_type": "display_data"
    },
    {
     "name": "stdout",
     "output_type": "stream",
     "text": [
      "Произошла ебучая ошибка: Message: \n",
      "\n"
     ]
    },
    {
     "data": {
      "application/vnd.jupyter.widget-view+json": {
       "model_id": "778abf0e02814821b55e8ea1a818d2fa",
       "version_major": 2,
       "version_minor": 0
      },
      "text/plain": [
       "  0%|          | 0/30 [00:00<?, ?it/s]"
      ]
     },
     "metadata": {},
     "output_type": "display_data"
    },
    {
     "name": "stdout",
     "output_type": "stream",
     "text": [
      "Произошла ебучая ошибка: Message: \n",
      "\n",
      "Произошла ебучая ошибка: ('Connection aborted.', RemoteDisconnected('Remote end closed connection without response'))\n"
     ]
    },
    {
     "data": {
      "application/vnd.jupyter.widget-view+json": {
       "model_id": "f33887b6e27c48cbbde6106c1e5e4eb3",
       "version_major": 2,
       "version_minor": 0
      },
      "text/plain": [
       "  0%|          | 0/30 [00:00<?, ?it/s]"
      ]
     },
     "metadata": {},
     "output_type": "display_data"
    },
    {
     "name": "stdout",
     "output_type": "stream",
     "text": [
      "Произошла ебучая ошибка: Message: \n",
      "\n",
      "Произошла ебучая ошибка: Message: \n",
      "\n"
     ]
    },
    {
     "data": {
      "application/vnd.jupyter.widget-view+json": {
       "model_id": "3ecf29379b054edeabe80ea6b4477c72",
       "version_major": 2,
       "version_minor": 0
      },
      "text/plain": [
       "  0%|          | 0/30 [00:00<?, ?it/s]"
      ]
     },
     "metadata": {},
     "output_type": "display_data"
    },
    {
     "name": "stdout",
     "output_type": "stream",
     "text": [
      "Произошла ебучая ошибка: Message: \n",
      "\n",
      "Произошла ебучая ошибка: Message: \n",
      "\n",
      "Произошла ебучая ошибка: Message: \n",
      "\n",
      "Произошла ебучая ошибка: Message: \n",
      "\n"
     ]
    },
    {
     "data": {
      "application/vnd.jupyter.widget-view+json": {
       "model_id": "71ed617e1b804fd8934e15005d2743ab",
       "version_major": 2,
       "version_minor": 0
      },
      "text/plain": [
       "  0%|          | 0/30 [00:00<?, ?it/s]"
      ]
     },
     "metadata": {},
     "output_type": "display_data"
    },
    {
     "name": "stdout",
     "output_type": "stream",
     "text": [
      "Произошла ебучая ошибка: Message: \n",
      "\n",
      "Произошла ебучая ошибка: Message: \n",
      "\n",
      "Произошла ебучая ошибка: Message: \n",
      "\n"
     ]
    },
    {
     "data": {
      "application/vnd.jupyter.widget-view+json": {
       "model_id": "e64feaa4c8084bd5af8389f8805b4e0a",
       "version_major": 2,
       "version_minor": 0
      },
      "text/plain": [
       "  0%|          | 0/30 [00:00<?, ?it/s]"
      ]
     },
     "metadata": {},
     "output_type": "display_data"
    },
    {
     "data": {
      "application/vnd.jupyter.widget-view+json": {
       "model_id": "4d384ba195714d558131268549d98ce4",
       "version_major": 2,
       "version_minor": 0
      },
      "text/plain": [
       "  0%|          | 0/30 [00:00<?, ?it/s]"
      ]
     },
     "metadata": {},
     "output_type": "display_data"
    },
    {
     "name": "stdout",
     "output_type": "stream",
     "text": [
      "Произошла ебучая ошибка: Message: \n",
      "\n",
      "Произошла ебучая ошибка: Message: \n",
      "\n",
      "Произошла ебучая ошибка: HTTPSConnectionPool(host='ingredientpro.ru', port=443): Max retries exceeded with url: /sites/default/files/styles/prod/public/suhoe_moloko_1.png?itok=WIag8jfr (Caused by SSLError(SSLCertVerificationError(1, '[SSL: CERTIFICATE_VERIFY_FAILED] certificate verify failed: unable to get local issuer certificate (_ssl.c:1006)')))\n",
      "Произошла ебучая ошибка: ('Connection aborted.', RemoteDisconnected('Remote end closed connection without response'))\n"
     ]
    },
    {
     "data": {
      "application/vnd.jupyter.widget-view+json": {
       "model_id": "4228c25588c446b389345ad73acac346",
       "version_major": 2,
       "version_minor": 0
      },
      "text/plain": [
       "  0%|          | 0/30 [00:00<?, ?it/s]"
      ]
     },
     "metadata": {},
     "output_type": "display_data"
    },
    {
     "name": "stdout",
     "output_type": "stream",
     "text": [
      "Произошла ебучая ошибка: Message: \n",
      "\n",
      "Произошла ебучая ошибка: Message: \n",
      "\n",
      "Произошла ебучая ошибка: Message: \n",
      "\n",
      "Произошла ебучая ошибка: Message: \n",
      "\n"
     ]
    },
    {
     "data": {
      "application/vnd.jupyter.widget-view+json": {
       "model_id": "01137975f26149dca8db98332fc47f53",
       "version_major": 2,
       "version_minor": 0
      },
      "text/plain": [
       "  0%|          | 0/30 [00:00<?, ?it/s]"
      ]
     },
     "metadata": {},
     "output_type": "display_data"
    },
    {
     "data": {
      "application/vnd.jupyter.widget-view+json": {
       "model_id": "efffb77f5de0430dabe37747600577e4",
       "version_major": 2,
       "version_minor": 0
      },
      "text/plain": [
       "  0%|          | 0/30 [00:00<?, ?it/s]"
      ]
     },
     "metadata": {},
     "output_type": "display_data"
    },
    {
     "name": "stdout",
     "output_type": "stream",
     "text": [
      "Произошла ебучая ошибка: Message: \n",
      "\n",
      "Произошла ебучая ошибка: Message: \n",
      "\n",
      "Произошла ебучая ошибка: Message: \n",
      "\n",
      "Произошла ебучая ошибка: Message: \n",
      "\n",
      "Произошла ебучая ошибка: Message: \n",
      "\n"
     ]
    },
    {
     "data": {
      "application/vnd.jupyter.widget-view+json": {
       "model_id": "6400d1bf853447168d7aefb5a7a2c438",
       "version_major": 2,
       "version_minor": 0
      },
      "text/plain": [
       "  0%|          | 0/30 [00:00<?, ?it/s]"
      ]
     },
     "metadata": {},
     "output_type": "display_data"
    },
    {
     "name": "stdout",
     "output_type": "stream",
     "text": [
      "Произошла ебучая ошибка: Message: \n",
      "\n",
      "Произошла ебучая ошибка: HTTPSConnectionPool(host='www.ekoniva-moloko.com', port=443): Max retries exceeded with url: /uploads/3/moloko-toplenoe-pet-1.jpg (Caused by SSLError(SSLCertVerificationError(1, '[SSL: CERTIFICATE_VERIFY_FAILED] certificate verify failed: unable to get local issuer certificate (_ssl.c:1006)')))\n",
      "Произошла ебучая ошибка: Message: \n",
      "\n",
      "Произошла ебучая ошибка: Message: \n",
      "\n"
     ]
    },
    {
     "data": {
      "application/vnd.jupyter.widget-view+json": {
       "model_id": "2420ecde45c946ffaf13bad7ab81ae9a",
       "version_major": 2,
       "version_minor": 0
      },
      "text/plain": [
       "  0%|          | 0/30 [00:00<?, ?it/s]"
      ]
     },
     "metadata": {},
     "output_type": "display_data"
    },
    {
     "data": {
      "application/vnd.jupyter.widget-view+json": {
       "model_id": "0a07df7a1f2c43b19bf444b665186b1c",
       "version_major": 2,
       "version_minor": 0
      },
      "text/plain": [
       "  0%|          | 0/30 [00:00<?, ?it/s]"
      ]
     },
     "metadata": {},
     "output_type": "display_data"
    },
    {
     "name": "stdout",
     "output_type": "stream",
     "text": [
      "Произошла ебучая ошибка: Message: \n",
      "\n"
     ]
    },
    {
     "data": {
      "application/vnd.jupyter.widget-view+json": {
       "model_id": "f3c046401d6b41e994bbdb444ddb5ec4",
       "version_major": 2,
       "version_minor": 0
      },
      "text/plain": [
       "  0%|          | 0/30 [00:00<?, ?it/s]"
      ]
     },
     "metadata": {},
     "output_type": "display_data"
    },
    {
     "name": "stdout",
     "output_type": "stream",
     "text": [
      "Произошла ебучая ошибка: Message: element not interactable\n",
      "  (Session info: chrome=130.0.6723.70)\n",
      "Stacktrace:\n",
      "0   chromedriver                        0x0000000102663634 cxxbridge1$str$ptr + 3645404\n",
      "1   chromedriver                        0x000000010265be94 cxxbridge1$str$ptr + 3614780\n",
      "2   chromedriver                        0x00000001020c7f74 cxxbridge1$string$len + 88016\n",
      "3   chromedriver                        0x000000010210b2b4 cxxbridge1$string$len + 363280\n",
      "4   chromedriver                        0x0000000102100e14 cxxbridge1$string$len + 321136\n",
      "5   chromedriver                        0x00000001021008b0 cxxbridge1$string$len + 319756\n",
      "6   chromedriver                        0x0000000102143bd0 cxxbridge1$string$len + 594988\n",
      "7   chromedriver                        0x00000001020fef54 cxxbridge1$string$len + 313264\n",
      "8   chromedriver                        0x00000001020ffba4 cxxbridge1$string$len + 316416\n",
      "9   chromedriver                        0x000000010262e1d4 cxxbridge1$str$ptr + 3427196\n",
      "10  chromedriver                        0x0000000102631518 cxxbridge1$str$ptr + 3440320\n",
      "11  chromedriver                        0x00000001026155f8 cxxbridge1$str$ptr + 3325856\n",
      "12  chromedriver                        0x0000000102631ddc cxxbridge1$str$ptr + 3442564\n",
      "13  chromedriver                        0x000000010260687c cxxbridge1$str$ptr + 3265060\n",
      "14  chromedriver                        0x000000010264c884 cxxbridge1$str$ptr + 3551788\n",
      "15  chromedriver                        0x000000010264ca00 cxxbridge1$str$ptr + 3552168\n",
      "16  chromedriver                        0x000000010265bb2c cxxbridge1$str$ptr + 3613908\n",
      "17  libsystem_pthread.dylib             0x000000019d04ef94 _pthread_start + 136\n",
      "18  libsystem_pthread.dylib             0x000000019d049d34 thread_start + 8\n",
      "\n",
      "Произошла ебучая ошибка: Message: element not interactable\n",
      "  (Session info: chrome=130.0.6723.70)\n",
      "Stacktrace:\n",
      "0   chromedriver                        0x0000000102663634 cxxbridge1$str$ptr + 3645404\n",
      "1   chromedriver                        0x000000010265be94 cxxbridge1$str$ptr + 3614780\n",
      "2   chromedriver                        0x00000001020c7f74 cxxbridge1$string$len + 88016\n",
      "3   chromedriver                        0x000000010210b2b4 cxxbridge1$string$len + 363280\n",
      "4   chromedriver                        0x0000000102100e14 cxxbridge1$string$len + 321136\n",
      "5   chromedriver                        0x00000001021008b0 cxxbridge1$string$len + 319756\n",
      "6   chromedriver                        0x0000000102143bd0 cxxbridge1$string$len + 594988\n",
      "7   chromedriver                        0x00000001020fef54 cxxbridge1$string$len + 313264\n",
      "8   chromedriver                        0x00000001020ffba4 cxxbridge1$string$len + 316416\n",
      "9   chromedriver                        0x000000010262e1d4 cxxbridge1$str$ptr + 3427196\n",
      "10  chromedriver                        0x0000000102631518 cxxbridge1$str$ptr + 3440320\n",
      "11  chromedriver                        0x00000001026155f8 cxxbridge1$str$ptr + 3325856\n",
      "12  chromedriver                        0x0000000102631ddc cxxbridge1$str$ptr + 3442564\n",
      "13  chromedriver                        0x000000010260687c cxxbridge1$str$ptr + 3265060\n",
      "14  chromedriver                        0x000000010264c884 cxxbridge1$str$ptr + 3551788\n",
      "15  chromedriver                        0x000000010264ca00 cxxbridge1$str$ptr + 3552168\n",
      "16  chromedriver                        0x000000010265bb2c cxxbridge1$str$ptr + 3613908\n",
      "17  libsystem_pthread.dylib             0x000000019d04ef94 _pthread_start + 136\n",
      "18  libsystem_pthread.dylib             0x000000019d049d34 thread_start + 8\n",
      "\n",
      "Произошла ебучая ошибка: Message: element not interactable\n",
      "  (Session info: chrome=130.0.6723.70)\n",
      "Stacktrace:\n",
      "0   chromedriver                        0x0000000102663634 cxxbridge1$str$ptr + 3645404\n",
      "1   chromedriver                        0x000000010265be94 cxxbridge1$str$ptr + 3614780\n",
      "2   chromedriver                        0x00000001020c7f74 cxxbridge1$string$len + 88016\n",
      "3   chromedriver                        0x000000010210b2b4 cxxbridge1$string$len + 363280\n",
      "4   chromedriver                        0x0000000102100e14 cxxbridge1$string$len + 321136\n",
      "5   chromedriver                        0x00000001021008b0 cxxbridge1$string$len + 319756\n",
      "6   chromedriver                        0x0000000102143bd0 cxxbridge1$string$len + 594988\n",
      "7   chromedriver                        0x00000001020fef54 cxxbridge1$string$len + 313264\n",
      "8   chromedriver                        0x00000001020ffba4 cxxbridge1$string$len + 316416\n",
      "9   chromedriver                        0x000000010262e1d4 cxxbridge1$str$ptr + 3427196\n",
      "10  chromedriver                        0x0000000102631518 cxxbridge1$str$ptr + 3440320\n",
      "11  chromedriver                        0x00000001026155f8 cxxbridge1$str$ptr + 3325856\n",
      "12  chromedriver                        0x0000000102631ddc cxxbridge1$str$ptr + 3442564\n",
      "13  chromedriver                        0x000000010260687c cxxbridge1$str$ptr + 3265060\n",
      "14  chromedriver                        0x000000010264c884 cxxbridge1$str$ptr + 3551788\n",
      "15  chromedriver                        0x000000010264ca00 cxxbridge1$str$ptr + 3552168\n",
      "16  chromedriver                        0x000000010265bb2c cxxbridge1$str$ptr + 3613908\n",
      "17  libsystem_pthread.dylib             0x000000019d04ef94 _pthread_start + 136\n",
      "18  libsystem_pthread.dylib             0x000000019d049d34 thread_start + 8\n",
      "\n",
      "Произошла ебучая ошибка: Message: element not interactable\n",
      "  (Session info: chrome=130.0.6723.70)\n",
      "Stacktrace:\n",
      "0   chromedriver                        0x0000000102663634 cxxbridge1$str$ptr + 3645404\n",
      "1   chromedriver                        0x000000010265be94 cxxbridge1$str$ptr + 3614780\n",
      "2   chromedriver                        0x00000001020c7f74 cxxbridge1$string$len + 88016\n",
      "3   chromedriver                        0x000000010210b2b4 cxxbridge1$string$len + 363280\n",
      "4   chromedriver                        0x0000000102100e14 cxxbridge1$string$len + 321136\n",
      "5   chromedriver                        0x00000001021008b0 cxxbridge1$string$len + 319756\n",
      "6   chromedriver                        0x0000000102143bd0 cxxbridge1$string$len + 594988\n",
      "7   chromedriver                        0x00000001020fef54 cxxbridge1$string$len + 313264\n",
      "8   chromedriver                        0x00000001020ffba4 cxxbridge1$string$len + 316416\n",
      "9   chromedriver                        0x000000010262e1d4 cxxbridge1$str$ptr + 3427196\n",
      "10  chromedriver                        0x0000000102631518 cxxbridge1$str$ptr + 3440320\n",
      "11  chromedriver                        0x00000001026155f8 cxxbridge1$str$ptr + 3325856\n",
      "12  chromedriver                        0x0000000102631ddc cxxbridge1$str$ptr + 3442564\n",
      "13  chromedriver                        0x000000010260687c cxxbridge1$str$ptr + 3265060\n",
      "14  chromedriver                        0x000000010264c884 cxxbridge1$str$ptr + 3551788\n",
      "15  chromedriver                        0x000000010264ca00 cxxbridge1$str$ptr + 3552168\n",
      "16  chromedriver                        0x000000010265bb2c cxxbridge1$str$ptr + 3613908\n",
      "17  libsystem_pthread.dylib             0x000000019d04ef94 _pthread_start + 136\n",
      "18  libsystem_pthread.dylib             0x000000019d049d34 thread_start + 8\n",
      "\n",
      "Произошла ебучая ошибка: Message: element not interactable\n",
      "  (Session info: chrome=130.0.6723.70)\n",
      "Stacktrace:\n",
      "0   chromedriver                        0x0000000102663634 cxxbridge1$str$ptr + 3645404\n",
      "1   chromedriver                        0x000000010265be94 cxxbridge1$str$ptr + 3614780\n",
      "2   chromedriver                        0x00000001020c7f74 cxxbridge1$string$len + 88016\n",
      "3   chromedriver                        0x000000010210b2b4 cxxbridge1$string$len + 363280\n",
      "4   chromedriver                        0x0000000102100e14 cxxbridge1$string$len + 321136\n",
      "5   chromedriver                        0x00000001021008b0 cxxbridge1$string$len + 319756\n",
      "6   chromedriver                        0x0000000102143bd0 cxxbridge1$string$len + 594988\n",
      "7   chromedriver                        0x00000001020fef54 cxxbridge1$string$len + 313264\n",
      "8   chromedriver                        0x00000001020ffba4 cxxbridge1$string$len + 316416\n",
      "9   chromedriver                        0x000000010262e1d4 cxxbridge1$str$ptr + 3427196\n",
      "10  chromedriver                        0x0000000102631518 cxxbridge1$str$ptr + 3440320\n",
      "11  chromedriver                        0x00000001026155f8 cxxbridge1$str$ptr + 3325856\n",
      "12  chromedriver                        0x0000000102631ddc cxxbridge1$str$ptr + 3442564\n",
      "13  chromedriver                        0x000000010260687c cxxbridge1$str$ptr + 3265060\n",
      "14  chromedriver                        0x000000010264c884 cxxbridge1$str$ptr + 3551788\n",
      "15  chromedriver                        0x000000010264ca00 cxxbridge1$str$ptr + 3552168\n",
      "16  chromedriver                        0x000000010265bb2c cxxbridge1$str$ptr + 3613908\n",
      "17  libsystem_pthread.dylib             0x000000019d04ef94 _pthread_start + 136\n",
      "18  libsystem_pthread.dylib             0x000000019d049d34 thread_start + 8\n",
      "\n"
     ]
    },
    {
     "data": {
      "application/vnd.jupyter.widget-view+json": {
       "model_id": "5d96e192614046958d7a4fcaa4dc4928",
       "version_major": 2,
       "version_minor": 0
      },
      "text/plain": [
       "  0%|          | 0/30 [00:00<?, ?it/s]"
      ]
     },
     "metadata": {},
     "output_type": "display_data"
    },
    {
     "name": "stdout",
     "output_type": "stream",
     "text": [
      "Произошла ебучая ошибка: Message: \n",
      "\n",
      "Произошла ебучая ошибка: ('Connection aborted.', RemoteDisconnected('Remote end closed connection without response'))\n",
      "Произошла ебучая ошибка: Message: \n",
      "\n"
     ]
    },
    {
     "data": {
      "application/vnd.jupyter.widget-view+json": {
       "model_id": "a01137312e3d4c9c86efc3c5e3a9b481",
       "version_major": 2,
       "version_minor": 0
      },
      "text/plain": [
       "  0%|          | 0/30 [00:00<?, ?it/s]"
      ]
     },
     "metadata": {},
     "output_type": "display_data"
    },
    {
     "name": "stdout",
     "output_type": "stream",
     "text": [
      "Произошла ебучая ошибка: Message: \n",
      "\n",
      "Произошла ебучая ошибка: Message: \n",
      "\n",
      "Произошла ебучая ошибка: Message: \n",
      "\n"
     ]
    },
    {
     "data": {
      "application/vnd.jupyter.widget-view+json": {
       "model_id": "9e0711fae1a249eaa04d436e2a069bdb",
       "version_major": 2,
       "version_minor": 0
      },
      "text/plain": [
       "  0%|          | 0/30 [00:00<?, ?it/s]"
      ]
     },
     "metadata": {},
     "output_type": "display_data"
    },
    {
     "name": "stdout",
     "output_type": "stream",
     "text": [
      "Произошла ебучая ошибка: Message: \n",
      "\n"
     ]
    },
    {
     "data": {
      "application/vnd.jupyter.widget-view+json": {
       "model_id": "10364404d21346508a04347770ac35d0",
       "version_major": 2,
       "version_minor": 0
      },
      "text/plain": [
       "  0%|          | 0/30 [00:00<?, ?it/s]"
      ]
     },
     "metadata": {},
     "output_type": "display_data"
    },
    {
     "name": "stdout",
     "output_type": "stream",
     "text": [
      "Произошла ебучая ошибка: Message: \n",
      "\n",
      "Произошла ебучая ошибка: Message: \n",
      "\n"
     ]
    },
    {
     "data": {
      "application/vnd.jupyter.widget-view+json": {
       "model_id": "94bff664e1d94c2b846a12289ee6a2b9",
       "version_major": 2,
       "version_minor": 0
      },
      "text/plain": [
       "  0%|          | 0/30 [00:00<?, ?it/s]"
      ]
     },
     "metadata": {},
     "output_type": "display_data"
    },
    {
     "name": "stdout",
     "output_type": "stream",
     "text": [
      "Произошла ебучая ошибка: Message: \n",
      "\n"
     ]
    },
    {
     "data": {
      "application/vnd.jupyter.widget-view+json": {
       "model_id": "d1f6cf19025947d398e4c4aa88668ef3",
       "version_major": 2,
       "version_minor": 0
      },
      "text/plain": [
       "  0%|          | 0/30 [00:00<?, ?it/s]"
      ]
     },
     "metadata": {},
     "output_type": "display_data"
    },
    {
     "name": "stdout",
     "output_type": "stream",
     "text": [
      "Произошла ебучая ошибка: Message: \n",
      "\n"
     ]
    },
    {
     "data": {
      "application/vnd.jupyter.widget-view+json": {
       "model_id": "6576120a5f7f4279977ba9da77abec1b",
       "version_major": 2,
       "version_minor": 0
      },
      "text/plain": [
       "  0%|          | 0/30 [00:00<?, ?it/s]"
      ]
     },
     "metadata": {},
     "output_type": "display_data"
    },
    {
     "name": "stdout",
     "output_type": "stream",
     "text": [
      "Произошла ебучая ошибка: Message: \n",
      "\n"
     ]
    },
    {
     "data": {
      "application/vnd.jupyter.widget-view+json": {
       "model_id": "3468b82c5920400185f6b943e6a7b383",
       "version_major": 2,
       "version_minor": 0
      },
      "text/plain": [
       "  0%|          | 0/30 [00:00<?, ?it/s]"
      ]
     },
     "metadata": {},
     "output_type": "display_data"
    },
    {
     "data": {
      "application/vnd.jupyter.widget-view+json": {
       "model_id": "398a06409e974a688014e0c09bdfe22c",
       "version_major": 2,
       "version_minor": 0
      },
      "text/plain": [
       "  0%|          | 0/30 [00:00<?, ?it/s]"
      ]
     },
     "metadata": {},
     "output_type": "display_data"
    },
    {
     "name": "stdout",
     "output_type": "stream",
     "text": [
      "Произошла ебучая ошибка: Message: \n",
      "\n"
     ]
    },
    {
     "data": {
      "application/vnd.jupyter.widget-view+json": {
       "model_id": "17a9b07a35364f3f9f8f0d6acfaa2495",
       "version_major": 2,
       "version_minor": 0
      },
      "text/plain": [
       "  0%|          | 0/30 [00:00<?, ?it/s]"
      ]
     },
     "metadata": {},
     "output_type": "display_data"
    },
    {
     "name": "stdout",
     "output_type": "stream",
     "text": [
      "Произошла ебучая ошибка: Message: \n",
      "\n",
      "Произошла ебучая ошибка: Message: \n",
      "\n",
      "Произошла ебучая ошибка: Message: \n",
      "\n",
      "Произошла ебучая ошибка: Message: \n",
      "\n"
     ]
    },
    {
     "data": {
      "application/vnd.jupyter.widget-view+json": {
       "model_id": "9767dbb562a94965900e89c9f5b5ae09",
       "version_major": 2,
       "version_minor": 0
      },
      "text/plain": [
       "  0%|          | 0/30 [00:00<?, ?it/s]"
      ]
     },
     "metadata": {},
     "output_type": "display_data"
    },
    {
     "name": "stdout",
     "output_type": "stream",
     "text": [
      "Произошла ебучая ошибка: Message: \n",
      "\n"
     ]
    },
    {
     "data": {
      "application/vnd.jupyter.widget-view+json": {
       "model_id": "d7b5cdac5d5a43fbb8a5b52949785420",
       "version_major": 2,
       "version_minor": 0
      },
      "text/plain": [
       "  0%|          | 0/30 [00:00<?, ?it/s]"
      ]
     },
     "metadata": {},
     "output_type": "display_data"
    },
    {
     "data": {
      "application/vnd.jupyter.widget-view+json": {
       "model_id": "760ad7e8e8f3413ea1f8b70b68d0389f",
       "version_major": 2,
       "version_minor": 0
      },
      "text/plain": [
       "  0%|          | 0/30 [00:00<?, ?it/s]"
      ]
     },
     "metadata": {},
     "output_type": "display_data"
    },
    {
     "name": "stdout",
     "output_type": "stream",
     "text": [
      "Произошла ебучая ошибка: Message: \n",
      "\n"
     ]
    },
    {
     "data": {
      "application/vnd.jupyter.widget-view+json": {
       "model_id": "5398e67657e44bad8a73aeb74fc9517b",
       "version_major": 2,
       "version_minor": 0
      },
      "text/plain": [
       "  0%|          | 0/30 [00:00<?, ?it/s]"
      ]
     },
     "metadata": {},
     "output_type": "display_data"
    },
    {
     "name": "stdout",
     "output_type": "stream",
     "text": [
      "Произошла ебучая ошибка: ('Connection aborted.', RemoteDisconnected('Remote end closed connection without response'))\n",
      "Произошла ебучая ошибка: ('Connection aborted.', RemoteDisconnected('Remote end closed connection without response'))\n",
      "Произошла ебучая ошибка: ('Connection aborted.', RemoteDisconnected('Remote end closed connection without response'))\n",
      "Произошла ебучая ошибка: ('Connection aborted.', RemoteDisconnected('Remote end closed connection without response'))\n",
      "Произошла ебучая ошибка: ('Connection aborted.', RemoteDisconnected('Remote end closed connection without response'))\n",
      "Произошла ебучая ошибка: ('Connection aborted.', RemoteDisconnected('Remote end closed connection without response'))\n",
      "Произошла ебучая ошибка: ('Connection aborted.', RemoteDisconnected('Remote end closed connection without response'))\n",
      "Произошла ебучая ошибка: ('Connection aborted.', RemoteDisconnected('Remote end closed connection without response'))\n",
      "Произошла ебучая ошибка: ('Connection aborted.', RemoteDisconnected('Remote end closed connection without response'))\n",
      "Произошла ебучая ошибка: ('Connection aborted.', RemoteDisconnected('Remote end closed connection without response'))\n",
      "Произошла ебучая ошибка: ('Connection aborted.', RemoteDisconnected('Remote end closed connection without response'))\n",
      "Произошла ебучая ошибка: ('Connection aborted.', RemoteDisconnected('Remote end closed connection without response'))\n"
     ]
    },
    {
     "data": {
      "application/vnd.jupyter.widget-view+json": {
       "model_id": "7cf04d2002f74654a36c1b2b9e34c18c",
       "version_major": 2,
       "version_minor": 0
      },
      "text/plain": [
       "  0%|          | 0/30 [00:00<?, ?it/s]"
      ]
     },
     "metadata": {},
     "output_type": "display_data"
    },
    {
     "data": {
      "application/vnd.jupyter.widget-view+json": {
       "model_id": "79bfde76474f4fb0ad1283448517eb9d",
       "version_major": 2,
       "version_minor": 0
      },
      "text/plain": [
       "  0%|          | 0/30 [00:00<?, ?it/s]"
      ]
     },
     "metadata": {},
     "output_type": "display_data"
    },
    {
     "data": {
      "application/vnd.jupyter.widget-view+json": {
       "model_id": "69331ce221bb4ed4aba4b1203d4b72ea",
       "version_major": 2,
       "version_minor": 0
      },
      "text/plain": [
       "  0%|          | 0/30 [00:00<?, ?it/s]"
      ]
     },
     "metadata": {},
     "output_type": "display_data"
    },
    {
     "data": {
      "application/vnd.jupyter.widget-view+json": {
       "model_id": "254526f1bafb4d68b788746b31403297",
       "version_major": 2,
       "version_minor": 0
      },
      "text/plain": [
       "  0%|          | 0/30 [00:00<?, ?it/s]"
      ]
     },
     "metadata": {},
     "output_type": "display_data"
    },
    {
     "data": {
      "application/vnd.jupyter.widget-view+json": {
       "model_id": "e7ce08dcccb044d4a3899a3724e33ec9",
       "version_major": 2,
       "version_minor": 0
      },
      "text/plain": [
       "  0%|          | 0/30 [00:00<?, ?it/s]"
      ]
     },
     "metadata": {},
     "output_type": "display_data"
    },
    {
     "name": "stdout",
     "output_type": "stream",
     "text": [
      "Произошла ебучая ошибка: Message: \n",
      "\n",
      "Произошла ебучая ошибка: Message: \n",
      "\n"
     ]
    },
    {
     "data": {
      "application/vnd.jupyter.widget-view+json": {
       "model_id": "fb54aa723de3475081216beedddd717b",
       "version_major": 2,
       "version_minor": 0
      },
      "text/plain": [
       "  0%|          | 0/30 [00:00<?, ?it/s]"
      ]
     },
     "metadata": {},
     "output_type": "display_data"
    },
    {
     "name": "stdout",
     "output_type": "stream",
     "text": [
      "Произошла ебучая ошибка: Message: \n",
      "\n"
     ]
    },
    {
     "data": {
      "application/vnd.jupyter.widget-view+json": {
       "model_id": "fcd1b1bfe3964d21a2f5e542e87d4922",
       "version_major": 2,
       "version_minor": 0
      },
      "text/plain": [
       "  0%|          | 0/30 [00:00<?, ?it/s]"
      ]
     },
     "metadata": {},
     "output_type": "display_data"
    },
    {
     "data": {
      "application/vnd.jupyter.widget-view+json": {
       "model_id": "bde42cd98b0e40d79cb245c738085e5d",
       "version_major": 2,
       "version_minor": 0
      },
      "text/plain": [
       "  0%|          | 0/30 [00:00<?, ?it/s]"
      ]
     },
     "metadata": {},
     "output_type": "display_data"
    },
    {
     "name": "stdout",
     "output_type": "stream",
     "text": [
      "Произошла ебучая ошибка: Message: \n",
      "\n",
      "Произошла ебучая ошибка: Message: \n",
      "\n"
     ]
    },
    {
     "data": {
      "application/vnd.jupyter.widget-view+json": {
       "model_id": "92d1e4fd5f8f4efa8c7581e680a4c39f",
       "version_major": 2,
       "version_minor": 0
      },
      "text/plain": [
       "  0%|          | 0/30 [00:00<?, ?it/s]"
      ]
     },
     "metadata": {},
     "output_type": "display_data"
    },
    {
     "name": "stdout",
     "output_type": "stream",
     "text": [
      "Произошла ебучая ошибка: Message: \n",
      "\n"
     ]
    },
    {
     "data": {
      "application/vnd.jupyter.widget-view+json": {
       "model_id": "908092ecfa3c4d76b12ebf805211bc39",
       "version_major": 2,
       "version_minor": 0
      },
      "text/plain": [
       "  0%|          | 0/30 [00:00<?, ?it/s]"
      ]
     },
     "metadata": {},
     "output_type": "display_data"
    },
    {
     "name": "stdout",
     "output_type": "stream",
     "text": [
      "Произошла ебучая ошибка: Message: \n",
      "\n"
     ]
    },
    {
     "data": {
      "application/vnd.jupyter.widget-view+json": {
       "model_id": "96754d73608b4081842ae1042a810f28",
       "version_major": 2,
       "version_minor": 0
      },
      "text/plain": [
       "  0%|          | 0/30 [00:00<?, ?it/s]"
      ]
     },
     "metadata": {},
     "output_type": "display_data"
    },
    {
     "name": "stdout",
     "output_type": "stream",
     "text": [
      "Произошла ебучая ошибка: Message: \n",
      "\n",
      "Произошла ебучая ошибка: Message: \n",
      "\n"
     ]
    },
    {
     "data": {
      "application/vnd.jupyter.widget-view+json": {
       "model_id": "007393064c1d425783989db5a160426d",
       "version_major": 2,
       "version_minor": 0
      },
      "text/plain": [
       "  0%|          | 0/30 [00:00<?, ?it/s]"
      ]
     },
     "metadata": {},
     "output_type": "display_data"
    },
    {
     "data": {
      "application/vnd.jupyter.widget-view+json": {
       "model_id": "ebf175d2aec2447ca4241cf64adda512",
       "version_major": 2,
       "version_minor": 0
      },
      "text/plain": [
       "  0%|          | 0/30 [00:00<?, ?it/s]"
      ]
     },
     "metadata": {},
     "output_type": "display_data"
    },
    {
     "name": "stdout",
     "output_type": "stream",
     "text": [
      "Произошла ебучая ошибка: Message: \n",
      "\n",
      "Произошла ебучая ошибка: Message: \n",
      "\n"
     ]
    },
    {
     "data": {
      "application/vnd.jupyter.widget-view+json": {
       "model_id": "ab271f9eabe54c44a77e0ab5deaaf2cd",
       "version_major": 2,
       "version_minor": 0
      },
      "text/plain": [
       "  0%|          | 0/30 [00:00<?, ?it/s]"
      ]
     },
     "metadata": {},
     "output_type": "display_data"
    },
    {
     "data": {
      "application/vnd.jupyter.widget-view+json": {
       "model_id": "1a1c3ed6c4044530a12781fcf7856366",
       "version_major": 2,
       "version_minor": 0
      },
      "text/plain": [
       "  0%|          | 0/30 [00:00<?, ?it/s]"
      ]
     },
     "metadata": {},
     "output_type": "display_data"
    },
    {
     "name": "stdout",
     "output_type": "stream",
     "text": [
      "Произошла ебучая ошибка: Message: \n",
      "\n",
      "Произошла ебучая ошибка: HTTPSConnectionPool(host='produkty24.com.ua', port=443): Read timed out. (read timeout=None)\n"
     ]
    },
    {
     "data": {
      "application/vnd.jupyter.widget-view+json": {
       "model_id": "5f40b39546a6497e972650481f374cd2",
       "version_major": 2,
       "version_minor": 0
      },
      "text/plain": [
       "  0%|          | 0/30 [00:00<?, ?it/s]"
      ]
     },
     "metadata": {},
     "output_type": "display_data"
    },
    {
     "name": "stdout",
     "output_type": "stream",
     "text": [
      "Произошла ебучая ошибка: HTTPSConnectionPool(host='svezhemaniya.ru', port=443): Max retries exceeded with url: /upload/iblock/4d6/v8z2xg4ph94uil8k0brsaxy88y6gwb3o.webp (Caused by SSLError(SSLCertVerificationError(1, '[SSL: CERTIFICATE_VERIFY_FAILED] certificate verify failed: unable to get local issuer certificate (_ssl.c:1006)')))\n"
     ]
    },
    {
     "data": {
      "application/vnd.jupyter.widget-view+json": {
       "model_id": "d5557884e2954521ad756576978bf71f",
       "version_major": 2,
       "version_minor": 0
      },
      "text/plain": [
       "  0%|          | 0/30 [00:00<?, ?it/s]"
      ]
     },
     "metadata": {},
     "output_type": "display_data"
    },
    {
     "data": {
      "application/vnd.jupyter.widget-view+json": {
       "model_id": "b2ee819ec2c14e69a10de6bf2adda5aa",
       "version_major": 2,
       "version_minor": 0
      },
      "text/plain": [
       "  0%|          | 0/30 [00:00<?, ?it/s]"
      ]
     },
     "metadata": {},
     "output_type": "display_data"
    },
    {
     "name": "stdout",
     "output_type": "stream",
     "text": [
      "Произошла ебучая ошибка: Message: \n",
      "\n",
      "Произошла ебучая ошибка: Message: \n",
      "\n",
      "Произошла ебучая ошибка: Message: \n",
      "\n",
      "Произошла ебучая ошибка: Message: \n",
      "\n"
     ]
    },
    {
     "data": {
      "application/vnd.jupyter.widget-view+json": {
       "model_id": "0deaec7c8b0e400a8fac3e9474926416",
       "version_major": 2,
       "version_minor": 0
      },
      "text/plain": [
       "  0%|          | 0/30 [00:00<?, ?it/s]"
      ]
     },
     "metadata": {},
     "output_type": "display_data"
    },
    {
     "name": "stdout",
     "output_type": "stream",
     "text": [
      "Произошла ебучая ошибка: Message: \n",
      "\n"
     ]
    },
    {
     "data": {
      "application/vnd.jupyter.widget-view+json": {
       "model_id": "e7717f1a6ec446d7ae27d072a387908e",
       "version_major": 2,
       "version_minor": 0
      },
      "text/plain": [
       "  0%|          | 0/30 [00:00<?, ?it/s]"
      ]
     },
     "metadata": {},
     "output_type": "display_data"
    },
    {
     "name": "stdout",
     "output_type": "stream",
     "text": [
      "Произошла ебучая ошибка: HTTPSConnectionPool(host='swnn.ru', port=443): Max retries exceeded with url: /image/cache/catalog/products/57397-500x500.jpg (Caused by SSLError(SSLCertVerificationError(1, '[SSL: CERTIFICATE_VERIFY_FAILED] certificate verify failed: unable to get local issuer certificate (_ssl.c:1006)')))\n"
     ]
    },
    {
     "data": {
      "application/vnd.jupyter.widget-view+json": {
       "model_id": "c2c91b543cf64845a0385d21ace40cf1",
       "version_major": 2,
       "version_minor": 0
      },
      "text/plain": [
       "  0%|          | 0/30 [00:00<?, ?it/s]"
      ]
     },
     "metadata": {},
     "output_type": "display_data"
    },
    {
     "data": {
      "application/vnd.jupyter.widget-view+json": {
       "model_id": "eac7c573de7549a8b6cab31e07dc1634",
       "version_major": 2,
       "version_minor": 0
      },
      "text/plain": [
       "  0%|          | 0/30 [00:00<?, ?it/s]"
      ]
     },
     "metadata": {},
     "output_type": "display_data"
    },
    {
     "name": "stdout",
     "output_type": "stream",
     "text": [
      "Произошла ебучая ошибка: HTTPSConnectionPool(host='sibprod.info', port=443): Max retries exceeded with url: /upload/resize_cache/iblock/799/624_962_19d1669f6609e6dfcaeac28e5aab5b3be/799ca50d28f9f6462877eafc35d215dc.jpeg (Caused by SSLError(SSLCertVerificationError(1, '[SSL: CERTIFICATE_VERIFY_FAILED] certificate verify failed: unable to get local issuer certificate (_ssl.c:1006)')))\n"
     ]
    },
    {
     "data": {
      "application/vnd.jupyter.widget-view+json": {
       "model_id": "65799fb043ba4dd69cb86ff1daf4eede",
       "version_major": 2,
       "version_minor": 0
      },
      "text/plain": [
       "  0%|          | 0/30 [00:00<?, ?it/s]"
      ]
     },
     "metadata": {},
     "output_type": "display_data"
    },
    {
     "name": "stdout",
     "output_type": "stream",
     "text": [
      "Произошла ебучая ошибка: Message: \n",
      "\n"
     ]
    },
    {
     "data": {
      "application/vnd.jupyter.widget-view+json": {
       "model_id": "fde26985192c441f93d884b8525bb974",
       "version_major": 2,
       "version_minor": 0
      },
      "text/plain": [
       "  0%|          | 0/30 [00:00<?, ?it/s]"
      ]
     },
     "metadata": {},
     "output_type": "display_data"
    },
    {
     "name": "stdout",
     "output_type": "stream",
     "text": [
      "Произошла ебучая ошибка: Message: \n",
      "\n",
      "Произошла ебучая ошибка: HTTPSConnectionPool(host='produkty24.com.ua', port=443): Read timed out. (read timeout=None)\n"
     ]
    },
    {
     "data": {
      "application/vnd.jupyter.widget-view+json": {
       "model_id": "873ed554b51d420ca1fef17c40343209",
       "version_major": 2,
       "version_minor": 0
      },
      "text/plain": [
       "  0%|          | 0/30 [00:00<?, ?it/s]"
      ]
     },
     "metadata": {},
     "output_type": "display_data"
    },
    {
     "name": "stdout",
     "output_type": "stream",
     "text": [
      "Произошла ебучая ошибка: Message: \n",
      "\n"
     ]
    },
    {
     "data": {
      "application/vnd.jupyter.widget-view+json": {
       "model_id": "bd34148ee1a442729bde4d1ed6410356",
       "version_major": 2,
       "version_minor": 0
      },
      "text/plain": [
       "  0%|          | 0/30 [00:00<?, ?it/s]"
      ]
     },
     "metadata": {},
     "output_type": "display_data"
    },
    {
     "name": "stdout",
     "output_type": "stream",
     "text": [
      "Произошла ебучая ошибка: Message: \n",
      "\n"
     ]
    },
    {
     "data": {
      "application/vnd.jupyter.widget-view+json": {
       "model_id": "6600eb0d9d8a4bcd9d32a96c9c6648f8",
       "version_major": 2,
       "version_minor": 0
      },
      "text/plain": [
       "  0%|          | 0/30 [00:00<?, ?it/s]"
      ]
     },
     "metadata": {},
     "output_type": "display_data"
    },
    {
     "data": {
      "application/vnd.jupyter.widget-view+json": {
       "model_id": "9c93583825124458a9d97e870ad1d167",
       "version_major": 2,
       "version_minor": 0
      },
      "text/plain": [
       "  0%|          | 0/30 [00:00<?, ?it/s]"
      ]
     },
     "metadata": {},
     "output_type": "display_data"
    },
    {
     "name": "stdout",
     "output_type": "stream",
     "text": [
      "Произошла ебучая ошибка: Message: \n",
      "\n",
      "Произошла ебучая ошибка: ('Connection aborted.', RemoteDisconnected('Remote end closed connection without response'))\n",
      "Произошла ебучая ошибка: HTTPSConnectionPool(host='blog.comfy.ua', port=443): Read timed out. (read timeout=None)\n"
     ]
    },
    {
     "data": {
      "application/vnd.jupyter.widget-view+json": {
       "model_id": "65139b88b96041048d7393303c94de58",
       "version_major": 2,
       "version_minor": 0
      },
      "text/plain": [
       "  0%|          | 0/30 [00:00<?, ?it/s]"
      ]
     },
     "metadata": {},
     "output_type": "display_data"
    },
    {
     "name": "stdout",
     "output_type": "stream",
     "text": [
      "Произошла ебучая ошибка: Message: \n",
      "\n",
      "Произошла ебучая ошибка: Message: \n",
      "\n"
     ]
    },
    {
     "data": {
      "application/vnd.jupyter.widget-view+json": {
       "model_id": "27ed75befbca45d8bbc6549c9823225e",
       "version_major": 2,
       "version_minor": 0
      },
      "text/plain": [
       "  0%|          | 0/30 [00:00<?, ?it/s]"
      ]
     },
     "metadata": {},
     "output_type": "display_data"
    },
    {
     "data": {
      "application/vnd.jupyter.widget-view+json": {
       "model_id": "05ba35869086413895248a57907722c0",
       "version_major": 2,
       "version_minor": 0
      },
      "text/plain": [
       "  0%|          | 0/30 [00:00<?, ?it/s]"
      ]
     },
     "metadata": {},
     "output_type": "display_data"
    },
    {
     "name": "stdout",
     "output_type": "stream",
     "text": [
      "Произошла ебучая ошибка: Message: \n",
      "\n"
     ]
    },
    {
     "data": {
      "application/vnd.jupyter.widget-view+json": {
       "model_id": "c00225af74854a5f890014f18e0e48ee",
       "version_major": 2,
       "version_minor": 0
      },
      "text/plain": [
       "  0%|          | 0/30 [00:00<?, ?it/s]"
      ]
     },
     "metadata": {},
     "output_type": "display_data"
    },
    {
     "name": "stdout",
     "output_type": "stream",
     "text": [
      "Произошла ебучая ошибка: Message: \n",
      "\n"
     ]
    },
    {
     "data": {
      "application/vnd.jupyter.widget-view+json": {
       "model_id": "8174108585404550af31d9beee40bcdc",
       "version_major": 2,
       "version_minor": 0
      },
      "text/plain": [
       "  0%|          | 0/30 [00:00<?, ?it/s]"
      ]
     },
     "metadata": {},
     "output_type": "display_data"
    },
    {
     "name": "stdout",
     "output_type": "stream",
     "text": [
      "Произошла ебучая ошибка: HTTPSConnectionPool(host='produkty24.com.ua', port=443): Read timed out. (read timeout=None)\n",
      "Произошла ебучая ошибка: Message: \n",
      "\n",
      "Произошла ебучая ошибка: HTTPSConnectionPool(host='cdn.27.ua', port=443): Read timed out. (read timeout=None)\n"
     ]
    },
    {
     "data": {
      "application/vnd.jupyter.widget-view+json": {
       "model_id": "e5c8dd591bb54139b8668a977c5be1a3",
       "version_major": 2,
       "version_minor": 0
      },
      "text/plain": [
       "  0%|          | 0/30 [00:00<?, ?it/s]"
      ]
     },
     "metadata": {},
     "output_type": "display_data"
    },
    {
     "name": "stdout",
     "output_type": "stream",
     "text": [
      "Произошла ебучая ошибка: Message: \n",
      "\n",
      "Произошла ебучая ошибка: Message: \n",
      "\n",
      "Произошла ебучая ошибка: Message: \n",
      "\n"
     ]
    },
    {
     "data": {
      "application/vnd.jupyter.widget-view+json": {
       "model_id": "77f3fe12f28c437c870517dfc6c9c5e0",
       "version_major": 2,
       "version_minor": 0
      },
      "text/plain": [
       "  0%|          | 0/30 [00:00<?, ?it/s]"
      ]
     },
     "metadata": {},
     "output_type": "display_data"
    },
    {
     "name": "stdout",
     "output_type": "stream",
     "text": [
      "Произошла ебучая ошибка: HTTPSConnectionPool(host='www.ekoniva-moloko.com', port=443): Max retries exceeded with url: /uploads/3/moloko-3.2-purepack-1000-1.jpg (Caused by SSLError(SSLCertVerificationError(1, '[SSL: CERTIFICATE_VERIFY_FAILED] certificate verify failed: unable to get local issuer certificate (_ssl.c:1006)')))\n",
      "Произошла ебучая ошибка: Message: \n",
      "\n"
     ]
    },
    {
     "data": {
      "application/vnd.jupyter.widget-view+json": {
       "model_id": "d89b1e4deb6542f5afd1b2183508ac44",
       "version_major": 2,
       "version_minor": 0
      },
      "text/plain": [
       "  0%|          | 0/30 [00:00<?, ?it/s]"
      ]
     },
     "metadata": {},
     "output_type": "display_data"
    },
    {
     "data": {
      "application/vnd.jupyter.widget-view+json": {
       "model_id": "55ab9a74ff4c4fd9b57a077da792008b",
       "version_major": 2,
       "version_minor": 0
      },
      "text/plain": [
       "  0%|          | 0/30 [00:00<?, ?it/s]"
      ]
     },
     "metadata": {},
     "output_type": "display_data"
    },
    {
     "name": "stdout",
     "output_type": "stream",
     "text": [
      "Произошла ебучая ошибка: Message: \n",
      "\n",
      "Произошла ебучая ошибка: Message: \n",
      "\n"
     ]
    },
    {
     "data": {
      "application/vnd.jupyter.widget-view+json": {
       "model_id": "e2f8ea85385243359542effc17383b08",
       "version_major": 2,
       "version_minor": 0
      },
      "text/plain": [
       "  0%|          | 0/30 [00:00<?, ?it/s]"
      ]
     },
     "metadata": {},
     "output_type": "display_data"
    },
    {
     "name": "stdout",
     "output_type": "stream",
     "text": [
      "Произошла ебучая ошибка: Message: \n",
      "\n",
      "Произошла ебучая ошибка: Message: \n",
      "\n"
     ]
    },
    {
     "data": {
      "application/vnd.jupyter.widget-view+json": {
       "model_id": "aca2da355169422b8aaf98a03fa07146",
       "version_major": 2,
       "version_minor": 0
      },
      "text/plain": [
       "  0%|          | 0/30 [00:00<?, ?it/s]"
      ]
     },
     "metadata": {},
     "output_type": "display_data"
    },
    {
     "data": {
      "application/vnd.jupyter.widget-view+json": {
       "model_id": "a17015d995794e859b3f0dbe8616f792",
       "version_major": 2,
       "version_minor": 0
      },
      "text/plain": [
       "  0%|          | 0/30 [00:00<?, ?it/s]"
      ]
     },
     "metadata": {},
     "output_type": "display_data"
    },
    {
     "data": {
      "application/vnd.jupyter.widget-view+json": {
       "model_id": "b5f63901c08f4966a82ed17a619a8b74",
       "version_major": 2,
       "version_minor": 0
      },
      "text/plain": [
       "  0%|          | 0/30 [00:00<?, ?it/s]"
      ]
     },
     "metadata": {},
     "output_type": "display_data"
    },
    {
     "name": "stdout",
     "output_type": "stream",
     "text": [
      "Произошла ебучая ошибка: Message: \n",
      "\n",
      "Произошла ебучая ошибка: Message: \n",
      "\n",
      "Произошла ебучая ошибка: Message: \n",
      "\n",
      "Произошла ебучая ошибка: Message: \n",
      "\n",
      "Произошла ебучая ошибка: Message: \n",
      "\n",
      "Произошла ебучая ошибка: Message: \n",
      "\n",
      "Произошла ебучая ошибка: Message: \n",
      "\n",
      "Произошла ебучая ошибка: Message: \n",
      "\n",
      "Произошла ебучая ошибка: Message: \n",
      "\n"
     ]
    },
    {
     "data": {
      "application/vnd.jupyter.widget-view+json": {
       "model_id": "ae4d75e4733a4eb08e7be5627e04aa62",
       "version_major": 2,
       "version_minor": 0
      },
      "text/plain": [
       "  0%|          | 0/30 [00:00<?, ?it/s]"
      ]
     },
     "metadata": {},
     "output_type": "display_data"
    },
    {
     "data": {
      "application/vnd.jupyter.widget-view+json": {
       "model_id": "0f64032b92394281a1eb8253f53539c3",
       "version_major": 2,
       "version_minor": 0
      },
      "text/plain": [
       "  0%|          | 0/30 [00:00<?, ?it/s]"
      ]
     },
     "metadata": {},
     "output_type": "display_data"
    },
    {
     "name": "stdout",
     "output_type": "stream",
     "text": [
      "Произошла ебучая ошибка: Message: \n",
      "\n"
     ]
    },
    {
     "data": {
      "application/vnd.jupyter.widget-view+json": {
       "model_id": "3307dda3dfc34b05bb68d4e7fc815b2a",
       "version_major": 2,
       "version_minor": 0
      },
      "text/plain": [
       "  0%|          | 0/30 [00:00<?, ?it/s]"
      ]
     },
     "metadata": {},
     "output_type": "display_data"
    },
    {
     "data": {
      "application/vnd.jupyter.widget-view+json": {
       "model_id": "3e7c16f7d97e4089973246b081b564ea",
       "version_major": 2,
       "version_minor": 0
      },
      "text/plain": [
       "  0%|          | 0/30 [00:00<?, ?it/s]"
      ]
     },
     "metadata": {},
     "output_type": "display_data"
    },
    {
     "name": "stdout",
     "output_type": "stream",
     "text": [
      "Произошла ебучая ошибка: Message: \n",
      "\n",
      "Произошла ебучая ошибка: Message: \n",
      "\n",
      "Произошла ебучая ошибка: Message: \n",
      "\n",
      "Произошла ебучая ошибка: Message: \n",
      "\n",
      "Произошла ебучая ошибка: Message: \n",
      "\n"
     ]
    },
    {
     "data": {
      "application/vnd.jupyter.widget-view+json": {
       "model_id": "999910f328564525bc84fc86f7e078b0",
       "version_major": 2,
       "version_minor": 0
      },
      "text/plain": [
       "  0%|          | 0/30 [00:00<?, ?it/s]"
      ]
     },
     "metadata": {},
     "output_type": "display_data"
    },
    {
     "name": "stdout",
     "output_type": "stream",
     "text": [
      "Произошла ебучая ошибка: Message: \n",
      "\n"
     ]
    },
    {
     "data": {
      "application/vnd.jupyter.widget-view+json": {
       "model_id": "0006c03df3ae4cc5b08ff5f3afb9beba",
       "version_major": 2,
       "version_minor": 0
      },
      "text/plain": [
       "  0%|          | 0/30 [00:00<?, ?it/s]"
      ]
     },
     "metadata": {},
     "output_type": "display_data"
    },
    {
     "name": "stdout",
     "output_type": "stream",
     "text": [
      "Произошла ебучая ошибка: Message: \n",
      "\n"
     ]
    },
    {
     "data": {
      "application/vnd.jupyter.widget-view+json": {
       "model_id": "ec0eed8ce953482098e2d775996a1cb6",
       "version_major": 2,
       "version_minor": 0
      },
      "text/plain": [
       "  0%|          | 0/30 [00:00<?, ?it/s]"
      ]
     },
     "metadata": {},
     "output_type": "display_data"
    },
    {
     "name": "stdout",
     "output_type": "stream",
     "text": [
      "Произошла ебучая ошибка: Message: \n",
      "\n"
     ]
    },
    {
     "data": {
      "application/vnd.jupyter.widget-view+json": {
       "model_id": "6de67fe9b66b4f18a52871d21b0557a5",
       "version_major": 2,
       "version_minor": 0
      },
      "text/plain": [
       "  0%|          | 0/30 [00:00<?, ?it/s]"
      ]
     },
     "metadata": {},
     "output_type": "display_data"
    },
    {
     "data": {
      "application/vnd.jupyter.widget-view+json": {
       "model_id": "9b486d3f5fc74209aefbeed3351bd4fc",
       "version_major": 2,
       "version_minor": 0
      },
      "text/plain": [
       "  0%|          | 0/30 [00:00<?, ?it/s]"
      ]
     },
     "metadata": {},
     "output_type": "display_data"
    },
    {
     "name": "stdout",
     "output_type": "stream",
     "text": [
      "Произошла ебучая ошибка: Message: \n",
      "\n",
      "Произошла ебучая ошибка: Message: \n",
      "\n"
     ]
    },
    {
     "data": {
      "application/vnd.jupyter.widget-view+json": {
       "model_id": "594eb98555d0434982b0d457deec38e6",
       "version_major": 2,
       "version_minor": 0
      },
      "text/plain": [
       "  0%|          | 0/30 [00:00<?, ?it/s]"
      ]
     },
     "metadata": {},
     "output_type": "display_data"
    },
    {
     "name": "stdout",
     "output_type": "stream",
     "text": [
      "Произошла ебучая ошибка: Message: \n",
      "\n"
     ]
    },
    {
     "data": {
      "application/vnd.jupyter.widget-view+json": {
       "model_id": "d76b744e70a24aefa734f960fbdd1012",
       "version_major": 2,
       "version_minor": 0
      },
      "text/plain": [
       "  0%|          | 0/30 [00:00<?, ?it/s]"
      ]
     },
     "metadata": {},
     "output_type": "display_data"
    },
    {
     "name": "stdout",
     "output_type": "stream",
     "text": [
      "Произошла ебучая ошибка: Message: \n",
      "\n"
     ]
    },
    {
     "data": {
      "application/vnd.jupyter.widget-view+json": {
       "model_id": "a3a980c9c8d0490681d9a4d4f6724530",
       "version_major": 2,
       "version_minor": 0
      },
      "text/plain": [
       "  0%|          | 0/30 [00:00<?, ?it/s]"
      ]
     },
     "metadata": {},
     "output_type": "display_data"
    },
    {
     "name": "stdout",
     "output_type": "stream",
     "text": [
      "Произошла ебучая ошибка: Message: \n",
      "\n"
     ]
    },
    {
     "data": {
      "application/vnd.jupyter.widget-view+json": {
       "model_id": "2494eef873204049bf1f62ca6affdff6",
       "version_major": 2,
       "version_minor": 0
      },
      "text/plain": [
       "  0%|          | 0/30 [00:00<?, ?it/s]"
      ]
     },
     "metadata": {},
     "output_type": "display_data"
    },
    {
     "name": "stdout",
     "output_type": "stream",
     "text": [
      "Произошла ебучая ошибка: Message: \n",
      "\n",
      "Произошла ебучая ошибка: Message: \n",
      "\n",
      "Произошла ебучая ошибка: Message: \n",
      "\n"
     ]
    },
    {
     "data": {
      "application/vnd.jupyter.widget-view+json": {
       "model_id": "4e091a1220824acb969d6d42364989f3",
       "version_major": 2,
       "version_minor": 0
      },
      "text/plain": [
       "  0%|          | 0/30 [00:00<?, ?it/s]"
      ]
     },
     "metadata": {},
     "output_type": "display_data"
    },
    {
     "ename": "KeyboardInterrupt",
     "evalue": "",
     "output_type": "error",
     "traceback": [
      "\u001b[0;31m---------------------------------------------------------------------------\u001b[0m",
      "\u001b[0;31mKeyboardInterrupt\u001b[0m                         Traceback (most recent call last)",
      "Cell \u001b[0;32mIn[17], line 8\u001b[0m\n\u001b[1;32m      6\u001b[0m \u001b[38;5;28;01mfor\u001b[39;00m word \u001b[38;5;129;01min\u001b[39;00m tqdm(df[\u001b[38;5;124m'\u001b[39m\u001b[38;5;124mname\u001b[39m\u001b[38;5;124m'\u001b[39m]\u001b[38;5;241m.\u001b[39munique()[\u001b[38;5;241m1\u001b[39m:]):\n\u001b[1;32m      7\u001b[0m     a\u001b[38;5;241m.\u001b[39mchange_word(word)\n\u001b[0;32m----> 8\u001b[0m     \u001b[43ma\u001b[49m\u001b[38;5;241;43m.\u001b[39;49m\u001b[43mscrapping_page\u001b[49m\u001b[43m(\u001b[49m\u001b[43mdf_new\u001b[49m\u001b[43m,\u001b[49m\u001b[43mcount_image\u001b[49m\u001b[38;5;241;43m=\u001b[39;49m\u001b[38;5;241;43m30\u001b[39;49m\u001b[43m)\u001b[49m\n",
      "Cell \u001b[0;32mIn[16], line 56\u001b[0m, in \u001b[0;36mGooImage.scrapping_page\u001b[0;34m(self, df, count_image)\u001b[0m\n\u001b[1;32m     53\u001b[0m \u001b[38;5;28;01mfor\u001b[39;00m \u001b[38;5;28miter\u001b[39m \u001b[38;5;129;01min\u001b[39;00m tqdm(\u001b[38;5;28mrange\u001b[39m(count_image)):\n\u001b[1;32m     55\u001b[0m     sec \u001b[38;5;241m=\u001b[39m np\u001b[38;5;241m.\u001b[39mrandom\u001b[38;5;241m.\u001b[39mchoice(\u001b[38;5;28mself\u001b[39m\u001b[38;5;241m.\u001b[39mrandom_seconds)\n\u001b[0;32m---> 56\u001b[0m     time\u001b[38;5;241m.\u001b[39msleep(sec)\n\u001b[1;32m     58\u001b[0m     \u001b[38;5;28;01mtry\u001b[39;00m:\n\u001b[1;32m     59\u001b[0m         \u001b[38;5;66;03m# нажимаем на критинку \u001b[39;00m\n\u001b[1;32m     60\u001b[0m         elems[\u001b[38;5;28miter\u001b[39m]\u001b[38;5;241m.\u001b[39mclick()\n",
      "\u001b[0;31mKeyboardInterrupt\u001b[0m: "
     ]
    }
   ],
   "source": [
    "# создаем объект и список\n",
    "df_new = []\n",
    "a = GooImage(df['name'].unique()[0])\n",
    "a.scrapping_page(df_new,count_image=30)\n",
    "\n",
    "for word in tqdm(df['name'].unique()[1:]):\n",
    "    a.change_word(word)\n",
    "    a.scrapping_page(df_new,count_image=30)"
   ]
  },
  {
   "cell_type": "code",
   "execution_count": 20,
   "id": "74c7b258-1725-4a32-8395-c763977a54f8",
   "metadata": {},
   "outputs": [
    {
     "data": {
      "text/plain": [
       "[['Лисички свежие', 0, 'image/Лисички свежие/Лисички свежие_image0.jpg'],\n",
       " ['Лисички свежие', 1, 'image/Лисички свежие/Лисички свежие_image1.jpg'],\n",
       " ['Лисички свежие', 2, 'image/Лисички свежие/Лисички свежие_image2.jpg'],\n",
       " ['Лисички свежие', 3, 'image/Лисички свежие/Лисички свежие_image3.jpg'],\n",
       " ['Лисички свежие', 4, 'image/Лисички свежие/Лисички свежие_image4.jpg'],\n",
       " ['Лисички свежие', 5, 'image/Лисички свежие/Лисички свежие_image5.jpg'],\n",
       " ['Лисички свежие', 6, 'image/Лисички свежие/Лисички свежие_image6.jpg'],\n",
       " ['Лисички свежие', 7, 'image/Лисички свежие/Лисички свежие_image7.jpg'],\n",
       " ['Лисички свежие', 8, 'image/Лисички свежие/Лисички свежие_image8.jpg'],\n",
       " ['Лисички свежие', 9, 'image/Лисички свежие/Лисички свежие_image9.jpg'],\n",
       " ['Лисички свежие', 10, 'image/Лисички свежие/Лисички свежие_image10.jpg'],\n",
       " ['Лисички свежие', 11, 'image/Лисички свежие/Лисички свежие_image11.jpg'],\n",
       " ['Лисички свежие', 12, 'image/Лисички свежие/Лисички свежие_image12.jpg'],\n",
       " ['Лисички свежие', 13, 'image/Лисички свежие/Лисички свежие_image13.jpg'],\n",
       " ['Лисички свежие', 15, 'image/Лисички свежие/Лисички свежие_image15.jpg'],\n",
       " ['Лисички свежие', 16, 'image/Лисички свежие/Лисички свежие_image16.jpg'],\n",
       " ['Лисички свежие', 17, 'image/Лисички свежие/Лисички свежие_image17.jpg'],\n",
       " ['Лисички свежие', 18, 'image/Лисички свежие/Лисички свежие_image18.jpg'],\n",
       " ['Лисички свежие', 19, 'image/Лисички свежие/Лисички свежие_image19.jpg'],\n",
       " ['Лисички свежие', 20, 'image/Лисички свежие/Лисички свежие_image20.jpg'],\n",
       " ['Лисички свежие', 21, 'image/Лисички свежие/Лисички свежие_image21.jpg'],\n",
       " ['Лисички свежие', 22, 'image/Лисички свежие/Лисички свежие_image22.jpg'],\n",
       " ['Лисички свежие', 24, 'image/Лисички свежие/Лисички свежие_image24.jpg'],\n",
       " ['Лисички свежие', 25, 'image/Лисички свежие/Лисички свежие_image25.jpg'],\n",
       " ['Лисички свежие', 26, 'image/Лисички свежие/Лисички свежие_image26.jpg'],\n",
       " ['Лисички свежие', 27, 'image/Лисички свежие/Лисички свежие_image27.jpg'],\n",
       " ['Лисички свежие', 28, 'image/Лисички свежие/Лисички свежие_image28.jpg'],\n",
       " ['Лисички свежие', 29, 'image/Лисички свежие/Лисички свежие_image29.jpg'],\n",
       " ['Шампиньоны Hortex резаные',\n",
       "  0,\n",
       "  'image/Шампиньоны Hortex резаные/Шампиньоны Hortex резаные_image0.jpg'],\n",
       " ['Шампиньоны Hortex резаные',\n",
       "  1,\n",
       "  'image/Шампиньоны Hortex резаные/Шампиньоны Hortex резаные_image1.jpg'],\n",
       " ['Шампиньоны Hortex резаные',\n",
       "  2,\n",
       "  'image/Шампиньоны Hortex резаные/Шампиньоны Hortex резаные_image2.jpg'],\n",
       " ['Шампиньоны Hortex резаные',\n",
       "  3,\n",
       "  'image/Шампиньоны Hortex резаные/Шампиньоны Hortex резаные_image3.jpg'],\n",
       " ['Шампиньоны Hortex резаные',\n",
       "  4,\n",
       "  'image/Шампиньоны Hortex резаные/Шампиньоны Hortex резаные_image4.jpg'],\n",
       " ['Шампиньоны Hortex резаные',\n",
       "  5,\n",
       "  'image/Шампиньоны Hortex резаные/Шампиньоны Hortex резаные_image5.jpg'],\n",
       " ['Шампиньоны Hortex резаные',\n",
       "  6,\n",
       "  'image/Шампиньоны Hortex резаные/Шампиньоны Hortex резаные_image6.jpg'],\n",
       " ['Шампиньоны Hortex резаные',\n",
       "  7,\n",
       "  'image/Шампиньоны Hortex резаные/Шампиньоны Hortex резаные_image7.jpg'],\n",
       " ['Шампиньоны Hortex резаные',\n",
       "  8,\n",
       "  'image/Шампиньоны Hortex резаные/Шампиньоны Hortex резаные_image8.jpg'],\n",
       " ['Шампиньоны Hortex резаные',\n",
       "  9,\n",
       "  'image/Шампиньоны Hortex резаные/Шампиньоны Hortex резаные_image9.jpg'],\n",
       " ['Шампиньоны Hortex резаные',\n",
       "  10,\n",
       "  'image/Шампиньоны Hortex резаные/Шампиньоны Hortex резаные_image10.jpg'],\n",
       " ['Шампиньоны Hortex резаные',\n",
       "  11,\n",
       "  'image/Шампиньоны Hortex резаные/Шампиньоны Hortex резаные_image11.jpg'],\n",
       " ['Шампиньоны Hortex резаные',\n",
       "  12,\n",
       "  'image/Шампиньоны Hortex резаные/Шампиньоны Hortex резаные_image12.jpg'],\n",
       " ['Шампиньоны Hortex резаные',\n",
       "  13,\n",
       "  'image/Шампиньоны Hortex резаные/Шампиньоны Hortex резаные_image13.jpg'],\n",
       " ['Шампиньоны Hortex резаные',\n",
       "  14,\n",
       "  'image/Шампиньоны Hortex резаные/Шампиньоны Hortex резаные_image14.jpg'],\n",
       " ['Шампиньоны Hortex резаные',\n",
       "  15,\n",
       "  'image/Шампиньоны Hortex резаные/Шампиньоны Hortex резаные_image15.jpg'],\n",
       " ['Шампиньоны Hortex резаные',\n",
       "  16,\n",
       "  'image/Шампиньоны Hortex резаные/Шампиньоны Hortex резаные_image16.jpg'],\n",
       " ['Шампиньоны Hortex резаные',\n",
       "  17,\n",
       "  'image/Шампиньоны Hortex резаные/Шампиньоны Hortex резаные_image17.jpg'],\n",
       " ['Шампиньоны Hortex резаные',\n",
       "  18,\n",
       "  'image/Шампиньоны Hortex резаные/Шампиньоны Hortex резаные_image18.jpg'],\n",
       " ['Шампиньоны Hortex резаные',\n",
       "  19,\n",
       "  'image/Шампиньоны Hortex резаные/Шампиньоны Hortex резаные_image19.jpg'],\n",
       " ['Шампиньоны Hortex резаные',\n",
       "  20,\n",
       "  'image/Шампиньоны Hortex резаные/Шампиньоны Hortex резаные_image20.jpg'],\n",
       " ['Шампиньоны Hortex резаные',\n",
       "  21,\n",
       "  'image/Шампиньоны Hortex резаные/Шампиньоны Hortex резаные_image21.jpg'],\n",
       " ['Шампиньоны Hortex резаные',\n",
       "  22,\n",
       "  'image/Шампиньоны Hortex резаные/Шампиньоны Hortex резаные_image22.jpg'],\n",
       " ['Шампиньоны Hortex резаные',\n",
       "  23,\n",
       "  'image/Шампиньоны Hortex резаные/Шампиньоны Hortex резаные_image23.jpg'],\n",
       " ['Шампиньоны Hortex резаные',\n",
       "  24,\n",
       "  'image/Шампиньоны Hortex резаные/Шампиньоны Hortex резаные_image24.jpg'],\n",
       " ['Шампиньоны Hortex резаные',\n",
       "  26,\n",
       "  'image/Шампиньоны Hortex резаные/Шампиньоны Hortex резаные_image26.jpg'],\n",
       " ['Шампиньоны Hortex резаные',\n",
       "  27,\n",
       "  'image/Шампиньоны Hortex резаные/Шампиньоны Hortex резаные_image27.jpg'],\n",
       " ['Шампиньоны Hortex резаные',\n",
       "  28,\n",
       "  'image/Шампиньоны Hortex резаные/Шампиньоны Hortex резаные_image28.jpg'],\n",
       " ['Шампиньоны Hortex резаные',\n",
       "  29,\n",
       "  'image/Шампиньоны Hortex резаные/Шампиньоны Hortex резаные_image29.jpg'],\n",
       " ['Шампиньоны Бондюэль резаные',\n",
       "  0,\n",
       "  'image/Шампиньоны Бондюэль резаные/Шампиньоны Бондюэль резаные_image0.jpg'],\n",
       " ['Шампиньоны Бондюэль резаные',\n",
       "  1,\n",
       "  'image/Шампиньоны Бондюэль резаные/Шампиньоны Бондюэль резаные_image1.jpg'],\n",
       " ['Шампиньоны Бондюэль резаные',\n",
       "  2,\n",
       "  'image/Шампиньоны Бондюэль резаные/Шампиньоны Бондюэль резаные_image2.jpg'],\n",
       " ['Шампиньоны Бондюэль резаные',\n",
       "  3,\n",
       "  'image/Шампиньоны Бондюэль резаные/Шампиньоны Бондюэль резаные_image3.jpg'],\n",
       " ['Шампиньоны Бондюэль резаные',\n",
       "  4,\n",
       "  'image/Шампиньоны Бондюэль резаные/Шампиньоны Бондюэль резаные_image4.jpg'],\n",
       " ['Шампиньоны Бондюэль резаные',\n",
       "  5,\n",
       "  'image/Шампиньоны Бондюэль резаные/Шампиньоны Бондюэль резаные_image5.jpg'],\n",
       " ['Шампиньоны Бондюэль резаные',\n",
       "  6,\n",
       "  'image/Шампиньоны Бондюэль резаные/Шампиньоны Бондюэль резаные_image6.jpg'],\n",
       " ['Шампиньоны Бондюэль резаные',\n",
       "  7,\n",
       "  'image/Шампиньоны Бондюэль резаные/Шампиньоны Бондюэль резаные_image7.jpg'],\n",
       " ['Шампиньоны Бондюэль резаные',\n",
       "  8,\n",
       "  'image/Шампиньоны Бондюэль резаные/Шампиньоны Бондюэль резаные_image8.jpg'],\n",
       " ['Шампиньоны Бондюэль резаные',\n",
       "  9,\n",
       "  'image/Шампиньоны Бондюэль резаные/Шампиньоны Бондюэль резаные_image9.jpg'],\n",
       " ['Шампиньоны Бондюэль резаные',\n",
       "  10,\n",
       "  'image/Шампиньоны Бондюэль резаные/Шампиньоны Бондюэль резаные_image10.jpg'],\n",
       " ['Шампиньоны Бондюэль резаные',\n",
       "  11,\n",
       "  'image/Шампиньоны Бондюэль резаные/Шампиньоны Бондюэль резаные_image11.jpg'],\n",
       " ['Шампиньоны Бондюэль резаные',\n",
       "  12,\n",
       "  'image/Шампиньоны Бондюэль резаные/Шампиньоны Бондюэль резаные_image12.jpg'],\n",
       " ['Шампиньоны Бондюэль резаные',\n",
       "  13,\n",
       "  'image/Шампиньоны Бондюэль резаные/Шампиньоны Бондюэль резаные_image13.jpg'],\n",
       " ['Шампиньоны Бондюэль резаные',\n",
       "  14,\n",
       "  'image/Шампиньоны Бондюэль резаные/Шампиньоны Бондюэль резаные_image14.jpg'],\n",
       " ['Шампиньоны Бондюэль резаные',\n",
       "  15,\n",
       "  'image/Шампиньоны Бондюэль резаные/Шампиньоны Бондюэль резаные_image15.jpg'],\n",
       " ['Шампиньоны Бондюэль резаные',\n",
       "  16,\n",
       "  'image/Шампиньоны Бондюэль резаные/Шампиньоны Бондюэль резаные_image16.jpg'],\n",
       " ['Шампиньоны Бондюэль резаные',\n",
       "  17,\n",
       "  'image/Шампиньоны Бондюэль резаные/Шампиньоны Бондюэль резаные_image17.jpg'],\n",
       " ['Шампиньоны Бондюэль резаные',\n",
       "  18,\n",
       "  'image/Шампиньоны Бондюэль резаные/Шампиньоны Бондюэль резаные_image18.jpg'],\n",
       " ['Шампиньоны Бондюэль резаные',\n",
       "  19,\n",
       "  'image/Шампиньоны Бондюэль резаные/Шампиньоны Бондюэль резаные_image19.jpg'],\n",
       " ['Шампиньоны Бондюэль резаные',\n",
       "  20,\n",
       "  'image/Шампиньоны Бондюэль резаные/Шампиньоны Бондюэль резаные_image20.jpg'],\n",
       " ['Шампиньоны Бондюэль резаные',\n",
       "  21,\n",
       "  'image/Шампиньоны Бондюэль резаные/Шампиньоны Бондюэль резаные_image21.jpg'],\n",
       " ['Шампиньоны Бондюэль резаные',\n",
       "  22,\n",
       "  'image/Шампиньоны Бондюэль резаные/Шампиньоны Бондюэль резаные_image22.jpg'],\n",
       " ['Шампиньоны Бондюэль резаные',\n",
       "  23,\n",
       "  'image/Шампиньоны Бондюэль резаные/Шампиньоны Бондюэль резаные_image23.jpg'],\n",
       " ['Шампиньоны Бондюэль резаные',\n",
       "  24,\n",
       "  'image/Шампиньоны Бондюэль резаные/Шампиньоны Бондюэль резаные_image24.jpg'],\n",
       " ['Шампиньоны Бондюэль резаные',\n",
       "  25,\n",
       "  'image/Шампиньоны Бондюэль резаные/Шампиньоны Бондюэль резаные_image25.jpg'],\n",
       " ['Шампиньоны Бондюэль резаные',\n",
       "  26,\n",
       "  'image/Шампиньоны Бондюэль резаные/Шампиньоны Бондюэль резаные_image26.jpg'],\n",
       " ['Шампиньоны Бондюэль резаные',\n",
       "  27,\n",
       "  'image/Шампиньоны Бондюэль резаные/Шампиньоны Бондюэль резаные_image27.jpg'],\n",
       " ['Шампиньоны Бондюэль резаные',\n",
       "  28,\n",
       "  'image/Шампиньоны Бондюэль резаные/Шампиньоны Бондюэль резаные_image28.jpg'],\n",
       " ['Грузди маринованные Steinhauer',\n",
       "  0,\n",
       "  'image/Грузди маринованные Steinhauer/Грузди маринованные Steinhauer_image0.jpg'],\n",
       " ['Грузди маринованные Steinhauer',\n",
       "  1,\n",
       "  'image/Грузди маринованные Steinhauer/Грузди маринованные Steinhauer_image1.jpg'],\n",
       " ['Грузди маринованные Steinhauer',\n",
       "  3,\n",
       "  'image/Грузди маринованные Steinhauer/Грузди маринованные Steinhauer_image3.jpg'],\n",
       " ['Грузди маринованные Steinhauer',\n",
       "  4,\n",
       "  'image/Грузди маринованные Steinhauer/Грузди маринованные Steinhauer_image4.jpg'],\n",
       " ['Грузди маринованные Steinhauer',\n",
       "  5,\n",
       "  'image/Грузди маринованные Steinhauer/Грузди маринованные Steinhauer_image5.jpg'],\n",
       " ['Грузди маринованные Steinhauer',\n",
       "  6,\n",
       "  'image/Грузди маринованные Steinhauer/Грузди маринованные Steinhauer_image6.jpg'],\n",
       " ['Грузди маринованные Steinhauer',\n",
       "  7,\n",
       "  'image/Грузди маринованные Steinhauer/Грузди маринованные Steinhauer_image7.jpg'],\n",
       " ['Грузди маринованные Steinhauer',\n",
       "  8,\n",
       "  'image/Грузди маринованные Steinhauer/Грузди маринованные Steinhauer_image8.jpg'],\n",
       " ['Грузди маринованные Steinhauer',\n",
       "  9,\n",
       "  'image/Грузди маринованные Steinhauer/Грузди маринованные Steinhauer_image9.jpg'],\n",
       " ['Грузди маринованные Steinhauer',\n",
       "  10,\n",
       "  'image/Грузди маринованные Steinhauer/Грузди маринованные Steinhauer_image10.jpg'],\n",
       " ['Грузди маринованные Steinhauer',\n",
       "  11,\n",
       "  'image/Грузди маринованные Steinhauer/Грузди маринованные Steinhauer_image11.jpg'],\n",
       " ['Грузди маринованные Steinhauer',\n",
       "  13,\n",
       "  'image/Грузди маринованные Steinhauer/Грузди маринованные Steinhauer_image13.jpg'],\n",
       " ['Грузди маринованные Steinhauer',\n",
       "  14,\n",
       "  'image/Грузди маринованные Steinhauer/Грузди маринованные Steinhauer_image14.jpg'],\n",
       " ['Грузди маринованные Steinhauer',\n",
       "  15,\n",
       "  'image/Грузди маринованные Steinhauer/Грузди маринованные Steinhauer_image15.jpg'],\n",
       " ['Грузди маринованные Steinhauer',\n",
       "  16,\n",
       "  'image/Грузди маринованные Steinhauer/Грузди маринованные Steinhauer_image16.jpg'],\n",
       " ['Грузди маринованные Steinhauer',\n",
       "  17,\n",
       "  'image/Грузди маринованные Steinhauer/Грузди маринованные Steinhauer_image17.jpg'],\n",
       " ['Грузди маринованные Steinhauer',\n",
       "  18,\n",
       "  'image/Грузди маринованные Steinhauer/Грузди маринованные Steinhauer_image18.jpg'],\n",
       " ['Грузди маринованные Steinhauer',\n",
       "  19,\n",
       "  'image/Грузди маринованные Steinhauer/Грузди маринованные Steinhauer_image19.jpg'],\n",
       " ['Грузди маринованные Steinhauer',\n",
       "  20,\n",
       "  'image/Грузди маринованные Steinhauer/Грузди маринованные Steinhauer_image20.jpg'],\n",
       " ['Грузди маринованные Steinhauer',\n",
       "  21,\n",
       "  'image/Грузди маринованные Steinhauer/Грузди маринованные Steinhauer_image21.jpg'],\n",
       " ['Грузди маринованные Steinhauer',\n",
       "  22,\n",
       "  'image/Грузди маринованные Steinhauer/Грузди маринованные Steinhauer_image22.jpg'],\n",
       " ['Грузди маринованные Steinhauer',\n",
       "  23,\n",
       "  'image/Грузди маринованные Steinhauer/Грузди маринованные Steinhauer_image23.jpg'],\n",
       " ['Грузди маринованные Steinhauer',\n",
       "  24,\n",
       "  'image/Грузди маринованные Steinhauer/Грузди маринованные Steinhauer_image24.jpg'],\n",
       " ['Грузди маринованные Steinhauer',\n",
       "  25,\n",
       "  'image/Грузди маринованные Steinhauer/Грузди маринованные Steinhauer_image25.jpg'],\n",
       " ['Грузди маринованные Steinhauer',\n",
       "  26,\n",
       "  'image/Грузди маринованные Steinhauer/Грузди маринованные Steinhauer_image26.jpg'],\n",
       " ['Грузди маринованные Steinhauer',\n",
       "  27,\n",
       "  'image/Грузди маринованные Steinhauer/Грузди маринованные Steinhauer_image27.jpg'],\n",
       " ['Грузди маринованные Steinhauer',\n",
       "  28,\n",
       "  'image/Грузди маринованные Steinhauer/Грузди маринованные Steinhauer_image28.jpg'],\n",
       " ['Опята свежие', 1, 'image/Опята свежие/Опята свежие_image1.jpg'],\n",
       " ['Опята свежие', 2, 'image/Опята свежие/Опята свежие_image2.jpg'],\n",
       " ['Опята свежие', 3, 'image/Опята свежие/Опята свежие_image3.jpg'],\n",
       " ['Опята свежие', 4, 'image/Опята свежие/Опята свежие_image4.jpg'],\n",
       " ['Опята свежие', 5, 'image/Опята свежие/Опята свежие_image5.jpg'],\n",
       " ['Опята свежие', 6, 'image/Опята свежие/Опята свежие_image6.jpg'],\n",
       " ['Опята свежие', 7, 'image/Опята свежие/Опята свежие_image7.jpg'],\n",
       " ['Опята свежие', 8, 'image/Опята свежие/Опята свежие_image8.jpg'],\n",
       " ['Опята свежие', 9, 'image/Опята свежие/Опята свежие_image9.jpg'],\n",
       " ['Опята свежие', 10, 'image/Опята свежие/Опята свежие_image10.jpg'],\n",
       " ['Опята свежие', 11, 'image/Опята свежие/Опята свежие_image11.jpg'],\n",
       " ['Опята свежие', 12, 'image/Опята свежие/Опята свежие_image12.jpg'],\n",
       " ['Опята свежие', 13, 'image/Опята свежие/Опята свежие_image13.jpg'],\n",
       " ['Опята свежие', 14, 'image/Опята свежие/Опята свежие_image14.jpg'],\n",
       " ['Опята свежие', 15, 'image/Опята свежие/Опята свежие_image15.jpg'],\n",
       " ['Опята свежие', 16, 'image/Опята свежие/Опята свежие_image16.jpg'],\n",
       " ['Опята свежие', 17, 'image/Опята свежие/Опята свежие_image17.jpg'],\n",
       " ['Опята свежие', 18, 'image/Опята свежие/Опята свежие_image18.jpg'],\n",
       " ['Опята свежие', 19, 'image/Опята свежие/Опята свежие_image19.jpg'],\n",
       " ['Опята свежие', 20, 'image/Опята свежие/Опята свежие_image20.jpg'],\n",
       " ['Опята свежие', 21, 'image/Опята свежие/Опята свежие_image21.jpg'],\n",
       " ['Опята свежие', 22, 'image/Опята свежие/Опята свежие_image22.jpg'],\n",
       " ['Опята свежие', 23, 'image/Опята свежие/Опята свежие_image23.jpg'],\n",
       " ['Опята свежие', 24, 'image/Опята свежие/Опята свежие_image24.jpg'],\n",
       " ['Опята свежие', 25, 'image/Опята свежие/Опята свежие_image25.jpg'],\n",
       " ['Опята свежие', 26, 'image/Опята свежие/Опята свежие_image26.jpg'],\n",
       " ['Опята свежие', 27, 'image/Опята свежие/Опята свежие_image27.jpg'],\n",
       " ['Опята свежие', 28, 'image/Опята свежие/Опята свежие_image28.jpg'],\n",
       " ['Опята свежие', 29, 'image/Опята свежие/Опята свежие_image29.jpg'],\n",
       " ['Грибной жульен Hortex',\n",
       "  0,\n",
       "  'image/Грибной жульен Hortex/Грибной жульен Hortex_image0.jpg'],\n",
       " ['Грибной жульен Hortex',\n",
       "  1,\n",
       "  'image/Грибной жульен Hortex/Грибной жульен Hortex_image1.jpg'],\n",
       " ['Грибной жульен Hortex',\n",
       "  2,\n",
       "  'image/Грибной жульен Hortex/Грибной жульен Hortex_image2.jpg'],\n",
       " ['Грибной жульен Hortex',\n",
       "  3,\n",
       "  'image/Грибной жульен Hortex/Грибной жульен Hortex_image3.jpg'],\n",
       " ['Грибной жульен Hortex',\n",
       "  4,\n",
       "  'image/Грибной жульен Hortex/Грибной жульен Hortex_image4.jpg'],\n",
       " ['Грибной жульен Hortex',\n",
       "  5,\n",
       "  'image/Грибной жульен Hortex/Грибной жульен Hortex_image5.jpg'],\n",
       " ['Грибной жульен Hortex',\n",
       "  6,\n",
       "  'image/Грибной жульен Hortex/Грибной жульен Hortex_image6.jpg'],\n",
       " ['Грибной жульен Hortex',\n",
       "  8,\n",
       "  'image/Грибной жульен Hortex/Грибной жульен Hortex_image8.jpg'],\n",
       " ['Грибной жульен Hortex',\n",
       "  9,\n",
       "  'image/Грибной жульен Hortex/Грибной жульен Hortex_image9.jpg'],\n",
       " ['Грибной жульен Hortex',\n",
       "  10,\n",
       "  'image/Грибной жульен Hortex/Грибной жульен Hortex_image10.jpg'],\n",
       " ['Грибной жульен Hortex',\n",
       "  12,\n",
       "  'image/Грибной жульен Hortex/Грибной жульен Hortex_image12.jpg'],\n",
       " ['Грибной жульен Hortex',\n",
       "  13,\n",
       "  'image/Грибной жульен Hortex/Грибной жульен Hortex_image13.jpg'],\n",
       " ['Грибной жульен Hortex',\n",
       "  14,\n",
       "  'image/Грибной жульен Hortex/Грибной жульен Hortex_image14.jpg'],\n",
       " ['Грибной жульен Hortex',\n",
       "  16,\n",
       "  'image/Грибной жульен Hortex/Грибной жульен Hortex_image16.jpg'],\n",
       " ['Грибной жульен Hortex',\n",
       "  17,\n",
       "  'image/Грибной жульен Hortex/Грибной жульен Hortex_image17.jpg'],\n",
       " ['Грибной жульен Hortex',\n",
       "  18,\n",
       "  'image/Грибной жульен Hortex/Грибной жульен Hortex_image18.jpg'],\n",
       " ['Грибной жульен Hortex',\n",
       "  19,\n",
       "  'image/Грибной жульен Hortex/Грибной жульен Hortex_image19.jpg'],\n",
       " ['Грибной жульен Hortex',\n",
       "  20,\n",
       "  'image/Грибной жульен Hortex/Грибной жульен Hortex_image20.jpg'],\n",
       " ['Грибной жульен Hortex',\n",
       "  21,\n",
       "  'image/Грибной жульен Hortex/Грибной жульен Hortex_image21.jpg'],\n",
       " ['Грибной жульен Hortex',\n",
       "  22,\n",
       "  'image/Грибной жульен Hortex/Грибной жульен Hortex_image22.jpg'],\n",
       " ['Грибной жульен Hortex',\n",
       "  24,\n",
       "  'image/Грибной жульен Hortex/Грибной жульен Hortex_image24.jpg'],\n",
       " ['Грибной жульен Hortex',\n",
       "  25,\n",
       "  'image/Грибной жульен Hortex/Грибной жульен Hortex_image25.jpg'],\n",
       " ['Грибной жульен Hortex',\n",
       "  26,\n",
       "  'image/Грибной жульен Hortex/Грибной жульен Hortex_image26.jpg'],\n",
       " ['Грибной жульен Hortex',\n",
       "  27,\n",
       "  'image/Грибной жульен Hortex/Грибной жульен Hortex_image27.jpg'],\n",
       " ['Грибной жульен Hortex',\n",
       "  28,\n",
       "  'image/Грибной жульен Hortex/Грибной жульен Hortex_image28.jpg'],\n",
       " ['Маслята маринованные Золотая Долина',\n",
       "  0,\n",
       "  'image/Маслята маринованные Золотая Долина/Маслята маринованные Золотая Долина_image0.jpg'],\n",
       " ['Маслята маринованные Золотая Долина',\n",
       "  2,\n",
       "  'image/Маслята маринованные Золотая Долина/Маслята маринованные Золотая Долина_image2.jpg'],\n",
       " ['Маслята маринованные Золотая Долина',\n",
       "  3,\n",
       "  'image/Маслята маринованные Золотая Долина/Маслята маринованные Золотая Долина_image3.jpg'],\n",
       " ['Маслята маринованные Золотая Долина',\n",
       "  4,\n",
       "  'image/Маслята маринованные Золотая Долина/Маслята маринованные Золотая Долина_image4.jpg'],\n",
       " ['Маслята маринованные Золотая Долина',\n",
       "  5,\n",
       "  'image/Маслята маринованные Золотая Долина/Маслята маринованные Золотая Долина_image5.jpg'],\n",
       " ['Маслята маринованные Золотая Долина',\n",
       "  6,\n",
       "  'image/Маслята маринованные Золотая Долина/Маслята маринованные Золотая Долина_image6.jpg'],\n",
       " ['Маслята маринованные Золотая Долина',\n",
       "  7,\n",
       "  'image/Маслята маринованные Золотая Долина/Маслята маринованные Золотая Долина_image7.jpg'],\n",
       " ['Маслята маринованные Золотая Долина',\n",
       "  8,\n",
       "  'image/Маслята маринованные Золотая Долина/Маслята маринованные Золотая Долина_image8.jpg'],\n",
       " ['Маслята маринованные Золотая Долина',\n",
       "  9,\n",
       "  'image/Маслята маринованные Золотая Долина/Маслята маринованные Золотая Долина_image9.jpg'],\n",
       " ['Маслята маринованные Золотая Долина',\n",
       "  10,\n",
       "  'image/Маслята маринованные Золотая Долина/Маслята маринованные Золотая Долина_image10.jpg'],\n",
       " ['Маслята маринованные Золотая Долина',\n",
       "  11,\n",
       "  'image/Маслята маринованные Золотая Долина/Маслята маринованные Золотая Долина_image11.jpg'],\n",
       " ['Маслята маринованные Золотая Долина',\n",
       "  12,\n",
       "  'image/Маслята маринованные Золотая Долина/Маслята маринованные Золотая Долина_image12.jpg'],\n",
       " ['Маслята маринованные Золотая Долина',\n",
       "  14,\n",
       "  'image/Маслята маринованные Золотая Долина/Маслята маринованные Золотая Долина_image14.jpg'],\n",
       " ['Маслята маринованные Золотая Долина',\n",
       "  15,\n",
       "  'image/Маслята маринованные Золотая Долина/Маслята маринованные Золотая Долина_image15.jpg'],\n",
       " ['Маслята маринованные Золотая Долина',\n",
       "  16,\n",
       "  'image/Маслята маринованные Золотая Долина/Маслята маринованные Золотая Долина_image16.jpg'],\n",
       " ['Маслята маринованные Золотая Долина',\n",
       "  17,\n",
       "  'image/Маслята маринованные Золотая Долина/Маслята маринованные Золотая Долина_image17.jpg'],\n",
       " ['Маслята маринованные Золотая Долина',\n",
       "  18,\n",
       "  'image/Маслята маринованные Золотая Долина/Маслята маринованные Золотая Долина_image18.jpg'],\n",
       " ['Маслята маринованные Золотая Долина',\n",
       "  19,\n",
       "  'image/Маслята маринованные Золотая Долина/Маслята маринованные Золотая Долина_image19.jpg'],\n",
       " ['Маслята маринованные Золотая Долина',\n",
       "  20,\n",
       "  'image/Маслята маринованные Золотая Долина/Маслята маринованные Золотая Долина_image20.jpg'],\n",
       " ['Маслята маринованные Золотая Долина',\n",
       "  21,\n",
       "  'image/Маслята маринованные Золотая Долина/Маслята маринованные Золотая Долина_image21.jpg'],\n",
       " ['Маслята маринованные Золотая Долина',\n",
       "  22,\n",
       "  'image/Маслята маринованные Золотая Долина/Маслята маринованные Золотая Долина_image22.jpg'],\n",
       " ['Маслята маринованные Золотая Долина',\n",
       "  23,\n",
       "  'image/Маслята маринованные Золотая Долина/Маслята маринованные Золотая Долина_image23.jpg'],\n",
       " ['Маслята маринованные Золотая Долина',\n",
       "  24,\n",
       "  'image/Маслята маринованные Золотая Долина/Маслята маринованные Золотая Долина_image24.jpg'],\n",
       " ['Маслята маринованные Золотая Долина',\n",
       "  25,\n",
       "  'image/Маслята маринованные Золотая Долина/Маслята маринованные Золотая Долина_image25.jpg'],\n",
       " ['Маслята маринованные Золотая Долина',\n",
       "  26,\n",
       "  'image/Маслята маринованные Золотая Долина/Маслята маринованные Золотая Долина_image26.jpg'],\n",
       " ['Маслята маринованные Золотая Долина',\n",
       "  27,\n",
       "  'image/Маслята маринованные Золотая Долина/Маслята маринованные Золотая Долина_image27.jpg'],\n",
       " ['Маслята маринованные Золотая Долина',\n",
       "  28,\n",
       "  'image/Маслята маринованные Золотая Долина/Маслята маринованные Золотая Долина_image28.jpg'],\n",
       " ['Маслята маринованные Золотая Долина',\n",
       "  29,\n",
       "  'image/Маслята маринованные Золотая Долина/Маслята маринованные Золотая Долина_image29.jpg'],\n",
       " ['Белые маринованные',\n",
       "  0,\n",
       "  'image/Белые маринованные/Белые маринованные_image0.jpg'],\n",
       " ['Белые маринованные',\n",
       "  1,\n",
       "  'image/Белые маринованные/Белые маринованные_image1.jpg'],\n",
       " ['Белые маринованные',\n",
       "  2,\n",
       "  'image/Белые маринованные/Белые маринованные_image2.jpg'],\n",
       " ['Белые маринованные',\n",
       "  3,\n",
       "  'image/Белые маринованные/Белые маринованные_image3.jpg'],\n",
       " ['Белые маринованные',\n",
       "  4,\n",
       "  'image/Белые маринованные/Белые маринованные_image4.jpg'],\n",
       " ['Белые маринованные',\n",
       "  5,\n",
       "  'image/Белые маринованные/Белые маринованные_image5.jpg'],\n",
       " ['Белые маринованные',\n",
       "  6,\n",
       "  'image/Белые маринованные/Белые маринованные_image6.jpg'],\n",
       " ['Белые маринованные',\n",
       "  8,\n",
       "  'image/Белые маринованные/Белые маринованные_image8.jpg'],\n",
       " ['Белые маринованные',\n",
       "  9,\n",
       "  'image/Белые маринованные/Белые маринованные_image9.jpg'],\n",
       " ['Белые маринованные',\n",
       "  11,\n",
       "  'image/Белые маринованные/Белые маринованные_image11.jpg'],\n",
       " ['Белые маринованные',\n",
       "  12,\n",
       "  'image/Белые маринованные/Белые маринованные_image12.jpg'],\n",
       " ['Белые маринованные',\n",
       "  13,\n",
       "  'image/Белые маринованные/Белые маринованные_image13.jpg'],\n",
       " ['Белые маринованные',\n",
       "  14,\n",
       "  'image/Белые маринованные/Белые маринованные_image14.jpg'],\n",
       " ['Белые маринованные',\n",
       "  15,\n",
       "  'image/Белые маринованные/Белые маринованные_image15.jpg'],\n",
       " ['Белые маринованные',\n",
       "  16,\n",
       "  'image/Белые маринованные/Белые маринованные_image16.jpg'],\n",
       " ['Белые маринованные',\n",
       "  17,\n",
       "  'image/Белые маринованные/Белые маринованные_image17.jpg'],\n",
       " ['Белые маринованные',\n",
       "  18,\n",
       "  'image/Белые маринованные/Белые маринованные_image18.jpg'],\n",
       " ['Белые маринованные',\n",
       "  19,\n",
       "  'image/Белые маринованные/Белые маринованные_image19.jpg'],\n",
       " ['Белые маринованные',\n",
       "  20,\n",
       "  'image/Белые маринованные/Белые маринованные_image20.jpg'],\n",
       " ['Белые маринованные',\n",
       "  21,\n",
       "  'image/Белые маринованные/Белые маринованные_image21.jpg'],\n",
       " ['Белые маринованные',\n",
       "  22,\n",
       "  'image/Белые маринованные/Белые маринованные_image22.jpg'],\n",
       " ['Белые маринованные',\n",
       "  23,\n",
       "  'image/Белые маринованные/Белые маринованные_image23.jpg'],\n",
       " ['Белые маринованные',\n",
       "  24,\n",
       "  'image/Белые маринованные/Белые маринованные_image24.jpg'],\n",
       " ['Белые маринованные',\n",
       "  25,\n",
       "  'image/Белые маринованные/Белые маринованные_image25.jpg'],\n",
       " ['Белые маринованные',\n",
       "  26,\n",
       "  'image/Белые маринованные/Белые маринованные_image26.jpg'],\n",
       " ['Белые маринованные',\n",
       "  27,\n",
       "  'image/Белые маринованные/Белые маринованные_image27.jpg'],\n",
       " ['Белые маринованные',\n",
       "  28,\n",
       "  'image/Белые маринованные/Белые маринованные_image28.jpg'],\n",
       " ['Белые маринованные',\n",
       "  29,\n",
       "  'image/Белые маринованные/Белые маринованные_image29.jpg'],\n",
       " ['Шампиньоны Бондюэль резаные замороженные',\n",
       "  0,\n",
       "  'image/Шампиньоны Бондюэль резаные замороженные/Шампиньоны Бондюэль резаные замороженные_image0.jpg'],\n",
       " ['Шампиньоны Бондюэль резаные замороженные',\n",
       "  1,\n",
       "  'image/Шампиньоны Бондюэль резаные замороженные/Шампиньоны Бондюэль резаные замороженные_image1.jpg'],\n",
       " ['Шампиньоны Бондюэль резаные замороженные',\n",
       "  2,\n",
       "  'image/Шампиньоны Бондюэль резаные замороженные/Шампиньоны Бондюэль резаные замороженные_image2.jpg'],\n",
       " ['Шампиньоны Бондюэль резаные замороженные',\n",
       "  3,\n",
       "  'image/Шампиньоны Бондюэль резаные замороженные/Шампиньоны Бондюэль резаные замороженные_image3.jpg'],\n",
       " ['Шампиньоны Бондюэль резаные замороженные',\n",
       "  4,\n",
       "  'image/Шампиньоны Бондюэль резаные замороженные/Шампиньоны Бондюэль резаные замороженные_image4.jpg'],\n",
       " ['Шампиньоны Бондюэль резаные замороженные',\n",
       "  5,\n",
       "  'image/Шампиньоны Бондюэль резаные замороженные/Шампиньоны Бондюэль резаные замороженные_image5.jpg'],\n",
       " ['Шампиньоны Бондюэль резаные замороженные',\n",
       "  6,\n",
       "  'image/Шампиньоны Бондюэль резаные замороженные/Шампиньоны Бондюэль резаные замороженные_image6.jpg'],\n",
       " ['Шампиньоны Бондюэль резаные замороженные',\n",
       "  7,\n",
       "  'image/Шампиньоны Бондюэль резаные замороженные/Шампиньоны Бондюэль резаные замороженные_image7.jpg'],\n",
       " ['Шампиньоны Бондюэль резаные замороженные',\n",
       "  8,\n",
       "  'image/Шампиньоны Бондюэль резаные замороженные/Шампиньоны Бондюэль резаные замороженные_image8.jpg'],\n",
       " ['Шампиньоны Бондюэль резаные замороженные',\n",
       "  9,\n",
       "  'image/Шампиньоны Бондюэль резаные замороженные/Шампиньоны Бондюэль резаные замороженные_image9.jpg'],\n",
       " ['Шампиньоны Бондюэль резаные замороженные',\n",
       "  10,\n",
       "  'image/Шампиньоны Бондюэль резаные замороженные/Шампиньоны Бондюэль резаные замороженные_image10.jpg'],\n",
       " ['Шампиньоны Бондюэль резаные замороженные',\n",
       "  11,\n",
       "  'image/Шампиньоны Бондюэль резаные замороженные/Шампиньоны Бондюэль резаные замороженные_image11.jpg'],\n",
       " ['Шампиньоны Бондюэль резаные замороженные',\n",
       "  12,\n",
       "  'image/Шампиньоны Бондюэль резаные замороженные/Шампиньоны Бондюэль резаные замороженные_image12.jpg'],\n",
       " ['Шампиньоны Бондюэль резаные замороженные',\n",
       "  13,\n",
       "  'image/Шампиньоны Бондюэль резаные замороженные/Шампиньоны Бондюэль резаные замороженные_image13.jpg'],\n",
       " ['Шампиньоны Бондюэль резаные замороженные',\n",
       "  14,\n",
       "  'image/Шампиньоны Бондюэль резаные замороженные/Шампиньоны Бондюэль резаные замороженные_image14.jpg'],\n",
       " ['Шампиньоны Бондюэль резаные замороженные',\n",
       "  16,\n",
       "  'image/Шампиньоны Бондюэль резаные замороженные/Шампиньоны Бондюэль резаные замороженные_image16.jpg'],\n",
       " ['Шампиньоны Бондюэль резаные замороженные',\n",
       "  17,\n",
       "  'image/Шампиньоны Бондюэль резаные замороженные/Шампиньоны Бондюэль резаные замороженные_image17.jpg'],\n",
       " ['Шампиньоны Бондюэль резаные замороженные',\n",
       "  18,\n",
       "  'image/Шампиньоны Бондюэль резаные замороженные/Шампиньоны Бондюэль резаные замороженные_image18.jpg'],\n",
       " ['Шампиньоны Бондюэль резаные замороженные',\n",
       "  19,\n",
       "  'image/Шампиньоны Бондюэль резаные замороженные/Шампиньоны Бондюэль резаные замороженные_image19.jpg'],\n",
       " ['Шампиньоны Бондюэль резаные замороженные',\n",
       "  20,\n",
       "  'image/Шампиньоны Бондюэль резаные замороженные/Шампиньоны Бондюэль резаные замороженные_image20.jpg'],\n",
       " ['Шампиньоны Бондюэль резаные замороженные',\n",
       "  21,\n",
       "  'image/Шампиньоны Бондюэль резаные замороженные/Шампиньоны Бондюэль резаные замороженные_image21.jpg'],\n",
       " ['Шампиньоны Бондюэль резаные замороженные',\n",
       "  22,\n",
       "  'image/Шампиньоны Бондюэль резаные замороженные/Шампиньоны Бондюэль резаные замороженные_image22.jpg'],\n",
       " ['Шампиньоны Бондюэль резаные замороженные',\n",
       "  24,\n",
       "  'image/Шампиньоны Бондюэль резаные замороженные/Шампиньоны Бондюэль резаные замороженные_image24.jpg'],\n",
       " ['Шампиньоны Бондюэль резаные замороженные',\n",
       "  25,\n",
       "  'image/Шампиньоны Бондюэль резаные замороженные/Шампиньоны Бондюэль резаные замороженные_image25.jpg'],\n",
       " ['Шампиньоны Бондюэль резаные замороженные',\n",
       "  26,\n",
       "  'image/Шампиньоны Бондюэль резаные замороженные/Шампиньоны Бондюэль резаные замороженные_image26.jpg'],\n",
       " ['Шампиньоны Бондюэль резаные замороженные',\n",
       "  27,\n",
       "  'image/Шампиньоны Бондюэль резаные замороженные/Шампиньоны Бондюэль резаные замороженные_image27.jpg'],\n",
       " ['Шампиньоны Бондюэль резаные замороженные',\n",
       "  28,\n",
       "  'image/Шампиньоны Бондюэль резаные замороженные/Шампиньоны Бондюэль резаные замороженные_image28.jpg'],\n",
       " ['Шампиньоны Бондюэль резаные замороженные',\n",
       "  29,\n",
       "  'image/Шампиньоны Бондюэль резаные замороженные/Шампиньоны Бондюэль резаные замороженные_image29.jpg'],\n",
       " ['Белые сушёные', 0, 'image/Белые сушёные/Белые сушёные_image0.jpg'],\n",
       " ['Белые сушёные', 1, 'image/Белые сушёные/Белые сушёные_image1.jpg'],\n",
       " ['Белые сушёные', 2, 'image/Белые сушёные/Белые сушёные_image2.jpg'],\n",
       " ['Белые сушёные', 3, 'image/Белые сушёные/Белые сушёные_image3.jpg'],\n",
       " ['Белые сушёные', 4, 'image/Белые сушёные/Белые сушёные_image4.jpg'],\n",
       " ['Белые сушёные', 6, 'image/Белые сушёные/Белые сушёные_image6.jpg'],\n",
       " ['Белые сушёные', 7, 'image/Белые сушёные/Белые сушёные_image7.jpg'],\n",
       " ['Белые сушёные', 9, 'image/Белые сушёные/Белые сушёные_image9.jpg'],\n",
       " ['Белые сушёные', 10, 'image/Белые сушёные/Белые сушёные_image10.jpg'],\n",
       " ['Белые сушёные', 11, 'image/Белые сушёные/Белые сушёные_image11.jpg'],\n",
       " ['Белые сушёные', 12, 'image/Белые сушёные/Белые сушёные_image12.jpg'],\n",
       " ['Белые сушёные', 13, 'image/Белые сушёные/Белые сушёные_image13.jpg'],\n",
       " ['Белые сушёные', 14, 'image/Белые сушёные/Белые сушёные_image14.jpg'],\n",
       " ['Белые сушёные', 15, 'image/Белые сушёные/Белые сушёные_image15.jpg'],\n",
       " ['Белые сушёные', 18, 'image/Белые сушёные/Белые сушёные_image18.jpg'],\n",
       " ['Белые сушёные', 19, 'image/Белые сушёные/Белые сушёные_image19.jpg'],\n",
       " ['Белые сушёные', 20, 'image/Белые сушёные/Белые сушёные_image20.jpg'],\n",
       " ['Белые сушёные', 21, 'image/Белые сушёные/Белые сушёные_image21.jpg'],\n",
       " ['Белые сушёные', 22, 'image/Белые сушёные/Белые сушёные_image22.jpg'],\n",
       " ['Белые сушёные', 23, 'image/Белые сушёные/Белые сушёные_image23.jpg'],\n",
       " ['Белые сушёные', 24, 'image/Белые сушёные/Белые сушёные_image24.jpg'],\n",
       " ['Белые сушёные', 25, 'image/Белые сушёные/Белые сушёные_image25.jpg'],\n",
       " ['Белые сушёные', 26, 'image/Белые сушёные/Белые сушёные_image26.jpg'],\n",
       " ['Белые сушёные', 27, 'image/Белые сушёные/Белые сушёные_image27.jpg'],\n",
       " ['Белые сушёные', 28, 'image/Белые сушёные/Белые сушёные_image28.jpg'],\n",
       " ['Лесные грибы Hortex с картошкой',\n",
       "  0,\n",
       "  'image/Лесные грибы Hortex с картошкой/Лесные грибы Hortex с картошкой_image0.jpg'],\n",
       " ['Лесные грибы Hortex с картошкой',\n",
       "  1,\n",
       "  'image/Лесные грибы Hortex с картошкой/Лесные грибы Hortex с картошкой_image1.jpg'],\n",
       " ['Лесные грибы Hortex с картошкой',\n",
       "  2,\n",
       "  'image/Лесные грибы Hortex с картошкой/Лесные грибы Hortex с картошкой_image2.jpg'],\n",
       " ['Лесные грибы Hortex с картошкой',\n",
       "  3,\n",
       "  'image/Лесные грибы Hortex с картошкой/Лесные грибы Hortex с картошкой_image3.jpg'],\n",
       " ['Лесные грибы Hortex с картошкой',\n",
       "  4,\n",
       "  'image/Лесные грибы Hortex с картошкой/Лесные грибы Hortex с картошкой_image4.jpg'],\n",
       " ['Лесные грибы Hortex с картошкой',\n",
       "  5,\n",
       "  'image/Лесные грибы Hortex с картошкой/Лесные грибы Hortex с картошкой_image5.jpg'],\n",
       " ['Лесные грибы Hortex с картошкой',\n",
       "  6,\n",
       "  'image/Лесные грибы Hortex с картошкой/Лесные грибы Hortex с картошкой_image6.jpg'],\n",
       " ['Лесные грибы Hortex с картошкой',\n",
       "  7,\n",
       "  'image/Лесные грибы Hortex с картошкой/Лесные грибы Hortex с картошкой_image7.jpg'],\n",
       " ['Лесные грибы Hortex с картошкой',\n",
       "  8,\n",
       "  'image/Лесные грибы Hortex с картошкой/Лесные грибы Hortex с картошкой_image8.jpg'],\n",
       " ['Лесные грибы Hortex с картошкой',\n",
       "  9,\n",
       "  'image/Лесные грибы Hortex с картошкой/Лесные грибы Hortex с картошкой_image9.jpg'],\n",
       " ['Лесные грибы Hortex с картошкой',\n",
       "  10,\n",
       "  'image/Лесные грибы Hortex с картошкой/Лесные грибы Hortex с картошкой_image10.jpg'],\n",
       " ['Лесные грибы Hortex с картошкой',\n",
       "  11,\n",
       "  'image/Лесные грибы Hortex с картошкой/Лесные грибы Hortex с картошкой_image11.jpg'],\n",
       " ['Лесные грибы Hortex с картошкой',\n",
       "  12,\n",
       "  'image/Лесные грибы Hortex с картошкой/Лесные грибы Hortex с картошкой_image12.jpg'],\n",
       " ['Лесные грибы Hortex с картошкой',\n",
       "  13,\n",
       "  'image/Лесные грибы Hortex с картошкой/Лесные грибы Hortex с картошкой_image13.jpg'],\n",
       " ['Лесные грибы Hortex с картошкой',\n",
       "  14,\n",
       "  'image/Лесные грибы Hortex с картошкой/Лесные грибы Hortex с картошкой_image14.jpg'],\n",
       " ['Лесные грибы Hortex с картошкой',\n",
       "  15,\n",
       "  'image/Лесные грибы Hortex с картошкой/Лесные грибы Hortex с картошкой_image15.jpg'],\n",
       " ['Лесные грибы Hortex с картошкой',\n",
       "  16,\n",
       "  'image/Лесные грибы Hortex с картошкой/Лесные грибы Hortex с картошкой_image16.jpg'],\n",
       " ['Лесные грибы Hortex с картошкой',\n",
       "  17,\n",
       "  'image/Лесные грибы Hortex с картошкой/Лесные грибы Hortex с картошкой_image17.jpg'],\n",
       " ['Лесные грибы Hortex с картошкой',\n",
       "  18,\n",
       "  'image/Лесные грибы Hortex с картошкой/Лесные грибы Hortex с картошкой_image18.jpg'],\n",
       " ['Лесные грибы Hortex с картошкой',\n",
       "  19,\n",
       "  'image/Лесные грибы Hortex с картошкой/Лесные грибы Hortex с картошкой_image19.jpg'],\n",
       " ['Лесные грибы Hortex с картошкой',\n",
       "  20,\n",
       "  'image/Лесные грибы Hortex с картошкой/Лесные грибы Hortex с картошкой_image20.jpg'],\n",
       " ['Лесные грибы Hortex с картошкой',\n",
       "  21,\n",
       "  'image/Лесные грибы Hortex с картошкой/Лесные грибы Hortex с картошкой_image21.jpg'],\n",
       " ['Лесные грибы Hortex с картошкой',\n",
       "  22,\n",
       "  'image/Лесные грибы Hortex с картошкой/Лесные грибы Hortex с картошкой_image22.jpg'],\n",
       " ['Лесные грибы Hortex с картошкой',\n",
       "  23,\n",
       "  'image/Лесные грибы Hortex с картошкой/Лесные грибы Hortex с картошкой_image23.jpg'],\n",
       " ['Лесные грибы Hortex с картошкой',\n",
       "  24,\n",
       "  'image/Лесные грибы Hortex с картошкой/Лесные грибы Hortex с картошкой_image24.jpg'],\n",
       " ['Лесные грибы Hortex с картошкой',\n",
       "  25,\n",
       "  'image/Лесные грибы Hortex с картошкой/Лесные грибы Hortex с картошкой_image25.jpg'],\n",
       " ['Лесные грибы Hortex с картошкой',\n",
       "  26,\n",
       "  'image/Лесные грибы Hortex с картошкой/Лесные грибы Hortex с картошкой_image26.jpg'],\n",
       " ['Лесные грибы Hortex с картошкой',\n",
       "  27,\n",
       "  'image/Лесные грибы Hortex с картошкой/Лесные грибы Hortex с картошкой_image27.jpg'],\n",
       " ['Лесные грибы Hortex с картошкой',\n",
       "  28,\n",
       "  'image/Лесные грибы Hortex с картошкой/Лесные грибы Hortex с картошкой_image28.jpg'],\n",
       " ['Лесные грибы Hortex с картошкой',\n",
       "  29,\n",
       "  'image/Лесные грибы Hortex с картошкой/Лесные грибы Hortex с картошкой_image29.jpg'],\n",
       " ['Подосиновики свежие',\n",
       "  0,\n",
       "  'image/Подосиновики свежие/Подосиновики свежие_image0.jpg'],\n",
       " ['Подосиновики свежие',\n",
       "  2,\n",
       "  'image/Подосиновики свежие/Подосиновики свежие_image2.jpg'],\n",
       " ['Подосиновики свежие',\n",
       "  3,\n",
       "  'image/Подосиновики свежие/Подосиновики свежие_image3.jpg'],\n",
       " ['Подосиновики свежие',\n",
       "  4,\n",
       "  'image/Подосиновики свежие/Подосиновики свежие_image4.jpg'],\n",
       " ['Подосиновики свежие',\n",
       "  6,\n",
       "  'image/Подосиновики свежие/Подосиновики свежие_image6.jpg'],\n",
       " ['Подосиновики свежие',\n",
       "  7,\n",
       "  'image/Подосиновики свежие/Подосиновики свежие_image7.jpg'],\n",
       " ['Подосиновики свежие',\n",
       "  8,\n",
       "  'image/Подосиновики свежие/Подосиновики свежие_image8.jpg'],\n",
       " ['Подосиновики свежие',\n",
       "  9,\n",
       "  'image/Подосиновики свежие/Подосиновики свежие_image9.jpg'],\n",
       " ['Подосиновики свежие',\n",
       "  10,\n",
       "  'image/Подосиновики свежие/Подосиновики свежие_image10.jpg'],\n",
       " ['Подосиновики свежие',\n",
       "  11,\n",
       "  'image/Подосиновики свежие/Подосиновики свежие_image11.jpg'],\n",
       " ['Подосиновики свежие',\n",
       "  12,\n",
       "  'image/Подосиновики свежие/Подосиновики свежие_image12.jpg'],\n",
       " ['Подосиновики свежие',\n",
       "  15,\n",
       "  'image/Подосиновики свежие/Подосиновики свежие_image15.jpg'],\n",
       " ['Подосиновики свежие',\n",
       "  16,\n",
       "  'image/Подосиновики свежие/Подосиновики свежие_image16.jpg'],\n",
       " ['Подосиновики свежие',\n",
       "  17,\n",
       "  'image/Подосиновики свежие/Подосиновики свежие_image17.jpg'],\n",
       " ['Подосиновики свежие',\n",
       "  19,\n",
       "  'image/Подосиновики свежие/Подосиновики свежие_image19.jpg'],\n",
       " ['Подосиновики свежие',\n",
       "  20,\n",
       "  'image/Подосиновики свежие/Подосиновики свежие_image20.jpg'],\n",
       " ['Подосиновики свежие',\n",
       "  21,\n",
       "  'image/Подосиновики свежие/Подосиновики свежие_image21.jpg'],\n",
       " ['Подосиновики свежие',\n",
       "  22,\n",
       "  'image/Подосиновики свежие/Подосиновики свежие_image22.jpg'],\n",
       " ['Подосиновики свежие',\n",
       "  23,\n",
       "  'image/Подосиновики свежие/Подосиновики свежие_image23.jpg'],\n",
       " ['Подосиновики свежие',\n",
       "  24,\n",
       "  'image/Подосиновики свежие/Подосиновики свежие_image24.jpg'],\n",
       " ['Подосиновики свежие',\n",
       "  25,\n",
       "  'image/Подосиновики свежие/Подосиновики свежие_image25.jpg'],\n",
       " ['Подосиновики свежие',\n",
       "  26,\n",
       "  'image/Подосиновики свежие/Подосиновики свежие_image26.jpg'],\n",
       " ['Подосиновики свежие',\n",
       "  27,\n",
       "  'image/Подосиновики свежие/Подосиновики свежие_image27.jpg'],\n",
       " ['Подосиновики свежие',\n",
       "  28,\n",
       "  'image/Подосиновики свежие/Подосиновики свежие_image28.jpg'],\n",
       " ['Подосиновики свежие',\n",
       "  29,\n",
       "  'image/Подосиновики свежие/Подосиновики свежие_image29.jpg'],\n",
       " ['Вешенки маринованные Steinhauer',\n",
       "  0,\n",
       "  'image/Вешенки маринованные Steinhauer/Вешенки маринованные Steinhauer_image0.jpg'],\n",
       " ['Вешенки маринованные Steinhauer',\n",
       "  1,\n",
       "  'image/Вешенки маринованные Steinhauer/Вешенки маринованные Steinhauer_image1.jpg'],\n",
       " ['Вешенки маринованные Steinhauer',\n",
       "  2,\n",
       "  'image/Вешенки маринованные Steinhauer/Вешенки маринованные Steinhauer_image2.jpg'],\n",
       " ['Вешенки маринованные Steinhauer',\n",
       "  3,\n",
       "  'image/Вешенки маринованные Steinhauer/Вешенки маринованные Steinhauer_image3.jpg'],\n",
       " ['Вешенки маринованные Steinhauer',\n",
       "  4,\n",
       "  'image/Вешенки маринованные Steinhauer/Вешенки маринованные Steinhauer_image4.jpg'],\n",
       " ['Вешенки маринованные Steinhauer',\n",
       "  5,\n",
       "  'image/Вешенки маринованные Steinhauer/Вешенки маринованные Steinhauer_image5.jpg'],\n",
       " ['Вешенки маринованные Steinhauer',\n",
       "  6,\n",
       "  'image/Вешенки маринованные Steinhauer/Вешенки маринованные Steinhauer_image6.jpg'],\n",
       " ['Вешенки маринованные Steinhauer',\n",
       "  8,\n",
       "  'image/Вешенки маринованные Steinhauer/Вешенки маринованные Steinhauer_image8.jpg'],\n",
       " ['Вешенки маринованные Steinhauer',\n",
       "  9,\n",
       "  'image/Вешенки маринованные Steinhauer/Вешенки маринованные Steinhauer_image9.jpg'],\n",
       " ['Вешенки маринованные Steinhauer',\n",
       "  10,\n",
       "  'image/Вешенки маринованные Steinhauer/Вешенки маринованные Steinhauer_image10.jpg'],\n",
       " ['Вешенки маринованные Steinhauer',\n",
       "  11,\n",
       "  'image/Вешенки маринованные Steinhauer/Вешенки маринованные Steinhauer_image11.jpg'],\n",
       " ['Вешенки маринованные Steinhauer',\n",
       "  12,\n",
       "  'image/Вешенки маринованные Steinhauer/Вешенки маринованные Steinhauer_image12.jpg'],\n",
       " ['Вешенки маринованные Steinhauer',\n",
       "  13,\n",
       "  'image/Вешенки маринованные Steinhauer/Вешенки маринованные Steinhauer_image13.jpg'],\n",
       " ['Вешенки маринованные Steinhauer',\n",
       "  14,\n",
       "  'image/Вешенки маринованные Steinhauer/Вешенки маринованные Steinhauer_image14.jpg'],\n",
       " ['Вешенки маринованные Steinhauer',\n",
       "  16,\n",
       "  'image/Вешенки маринованные Steinhauer/Вешенки маринованные Steinhauer_image16.jpg'],\n",
       " ['Вешенки маринованные Steinhauer',\n",
       "  17,\n",
       "  'image/Вешенки маринованные Steinhauer/Вешенки маринованные Steinhauer_image17.jpg'],\n",
       " ['Вешенки маринованные Steinhauer',\n",
       "  18,\n",
       "  'image/Вешенки маринованные Steinhauer/Вешенки маринованные Steinhauer_image18.jpg'],\n",
       " ['Вешенки маринованные Steinhauer',\n",
       "  19,\n",
       "  'image/Вешенки маринованные Steinhauer/Вешенки маринованные Steinhauer_image19.jpg'],\n",
       " ['Вешенки маринованные Steinhauer',\n",
       "  20,\n",
       "  'image/Вешенки маринованные Steinhauer/Вешенки маринованные Steinhauer_image20.jpg'],\n",
       " ['Вешенки маринованные Steinhauer',\n",
       "  21,\n",
       "  'image/Вешенки маринованные Steinhauer/Вешенки маринованные Steinhauer_image21.jpg'],\n",
       " ['Вешенки маринованные Steinhauer',\n",
       "  22,\n",
       "  'image/Вешенки маринованные Steinhauer/Вешенки маринованные Steinhauer_image22.jpg'],\n",
       " ['Вешенки маринованные Steinhauer',\n",
       "  23,\n",
       "  'image/Вешенки маринованные Steinhauer/Вешенки маринованные Steinhauer_image23.jpg'],\n",
       " ['Вешенки маринованные Steinhauer',\n",
       "  24,\n",
       "  'image/Вешенки маринованные Steinhauer/Вешенки маринованные Steinhauer_image24.jpg'],\n",
       " ['Вешенки маринованные Steinhauer',\n",
       "  25,\n",
       "  'image/Вешенки маринованные Steinhauer/Вешенки маринованные Steinhauer_image25.jpg'],\n",
       " ['Вешенки маринованные Steinhauer',\n",
       "  26,\n",
       "  'image/Вешенки маринованные Steinhauer/Вешенки маринованные Steinhauer_image26.jpg'],\n",
       " ['Вешенки маринованные Steinhauer',\n",
       "  27,\n",
       "  'image/Вешенки маринованные Steinhauer/Вешенки маринованные Steinhauer_image27.jpg'],\n",
       " ['Вешенки маринованные Steinhauer',\n",
       "  28,\n",
       "  'image/Вешенки маринованные Steinhauer/Вешенки маринованные Steinhauer_image28.jpg'],\n",
       " ['Вешенки маринованные Steinhauer',\n",
       "  29,\n",
       "  'image/Вешенки маринованные Steinhauer/Вешенки маринованные Steinhauer_image29.jpg'],\n",
       " ['Маслята свежие', 0, 'image/Маслята свежие/Маслята свежие_image0.jpg'],\n",
       " ['Маслята свежие', 1, 'image/Маслята свежие/Маслята свежие_image1.jpg'],\n",
       " ['Маслята свежие', 2, 'image/Маслята свежие/Маслята свежие_image2.jpg'],\n",
       " ['Маслята свежие', 3, 'image/Маслята свежие/Маслята свежие_image3.jpg'],\n",
       " ['Маслята свежие', 4, 'image/Маслята свежие/Маслята свежие_image4.jpg'],\n",
       " ['Маслята свежие', 5, 'image/Маслята свежие/Маслята свежие_image5.jpg'],\n",
       " ['Маслята свежие', 6, 'image/Маслята свежие/Маслята свежие_image6.jpg'],\n",
       " ['Маслята свежие', 7, 'image/Маслята свежие/Маслята свежие_image7.jpg'],\n",
       " ['Маслята свежие', 8, 'image/Маслята свежие/Маслята свежие_image8.jpg'],\n",
       " ['Маслята свежие', 9, 'image/Маслята свежие/Маслята свежие_image9.jpg'],\n",
       " ['Маслята свежие', 10, 'image/Маслята свежие/Маслята свежие_image10.jpg'],\n",
       " ['Маслята свежие', 11, 'image/Маслята свежие/Маслята свежие_image11.jpg'],\n",
       " ['Маслята свежие', 12, 'image/Маслята свежие/Маслята свежие_image12.jpg'],\n",
       " ['Маслята свежие', 13, 'image/Маслята свежие/Маслята свежие_image13.jpg'],\n",
       " ['Маслята свежие', 14, 'image/Маслята свежие/Маслята свежие_image14.jpg'],\n",
       " ['Маслята свежие', 15, 'image/Маслята свежие/Маслята свежие_image15.jpg'],\n",
       " ['Маслята свежие', 17, 'image/Маслята свежие/Маслята свежие_image17.jpg'],\n",
       " ['Маслята свежие', 18, 'image/Маслята свежие/Маслята свежие_image18.jpg'],\n",
       " ['Маслята свежие', 19, 'image/Маслята свежие/Маслята свежие_image19.jpg'],\n",
       " ['Маслята свежие', 20, 'image/Маслята свежие/Маслята свежие_image20.jpg'],\n",
       " ['Маслята свежие', 21, 'image/Маслята свежие/Маслята свежие_image21.jpg'],\n",
       " ['Маслята свежие', 22, 'image/Маслята свежие/Маслята свежие_image22.jpg'],\n",
       " ['Маслята свежие', 23, 'image/Маслята свежие/Маслята свежие_image23.jpg'],\n",
       " ['Маслята свежие', 24, 'image/Маслята свежие/Маслята свежие_image24.jpg'],\n",
       " ['Маслята свежие', 26, 'image/Маслята свежие/Маслята свежие_image26.jpg'],\n",
       " ['Маслята свежие', 27, 'image/Маслята свежие/Маслята свежие_image27.jpg'],\n",
       " ['Маслята свежие', 28, 'image/Маслята свежие/Маслята свежие_image28.jpg'],\n",
       " ['Маслята свежие', 29, 'image/Маслята свежие/Маслята свежие_image29.jpg'],\n",
       " ['Шампиньоны Бондюэль целые',\n",
       "  0,\n",
       "  'image/Шампиньоны Бондюэль целые/Шампиньоны Бондюэль целые_image0.jpg'],\n",
       " ['Шампиньоны Бондюэль целые',\n",
       "  1,\n",
       "  'image/Шампиньоны Бондюэль целые/Шампиньоны Бондюэль целые_image1.jpg'],\n",
       " ['Шампиньоны Бондюэль целые',\n",
       "  2,\n",
       "  'image/Шампиньоны Бондюэль целые/Шампиньоны Бондюэль целые_image2.jpg'],\n",
       " ['Шампиньоны Бондюэль целые',\n",
       "  3,\n",
       "  'image/Шампиньоны Бондюэль целые/Шампиньоны Бондюэль целые_image3.jpg'],\n",
       " ['Шампиньоны Бондюэль целые',\n",
       "  4,\n",
       "  'image/Шампиньоны Бондюэль целые/Шампиньоны Бондюэль целые_image4.jpg'],\n",
       " ['Шампиньоны Бондюэль целые',\n",
       "  5,\n",
       "  'image/Шампиньоны Бондюэль целые/Шампиньоны Бондюэль целые_image5.jpg'],\n",
       " ['Шампиньоны Бондюэль целые',\n",
       "  6,\n",
       "  'image/Шампиньоны Бондюэль целые/Шампиньоны Бондюэль целые_image6.jpg'],\n",
       " ['Шампиньоны Бондюэль целые',\n",
       "  7,\n",
       "  'image/Шампиньоны Бондюэль целые/Шампиньоны Бондюэль целые_image7.jpg'],\n",
       " ['Шампиньоны Бондюэль целые',\n",
       "  8,\n",
       "  'image/Шампиньоны Бондюэль целые/Шампиньоны Бондюэль целые_image8.jpg'],\n",
       " ['Шампиньоны Бондюэль целые',\n",
       "  9,\n",
       "  'image/Шампиньоны Бондюэль целые/Шампиньоны Бондюэль целые_image9.jpg'],\n",
       " ['Шампиньоны Бондюэль целые',\n",
       "  10,\n",
       "  'image/Шампиньоны Бондюэль целые/Шампиньоны Бондюэль целые_image10.jpg'],\n",
       " ['Шампиньоны Бондюэль целые',\n",
       "  11,\n",
       "  'image/Шампиньоны Бондюэль целые/Шампиньоны Бондюэль целые_image11.jpg'],\n",
       " ['Шампиньоны Бондюэль целые',\n",
       "  12,\n",
       "  'image/Шампиньоны Бондюэль целые/Шампиньоны Бондюэль целые_image12.jpg'],\n",
       " ['Шампиньоны Бондюэль целые',\n",
       "  13,\n",
       "  'image/Шампиньоны Бондюэль целые/Шампиньоны Бондюэль целые_image13.jpg'],\n",
       " ['Шампиньоны Бондюэль целые',\n",
       "  14,\n",
       "  'image/Шампиньоны Бондюэль целые/Шампиньоны Бондюэль целые_image14.jpg'],\n",
       " ['Шампиньоны Бондюэль целые',\n",
       "  15,\n",
       "  'image/Шампиньоны Бондюэль целые/Шампиньоны Бондюэль целые_image15.jpg'],\n",
       " ['Шампиньоны Бондюэль целые',\n",
       "  16,\n",
       "  'image/Шампиньоны Бондюэль целые/Шампиньоны Бондюэль целые_image16.jpg'],\n",
       " ['Шампиньоны Бондюэль целые',\n",
       "  17,\n",
       "  'image/Шампиньоны Бондюэль целые/Шампиньоны Бондюэль целые_image17.jpg'],\n",
       " ['Шампиньоны Бондюэль целые',\n",
       "  18,\n",
       "  'image/Шампиньоны Бондюэль целые/Шампиньоны Бондюэль целые_image18.jpg'],\n",
       " ['Шампиньоны Бондюэль целые',\n",
       "  19,\n",
       "  'image/Шампиньоны Бондюэль целые/Шампиньоны Бондюэль целые_image19.jpg'],\n",
       " ['Шампиньоны Бондюэль целые',\n",
       "  20,\n",
       "  'image/Шампиньоны Бондюэль целые/Шампиньоны Бондюэль целые_image20.jpg'],\n",
       " ['Шампиньоны Бондюэль целые',\n",
       "  21,\n",
       "  'image/Шампиньоны Бондюэль целые/Шампиньоны Бондюэль целые_image21.jpg'],\n",
       " ['Шампиньоны Бондюэль целые',\n",
       "  22,\n",
       "  'image/Шампиньоны Бондюэль целые/Шампиньоны Бондюэль целые_image22.jpg'],\n",
       " ['Шампиньоны Бондюэль целые',\n",
       "  23,\n",
       "  'image/Шампиньоны Бондюэль целые/Шампиньоны Бондюэль целые_image23.jpg'],\n",
       " ['Шампиньоны Бондюэль целые',\n",
       "  24,\n",
       "  'image/Шампиньоны Бондюэль целые/Шампиньоны Бондюэль целые_image24.jpg'],\n",
       " ['Шампиньоны Бондюэль целые',\n",
       "  25,\n",
       "  'image/Шампиньоны Бондюэль целые/Шампиньоны Бондюэль целые_image25.jpg'],\n",
       " ['Шампиньоны Бондюэль целые',\n",
       "  26,\n",
       "  'image/Шампиньоны Бондюэль целые/Шампиньоны Бондюэль целые_image26.jpg'],\n",
       " ['Шампиньоны Бондюэль целые',\n",
       "  27,\n",
       "  'image/Шампиньоны Бондюэль целые/Шампиньоны Бондюэль целые_image27.jpg'],\n",
       " ['Шампиньоны Бондюэль целые',\n",
       "  28,\n",
       "  'image/Шампиньоны Бондюэль целые/Шампиньоны Бондюэль целые_image28.jpg'],\n",
       " ['Шампиньоны Бондюэль целые',\n",
       "  29,\n",
       "  'image/Шампиньоны Бондюэль целые/Шампиньоны Бондюэль целые_image29.jpg'],\n",
       " ['Подберёзовики свежие',\n",
       "  0,\n",
       "  'image/Подберёзовики свежие/Подберёзовики свежие_image0.jpg'],\n",
       " ['Подберёзовики свежие',\n",
       "  2,\n",
       "  'image/Подберёзовики свежие/Подберёзовики свежие_image2.jpg'],\n",
       " ['Подберёзовики свежие',\n",
       "  3,\n",
       "  'image/Подберёзовики свежие/Подберёзовики свежие_image3.jpg'],\n",
       " ['Подберёзовики свежие',\n",
       "  4,\n",
       "  'image/Подберёзовики свежие/Подберёзовики свежие_image4.jpg'],\n",
       " ['Подберёзовики свежие',\n",
       "  5,\n",
       "  'image/Подберёзовики свежие/Подберёзовики свежие_image5.jpg'],\n",
       " ['Подберёзовики свежие',\n",
       "  6,\n",
       "  'image/Подберёзовики свежие/Подберёзовики свежие_image6.jpg'],\n",
       " ['Подберёзовики свежие',\n",
       "  7,\n",
       "  'image/Подберёзовики свежие/Подберёзовики свежие_image7.jpg'],\n",
       " ['Подберёзовики свежие',\n",
       "  8,\n",
       "  'image/Подберёзовики свежие/Подберёзовики свежие_image8.jpg'],\n",
       " ['Подберёзовики свежие',\n",
       "  9,\n",
       "  'image/Подберёзовики свежие/Подберёзовики свежие_image9.jpg'],\n",
       " ['Подберёзовики свежие',\n",
       "  10,\n",
       "  'image/Подберёзовики свежие/Подберёзовики свежие_image10.jpg'],\n",
       " ['Подберёзовики свежие',\n",
       "  11,\n",
       "  'image/Подберёзовики свежие/Подберёзовики свежие_image11.jpg'],\n",
       " ['Подберёзовики свежие',\n",
       "  12,\n",
       "  'image/Подберёзовики свежие/Подберёзовики свежие_image12.jpg'],\n",
       " ['Подберёзовики свежие',\n",
       "  14,\n",
       "  'image/Подберёзовики свежие/Подберёзовики свежие_image14.jpg'],\n",
       " ['Подберёзовики свежие',\n",
       "  15,\n",
       "  'image/Подберёзовики свежие/Подберёзовики свежие_image15.jpg'],\n",
       " ['Подберёзовики свежие',\n",
       "  16,\n",
       "  'image/Подберёзовики свежие/Подберёзовики свежие_image16.jpg'],\n",
       " ['Подберёзовики свежие',\n",
       "  17,\n",
       "  'image/Подберёзовики свежие/Подберёзовики свежие_image17.jpg'],\n",
       " ['Подберёзовики свежие',\n",
       "  18,\n",
       "  'image/Подберёзовики свежие/Подберёзовики свежие_image18.jpg'],\n",
       " ['Подберёзовики свежие',\n",
       "  19,\n",
       "  'image/Подберёзовики свежие/Подберёзовики свежие_image19.jpg'],\n",
       " ['Подберёзовики свежие',\n",
       "  20,\n",
       "  'image/Подберёзовики свежие/Подберёзовики свежие_image20.jpg'],\n",
       " ['Подберёзовики свежие',\n",
       "  21,\n",
       "  'image/Подберёзовики свежие/Подберёзовики свежие_image21.jpg'],\n",
       " ['Подберёзовики свежие',\n",
       "  22,\n",
       "  'image/Подберёзовики свежие/Подберёзовики свежие_image22.jpg'],\n",
       " ['Подберёзовики свежие',\n",
       "  23,\n",
       "  'image/Подберёзовики свежие/Подберёзовики свежие_image23.jpg'],\n",
       " ['Подберёзовики свежие',\n",
       "  24,\n",
       "  'image/Подберёзовики свежие/Подберёзовики свежие_image24.jpg'],\n",
       " ['Подберёзовики свежие',\n",
       "  25,\n",
       "  'image/Подберёзовики свежие/Подберёзовики свежие_image25.jpg'],\n",
       " ['Подберёзовики свежие',\n",
       "  26,\n",
       "  'image/Подберёзовики свежие/Подберёзовики свежие_image26.jpg'],\n",
       " ['Подберёзовики свежие',\n",
       "  27,\n",
       "  'image/Подберёзовики свежие/Подберёзовики свежие_image27.jpg'],\n",
       " ['Подберёзовики свежие',\n",
       "  28,\n",
       "  'image/Подберёзовики свежие/Подберёзовики свежие_image28.jpg'],\n",
       " ['Подберёзовики свежие',\n",
       "  29,\n",
       "  'image/Подберёзовики свежие/Подберёзовики свежие_image29.jpg'],\n",
       " ['Грибное ризотто Бондюэль в томатном соусе',\n",
       "  0,\n",
       "  'image/Грибное ризотто Бондюэль в томатном соусе/Грибное ризотто Бондюэль в томатном соусе_image0.jpg'],\n",
       " ['Грибное ризотто Бондюэль в томатном соусе',\n",
       "  1,\n",
       "  'image/Грибное ризотто Бондюэль в томатном соусе/Грибное ризотто Бондюэль в томатном соусе_image1.jpg'],\n",
       " ['Грибное ризотто Бондюэль в томатном соусе',\n",
       "  2,\n",
       "  'image/Грибное ризотто Бондюэль в томатном соусе/Грибное ризотто Бондюэль в томатном соусе_image2.jpg'],\n",
       " ['Грибное ризотто Бондюэль в томатном соусе',\n",
       "  4,\n",
       "  'image/Грибное ризотто Бондюэль в томатном соусе/Грибное ризотто Бондюэль в томатном соусе_image4.jpg'],\n",
       " ['Грибное ризотто Бондюэль в томатном соусе',\n",
       "  5,\n",
       "  'image/Грибное ризотто Бондюэль в томатном соусе/Грибное ризотто Бондюэль в томатном соусе_image5.jpg'],\n",
       " ['Грибное ризотто Бондюэль в томатном соусе',\n",
       "  6,\n",
       "  'image/Грибное ризотто Бондюэль в томатном соусе/Грибное ризотто Бондюэль в томатном соусе_image6.jpg'],\n",
       " ['Грибное ризотто Бондюэль в томатном соусе',\n",
       "  7,\n",
       "  'image/Грибное ризотто Бондюэль в томатном соусе/Грибное ризотто Бондюэль в томатном соусе_image7.jpg'],\n",
       " ['Грибное ризотто Бондюэль в томатном соусе',\n",
       "  8,\n",
       "  'image/Грибное ризотто Бондюэль в томатном соусе/Грибное ризотто Бондюэль в томатном соусе_image8.jpg'],\n",
       " ['Грибное ризотто Бондюэль в томатном соусе',\n",
       "  9,\n",
       "  'image/Грибное ризотто Бондюэль в томатном соусе/Грибное ризотто Бондюэль в томатном соусе_image9.jpg'],\n",
       " ['Грибное ризотто Бондюэль в томатном соусе',\n",
       "  10,\n",
       "  'image/Грибное ризотто Бондюэль в томатном соусе/Грибное ризотто Бондюэль в томатном соусе_image10.jpg'],\n",
       " ['Грибное ризотто Бондюэль в томатном соусе',\n",
       "  11,\n",
       "  'image/Грибное ризотто Бондюэль в томатном соусе/Грибное ризотто Бондюэль в томатном соусе_image11.jpg'],\n",
       " ['Грибное ризотто Бондюэль в томатном соусе',\n",
       "  12,\n",
       "  'image/Грибное ризотто Бондюэль в томатном соусе/Грибное ризотто Бондюэль в томатном соусе_image12.jpg'],\n",
       " ['Грибное ризотто Бондюэль в томатном соусе',\n",
       "  13,\n",
       "  'image/Грибное ризотто Бондюэль в томатном соусе/Грибное ризотто Бондюэль в томатном соусе_image13.jpg'],\n",
       " ['Грибное ризотто Бондюэль в томатном соусе',\n",
       "  14,\n",
       "  'image/Грибное ризотто Бондюэль в томатном соусе/Грибное ризотто Бондюэль в томатном соусе_image14.jpg'],\n",
       " ['Грибное ризотто Бондюэль в томатном соусе',\n",
       "  15,\n",
       "  'image/Грибное ризотто Бондюэль в томатном соусе/Грибное ризотто Бондюэль в томатном соусе_image15.jpg'],\n",
       " ['Грибное ризотто Бондюэль в томатном соусе',\n",
       "  16,\n",
       "  'image/Грибное ризотто Бондюэль в томатном соусе/Грибное ризотто Бондюэль в томатном соусе_image16.jpg'],\n",
       " ['Грибное ризотто Бондюэль в томатном соусе',\n",
       "  17,\n",
       "  'image/Грибное ризотто Бондюэль в томатном соусе/Грибное ризотто Бондюэль в томатном соусе_image17.jpg'],\n",
       " ['Грибное ризотто Бондюэль в томатном соусе',\n",
       "  18,\n",
       "  'image/Грибное ризотто Бондюэль в томатном соусе/Грибное ризотто Бондюэль в томатном соусе_image18.jpg'],\n",
       " ['Грибное ризотто Бондюэль в томатном соусе',\n",
       "  19,\n",
       "  'image/Грибное ризотто Бондюэль в томатном соусе/Грибное ризотто Бондюэль в томатном соусе_image19.jpg'],\n",
       " ['Грибное ризотто Бондюэль в томатном соусе',\n",
       "  20,\n",
       "  'image/Грибное ризотто Бондюэль в томатном соусе/Грибное ризотто Бондюэль в томатном соусе_image20.jpg'],\n",
       " ['Грибное ризотто Бондюэль в томатном соусе',\n",
       "  21,\n",
       "  'image/Грибное ризотто Бондюэль в томатном соусе/Грибное ризотто Бондюэль в томатном соусе_image21.jpg'],\n",
       " ['Грибное ризотто Бондюэль в томатном соусе',\n",
       "  22,\n",
       "  'image/Грибное ризотто Бондюэль в томатном соусе/Грибное ризотто Бондюэль в томатном соусе_image22.jpg'],\n",
       " ['Грибное ризотто Бондюэль в томатном соусе',\n",
       "  23,\n",
       "  'image/Грибное ризотто Бондюэль в томатном соусе/Грибное ризотто Бондюэль в томатном соусе_image23.jpg'],\n",
       " ['Грибное ризотто Бондюэль в томатном соусе',\n",
       "  24,\n",
       "  'image/Грибное ризотто Бондюэль в томатном соусе/Грибное ризотто Бондюэль в томатном соусе_image24.jpg'],\n",
       " ['Грибное ризотто Бондюэль в томатном соусе',\n",
       "  25,\n",
       "  'image/Грибное ризотто Бондюэль в томатном соусе/Грибное ризотто Бондюэль в томатном соусе_image25.jpg'],\n",
       " ['Грибное ризотто Бондюэль в томатном соусе',\n",
       "  26,\n",
       "  'image/Грибное ризотто Бондюэль в томатном соусе/Грибное ризотто Бондюэль в томатном соусе_image26.jpg'],\n",
       " ['Грибное ризотто Бондюэль в томатном соусе',\n",
       "  27,\n",
       "  'image/Грибное ризотто Бондюэль в томатном соусе/Грибное ризотто Бондюэль в томатном соусе_image27.jpg'],\n",
       " ['Грибное ризотто Бондюэль в томатном соусе',\n",
       "  28,\n",
       "  'image/Грибное ризотто Бондюэль в томатном соусе/Грибное ризотто Бондюэль в томатном соусе_image28.jpg'],\n",
       " ['Грибное ризотто Бондюэль в томатном соусе',\n",
       "  29,\n",
       "  'image/Грибное ризотто Бондюэль в томатном соусе/Грибное ризотто Бондюэль в томатном соусе_image29.jpg'],\n",
       " ['Шиитаке свежие', 0, 'image/Шиитаке свежие/Шиитаке свежие_image0.jpg'],\n",
       " ['Шиитаке свежие', 1, 'image/Шиитаке свежие/Шиитаке свежие_image1.jpg'],\n",
       " ['Шиитаке свежие', 2, 'image/Шиитаке свежие/Шиитаке свежие_image2.jpg'],\n",
       " ['Шиитаке свежие', 3, 'image/Шиитаке свежие/Шиитаке свежие_image3.jpg'],\n",
       " ['Шиитаке свежие', 4, 'image/Шиитаке свежие/Шиитаке свежие_image4.jpg'],\n",
       " ['Шиитаке свежие', 6, 'image/Шиитаке свежие/Шиитаке свежие_image6.jpg'],\n",
       " ['Шиитаке свежие', 7, 'image/Шиитаке свежие/Шиитаке свежие_image7.jpg'],\n",
       " ['Шиитаке свежие', 8, 'image/Шиитаке свежие/Шиитаке свежие_image8.jpg'],\n",
       " ['Шиитаке свежие', 9, 'image/Шиитаке свежие/Шиитаке свежие_image9.jpg'],\n",
       " ['Шиитаке свежие', 10, 'image/Шиитаке свежие/Шиитаке свежие_image10.jpg'],\n",
       " ['Шиитаке свежие', 11, 'image/Шиитаке свежие/Шиитаке свежие_image11.jpg'],\n",
       " ['Шиитаке свежие', 12, 'image/Шиитаке свежие/Шиитаке свежие_image12.jpg'],\n",
       " ['Шиитаке свежие', 13, 'image/Шиитаке свежие/Шиитаке свежие_image13.jpg'],\n",
       " ['Шиитаке свежие', 14, 'image/Шиитаке свежие/Шиитаке свежие_image14.jpg'],\n",
       " ['Шиитаке свежие', 15, 'image/Шиитаке свежие/Шиитаке свежие_image15.jpg'],\n",
       " ['Шиитаке свежие', 16, 'image/Шиитаке свежие/Шиитаке свежие_image16.jpg'],\n",
       " ['Шиитаке свежие', 17, 'image/Шиитаке свежие/Шиитаке свежие_image17.jpg'],\n",
       " ['Шиитаке свежие', 18, 'image/Шиитаке свежие/Шиитаке свежие_image18.jpg'],\n",
       " ['Шиитаке свежие', 20, 'image/Шиитаке свежие/Шиитаке свежие_image20.jpg'],\n",
       " ['Шиитаке свежие', 21, 'image/Шиитаке свежие/Шиитаке свежие_image21.jpg'],\n",
       " ['Шиитаке свежие', 22, 'image/Шиитаке свежие/Шиитаке свежие_image22.jpg'],\n",
       " ['Шиитаке свежие', 23, 'image/Шиитаке свежие/Шиитаке свежие_image23.jpg'],\n",
       " ['Шиитаке свежие', 24, 'image/Шиитаке свежие/Шиитаке свежие_image24.jpg'],\n",
       " ['Шиитаке свежие', 25, 'image/Шиитаке свежие/Шиитаке свежие_image25.jpg'],\n",
       " ['Шиитаке свежие', 26, 'image/Шиитаке свежие/Шиитаке свежие_image26.jpg'],\n",
       " ['Шиитаке свежие', 27, 'image/Шиитаке свежие/Шиитаке свежие_image27.jpg'],\n",
       " ['Шиитаке свежие', 28, 'image/Шиитаке свежие/Шиитаке свежие_image28.jpg'],\n",
       " ['Шиитаке свежие', 29, 'image/Шиитаке свежие/Шиитаке свежие_image29.jpg'],\n",
       " ['Шампиньоны свежие',\n",
       "  0,\n",
       "  'image/Шампиньоны свежие/Шампиньоны свежие_image0.jpg'],\n",
       " ['Шампиньоны свежие',\n",
       "  1,\n",
       "  'image/Шампиньоны свежие/Шампиньоны свежие_image1.jpg'],\n",
       " ['Шампиньоны свежие',\n",
       "  2,\n",
       "  'image/Шампиньоны свежие/Шампиньоны свежие_image2.jpg'],\n",
       " ['Шампиньоны свежие',\n",
       "  3,\n",
       "  'image/Шампиньоны свежие/Шампиньоны свежие_image3.jpg'],\n",
       " ['Шампиньоны свежие',\n",
       "  4,\n",
       "  'image/Шампиньоны свежие/Шампиньоны свежие_image4.jpg'],\n",
       " ['Шампиньоны свежие',\n",
       "  5,\n",
       "  'image/Шампиньоны свежие/Шампиньоны свежие_image5.jpg'],\n",
       " ['Шампиньоны свежие',\n",
       "  6,\n",
       "  'image/Шампиньоны свежие/Шампиньоны свежие_image6.jpg'],\n",
       " ['Шампиньоны свежие',\n",
       "  7,\n",
       "  'image/Шампиньоны свежие/Шампиньоны свежие_image7.jpg'],\n",
       " ['Шампиньоны свежие',\n",
       "  8,\n",
       "  'image/Шампиньоны свежие/Шампиньоны свежие_image8.jpg'],\n",
       " ['Шампиньоны свежие',\n",
       "  9,\n",
       "  'image/Шампиньоны свежие/Шампиньоны свежие_image9.jpg'],\n",
       " ['Шампиньоны свежие',\n",
       "  10,\n",
       "  'image/Шампиньоны свежие/Шампиньоны свежие_image10.jpg'],\n",
       " ['Шампиньоны свежие',\n",
       "  11,\n",
       "  'image/Шампиньоны свежие/Шампиньоны свежие_image11.jpg'],\n",
       " ['Шампиньоны свежие',\n",
       "  12,\n",
       "  'image/Шампиньоны свежие/Шампиньоны свежие_image12.jpg'],\n",
       " ['Шампиньоны свежие',\n",
       "  13,\n",
       "  'image/Шампиньоны свежие/Шампиньоны свежие_image13.jpg'],\n",
       " ['Шампиньоны свежие',\n",
       "  14,\n",
       "  'image/Шампиньоны свежие/Шампиньоны свежие_image14.jpg'],\n",
       " ['Шампиньоны свежие',\n",
       "  15,\n",
       "  'image/Шампиньоны свежие/Шампиньоны свежие_image15.jpg'],\n",
       " ['Шампиньоны свежие',\n",
       "  16,\n",
       "  'image/Шампиньоны свежие/Шампиньоны свежие_image16.jpg'],\n",
       " ['Шампиньоны свежие',\n",
       "  17,\n",
       "  'image/Шампиньоны свежие/Шампиньоны свежие_image17.jpg'],\n",
       " ['Шампиньоны свежие',\n",
       "  18,\n",
       "  'image/Шампиньоны свежие/Шампиньоны свежие_image18.jpg'],\n",
       " ['Шампиньоны свежие',\n",
       "  19,\n",
       "  'image/Шампиньоны свежие/Шампиньоны свежие_image19.jpg'],\n",
       " ['Шампиньоны свежие',\n",
       "  20,\n",
       "  'image/Шампиньоны свежие/Шампиньоны свежие_image20.jpg'],\n",
       " ['Шампиньоны свежие',\n",
       "  21,\n",
       "  'image/Шампиньоны свежие/Шампиньоны свежие_image21.jpg'],\n",
       " ['Шампиньоны свежие',\n",
       "  22,\n",
       "  'image/Шампиньоны свежие/Шампиньоны свежие_image22.jpg'],\n",
       " ['Шампиньоны свежие',\n",
       "  23,\n",
       "  'image/Шампиньоны свежие/Шампиньоны свежие_image23.jpg'],\n",
       " ['Шампиньоны свежие',\n",
       "  26,\n",
       "  'image/Шампиньоны свежие/Шампиньоны свежие_image26.jpg'],\n",
       " ['Шампиньоны свежие',\n",
       "  27,\n",
       "  'image/Шампиньоны свежие/Шампиньоны свежие_image27.jpg'],\n",
       " ['Шампиньоны свежие',\n",
       "  28,\n",
       "  'image/Шампиньоны свежие/Шампиньоны свежие_image28.jpg'],\n",
       " ['Шампиньоны свежие',\n",
       "  29,\n",
       "  'image/Шампиньоны свежие/Шампиньоны свежие_image29.jpg'],\n",
       " ['Опята целые Sunfeel',\n",
       "  0,\n",
       "  'image/Опята целые Sunfeel/Опята целые Sunfeel_image0.jpg'],\n",
       " ['Опята целые Sunfeel',\n",
       "  1,\n",
       "  'image/Опята целые Sunfeel/Опята целые Sunfeel_image1.jpg'],\n",
       " ['Опята целые Sunfeel',\n",
       "  2,\n",
       "  'image/Опята целые Sunfeel/Опята целые Sunfeel_image2.jpg'],\n",
       " ['Опята целые Sunfeel',\n",
       "  3,\n",
       "  'image/Опята целые Sunfeel/Опята целые Sunfeel_image3.jpg'],\n",
       " ['Опята целые Sunfeel',\n",
       "  4,\n",
       "  'image/Опята целые Sunfeel/Опята целые Sunfeel_image4.jpg'],\n",
       " ['Опята целые Sunfeel',\n",
       "  5,\n",
       "  'image/Опята целые Sunfeel/Опята целые Sunfeel_image5.jpg'],\n",
       " ['Опята целые Sunfeel',\n",
       "  6,\n",
       "  'image/Опята целые Sunfeel/Опята целые Sunfeel_image6.jpg'],\n",
       " ['Опята целые Sunfeel',\n",
       "  7,\n",
       "  'image/Опята целые Sunfeel/Опята целые Sunfeel_image7.jpg'],\n",
       " ['Опята целые Sunfeel',\n",
       "  8,\n",
       "  'image/Опята целые Sunfeel/Опята целые Sunfeel_image8.jpg'],\n",
       " ['Опята целые Sunfeel',\n",
       "  9,\n",
       "  'image/Опята целые Sunfeel/Опята целые Sunfeel_image9.jpg'],\n",
       " ['Опята целые Sunfeel',\n",
       "  10,\n",
       "  'image/Опята целые Sunfeel/Опята целые Sunfeel_image10.jpg'],\n",
       " ['Опята целые Sunfeel',\n",
       "  12,\n",
       "  'image/Опята целые Sunfeel/Опята целые Sunfeel_image12.jpg'],\n",
       " ['Опята целые Sunfeel',\n",
       "  13,\n",
       "  'image/Опята целые Sunfeel/Опята целые Sunfeel_image13.jpg'],\n",
       " ['Опята целые Sunfeel',\n",
       "  14,\n",
       "  'image/Опята целые Sunfeel/Опята целые Sunfeel_image14.jpg'],\n",
       " ['Опята целые Sunfeel',\n",
       "  15,\n",
       "  'image/Опята целые Sunfeel/Опята целые Sunfeel_image15.jpg'],\n",
       " ['Опята целые Sunfeel',\n",
       "  16,\n",
       "  'image/Опята целые Sunfeel/Опята целые Sunfeel_image16.jpg'],\n",
       " ['Опята целые Sunfeel',\n",
       "  17,\n",
       "  'image/Опята целые Sunfeel/Опята целые Sunfeel_image17.jpg'],\n",
       " ['Опята целые Sunfeel',\n",
       "  18,\n",
       "  'image/Опята целые Sunfeel/Опята целые Sunfeel_image18.jpg'],\n",
       " ['Опята целые Sunfeel',\n",
       "  19,\n",
       "  'image/Опята целые Sunfeel/Опята целые Sunfeel_image19.jpg'],\n",
       " ['Опята целые Sunfeel',\n",
       "  20,\n",
       "  'image/Опята целые Sunfeel/Опята целые Sunfeel_image20.jpg'],\n",
       " ['Опята целые Sunfeel',\n",
       "  22,\n",
       "  'image/Опята целые Sunfeel/Опята целые Sunfeel_image22.jpg'],\n",
       " ['Опята целые Sunfeel',\n",
       "  24,\n",
       "  'image/Опята целые Sunfeel/Опята целые Sunfeel_image24.jpg'],\n",
       " ['Опята целые Sunfeel',\n",
       "  25,\n",
       "  'image/Опята целые Sunfeel/Опята целые Sunfeel_image25.jpg'],\n",
       " ['Опята целые Sunfeel',\n",
       "  26,\n",
       "  'image/Опята целые Sunfeel/Опята целые Sunfeel_image26.jpg'],\n",
       " ['Опята целые Sunfeel',\n",
       "  27,\n",
       "  'image/Опята целые Sunfeel/Опята целые Sunfeel_image27.jpg'],\n",
       " ['Опята целые Sunfeel',\n",
       "  28,\n",
       "  'image/Опята целые Sunfeel/Опята целые Sunfeel_image28.jpg'],\n",
       " ['Опята целые Sunfeel',\n",
       "  29,\n",
       "  'image/Опята целые Sunfeel/Опята целые Sunfeel_image29.jpg'],\n",
       " ['Грибное ассорти быстрозамороженное',\n",
       "  0,\n",
       "  'image/Грибное ассорти быстрозамороженное/Грибное ассорти быстрозамороженное_image0.jpg'],\n",
       " ['Грибное ассорти быстрозамороженное',\n",
       "  1,\n",
       "  'image/Грибное ассорти быстрозамороженное/Грибное ассорти быстрозамороженное_image1.jpg'],\n",
       " ['Грибное ассорти быстрозамороженное',\n",
       "  2,\n",
       "  'image/Грибное ассорти быстрозамороженное/Грибное ассорти быстрозамороженное_image2.jpg'],\n",
       " ['Грибное ассорти быстрозамороженное',\n",
       "  3,\n",
       "  'image/Грибное ассорти быстрозамороженное/Грибное ассорти быстрозамороженное_image3.jpg'],\n",
       " ['Грибное ассорти быстрозамороженное',\n",
       "  5,\n",
       "  'image/Грибное ассорти быстрозамороженное/Грибное ассорти быстрозамороженное_image5.jpg'],\n",
       " ['Грибное ассорти быстрозамороженное',\n",
       "  6,\n",
       "  'image/Грибное ассорти быстрозамороженное/Грибное ассорти быстрозамороженное_image6.jpg'],\n",
       " ['Грибное ассорти быстрозамороженное',\n",
       "  7,\n",
       "  'image/Грибное ассорти быстрозамороженное/Грибное ассорти быстрозамороженное_image7.jpg'],\n",
       " ['Грибное ассорти быстрозамороженное',\n",
       "  8,\n",
       "  'image/Грибное ассорти быстрозамороженное/Грибное ассорти быстрозамороженное_image8.jpg'],\n",
       " ['Грибное ассорти быстрозамороженное',\n",
       "  9,\n",
       "  'image/Грибное ассорти быстрозамороженное/Грибное ассорти быстрозамороженное_image9.jpg'],\n",
       " ['Грибное ассорти быстрозамороженное',\n",
       "  10,\n",
       "  'image/Грибное ассорти быстрозамороженное/Грибное ассорти быстрозамороженное_image10.jpg'],\n",
       " ['Грибное ассорти быстрозамороженное',\n",
       "  11,\n",
       "  'image/Грибное ассорти быстрозамороженное/Грибное ассорти быстрозамороженное_image11.jpg'],\n",
       " ['Грибное ассорти быстрозамороженное',\n",
       "  12,\n",
       "  'image/Грибное ассорти быстрозамороженное/Грибное ассорти быстрозамороженное_image12.jpg'],\n",
       " ['Грибное ассорти быстрозамороженное',\n",
       "  13,\n",
       "  'image/Грибное ассорти быстрозамороженное/Грибное ассорти быстрозамороженное_image13.jpg'],\n",
       " ['Грибное ассорти быстрозамороженное',\n",
       "  14,\n",
       "  'image/Грибное ассорти быстрозамороженное/Грибное ассорти быстрозамороженное_image14.jpg'],\n",
       " ['Грибное ассорти быстрозамороженное',\n",
       "  15,\n",
       "  'image/Грибное ассорти быстрозамороженное/Грибное ассорти быстрозамороженное_image15.jpg'],\n",
       " ['Грибное ассорти быстрозамороженное',\n",
       "  16,\n",
       "  'image/Грибное ассорти быстрозамороженное/Грибное ассорти быстрозамороженное_image16.jpg'],\n",
       " ['Грибное ассорти быстрозамороженное',\n",
       "  17,\n",
       "  'image/Грибное ассорти быстрозамороженное/Грибное ассорти быстрозамороженное_image17.jpg'],\n",
       " ['Грибное ассорти быстрозамороженное',\n",
       "  18,\n",
       "  'image/Грибное ассорти быстрозамороженное/Грибное ассорти быстрозамороженное_image18.jpg'],\n",
       " ['Грибное ассорти быстрозамороженное',\n",
       "  19,\n",
       "  'image/Грибное ассорти быстрозамороженное/Грибное ассорти быстрозамороженное_image19.jpg'],\n",
       " ['Грибное ассорти быстрозамороженное',\n",
       "  20,\n",
       "  'image/Грибное ассорти быстрозамороженное/Грибное ассорти быстрозамороженное_image20.jpg'],\n",
       " ['Грибное ассорти быстрозамороженное',\n",
       "  21,\n",
       "  'image/Грибное ассорти быстрозамороженное/Грибное ассорти быстрозамороженное_image21.jpg'],\n",
       " ['Грибное ассорти быстрозамороженное',\n",
       "  22,\n",
       "  'image/Грибное ассорти быстрозамороженное/Грибное ассорти быстрозамороженное_image22.jpg'],\n",
       " ['Грибное ассорти быстрозамороженное',\n",
       "  23,\n",
       "  'image/Грибное ассорти быстрозамороженное/Грибное ассорти быстрозамороженное_image23.jpg'],\n",
       " ['Грибное ассорти быстрозамороженное',\n",
       "  24,\n",
       "  'image/Грибное ассорти быстрозамороженное/Грибное ассорти быстрозамороженное_image24.jpg'],\n",
       " ['Грибное ассорти быстрозамороженное',\n",
       "  25,\n",
       "  'image/Грибное ассорти быстрозамороженное/Грибное ассорти быстрозамороженное_image25.jpg'],\n",
       " ['Грибное ассорти быстрозамороженное',\n",
       "  26,\n",
       "  'image/Грибное ассорти быстрозамороженное/Грибное ассорти быстрозамороженное_image26.jpg'],\n",
       " ['Грибное ассорти быстрозамороженное',\n",
       "  27,\n",
       "  'image/Грибное ассорти быстрозамороженное/Грибное ассорти быстрозамороженное_image27.jpg'],\n",
       " ['Грибное ассорти быстрозамороженное',\n",
       "  28,\n",
       "  'image/Грибное ассорти быстрозамороженное/Грибное ассорти быстрозамороженное_image28.jpg'],\n",
       " ['Грибное ассорти быстрозамороженное',\n",
       "  29,\n",
       "  'image/Грибное ассорти быстрозамороженное/Грибное ассорти быстрозамороженное_image29.jpg'],\n",
       " ['Вешенки свежие', 0, 'image/Вешенки свежие/Вешенки свежие_image0.jpg'],\n",
       " ['Вешенки свежие', 1, 'image/Вешенки свежие/Вешенки свежие_image1.jpg'],\n",
       " ['Вешенки свежие', 2, 'image/Вешенки свежие/Вешенки свежие_image2.jpg'],\n",
       " ['Вешенки свежие', 3, 'image/Вешенки свежие/Вешенки свежие_image3.jpg'],\n",
       " ['Вешенки свежие', 5, 'image/Вешенки свежие/Вешенки свежие_image5.jpg'],\n",
       " ['Вешенки свежие', 6, 'image/Вешенки свежие/Вешенки свежие_image6.jpg'],\n",
       " ['Вешенки свежие', 7, 'image/Вешенки свежие/Вешенки свежие_image7.jpg'],\n",
       " ['Вешенки свежие', 8, 'image/Вешенки свежие/Вешенки свежие_image8.jpg'],\n",
       " ['Вешенки свежие', 9, 'image/Вешенки свежие/Вешенки свежие_image9.jpg'],\n",
       " ['Вешенки свежие', 10, 'image/Вешенки свежие/Вешенки свежие_image10.jpg'],\n",
       " ['Вешенки свежие', 11, 'image/Вешенки свежие/Вешенки свежие_image11.jpg'],\n",
       " ['Вешенки свежие', 12, 'image/Вешенки свежие/Вешенки свежие_image12.jpg'],\n",
       " ['Вешенки свежие', 13, 'image/Вешенки свежие/Вешенки свежие_image13.jpg'],\n",
       " ['Вешенки свежие', 14, 'image/Вешенки свежие/Вешенки свежие_image14.jpg'],\n",
       " ['Вешенки свежие', 15, 'image/Вешенки свежие/Вешенки свежие_image15.jpg'],\n",
       " ['Вешенки свежие', 16, 'image/Вешенки свежие/Вешенки свежие_image16.jpg'],\n",
       " ['Вешенки свежие', 17, 'image/Вешенки свежие/Вешенки свежие_image17.jpg'],\n",
       " ['Вешенки свежие', 18, 'image/Вешенки свежие/Вешенки свежие_image18.jpg'],\n",
       " ['Вешенки свежие', 20, 'image/Вешенки свежие/Вешенки свежие_image20.jpg'],\n",
       " ['Вешенки свежие', 22, 'image/Вешенки свежие/Вешенки свежие_image22.jpg'],\n",
       " ['Вешенки свежие', 23, 'image/Вешенки свежие/Вешенки свежие_image23.jpg'],\n",
       " ['Вешенки свежие', 24, 'image/Вешенки свежие/Вешенки свежие_image24.jpg'],\n",
       " ['Вешенки свежие', 25, 'image/Вешенки свежие/Вешенки свежие_image25.jpg'],\n",
       " ['Вешенки свежие', 26, 'image/Вешенки свежие/Вешенки свежие_image26.jpg'],\n",
       " ['Вешенки свежие', 27, 'image/Вешенки свежие/Вешенки свежие_image27.jpg'],\n",
       " ['Вешенки свежие', 28, 'image/Вешенки свежие/Вешенки свежие_image28.jpg'],\n",
       " ['Вешенки свежие', 29, 'image/Вешенки свежие/Вешенки свежие_image29.jpg'],\n",
       " ['Белые жареные', 0, 'image/Белые жареные/Белые жареные_image0.jpg'],\n",
       " ['Белые жареные', 1, 'image/Белые жареные/Белые жареные_image1.jpg'],\n",
       " ['Белые жареные', 2, 'image/Белые жареные/Белые жареные_image2.jpg'],\n",
       " ['Белые жареные', 3, 'image/Белые жареные/Белые жареные_image3.jpg'],\n",
       " ['Белые жареные', 4, 'image/Белые жареные/Белые жареные_image4.jpg'],\n",
       " ['Белые жареные', 5, 'image/Белые жареные/Белые жареные_image5.jpg'],\n",
       " ['Белые жареные', 6, 'image/Белые жареные/Белые жареные_image6.jpg'],\n",
       " ['Белые жареные', 7, 'image/Белые жареные/Белые жареные_image7.jpg'],\n",
       " ['Белые жареные', 8, 'image/Белые жареные/Белые жареные_image8.jpg'],\n",
       " ['Белые жареные', 9, 'image/Белые жареные/Белые жареные_image9.jpg'],\n",
       " ['Белые жареные', 10, 'image/Белые жареные/Белые жареные_image10.jpg'],\n",
       " ['Белые жареные', 11, 'image/Белые жареные/Белые жареные_image11.jpg'],\n",
       " ['Белые жареные', 12, 'image/Белые жареные/Белые жареные_image12.jpg'],\n",
       " ['Белые жареные', 13, 'image/Белые жареные/Белые жареные_image13.jpg'],\n",
       " ['Белые жареные', 14, 'image/Белые жареные/Белые жареные_image14.jpg'],\n",
       " ['Белые жареные', 15, 'image/Белые жареные/Белые жареные_image15.jpg'],\n",
       " ['Белые жареные', 16, 'image/Белые жареные/Белые жареные_image16.jpg'],\n",
       " ['Белые жареные', 17, 'image/Белые жареные/Белые жареные_image17.jpg'],\n",
       " ['Белые жареные', 19, 'image/Белые жареные/Белые жареные_image19.jpg'],\n",
       " ['Белые жареные', 20, 'image/Белые жареные/Белые жареные_image20.jpg'],\n",
       " ['Белые жареные', 21, 'image/Белые жареные/Белые жареные_image21.jpg'],\n",
       " ['Белые жареные', 22, 'image/Белые жареные/Белые жареные_image22.jpg'],\n",
       " ['Белые жареные', 23, 'image/Белые жареные/Белые жареные_image23.jpg'],\n",
       " ['Белые жареные', 24, 'image/Белые жареные/Белые жареные_image24.jpg'],\n",
       " ['Белые жареные', 25, 'image/Белые жареные/Белые жареные_image25.jpg'],\n",
       " ['Белые жареные', 27, 'image/Белые жареные/Белые жареные_image27.jpg'],\n",
       " ['Белые жареные', 28, 'image/Белые жареные/Белые жареные_image28.jpg'],\n",
       " ['Белые жареные', 29, 'image/Белые жареные/Белые жареные_image29.jpg'],\n",
       " ['Шампиньоны консервированные',\n",
       "  0,\n",
       "  'image/Шампиньоны консервированные/Шампиньоны консервированные_image0.jpg'],\n",
       " ['Шампиньоны консервированные',\n",
       "  1,\n",
       "  'image/Шампиньоны консервированные/Шампиньоны консервированные_image1.jpg'],\n",
       " ['Шампиньоны консервированные',\n",
       "  2,\n",
       "  'image/Шампиньоны консервированные/Шампиньоны консервированные_image2.jpg'],\n",
       " ['Шампиньоны консервированные',\n",
       "  3,\n",
       "  'image/Шампиньоны консервированные/Шампиньоны консервированные_image3.jpg'],\n",
       " ['Шампиньоны консервированные',\n",
       "  4,\n",
       "  'image/Шампиньоны консервированные/Шампиньоны консервированные_image4.jpg'],\n",
       " ['Шампиньоны консервированные',\n",
       "  5,\n",
       "  'image/Шампиньоны консервированные/Шампиньоны консервированные_image5.jpg'],\n",
       " ['Шампиньоны консервированные',\n",
       "  6,\n",
       "  'image/Шампиньоны консервированные/Шампиньоны консервированные_image6.jpg'],\n",
       " ['Шампиньоны консервированные',\n",
       "  7,\n",
       "  'image/Шампиньоны консервированные/Шампиньоны консервированные_image7.jpg'],\n",
       " ['Шампиньоны консервированные',\n",
       "  8,\n",
       "  'image/Шампиньоны консервированные/Шампиньоны консервированные_image8.jpg'],\n",
       " ['Шампиньоны консервированные',\n",
       "  9,\n",
       "  'image/Шампиньоны консервированные/Шампиньоны консервированные_image9.jpg'],\n",
       " ['Шампиньоны консервированные',\n",
       "  10,\n",
       "  'image/Шампиньоны консервированные/Шампиньоны консервированные_image10.jpg'],\n",
       " ['Шампиньоны консервированные',\n",
       "  11,\n",
       "  'image/Шампиньоны консервированные/Шампиньоны консервированные_image11.jpg'],\n",
       " ['Шампиньоны консервированные',\n",
       "  12,\n",
       "  'image/Шампиньоны консервированные/Шампиньоны консервированные_image12.jpg'],\n",
       " ['Шампиньоны консервированные',\n",
       "  13,\n",
       "  'image/Шампиньоны консервированные/Шампиньоны консервированные_image13.jpg'],\n",
       " ['Шампиньоны консервированные',\n",
       "  14,\n",
       "  'image/Шампиньоны консервированные/Шампиньоны консервированные_image14.jpg'],\n",
       " ['Шампиньоны консервированные',\n",
       "  16,\n",
       "  'image/Шампиньоны консервированные/Шампиньоны консервированные_image16.jpg'],\n",
       " ['Шампиньоны консервированные',\n",
       "  17,\n",
       "  'image/Шампиньоны консервированные/Шампиньоны консервированные_image17.jpg'],\n",
       " ['Шампиньоны консервированные',\n",
       "  19,\n",
       "  'image/Шампиньоны консервированные/Шампиньоны консервированные_image19.jpg'],\n",
       " ['Шампиньоны консервированные',\n",
       "  20,\n",
       "  'image/Шампиньоны консервированные/Шампиньоны консервированные_image20.jpg'],\n",
       " ['Шампиньоны консервированные',\n",
       "  21,\n",
       "  'image/Шампиньоны консервированные/Шампиньоны консервированные_image21.jpg'],\n",
       " ['Шампиньоны консервированные',\n",
       "  22,\n",
       "  'image/Шампиньоны консервированные/Шампиньоны консервированные_image22.jpg'],\n",
       " ['Шампиньоны консервированные',\n",
       "  23,\n",
       "  'image/Шампиньоны консервированные/Шампиньоны консервированные_image23.jpg'],\n",
       " ['Шампиньоны консервированные',\n",
       "  24,\n",
       "  'image/Шампиньоны консервированные/Шампиньоны консервированные_image24.jpg'],\n",
       " ['Шампиньоны консервированные',\n",
       "  25,\n",
       "  'image/Шампиньоны консервированные/Шампиньоны консервированные_image25.jpg'],\n",
       " ['Шампиньоны консервированные',\n",
       "  26,\n",
       "  'image/Шампиньоны консервированные/Шампиньоны консервированные_image26.jpg'],\n",
       " ['Шампиньоны консервированные',\n",
       "  27,\n",
       "  'image/Шампиньоны консервированные/Шампиньоны консервированные_image27.jpg'],\n",
       " ['Шампиньоны консервированные',\n",
       "  28,\n",
       "  'image/Шампиньоны консервированные/Шампиньоны консервированные_image28.jpg'],\n",
       " ['Шампиньоны консервированные',\n",
       "  29,\n",
       "  'image/Шампиньоны консервированные/Шампиньоны консервированные_image29.jpg'],\n",
       " ['Лесные грибы Hortex',\n",
       "  0,\n",
       "  'image/Лесные грибы Hortex/Лесные грибы Hortex_image0.jpg'],\n",
       " ['Лесные грибы Hortex',\n",
       "  1,\n",
       "  'image/Лесные грибы Hortex/Лесные грибы Hortex_image1.jpg'],\n",
       " ['Лесные грибы Hortex',\n",
       "  2,\n",
       "  'image/Лесные грибы Hortex/Лесные грибы Hortex_image2.jpg'],\n",
       " ['Лесные грибы Hortex',\n",
       "  3,\n",
       "  'image/Лесные грибы Hortex/Лесные грибы Hortex_image3.jpg'],\n",
       " ['Лесные грибы Hortex',\n",
       "  4,\n",
       "  'image/Лесные грибы Hortex/Лесные грибы Hortex_image4.jpg'],\n",
       " ['Лесные грибы Hortex',\n",
       "  5,\n",
       "  'image/Лесные грибы Hortex/Лесные грибы Hortex_image5.jpg'],\n",
       " ['Лесные грибы Hortex',\n",
       "  6,\n",
       "  'image/Лесные грибы Hortex/Лесные грибы Hortex_image6.jpg'],\n",
       " ['Лесные грибы Hortex',\n",
       "  7,\n",
       "  'image/Лесные грибы Hortex/Лесные грибы Hortex_image7.jpg'],\n",
       " ['Лесные грибы Hortex',\n",
       "  8,\n",
       "  'image/Лесные грибы Hortex/Лесные грибы Hortex_image8.jpg'],\n",
       " ['Лесные грибы Hortex',\n",
       "  9,\n",
       "  'image/Лесные грибы Hortex/Лесные грибы Hortex_image9.jpg'],\n",
       " ['Лесные грибы Hortex',\n",
       "  10,\n",
       "  'image/Лесные грибы Hortex/Лесные грибы Hortex_image10.jpg'],\n",
       " ['Лесные грибы Hortex',\n",
       "  11,\n",
       "  'image/Лесные грибы Hortex/Лесные грибы Hortex_image11.jpg'],\n",
       " ['Лесные грибы Hortex',\n",
       "  12,\n",
       "  'image/Лесные грибы Hortex/Лесные грибы Hortex_image12.jpg'],\n",
       " ['Лесные грибы Hortex',\n",
       "  13,\n",
       "  'image/Лесные грибы Hortex/Лесные грибы Hortex_image13.jpg'],\n",
       " ['Лесные грибы Hortex',\n",
       "  14,\n",
       "  'image/Лесные грибы Hortex/Лесные грибы Hortex_image14.jpg'],\n",
       " ['Лесные грибы Hortex',\n",
       "  15,\n",
       "  'image/Лесные грибы Hortex/Лесные грибы Hortex_image15.jpg'],\n",
       " ['Лесные грибы Hortex',\n",
       "  16,\n",
       "  'image/Лесные грибы Hortex/Лесные грибы Hortex_image16.jpg'],\n",
       " ['Лесные грибы Hortex',\n",
       "  17,\n",
       "  'image/Лесные грибы Hortex/Лесные грибы Hortex_image17.jpg'],\n",
       " ['Лесные грибы Hortex',\n",
       "  18,\n",
       "  'image/Лесные грибы Hortex/Лесные грибы Hortex_image18.jpg'],\n",
       " ['Лесные грибы Hortex',\n",
       "  19,\n",
       "  'image/Лесные грибы Hortex/Лесные грибы Hortex_image19.jpg'],\n",
       " ['Лесные грибы Hortex',\n",
       "  20,\n",
       "  'image/Лесные грибы Hortex/Лесные грибы Hortex_image20.jpg'],\n",
       " ['Лесные грибы Hortex',\n",
       "  21,\n",
       "  'image/Лесные грибы Hortex/Лесные грибы Hortex_image21.jpg'],\n",
       " ['Лесные грибы Hortex',\n",
       "  22,\n",
       "  'image/Лесные грибы Hortex/Лесные грибы Hortex_image22.jpg'],\n",
       " ['Лесные грибы Hortex',\n",
       "  23,\n",
       "  'image/Лесные грибы Hortex/Лесные грибы Hortex_image23.jpg'],\n",
       " ['Лесные грибы Hortex',\n",
       "  24,\n",
       "  'image/Лесные грибы Hortex/Лесные грибы Hortex_image24.jpg'],\n",
       " ['Лесные грибы Hortex',\n",
       "  25,\n",
       "  'image/Лесные грибы Hortex/Лесные грибы Hortex_image25.jpg'],\n",
       " ['Лесные грибы Hortex',\n",
       "  26,\n",
       "  'image/Лесные грибы Hortex/Лесные грибы Hortex_image26.jpg'],\n",
       " ['Лесные грибы Hortex',\n",
       "  27,\n",
       "  'image/Лесные грибы Hortex/Лесные грибы Hortex_image27.jpg'],\n",
       " ['Лесные грибы Hortex',\n",
       "  28,\n",
       "  'image/Лесные грибы Hortex/Лесные грибы Hortex_image28.jpg'],\n",
       " ['Лесные грибы Hortex',\n",
       "  29,\n",
       "  'image/Лесные грибы Hortex/Лесные грибы Hortex_image29.jpg'],\n",
       " ['Польский гриб', 0, 'image/Польский гриб/Польский гриб_image0.jpg'],\n",
       " ['Польский гриб', 1, 'image/Польский гриб/Польский гриб_image1.jpg'],\n",
       " ['Польский гриб', 2, 'image/Польский гриб/Польский гриб_image2.jpg'],\n",
       " ['Польский гриб', 3, 'image/Польский гриб/Польский гриб_image3.jpg'],\n",
       " ['Польский гриб', 5, 'image/Польский гриб/Польский гриб_image5.jpg'],\n",
       " ['Польский гриб', 6, 'image/Польский гриб/Польский гриб_image6.jpg'],\n",
       " ['Польский гриб', 7, 'image/Польский гриб/Польский гриб_image7.jpg'],\n",
       " ['Польский гриб', 8, 'image/Польский гриб/Польский гриб_image8.jpg'],\n",
       " ['Польский гриб', 9, 'image/Польский гриб/Польский гриб_image9.jpg'],\n",
       " ['Польский гриб', 10, 'image/Польский гриб/Польский гриб_image10.jpg'],\n",
       " ['Польский гриб', 11, 'image/Польский гриб/Польский гриб_image11.jpg'],\n",
       " ['Польский гриб', 12, 'image/Польский гриб/Польский гриб_image12.jpg'],\n",
       " ['Польский гриб', 13, 'image/Польский гриб/Польский гриб_image13.jpg'],\n",
       " ['Польский гриб', 15, 'image/Польский гриб/Польский гриб_image15.jpg'],\n",
       " ['Польский гриб', 16, 'image/Польский гриб/Польский гриб_image16.jpg'],\n",
       " ['Польский гриб', 17, 'image/Польский гриб/Польский гриб_image17.jpg'],\n",
       " ['Польский гриб', 18, 'image/Польский гриб/Польский гриб_image18.jpg'],\n",
       " ['Польский гриб', 19, 'image/Польский гриб/Польский гриб_image19.jpg'],\n",
       " ['Польский гриб', 20, 'image/Польский гриб/Польский гриб_image20.jpg'],\n",
       " ['Польский гриб', 21, 'image/Польский гриб/Польский гриб_image21.jpg'],\n",
       " ['Польский гриб', 22, 'image/Польский гриб/Польский гриб_image22.jpg'],\n",
       " ['Польский гриб', 23, 'image/Польский гриб/Польский гриб_image23.jpg'],\n",
       " ['Польский гриб', 26, 'image/Польский гриб/Польский гриб_image26.jpg'],\n",
       " ['Польский гриб', 27, 'image/Польский гриб/Польский гриб_image27.jpg'],\n",
       " ['Польский гриб', 28, 'image/Польский гриб/Польский гриб_image28.jpg'],\n",
       " ['Польский гриб', 29, 'image/Польский гриб/Польский гриб_image29.jpg'],\n",
       " ['Грибное ассорти 4 сезона',\n",
       "  0,\n",
       "  'image/Грибное ассорти 4 сезона/Грибное ассорти 4 сезона_image0.jpg'],\n",
       " ['Грибное ассорти 4 сезона',\n",
       "  1,\n",
       "  'image/Грибное ассорти 4 сезона/Грибное ассорти 4 сезона_image1.jpg'],\n",
       " ['Грибное ассорти 4 сезона',\n",
       "  2,\n",
       "  'image/Грибное ассорти 4 сезона/Грибное ассорти 4 сезона_image2.jpg'],\n",
       " ['Грибное ассорти 4 сезона',\n",
       "  3,\n",
       "  'image/Грибное ассорти 4 сезона/Грибное ассорти 4 сезона_image3.jpg'],\n",
       " ['Грибное ассорти 4 сезона',\n",
       "  4,\n",
       "  'image/Грибное ассорти 4 сезона/Грибное ассорти 4 сезона_image4.jpg'],\n",
       " ['Грибное ассорти 4 сезона',\n",
       "  5,\n",
       "  'image/Грибное ассорти 4 сезона/Грибное ассорти 4 сезона_image5.jpg'],\n",
       " ['Грибное ассорти 4 сезона',\n",
       "  6,\n",
       "  'image/Грибное ассорти 4 сезона/Грибное ассорти 4 сезона_image6.jpg'],\n",
       " ['Грибное ассорти 4 сезона',\n",
       "  7,\n",
       "  'image/Грибное ассорти 4 сезона/Грибное ассорти 4 сезона_image7.jpg'],\n",
       " ['Грибное ассорти 4 сезона',\n",
       "  8,\n",
       "  'image/Грибное ассорти 4 сезона/Грибное ассорти 4 сезона_image8.jpg'],\n",
       " ['Грибное ассорти 4 сезона',\n",
       "  9,\n",
       "  'image/Грибное ассорти 4 сезона/Грибное ассорти 4 сезона_image9.jpg'],\n",
       " ['Грибное ассорти 4 сезона',\n",
       "  10,\n",
       "  'image/Грибное ассорти 4 сезона/Грибное ассорти 4 сезона_image10.jpg'],\n",
       " ['Грибное ассорти 4 сезона',\n",
       "  11,\n",
       "  'image/Грибное ассорти 4 сезона/Грибное ассорти 4 сезона_image11.jpg'],\n",
       " ['Грибное ассорти 4 сезона',\n",
       "  12,\n",
       "  'image/Грибное ассорти 4 сезона/Грибное ассорти 4 сезона_image12.jpg'],\n",
       " ['Грибное ассорти 4 сезона',\n",
       "  13,\n",
       "  'image/Грибное ассорти 4 сезона/Грибное ассорти 4 сезона_image13.jpg'],\n",
       " ['Грибное ассорти 4 сезона',\n",
       "  14,\n",
       "  'image/Грибное ассорти 4 сезона/Грибное ассорти 4 сезона_image14.jpg'],\n",
       " ['Грибное ассорти 4 сезона',\n",
       "  15,\n",
       "  'image/Грибное ассорти 4 сезона/Грибное ассорти 4 сезона_image15.jpg'],\n",
       " ['Грибное ассорти 4 сезона',\n",
       "  16,\n",
       "  'image/Грибное ассорти 4 сезона/Грибное ассорти 4 сезона_image16.jpg'],\n",
       " ['Грибное ассорти 4 сезона',\n",
       "  17,\n",
       "  'image/Грибное ассорти 4 сезона/Грибное ассорти 4 сезона_image17.jpg'],\n",
       " ['Грибное ассорти 4 сезона',\n",
       "  18,\n",
       "  'image/Грибное ассорти 4 сезона/Грибное ассорти 4 сезона_image18.jpg'],\n",
       " ['Грибное ассорти 4 сезона',\n",
       "  19,\n",
       "  'image/Грибное ассорти 4 сезона/Грибное ассорти 4 сезона_image19.jpg'],\n",
       " ['Грибное ассорти 4 сезона',\n",
       "  20,\n",
       "  'image/Грибное ассорти 4 сезона/Грибное ассорти 4 сезона_image20.jpg'],\n",
       " ['Грибное ассорти 4 сезона',\n",
       "  21,\n",
       "  'image/Грибное ассорти 4 сезона/Грибное ассорти 4 сезона_image21.jpg'],\n",
       " ['Грибное ассорти 4 сезона',\n",
       "  22,\n",
       "  'image/Грибное ассорти 4 сезона/Грибное ассорти 4 сезона_image22.jpg'],\n",
       " ['Грибное ассорти 4 сезона',\n",
       "  23,\n",
       "  'image/Грибное ассорти 4 сезона/Грибное ассорти 4 сезона_image23.jpg'],\n",
       " ['Грибное ассорти 4 сезона',\n",
       "  24,\n",
       "  'image/Грибное ассорти 4 сезона/Грибное ассорти 4 сезона_image24.jpg'],\n",
       " ['Грибное ассорти 4 сезона',\n",
       "  25,\n",
       "  'image/Грибное ассорти 4 сезона/Грибное ассорти 4 сезона_image25.jpg'],\n",
       " ['Грибное ассорти 4 сезона',\n",
       "  26,\n",
       "  'image/Грибное ассорти 4 сезона/Грибное ассорти 4 сезона_image26.jpg'],\n",
       " ['Грибное ассорти 4 сезона',\n",
       "  27,\n",
       "  'image/Грибное ассорти 4 сезона/Грибное ассорти 4 сезона_image27.jpg'],\n",
       " ['Грибное ассорти 4 сезона',\n",
       "  28,\n",
       "  'image/Грибное ассорти 4 сезона/Грибное ассорти 4 сезона_image28.jpg'],\n",
       " ['Грибное ассорти 4 сезона',\n",
       "  29,\n",
       "  'image/Грибное ассорти 4 сезона/Грибное ассорти 4 сезона_image29.jpg'],\n",
       " ['Белые грибы Hortex',\n",
       "  0,\n",
       "  'image/Белые грибы Hortex/Белые грибы Hortex_image0.jpg'],\n",
       " ['Белые грибы Hortex',\n",
       "  1,\n",
       "  'image/Белые грибы Hortex/Белые грибы Hortex_image1.jpg'],\n",
       " ['Белые грибы Hortex',\n",
       "  2,\n",
       "  'image/Белые грибы Hortex/Белые грибы Hortex_image2.jpg'],\n",
       " ['Белые грибы Hortex',\n",
       "  3,\n",
       "  'image/Белые грибы Hortex/Белые грибы Hortex_image3.jpg'],\n",
       " ['Белые грибы Hortex',\n",
       "  4,\n",
       "  'image/Белые грибы Hortex/Белые грибы Hortex_image4.jpg'],\n",
       " ['Белые грибы Hortex',\n",
       "  5,\n",
       "  'image/Белые грибы Hortex/Белые грибы Hortex_image5.jpg'],\n",
       " ['Белые грибы Hortex',\n",
       "  6,\n",
       "  'image/Белые грибы Hortex/Белые грибы Hortex_image6.jpg'],\n",
       " ['Белые грибы Hortex',\n",
       "  7,\n",
       "  'image/Белые грибы Hortex/Белые грибы Hortex_image7.jpg'],\n",
       " ['Белые грибы Hortex',\n",
       "  8,\n",
       "  'image/Белые грибы Hortex/Белые грибы Hortex_image8.jpg'],\n",
       " ['Белые грибы Hortex',\n",
       "  9,\n",
       "  'image/Белые грибы Hortex/Белые грибы Hortex_image9.jpg'],\n",
       " ['Белые грибы Hortex',\n",
       "  10,\n",
       "  'image/Белые грибы Hortex/Белые грибы Hortex_image10.jpg'],\n",
       " ['Белые грибы Hortex',\n",
       "  11,\n",
       "  'image/Белые грибы Hortex/Белые грибы Hortex_image11.jpg'],\n",
       " ['Белые грибы Hortex',\n",
       "  12,\n",
       "  'image/Белые грибы Hortex/Белые грибы Hortex_image12.jpg'],\n",
       " ['Белые грибы Hortex',\n",
       "  13,\n",
       "  'image/Белые грибы Hortex/Белые грибы Hortex_image13.jpg'],\n",
       " ['Белые грибы Hortex',\n",
       "  14,\n",
       "  'image/Белые грибы Hortex/Белые грибы Hortex_image14.jpg'],\n",
       " ['Белые грибы Hortex',\n",
       "  15,\n",
       "  'image/Белые грибы Hortex/Белые грибы Hortex_image15.jpg'],\n",
       " ['Белые грибы Hortex',\n",
       "  16,\n",
       "  'image/Белые грибы Hortex/Белые грибы Hortex_image16.jpg'],\n",
       " ['Белые грибы Hortex',\n",
       "  17,\n",
       "  'image/Белые грибы Hortex/Белые грибы Hortex_image17.jpg'],\n",
       " ['Белые грибы Hortex',\n",
       "  18,\n",
       "  'image/Белые грибы Hortex/Белые грибы Hortex_image18.jpg'],\n",
       " ['Белые грибы Hortex',\n",
       "  19,\n",
       "  'image/Белые грибы Hortex/Белые грибы Hortex_image19.jpg'],\n",
       " ['Белые грибы Hortex',\n",
       "  20,\n",
       "  'image/Белые грибы Hortex/Белые грибы Hortex_image20.jpg'],\n",
       " ['Белые грибы Hortex',\n",
       "  21,\n",
       "  'image/Белые грибы Hortex/Белые грибы Hortex_image21.jpg'],\n",
       " ['Белые грибы Hortex',\n",
       "  22,\n",
       "  'image/Белые грибы Hortex/Белые грибы Hortex_image22.jpg'],\n",
       " ['Белые грибы Hortex',\n",
       "  23,\n",
       "  'image/Белые грибы Hortex/Белые грибы Hortex_image23.jpg'],\n",
       " ['Белые грибы Hortex',\n",
       "  24,\n",
       "  'image/Белые грибы Hortex/Белые грибы Hortex_image24.jpg'],\n",
       " ['Белые грибы Hortex',\n",
       "  25,\n",
       "  'image/Белые грибы Hortex/Белые грибы Hortex_image25.jpg'],\n",
       " ['Белые грибы Hortex',\n",
       "  26,\n",
       "  'image/Белые грибы Hortex/Белые грибы Hortex_image26.jpg'],\n",
       " ['Белые грибы Hortex',\n",
       "  27,\n",
       "  'image/Белые грибы Hortex/Белые грибы Hortex_image27.jpg'],\n",
       " ['Белые грибы Hortex',\n",
       "  28,\n",
       "  'image/Белые грибы Hortex/Белые грибы Hortex_image28.jpg'],\n",
       " ['Белые грибы Hortex',\n",
       "  29,\n",
       "  'image/Белые грибы Hortex/Белые грибы Hortex_image29.jpg'],\n",
       " ['Грузди свежие', 0, 'image/Грузди свежие/Грузди свежие_image0.jpg'],\n",
       " ['Грузди свежие', 1, 'image/Грузди свежие/Грузди свежие_image1.jpg'],\n",
       " ['Грузди свежие', 2, 'image/Грузди свежие/Грузди свежие_image2.jpg'],\n",
       " ['Грузди свежие', 3, 'image/Грузди свежие/Грузди свежие_image3.jpg'],\n",
       " ['Грузди свежие', 4, 'image/Грузди свежие/Грузди свежие_image4.jpg'],\n",
       " ['Грузди свежие', 5, 'image/Грузди свежие/Грузди свежие_image5.jpg'],\n",
       " ['Грузди свежие', 6, 'image/Грузди свежие/Грузди свежие_image6.jpg'],\n",
       " ['Грузди свежие', 7, 'image/Грузди свежие/Грузди свежие_image7.jpg'],\n",
       " ['Грузди свежие', 8, 'image/Грузди свежие/Грузди свежие_image8.jpg'],\n",
       " ['Грузди свежие', 9, 'image/Грузди свежие/Грузди свежие_image9.jpg'],\n",
       " ['Грузди свежие', 10, 'image/Грузди свежие/Грузди свежие_image10.jpg'],\n",
       " ['Грузди свежие', 11, 'image/Грузди свежие/Грузди свежие_image11.jpg'],\n",
       " ['Грузди свежие', 12, 'image/Грузди свежие/Грузди свежие_image12.jpg'],\n",
       " ['Грузди свежие', 13, 'image/Грузди свежие/Грузди свежие_image13.jpg'],\n",
       " ['Грузди свежие', 14, 'image/Грузди свежие/Грузди свежие_image14.jpg'],\n",
       " ['Грузди свежие', 15, 'image/Грузди свежие/Грузди свежие_image15.jpg'],\n",
       " ['Грузди свежие', 16, 'image/Грузди свежие/Грузди свежие_image16.jpg'],\n",
       " ['Грузди свежие', 17, 'image/Грузди свежие/Грузди свежие_image17.jpg'],\n",
       " ['Грузди свежие', 18, 'image/Грузди свежие/Грузди свежие_image18.jpg'],\n",
       " ['Грузди свежие', 19, 'image/Грузди свежие/Грузди свежие_image19.jpg'],\n",
       " ['Грузди свежие', 20, 'image/Грузди свежие/Грузди свежие_image20.jpg'],\n",
       " ['Грузди свежие', 21, 'image/Грузди свежие/Грузди свежие_image21.jpg'],\n",
       " ['Грузди свежие', 22, 'image/Грузди свежие/Грузди свежие_image22.jpg'],\n",
       " ['Грузди свежие', 23, 'image/Грузди свежие/Грузди свежие_image23.jpg'],\n",
       " ['Грузди свежие', 24, 'image/Грузди свежие/Грузди свежие_image24.jpg'],\n",
       " ['Грузди свежие', 25, 'image/Грузди свежие/Грузди свежие_image25.jpg'],\n",
       " ['Грузди свежие', 27, 'image/Грузди свежие/Грузди свежие_image27.jpg'],\n",
       " ['Грузди свежие', 28, 'image/Грузди свежие/Грузди свежие_image28.jpg'],\n",
       " ['Грузди свежие', 29, 'image/Грузди свежие/Грузди свежие_image29.jpg'],\n",
       " ['Опятки Hortex', 0, 'image/Опятки Hortex/Опятки Hortex_image0.jpg'],\n",
       " ['Опятки Hortex', 1, 'image/Опятки Hortex/Опятки Hortex_image1.jpg'],\n",
       " ['Опятки Hortex', 2, 'image/Опятки Hortex/Опятки Hortex_image2.jpg'],\n",
       " ['Опятки Hortex', 3, 'image/Опятки Hortex/Опятки Hortex_image3.jpg'],\n",
       " ['Опятки Hortex', 4, 'image/Опятки Hortex/Опятки Hortex_image4.jpg'],\n",
       " ['Опятки Hortex', 6, 'image/Опятки Hortex/Опятки Hortex_image6.jpg'],\n",
       " ['Опятки Hortex', 7, 'image/Опятки Hortex/Опятки Hortex_image7.jpg'],\n",
       " ['Опятки Hortex', 8, 'image/Опятки Hortex/Опятки Hortex_image8.jpg'],\n",
       " ['Опятки Hortex', 9, 'image/Опятки Hortex/Опятки Hortex_image9.jpg'],\n",
       " ['Опятки Hortex', 10, 'image/Опятки Hortex/Опятки Hortex_image10.jpg'],\n",
       " ['Опятки Hortex', 11, 'image/Опятки Hortex/Опятки Hortex_image11.jpg'],\n",
       " ['Опятки Hortex', 12, 'image/Опятки Hortex/Опятки Hortex_image12.jpg'],\n",
       " ['Опятки Hortex', 13, 'image/Опятки Hortex/Опятки Hortex_image13.jpg'],\n",
       " ['Опятки Hortex', 16, 'image/Опятки Hortex/Опятки Hortex_image16.jpg'],\n",
       " ['Опятки Hortex', 17, 'image/Опятки Hortex/Опятки Hortex_image17.jpg'],\n",
       " ['Опятки Hortex', 18, 'image/Опятки Hortex/Опятки Hortex_image18.jpg'],\n",
       " ['Опятки Hortex', 19, 'image/Опятки Hortex/Опятки Hortex_image19.jpg'],\n",
       " ['Опятки Hortex', 20, 'image/Опятки Hortex/Опятки Hortex_image20.jpg'],\n",
       " ['Опятки Hortex', 22, 'image/Опятки Hortex/Опятки Hortex_image22.jpg'],\n",
       " ['Опятки Hortex', 23, 'image/Опятки Hortex/Опятки Hortex_image23.jpg'],\n",
       " ['Опятки Hortex', 24, 'image/Опятки Hortex/Опятки Hortex_image24.jpg'],\n",
       " ['Опятки Hortex', 25, 'image/Опятки Hortex/Опятки Hortex_image25.jpg'],\n",
       " ['Опятки Hortex', 26, 'image/Опятки Hortex/Опятки Hortex_image26.jpg'],\n",
       " ['Опятки Hortex', 27, 'image/Опятки Hortex/Опятки Hortex_image27.jpg'],\n",
       " ['Опятки Hortex', 28, 'image/Опятки Hortex/Опятки Hortex_image28.jpg'],\n",
       " ['Опятки Hortex', 29, 'image/Опятки Hortex/Опятки Hortex_image29.jpg'],\n",
       " ['Рыжики свежие', 0, 'image/Рыжики свежие/Рыжики свежие_image0.jpg'],\n",
       " ['Рыжики свежие', 1, 'image/Рыжики свежие/Рыжики свежие_image1.jpg'],\n",
       " ['Рыжики свежие', 2, 'image/Рыжики свежие/Рыжики свежие_image2.jpg'],\n",
       " ['Рыжики свежие', 3, 'image/Рыжики свежие/Рыжики свежие_image3.jpg'],\n",
       " ['Рыжики свежие', 4, 'image/Рыжики свежие/Рыжики свежие_image4.jpg'],\n",
       " ['Рыжики свежие', 5, 'image/Рыжики свежие/Рыжики свежие_image5.jpg'],\n",
       " ['Рыжики свежие', 6, 'image/Рыжики свежие/Рыжики свежие_image6.jpg'],\n",
       " ['Рыжики свежие', 7, 'image/Рыжики свежие/Рыжики свежие_image7.jpg'],\n",
       " ['Рыжики свежие', 8, 'image/Рыжики свежие/Рыжики свежие_image8.jpg'],\n",
       " ['Рыжики свежие', 9, 'image/Рыжики свежие/Рыжики свежие_image9.jpg'],\n",
       " ['Рыжики свежие', 10, 'image/Рыжики свежие/Рыжики свежие_image10.jpg'],\n",
       " ['Рыжики свежие', 11, 'image/Рыжики свежие/Рыжики свежие_image11.jpg'],\n",
       " ['Рыжики свежие', 12, 'image/Рыжики свежие/Рыжики свежие_image12.jpg'],\n",
       " ['Рыжики свежие', 13, 'image/Рыжики свежие/Рыжики свежие_image13.jpg'],\n",
       " ['Рыжики свежие', 14, 'image/Рыжики свежие/Рыжики свежие_image14.jpg'],\n",
       " ['Рыжики свежие', 15, 'image/Рыжики свежие/Рыжики свежие_image15.jpg'],\n",
       " ['Рыжики свежие', 16, 'image/Рыжики свежие/Рыжики свежие_image16.jpg'],\n",
       " ['Рыжики свежие', 17, 'image/Рыжики свежие/Рыжики свежие_image17.jpg'],\n",
       " ['Рыжики свежие', 18, 'image/Рыжики свежие/Рыжики свежие_image18.jpg'],\n",
       " ['Рыжики свежие', 19, 'image/Рыжики свежие/Рыжики свежие_image19.jpg'],\n",
       " ['Рыжики свежие', 20, 'image/Рыжики свежие/Рыжики свежие_image20.jpg'],\n",
       " ['Рыжики свежие', 21, 'image/Рыжики свежие/Рыжики свежие_image21.jpg'],\n",
       " ['Рыжики свежие', 22, 'image/Рыжики свежие/Рыжики свежие_image22.jpg'],\n",
       " ['Рыжики свежие', 23, 'image/Рыжики свежие/Рыжики свежие_image23.jpg'],\n",
       " ['Рыжики свежие', 24, 'image/Рыжики свежие/Рыжики свежие_image24.jpg'],\n",
       " ['Рыжики свежие', 25, 'image/Рыжики свежие/Рыжики свежие_image25.jpg'],\n",
       " ['Рыжики свежие', 26, 'image/Рыжики свежие/Рыжики свежие_image26.jpg'],\n",
       " ['Рыжики свежие', 27, 'image/Рыжики свежие/Рыжики свежие_image27.jpg'],\n",
       " ['Рыжики свежие', 28, 'image/Рыжики свежие/Рыжики свежие_image28.jpg'],\n",
       " ['Рыжики свежие', 29, 'image/Рыжики свежие/Рыжики свежие_image29.jpg'],\n",
       " ['Подосиновики сушёные',\n",
       "  0,\n",
       "  'image/Подосиновики сушёные/Подосиновики сушёные_image0.jpg'],\n",
       " ['Подосиновики сушёные',\n",
       "  1,\n",
       "  'image/Подосиновики сушёные/Подосиновики сушёные_image1.jpg'],\n",
       " ['Подосиновики сушёные',\n",
       "  2,\n",
       "  'image/Подосиновики сушёные/Подосиновики сушёные_image2.jpg'],\n",
       " ['Подосиновики сушёные',\n",
       "  3,\n",
       "  'image/Подосиновики сушёные/Подосиновики сушёные_image3.jpg'],\n",
       " ['Подосиновики сушёные',\n",
       "  4,\n",
       "  'image/Подосиновики сушёные/Подосиновики сушёные_image4.jpg'],\n",
       " ['Подосиновики сушёные',\n",
       "  5,\n",
       "  'image/Подосиновики сушёные/Подосиновики сушёные_image5.jpg'],\n",
       " ['Подосиновики сушёные',\n",
       "  6,\n",
       "  'image/Подосиновики сушёные/Подосиновики сушёные_image6.jpg'],\n",
       " ['Подосиновики сушёные',\n",
       "  7,\n",
       "  'image/Подосиновики сушёные/Подосиновики сушёные_image7.jpg'],\n",
       " ['Подосиновики сушёные',\n",
       "  8,\n",
       "  'image/Подосиновики сушёные/Подосиновики сушёные_image8.jpg'],\n",
       " ['Подосиновики сушёные',\n",
       "  9,\n",
       "  'image/Подосиновики сушёные/Подосиновики сушёные_image9.jpg'],\n",
       " ['Подосиновики сушёные',\n",
       "  10,\n",
       "  'image/Подосиновики сушёные/Подосиновики сушёные_image10.jpg'],\n",
       " ['Подосиновики сушёные',\n",
       "  11,\n",
       "  'image/Подосиновики сушёные/Подосиновики сушёные_image11.jpg'],\n",
       " ['Подосиновики сушёные',\n",
       "  12,\n",
       "  'image/Подосиновики сушёные/Подосиновики сушёные_image12.jpg'],\n",
       " ['Подосиновики сушёные',\n",
       "  13,\n",
       "  'image/Подосиновики сушёные/Подосиновики сушёные_image13.jpg'],\n",
       " ['Подосиновики сушёные',\n",
       "  14,\n",
       "  'image/Подосиновики сушёные/Подосиновики сушёные_image14.jpg'],\n",
       " ['Подосиновики сушёные',\n",
       "  15,\n",
       "  'image/Подосиновики сушёные/Подосиновики сушёные_image15.jpg'],\n",
       " ['Подосиновики сушёные',\n",
       "  16,\n",
       "  'image/Подосиновики сушёные/Подосиновики сушёные_image16.jpg'],\n",
       " ['Подосиновики сушёные',\n",
       "  17,\n",
       "  'image/Подосиновики сушёные/Подосиновики сушёные_image17.jpg'],\n",
       " ['Подосиновики сушёные',\n",
       "  18,\n",
       "  'image/Подосиновики сушёные/Подосиновики сушёные_image18.jpg'],\n",
       " ['Подосиновики сушёные',\n",
       "  19,\n",
       "  'image/Подосиновики сушёные/Подосиновики сушёные_image19.jpg'],\n",
       " ['Подосиновики сушёные',\n",
       "  20,\n",
       "  'image/Подосиновики сушёные/Подосиновики сушёные_image20.jpg'],\n",
       " ['Подосиновики сушёные',\n",
       "  21,\n",
       "  'image/Подосиновики сушёные/Подосиновики сушёные_image21.jpg'],\n",
       " ['Подосиновики сушёные',\n",
       "  22,\n",
       "  'image/Подосиновики сушёные/Подосиновики сушёные_image22.jpg'],\n",
       " ['Подосиновики сушёные',\n",
       "  23,\n",
       "  'image/Подосиновики сушёные/Подосиновики сушёные_image23.jpg'],\n",
       " ['Подосиновики сушёные',\n",
       "  24,\n",
       "  'image/Подосиновики сушёные/Подосиновики сушёные_image24.jpg'],\n",
       " ['Подосиновики сушёные',\n",
       "  25,\n",
       "  'image/Подосиновики сушёные/Подосиновики сушёные_image25.jpg'],\n",
       " ['Подосиновики сушёные',\n",
       "  26,\n",
       "  'image/Подосиновики сушёные/Подосиновики сушёные_image26.jpg'],\n",
       " ['Подосиновики сушёные',\n",
       "  27,\n",
       "  'image/Подосиновики сушёные/Подосиновики сушёные_image27.jpg'],\n",
       " ['Подосиновики сушёные',\n",
       "  28,\n",
       "  'image/Подосиновики сушёные/Подосиновики сушёные_image28.jpg'],\n",
       " ['Подосиновики сушёные',\n",
       "  29,\n",
       "  'image/Подосиновики сушёные/Подосиновики сушёные_image29.jpg'],\n",
       " ['Шиитаке сушеные', 0, 'image/Шиитаке сушеные/Шиитаке сушеные_image0.jpg'],\n",
       " ['Шиитаке сушеные', 1, 'image/Шиитаке сушеные/Шиитаке сушеные_image1.jpg'],\n",
       " ['Шиитаке сушеные', 3, 'image/Шиитаке сушеные/Шиитаке сушеные_image3.jpg'],\n",
       " ['Шиитаке сушеные', 4, 'image/Шиитаке сушеные/Шиитаке сушеные_image4.jpg'],\n",
       " ['Шиитаке сушеные', 5, 'image/Шиитаке сушеные/Шиитаке сушеные_image5.jpg'],\n",
       " ['Шиитаке сушеные', 6, 'image/Шиитаке сушеные/Шиитаке сушеные_image6.jpg'],\n",
       " ['Шиитаке сушеные', 7, 'image/Шиитаке сушеные/Шиитаке сушеные_image7.jpg'],\n",
       " ['Шиитаке сушеные', 8, 'image/Шиитаке сушеные/Шиитаке сушеные_image8.jpg'],\n",
       " ['Шиитаке сушеные', 9, 'image/Шиитаке сушеные/Шиитаке сушеные_image9.jpg'],\n",
       " ['Шиитаке сушеные', 10, 'image/Шиитаке сушеные/Шиитаке сушеные_image10.jpg'],\n",
       " ['Шиитаке сушеные', 11, 'image/Шиитаке сушеные/Шиитаке сушеные_image11.jpg'],\n",
       " ['Шиитаке сушеные', 12, 'image/Шиитаке сушеные/Шиитаке сушеные_image12.jpg'],\n",
       " ['Шиитаке сушеные', 13, 'image/Шиитаке сушеные/Шиитаке сушеные_image13.jpg'],\n",
       " ['Шиитаке сушеные', 14, 'image/Шиитаке сушеные/Шиитаке сушеные_image14.jpg'],\n",
       " ['Шиитаке сушеные', 15, 'image/Шиитаке сушеные/Шиитаке сушеные_image15.jpg'],\n",
       " ['Шиитаке сушеные', 16, 'image/Шиитаке сушеные/Шиитаке сушеные_image16.jpg'],\n",
       " ['Шиитаке сушеные', 17, 'image/Шиитаке сушеные/Шиитаке сушеные_image17.jpg'],\n",
       " ['Шиитаке сушеные', 18, 'image/Шиитаке сушеные/Шиитаке сушеные_image18.jpg'],\n",
       " ['Шиитаке сушеные', 19, 'image/Шиитаке сушеные/Шиитаке сушеные_image19.jpg'],\n",
       " ['Шиитаке сушеные', 20, 'image/Шиитаке сушеные/Шиитаке сушеные_image20.jpg'],\n",
       " ['Шиитаке сушеные', 21, 'image/Шиитаке сушеные/Шиитаке сушеные_image21.jpg'],\n",
       " ['Шиитаке сушеные', 23, 'image/Шиитаке сушеные/Шиитаке сушеные_image23.jpg'],\n",
       " ['Шиитаке сушеные', 24, 'image/Шиитаке сушеные/Шиитаке сушеные_image24.jpg'],\n",
       " ['Шиитаке сушеные', 25, 'image/Шиитаке сушеные/Шиитаке сушеные_image25.jpg'],\n",
       " ['Шиитаке сушеные', 26, 'image/Шиитаке сушеные/Шиитаке сушеные_image26.jpg'],\n",
       " ['Шиитаке сушеные', 27, 'image/Шиитаке сушеные/Шиитаке сушеные_image27.jpg'],\n",
       " ['Шиитаке сушеные', 28, 'image/Шиитаке сушеные/Шиитаке сушеные_image28.jpg'],\n",
       " ['Шиитаке сушеные', 29, 'image/Шиитаке сушеные/Шиитаке сушеные_image29.jpg'],\n",
       " ['Опята маринованные',\n",
       "  0,\n",
       "  'image/Опята маринованные/Опята маринованные_image0.jpg'],\n",
       " ['Опята маринованные',\n",
       "  1,\n",
       "  'image/Опята маринованные/Опята маринованные_image1.jpg'],\n",
       " ['Опята маринованные',\n",
       "  2,\n",
       "  'image/Опята маринованные/Опята маринованные_image2.jpg'],\n",
       " ['Опята маринованные',\n",
       "  3,\n",
       "  'image/Опята маринованные/Опята маринованные_image3.jpg'],\n",
       " ['Опята маринованные',\n",
       "  4,\n",
       "  'image/Опята маринованные/Опята маринованные_image4.jpg'],\n",
       " ['Опята маринованные',\n",
       "  5,\n",
       "  'image/Опята маринованные/Опята маринованные_image5.jpg'],\n",
       " ['Опята маринованные',\n",
       "  6,\n",
       "  'image/Опята маринованные/Опята маринованные_image6.jpg'],\n",
       " ['Опята маринованные',\n",
       "  7,\n",
       "  'image/Опята маринованные/Опята маринованные_image7.jpg'],\n",
       " ['Опята маринованные',\n",
       "  8,\n",
       "  'image/Опята маринованные/Опята маринованные_image8.jpg'],\n",
       " ['Опята маринованные',\n",
       "  9,\n",
       "  'image/Опята маринованные/Опята маринованные_image9.jpg'],\n",
       " ['Опята маринованные',\n",
       "  10,\n",
       "  'image/Опята маринованные/Опята маринованные_image10.jpg'],\n",
       " ['Опята маринованные',\n",
       "  11,\n",
       "  'image/Опята маринованные/Опята маринованные_image11.jpg'],\n",
       " ['Опята маринованные',\n",
       "  12,\n",
       "  'image/Опята маринованные/Опята маринованные_image12.jpg'],\n",
       " ['Опята маринованные',\n",
       "  13,\n",
       "  'image/Опята маринованные/Опята маринованные_image13.jpg'],\n",
       " ['Опята маринованные',\n",
       "  14,\n",
       "  'image/Опята маринованные/Опята маринованные_image14.jpg'],\n",
       " ['Опята маринованные',\n",
       "  15,\n",
       "  'image/Опята маринованные/Опята маринованные_image15.jpg'],\n",
       " ['Опята маринованные',\n",
       "  16,\n",
       "  'image/Опята маринованные/Опята маринованные_image16.jpg'],\n",
       " ['Опята маринованные',\n",
       "  17,\n",
       "  'image/Опята маринованные/Опята маринованные_image17.jpg'],\n",
       " ['Опята маринованные',\n",
       "  18,\n",
       "  'image/Опята маринованные/Опята маринованные_image18.jpg'],\n",
       " ['Опята маринованные',\n",
       "  19,\n",
       "  'image/Опята маринованные/Опята маринованные_image19.jpg'],\n",
       " ['Опята маринованные',\n",
       "  20,\n",
       "  'image/Опята маринованные/Опята маринованные_image20.jpg'],\n",
       " ['Опята маринованные',\n",
       "  21,\n",
       "  'image/Опята маринованные/Опята маринованные_image21.jpg'],\n",
       " ['Опята маринованные',\n",
       "  22,\n",
       "  'image/Опята маринованные/Опята маринованные_image22.jpg'],\n",
       " ['Опята маринованные',\n",
       "  24,\n",
       "  'image/Опята маринованные/Опята маринованные_image24.jpg'],\n",
       " ['Опята маринованные',\n",
       "  25,\n",
       "  'image/Опята маринованные/Опята маринованные_image25.jpg'],\n",
       " ['Опята маринованные',\n",
       "  26,\n",
       "  'image/Опята маринованные/Опята маринованные_image26.jpg'],\n",
       " ['Опята маринованные',\n",
       "  27,\n",
       "  'image/Опята маринованные/Опята маринованные_image27.jpg'],\n",
       " ['Опята маринованные',\n",
       "  28,\n",
       "  'image/Опята маринованные/Опята маринованные_image28.jpg'],\n",
       " ['Опята маринованные',\n",
       "  29,\n",
       "  'image/Опята маринованные/Опята маринованные_image29.jpg'],\n",
       " ['Портобелло жареные на гриле',\n",
       "  0,\n",
       "  'image/Портобелло жареные на гриле/Портобелло жареные на гриле_image0.jpg'],\n",
       " ['Портобелло жареные на гриле',\n",
       "  1,\n",
       "  'image/Портобелло жареные на гриле/Портобелло жареные на гриле_image1.jpg'],\n",
       " ['Портобелло жареные на гриле',\n",
       "  2,\n",
       "  'image/Портобелло жареные на гриле/Портобелло жареные на гриле_image2.jpg'],\n",
       " ['Портобелло жареные на гриле',\n",
       "  3,\n",
       "  'image/Портобелло жареные на гриле/Портобелло жареные на гриле_image3.jpg'],\n",
       " ['Портобелло жареные на гриле',\n",
       "  4,\n",
       "  'image/Портобелло жареные на гриле/Портобелло жареные на гриле_image4.jpg'],\n",
       " ['Портобелло жареные на гриле',\n",
       "  5,\n",
       "  'image/Портобелло жареные на гриле/Портобелло жареные на гриле_image5.jpg'],\n",
       " ['Портобелло жареные на гриле',\n",
       "  6,\n",
       "  'image/Портобелло жареные на гриле/Портобелло жареные на гриле_image6.jpg'],\n",
       " ['Портобелло жареные на гриле',\n",
       "  7,\n",
       "  'image/Портобелло жареные на гриле/Портобелло жареные на гриле_image7.jpg'],\n",
       " ['Портобелло жареные на гриле',\n",
       "  8,\n",
       "  'image/Портобелло жареные на гриле/Портобелло жареные на гриле_image8.jpg'],\n",
       " ['Портобелло жареные на гриле',\n",
       "  9,\n",
       "  'image/Портобелло жареные на гриле/Портобелло жареные на гриле_image9.jpg'],\n",
       " ['Портобелло жареные на гриле',\n",
       "  10,\n",
       "  'image/Портобелло жареные на гриле/Портобелло жареные на гриле_image10.jpg'],\n",
       " ['Портобелло жареные на гриле',\n",
       "  11,\n",
       "  'image/Портобелло жареные на гриле/Портобелло жареные на гриле_image11.jpg'],\n",
       " ['Портобелло жареные на гриле',\n",
       "  12,\n",
       "  'image/Портобелло жареные на гриле/Портобелло жареные на гриле_image12.jpg'],\n",
       " ['Портобелло жареные на гриле',\n",
       "  13,\n",
       "  'image/Портобелло жареные на гриле/Портобелло жареные на гриле_image13.jpg'],\n",
       " ['Портобелло жареные на гриле',\n",
       "  14,\n",
       "  'image/Портобелло жареные на гриле/Портобелло жареные на гриле_image14.jpg'],\n",
       " ['Портобелло жареные на гриле',\n",
       "  15,\n",
       "  'image/Портобелло жареные на гриле/Портобелло жареные на гриле_image15.jpg'],\n",
       " ['Портобелло жареные на гриле',\n",
       "  16,\n",
       "  'image/Портобелло жареные на гриле/Портобелло жареные на гриле_image16.jpg'],\n",
       " ['Портобелло жареные на гриле',\n",
       "  17,\n",
       "  'image/Портобелло жареные на гриле/Портобелло жареные на гриле_image17.jpg'],\n",
       " ['Портобелло жареные на гриле',\n",
       "  18,\n",
       "  'image/Портобелло жареные на гриле/Портобелло жареные на гриле_image18.jpg'],\n",
       " ['Портобелло жареные на гриле',\n",
       "  19,\n",
       "  'image/Портобелло жареные на гриле/Портобелло жареные на гриле_image19.jpg'],\n",
       " ['Портобелло жареные на гриле',\n",
       "  20,\n",
       "  'image/Портобелло жареные на гриле/Портобелло жареные на гриле_image20.jpg'],\n",
       " ['Портобелло жареные на гриле',\n",
       "  21,\n",
       "  'image/Портобелло жареные на гриле/Портобелло жареные на гриле_image21.jpg'],\n",
       " ['Портобелло жареные на гриле',\n",
       "  22,\n",
       "  'image/Портобелло жареные на гриле/Портобелло жареные на гриле_image22.jpg'],\n",
       " ['Портобелло жареные на гриле',\n",
       "  23,\n",
       "  'image/Портобелло жареные на гриле/Портобелло жареные на гриле_image23.jpg'],\n",
       " ['Портобелло жареные на гриле',\n",
       "  24,\n",
       "  'image/Портобелло жареные на гриле/Портобелло жареные на гриле_image24.jpg'],\n",
       " ['Портобелло жареные на гриле',\n",
       "  25,\n",
       "  'image/Портобелло жареные на гриле/Портобелло жареные на гриле_image25.jpg'],\n",
       " ['Портобелло жареные на гриле',\n",
       "  26,\n",
       "  'image/Портобелло жареные на гриле/Портобелло жареные на гриле_image26.jpg'],\n",
       " ['Портобелло жареные на гриле',\n",
       "  27,\n",
       "  'image/Портобелло жареные на гриле/Портобелло жареные на гриле_image27.jpg'],\n",
       " ['Портобелло жареные на гриле',\n",
       "  28,\n",
       "  'image/Портобелло жареные на гриле/Портобелло жареные на гриле_image28.jpg'],\n",
       " ['Портобелло жареные на гриле',\n",
       "  29,\n",
       "  'image/Портобелло жареные на гриле/Портобелло жареные на гриле_image29.jpg'],\n",
       " ['Подберёзовики сушёные',\n",
       "  0,\n",
       "  'image/Подберёзовики сушёные/Подберёзовики сушёные_image0.jpg'],\n",
       " ['Подберёзовики сушёные',\n",
       "  1,\n",
       "  'image/Подберёзовики сушёные/Подберёзовики сушёные_image1.jpg'],\n",
       " ['Подберёзовики сушёные',\n",
       "  2,\n",
       "  'image/Подберёзовики сушёные/Подберёзовики сушёные_image2.jpg'],\n",
       " ['Подберёзовики сушёные',\n",
       "  3,\n",
       "  'image/Подберёзовики сушёные/Подберёзовики сушёные_image3.jpg'],\n",
       " ['Подберёзовики сушёные',\n",
       "  4,\n",
       "  'image/Подберёзовики сушёные/Подберёзовики сушёные_image4.jpg'],\n",
       " ['Подберёзовики сушёные',\n",
       "  5,\n",
       "  'image/Подберёзовики сушёные/Подберёзовики сушёные_image5.jpg'],\n",
       " ['Подберёзовики сушёные',\n",
       "  6,\n",
       "  'image/Подберёзовики сушёные/Подберёзовики сушёные_image6.jpg'],\n",
       " ['Подберёзовики сушёные',\n",
       "  7,\n",
       "  'image/Подберёзовики сушёные/Подберёзовики сушёные_image7.jpg'],\n",
       " ['Подберёзовики сушёные',\n",
       "  8,\n",
       "  'image/Подберёзовики сушёные/Подберёзовики сушёные_image8.jpg'],\n",
       " ['Подберёзовики сушёные',\n",
       "  9,\n",
       "  'image/Подберёзовики сушёные/Подберёзовики сушёные_image9.jpg'],\n",
       " ['Подберёзовики сушёные',\n",
       "  10,\n",
       "  'image/Подберёзовики сушёные/Подберёзовики сушёные_image10.jpg'],\n",
       " ['Подберёзовики сушёные',\n",
       "  12,\n",
       "  'image/Подберёзовики сушёные/Подберёзовики сушёные_image12.jpg'],\n",
       " ['Подберёзовики сушёные',\n",
       "  13,\n",
       "  'image/Подберёзовики сушёные/Подберёзовики сушёные_image13.jpg'],\n",
       " ...]"
      ]
     },
     "execution_count": 20,
     "metadata": {},
     "output_type": "execute_result"
    }
   ],
   "source": [
    "df_new"
   ]
  },
  {
   "cell_type": "code",
   "execution_count": 21,
   "id": "1304aeaf-7e5d-4867-9383-ad6c4cff0b3e",
   "metadata": {},
   "outputs": [],
   "source": [
    "total = pd.DataFrame(df_new, columns = ['name','id','url'])"
   ]
  },
  {
   "cell_type": "code",
   "execution_count": 27,
   "id": "15f447de-3d35-47d6-8835-f74512504f05",
   "metadata": {},
   "outputs": [],
   "source": [
    "total.to_csv('under_Йогурт Чудо Двойной вкус Клубника-Земляника.csv', index=False)"
   ]
  },
  {
   "cell_type": "code",
   "execution_count": 26,
   "id": "f6acc660-b09d-42a7-82f9-da2c3d7db7f4",
   "metadata": {},
   "outputs": [
    {
     "data": {
      "text/plain": [
       "'image/Йогурт Чудо Двойной вкус Клубника-Земляника/Йогурт Чудо Двойной вкус Клубника-Земляника_image29.jpg'"
      ]
     },
     "execution_count": 26,
     "metadata": {},
     "output_type": "execute_result"
    }
   ],
   "source": [
    "total.iloc[-1,-1]"
   ]
  },
  {
   "cell_type": "code",
   "execution_count": null,
   "id": "1cb10b14-7a3a-494d-b74a-704111c23c95",
   "metadata": {},
   "outputs": [],
   "source": []
  }
 ],
 "metadata": {
  "kernelspec": {
   "display_name": "Python 3 (ipykernel)",
   "language": "python",
   "name": "python3"
  },
  "language_info": {
   "codemirror_mode": {
    "name": "ipython",
    "version": 3
   },
   "file_extension": ".py",
   "mimetype": "text/x-python",
   "name": "python",
   "nbconvert_exporter": "python",
   "pygments_lexer": "ipython3",
   "version": "3.11.5"
  }
 },
 "nbformat": 4,
 "nbformat_minor": 5
}
