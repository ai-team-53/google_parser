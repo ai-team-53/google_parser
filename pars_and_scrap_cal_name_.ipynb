{
 "cells": [
  {
   "cell_type": "markdown",
   "id": "41222b13-8715-459c-818e-ea77b2549f84",
   "metadata": {},
   "source": [
    "# Вводные"
   ]
  },
  {
   "cell_type": "markdown",
   "id": "c6afc5c6-6c72-4470-a23d-4eee9bdf2dbe",
   "metadata": {},
   "source": [
    "* сайт - https://supercalorizator.ru/\n",
    "* парсинг через request and soup"
   ]
  },
  {
   "cell_type": "markdown",
   "id": "485d9ff0-27d1-421f-a370-0341c20cf61f",
   "metadata": {},
   "source": [
    "импорт нужных библиотек"
   ]
  },
  {
   "cell_type": "code",
   "execution_count": 1,
   "id": "2017f51b-99a2-4794-8555-0fed3180ee13",
   "metadata": {},
   "outputs": [],
   "source": [
    "import requests\n",
    "from bs4 import BeautifulSoup\n",
    "import time\n",
    "from tqdm.notebook import tqdm\n",
    "# для человечности\n",
    "from fake_useragent import UserAgent\n",
    "UserAgent().chrome\n",
    "from typing import List\n",
    "import pandas as pd\n",
    "import numpy as np\n",
    "\n",
    "\n",
    "from selenium import webdriver\n",
    "from selenium.webdriver.chrome.service import Service\n",
    "from selenium.webdriver.chrome.options import Options\n",
    "from webdriver_manager.chrome import ChromeDriverManager\n",
    "from selenium.webdriver.common.by import By"
   ]
  },
  {
   "cell_type": "markdown",
   "id": "9dc3f79e-7893-4075-a53f-484fed04464f",
   "metadata": {},
   "source": [
    "# Парсинг и скрапинг"
   ]
  },
  {
   "cell_type": "code",
   "execution_count": 4,
   "id": "19bfcff0-11e0-4128-8601-5aeb60cf6623",
   "metadata": {},
   "outputs": [],
   "source": [
    "# нужный url\n",
    "url = 'https://supercalorizator.ru/'"
   ]
  },
  {
   "cell_type": "code",
   "execution_count": 16,
   "id": "771a54eb-221b-4103-bb2e-771c40168f6e",
   "metadata": {},
   "outputs": [],
   "source": [
    "# Настройка опций Chrome для драйвера\n",
    "chrome_options = Options()\n",
    "chrome_options.add_argument('--headless')  # если хотите запустить в фоновом режиме\n",
    "chrome_options.add_argument('--no-sandbox')\n",
    "chrome_options.add_argument('--disable-dev-shm-usage')  # рекомендуется для Linux, но может помочь и на Mac\n",
    "\n",
    "# Запуск Chrome с новыми настройками\n",
    "driver = webdriver.Chrome(service=Service(ChromeDriverManager().install()), options=chrome_options)"
   ]
  },
  {
   "cell_type": "code",
   "execution_count": 17,
   "id": "1ae3e6cd-b3b7-4942-8f09-24bdb8bcfd0b",
   "metadata": {},
   "outputs": [],
   "source": [
    "class scrap_calor():\n",
    "    \n",
    "    def __init__(self,url) -> None:\n",
    "        self.url = url\n",
    "        response = requests.get(self.url, headers={'User-Agent': UserAgent().chrome})\n",
    "        self.tree = BeautifulSoup(response.content, 'html.parser')\n",
    "\n",
    "        # для времени\n",
    "        self.random_seconds = [1,2]\n",
    "\n",
    "\n",
    "    def enter_url(self) -> None:\n",
    "        \"\"\"переходит по url\"\"\"\n",
    "\n",
    "        driver.get(self.url)\n",
    "        last_height = driver.execute_script(\"return document.body.scrollHeight\")\n",
    "\n",
    "        # для полной подругизки страницы\n",
    "        while True:\n",
    "            # Скроллим вниз до конца текущей видимой части страницы\n",
    "            driver.execute_script(\"window.scrollTo(0, document.body.scrollHeight);\")\n",
    "        \n",
    "            # Ждём загрузку контента\n",
    "            time.sleep(2)\n",
    "        \n",
    "            # Проверяем новую высоту страницы\n",
    "            new_height = driver.execute_script(\"return document.body.scrollHeight\")\n",
    "            if new_height == last_height:\n",
    "                # Если высота страницы не изменилась, значит, достигли конца\n",
    "                break\n",
    "            last_height = new_height\n",
    "\n",
    "    def get_categories(self) -> None:\n",
    "        \"\"\"Получает категории сайта \"\"\"\n",
    "        \n",
    "        # парсим категории\n",
    "        categories = self.tree.find_all('div', {'class':'main_block'})\n",
    "\n",
    "        # list of categories\n",
    "        self.list_categories = []\n",
    "        \n",
    "        #скрапим категории\n",
    "        for cat in categories:\n",
    "            # наименование категории\n",
    "            try:\n",
    "                name_of_categories = cat.find('div', {'class':'menu_name'}).text\n",
    "            except:\n",
    "                name_of_categories = 'unknown'\n",
    "\n",
    "            # url для категории\n",
    "            try:\n",
    "                url_categories = self.url + cat.a.get('href')\n",
    "            except:\n",
    "                url_categories = self.url\n",
    "                \n",
    "            \n",
    "            \n",
    "            self.list_categories.append([name_of_categories,\n",
    "                                         url_categories])\n",
    "\n",
    "    def get_subcategories(self) -> None:\n",
    "        \"\"\"Получает подкатегории сайта \"\"\"\n",
    "\n",
    "        # элементы продуктов\n",
    "        try:\n",
    "            products = driver.find_elements(By.CLASS_NAME, 'product')\n",
    "        except:\n",
    "            return \n",
    "\n",
    "        for product in tqdm(products):\n",
    "            \n",
    "            # имя\n",
    "            try:\n",
    "                name =product.find_element(By.CLASS_NAME, 'modal_reset_link').text\n",
    "            except:\n",
    "                name='unknown'\n",
    "            # ккал\n",
    "            try:\n",
    "                kkal = product.find_element(By.CLASS_NAME, 'kkal_visible').text\n",
    "            except:\n",
    "                kkal='unknown'\n",
    "            # белки\n",
    "            try:\n",
    "                belki = product.find_element(By.CLASS_NAME, 'bel_visible').text\n",
    "            except:\n",
    "                belki = 'unknown'\n",
    "            # жиры\n",
    "            try:\n",
    "                fat = product.find_element(By.CLASS_NAME, 'fat_visible').text\n",
    "            except:\n",
    "                fat = 'unknown'\n",
    "            # углеводы\n",
    "            try:\n",
    "                ugl = product.find_element(By.CLASS_NAME, 'ug_visible').text\n",
    "            except:\n",
    "                ugl = 'unknown'\n",
    "\n",
    "            # добавляем\n",
    "            \n",
    "            df.append([self.categories,name,kkal,belki,fat,ugl])\n",
    "\n",
    "\n",
    "    def manage(self, df) -> List[str]:\n",
    "        \"\"\"Управление фукнциями\n",
    "        Вывзов и обработка\n",
    "        \"\"\"\n",
    "        \n",
    "        self.enter_url()\n",
    "        self.get_categories()\n",
    "\n",
    "        # cоздаем df категории и url\n",
    "        cat_url = pd.DataFrame(self.list_categories, columns=('categories','url'))\n",
    "        \n",
    "        # создаем лист для субкатегорий и продуктов\n",
    "        # self.list_subcategories = []\n",
    "\n",
    "        # проходимся\n",
    "        for row in tqdm(self.list_categories):\n",
    "            # sleep\n",
    "            sec = np.random.choice(self.random_seconds)\n",
    "            time.sleep(sec)\n",
    "            \n",
    "            self.categories = row[0]\n",
    "            self.url = row[1]\n",
    "            \n",
    "            # переходим на новый url\n",
    "            self.enter_url()\n",
    "\n",
    "            self.get_subcategories()\n",
    "\n",
    "        return cat_url"
   ]
  },
  {
   "cell_type": "code",
   "execution_count": 18,
   "id": "37177963-30ea-4810-b6ef-58fb9b9f0fac",
   "metadata": {},
   "outputs": [],
   "source": [
    "df=[]\n",
    "a = scrap_calor(url)"
   ]
  },
  {
   "cell_type": "code",
   "execution_count": 19,
   "id": "4000f181-f563-4ae7-8642-6923249fb4b8",
   "metadata": {
    "scrolled": true
   },
   "outputs": [
    {
     "data": {
      "application/vnd.jupyter.widget-view+json": {
       "model_id": "a5e59643620e46be9d0f6f6cc8e63978",
       "version_major": 2,
       "version_minor": 0
      },
      "text/plain": [
       "  0%|          | 0/27 [00:00<?, ?it/s]"
      ]
     },
     "metadata": {},
     "output_type": "display_data"
    },
    {
     "data": {
      "application/vnd.jupyter.widget-view+json": {
       "model_id": "4b5ba0507d374e71959bdd3bc40de7b4",
       "version_major": 2,
       "version_minor": 0
      },
      "text/plain": [
       "  0%|          | 0/49 [00:00<?, ?it/s]"
      ]
     },
     "metadata": {},
     "output_type": "display_data"
    },
    {
     "data": {
      "application/vnd.jupyter.widget-view+json": {
       "model_id": "c7c7d9dbddaf4767b1057a3f78837711",
       "version_major": 2,
       "version_minor": 0
      },
      "text/plain": [
       "  0%|          | 0/56 [00:00<?, ?it/s]"
      ]
     },
     "metadata": {},
     "output_type": "display_data"
    },
    {
     "data": {
      "application/vnd.jupyter.widget-view+json": {
       "model_id": "d51206ab811f4e948fd93241df78cd7a",
       "version_major": 2,
       "version_minor": 0
      },
      "text/plain": [
       "  0%|          | 0/63 [00:00<?, ?it/s]"
      ]
     },
     "metadata": {},
     "output_type": "display_data"
    },
    {
     "data": {
      "application/vnd.jupyter.widget-view+json": {
       "model_id": "9caf4f7ba0c1410f8a60b0ad16c8d702",
       "version_major": 2,
       "version_minor": 0
      },
      "text/plain": [
       "  0%|          | 0/200 [00:00<?, ?it/s]"
      ]
     },
     "metadata": {},
     "output_type": "display_data"
    },
    {
     "data": {
      "application/vnd.jupyter.widget-view+json": {
       "model_id": "6197d80e86374d66848d0ade21f1fee5",
       "version_major": 2,
       "version_minor": 0
      },
      "text/plain": [
       "  0%|          | 0/117 [00:00<?, ?it/s]"
      ]
     },
     "metadata": {},
     "output_type": "display_data"
    },
    {
     "data": {
      "application/vnd.jupyter.widget-view+json": {
       "model_id": "56871bfb2a4b4d488c702e1b2fe5b9d5",
       "version_major": 2,
       "version_minor": 0
      },
      "text/plain": [
       "  0%|          | 0/280 [00:00<?, ?it/s]"
      ]
     },
     "metadata": {},
     "output_type": "display_data"
    },
    {
     "data": {
      "application/vnd.jupyter.widget-view+json": {
       "model_id": "446af814166b4069a39651bfb3088e2b",
       "version_major": 2,
       "version_minor": 0
      },
      "text/plain": [
       "  0%|          | 0/405 [00:00<?, ?it/s]"
      ]
     },
     "metadata": {},
     "output_type": "display_data"
    },
    {
     "data": {
      "application/vnd.jupyter.widget-view+json": {
       "model_id": "97e6bb780e4945a785bc2f0c01a3c837",
       "version_major": 2,
       "version_minor": 0
      },
      "text/plain": [
       "  0%|          | 0/72 [00:00<?, ?it/s]"
      ]
     },
     "metadata": {},
     "output_type": "display_data"
    },
    {
     "data": {
      "application/vnd.jupyter.widget-view+json": {
       "model_id": "5ccdb08264d34fdc8850d1be87e6bb61",
       "version_major": 2,
       "version_minor": 0
      },
      "text/plain": [
       "  0%|          | 0/442 [00:00<?, ?it/s]"
      ]
     },
     "metadata": {},
     "output_type": "display_data"
    },
    {
     "data": {
      "application/vnd.jupyter.widget-view+json": {
       "model_id": "cf9a701e14d94b8e87300e0c8457c57d",
       "version_major": 2,
       "version_minor": 0
      },
      "text/plain": [
       "  0%|          | 0/93 [00:00<?, ?it/s]"
      ]
     },
     "metadata": {},
     "output_type": "display_data"
    },
    {
     "data": {
      "application/vnd.jupyter.widget-view+json": {
       "model_id": "f54521bcdd7b4d8dabcaa1b385d96913",
       "version_major": 2,
       "version_minor": 0
      },
      "text/plain": [
       "  0%|          | 0/236 [00:00<?, ?it/s]"
      ]
     },
     "metadata": {},
     "output_type": "display_data"
    },
    {
     "data": {
      "application/vnd.jupyter.widget-view+json": {
       "model_id": "ad71903bc1444cfa992010785775cfe3",
       "version_major": 2,
       "version_minor": 0
      },
      "text/plain": [
       "  0%|          | 0/406 [00:00<?, ?it/s]"
      ]
     },
     "metadata": {},
     "output_type": "display_data"
    },
    {
     "data": {
      "application/vnd.jupyter.widget-view+json": {
       "model_id": "27d8ddc7f66f4839912c95ebfe89dc4b",
       "version_major": 2,
       "version_minor": 0
      },
      "text/plain": [
       "  0%|          | 0/99 [00:00<?, ?it/s]"
      ]
     },
     "metadata": {},
     "output_type": "display_data"
    },
    {
     "data": {
      "application/vnd.jupyter.widget-view+json": {
       "model_id": "6013347dcc02445291c7c6763a6f4792",
       "version_major": 2,
       "version_minor": 0
      },
      "text/plain": [
       "  0%|          | 0/174 [00:00<?, ?it/s]"
      ]
     },
     "metadata": {},
     "output_type": "display_data"
    },
    {
     "data": {
      "application/vnd.jupyter.widget-view+json": {
       "model_id": "2b985851d7c34e1fb373110a4b16ca53",
       "version_major": 2,
       "version_minor": 0
      },
      "text/plain": [
       "  0%|          | 0/46 [00:00<?, ?it/s]"
      ]
     },
     "metadata": {},
     "output_type": "display_data"
    },
    {
     "data": {
      "application/vnd.jupyter.widget-view+json": {
       "model_id": "baef58184bd24449bea8b2ce8fe81b3f",
       "version_major": 2,
       "version_minor": 0
      },
      "text/plain": [
       "  0%|          | 0/23 [00:00<?, ?it/s]"
      ]
     },
     "metadata": {},
     "output_type": "display_data"
    },
    {
     "data": {
      "application/vnd.jupyter.widget-view+json": {
       "model_id": "f6c3439502f24590aa6f0ddacfc64c21",
       "version_major": 2,
       "version_minor": 0
      },
      "text/plain": [
       "  0%|          | 0/315 [00:00<?, ?it/s]"
      ]
     },
     "metadata": {},
     "output_type": "display_data"
    },
    {
     "data": {
      "application/vnd.jupyter.widget-view+json": {
       "model_id": "668b9382da2449b3a4a330280db79af9",
       "version_major": 2,
       "version_minor": 0
      },
      "text/plain": [
       "  0%|          | 0/42 [00:00<?, ?it/s]"
      ]
     },
     "metadata": {},
     "output_type": "display_data"
    },
    {
     "data": {
      "application/vnd.jupyter.widget-view+json": {
       "model_id": "a0a7df3060ec4a46ae570e553763a0fa",
       "version_major": 2,
       "version_minor": 0
      },
      "text/plain": [
       "  0%|          | 0/122 [00:00<?, ?it/s]"
      ]
     },
     "metadata": {},
     "output_type": "display_data"
    },
    {
     "data": {
      "application/vnd.jupyter.widget-view+json": {
       "model_id": "aafcf1f8a4d1412eb6f6327e184ebf1d",
       "version_major": 2,
       "version_minor": 0
      },
      "text/plain": [
       "  0%|          | 0/117 [00:00<?, ?it/s]"
      ]
     },
     "metadata": {},
     "output_type": "display_data"
    },
    {
     "data": {
      "application/vnd.jupyter.widget-view+json": {
       "model_id": "ca6b2f15fe3540609b797ca6a375201a",
       "version_major": 2,
       "version_minor": 0
      },
      "text/plain": [
       "  0%|          | 0/75 [00:00<?, ?it/s]"
      ]
     },
     "metadata": {},
     "output_type": "display_data"
    },
    {
     "data": {
      "application/vnd.jupyter.widget-view+json": {
       "model_id": "491188e110344f2ab8967c5b4eb35590",
       "version_major": 2,
       "version_minor": 0
      },
      "text/plain": [
       "  0%|          | 0/76 [00:00<?, ?it/s]"
      ]
     },
     "metadata": {},
     "output_type": "display_data"
    },
    {
     "data": {
      "application/vnd.jupyter.widget-view+json": {
       "model_id": "ceeec7bbcbd14bf1bf88beffea923498",
       "version_major": 2,
       "version_minor": 0
      },
      "text/plain": [
       "  0%|          | 0/86 [00:00<?, ?it/s]"
      ]
     },
     "metadata": {},
     "output_type": "display_data"
    },
    {
     "data": {
      "application/vnd.jupyter.widget-view+json": {
       "model_id": "d63a5f8a887847deb4b21ff28b045742",
       "version_major": 2,
       "version_minor": 0
      },
      "text/plain": [
       "  0%|          | 0/70 [00:00<?, ?it/s]"
      ]
     },
     "metadata": {},
     "output_type": "display_data"
    },
    {
     "data": {
      "application/vnd.jupyter.widget-view+json": {
       "model_id": "6300f5e33cdf4ae6a417e0dd48b53433",
       "version_major": 2,
       "version_minor": 0
      },
      "text/plain": [
       "  0%|          | 0/83 [00:00<?, ?it/s]"
      ]
     },
     "metadata": {},
     "output_type": "display_data"
    },
    {
     "data": {
      "application/vnd.jupyter.widget-view+json": {
       "model_id": "7fe64cf9eb1d418ab4d4fd6d42782a36",
       "version_major": 2,
       "version_minor": 0
      },
      "text/plain": [
       "  0%|          | 0/156 [00:00<?, ?it/s]"
      ]
     },
     "metadata": {},
     "output_type": "display_data"
    },
    {
     "data": {
      "application/vnd.jupyter.widget-view+json": {
       "model_id": "d6170d96fc4b412597711731a42f1ab5",
       "version_major": 2,
       "version_minor": 0
      },
      "text/plain": [
       "  0%|          | 0/147 [00:00<?, ?it/s]"
      ]
     },
     "metadata": {},
     "output_type": "display_data"
    },
    {
     "data": {
      "application/vnd.jupyter.widget-view+json": {
       "model_id": "693683f2c57c40a9993fef910e9c838e",
       "version_major": 2,
       "version_minor": 0
      },
      "text/plain": [
       "  0%|          | 0/27 [00:00<?, ?it/s]"
      ]
     },
     "metadata": {},
     "output_type": "display_data"
    }
   ],
   "source": [
    "answer = tqdm(a.manage(df))"
   ]
  },
  {
   "cell_type": "code",
   "execution_count": 23,
   "id": "2f081215-1702-4005-a729-c303a253957f",
   "metadata": {},
   "outputs": [],
   "source": [
    "total = pd.DataFrame(df,columns=(['categories','name','kkal','belki','fat','ugl']))"
   ]
  },
  {
   "cell_type": "code",
   "execution_count": 29,
   "id": "30aabc10-cf28-4ea8-a24c-cf0417c492da",
   "metadata": {},
   "outputs": [
    {
     "name": "stdout",
     "output_type": "stream",
     "text": [
      "0\n",
      "0\n",
      "0\n",
      "0\n",
      "0\n",
      "0\n"
     ]
    }
   ],
   "source": [
    "for col in total.columns:\n",
    "    print(len(total[total[col] == 'unknown']))"
   ]
  },
  {
   "cell_type": "code",
   "execution_count": 31,
   "id": "246a78c7-6f04-46e5-8f19-363e43765e0c",
   "metadata": {},
   "outputs": [],
   "source": [
    "# сохраним 2 DF\n",
    "total.to_csv('kkal_bju.csv', index=False)"
   ]
  },
  {
   "cell_type": "code",
   "execution_count": null,
   "id": "49f3bf57-54d3-4c53-b825-1b4d2cc3500c",
   "metadata": {},
   "outputs": [],
   "source": []
  }
 ],
 "metadata": {
  "kernelspec": {
   "display_name": "Python 3 (ipykernel)",
   "language": "python",
   "name": "python3"
  },
  "language_info": {
   "codemirror_mode": {
    "name": "ipython",
    "version": 3
   },
   "file_extension": ".py",
   "mimetype": "text/x-python",
   "name": "python",
   "nbconvert_exporter": "python",
   "pygments_lexer": "ipython3",
   "version": "3.11.5"
  }
 },
 "nbformat": 4,
 "nbformat_minor": 5
}
